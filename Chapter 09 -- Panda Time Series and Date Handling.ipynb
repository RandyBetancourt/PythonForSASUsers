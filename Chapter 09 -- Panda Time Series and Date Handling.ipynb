{
 "cells": [
  {
   "cell_type": "markdown",
   "metadata": {},
   "source": [
    "# Chapter 09 -- Panda Time Series and Date Handling"
   ]
  },
  {
   "cell_type": "markdown",
   "metadata": {},
   "source": [
    "# Topics Covered:\n",
    "\n",
    "<a href=\"http://nbviewer.jupyter.org/github/RandyBetancourt/PythonForSASUsers/blob/master/Chapter%2009%20--%20Panda%20Time%20Series%20and%20Date%20Handling.ipynb?flush_cache=true/#Creating-and-manipulating-a-fixed-frequency-of-dates-and-time-spans\"> Creating and manipulating a fixed-frequency of dates and time spans </a>\n",
    "\n",
    "<a href=\"http://nbviewer.jupyter.org/github/RandyBetancourt/PythonForSASUsers/blob/master/Chapter%2009%20--%20Panda%20Time%20Series%20and%20Date%20Handling.ipynb?flush_cache=true/#Time-Series-Walk-Through\">Time Series Walk-Through</a>\n",
    "\n",
    "<a href=\"http://nbviewer.jupyter.org/github/RandyBetancourt/PythonForSASUsers/blob/master/Chapter%2009%20--%20Panda%20Time%20Series%20and%20Date%20Handling.ipynb#Returning-Unique-Levels-of-Categories\">Returning Unique Levels of Categories</a>\n",
    "\n",
    "<a href=\"http://nbviewer.jupyter.org/github/RandyBetancourt/PythonForSASUsers/blob/master/Chapter%2009%20--%20Panda%20Time%20Series%20and%20Date%20Handling.ipynb#Return-a-Row-using-a-Minimum-Value\">Return a Row using a Minimum Value</a>\n",
    "\n",
    "<a href=\"http://nbviewer.jupyter.org/github/RandyBetancourt/PythonForSASUsers/blob/master/Chapter%2009%20--%20Panda%20Time%20Series%20and%20Date%20Handling.ipynb#Return-a-Row-using-a-Maximum-Value\">\n",
    "Return a Row using a Maximum Value</a>\n",
    "\n",
    "<a href=\"http://nbviewer.jupyter.org/github/RandyBetancourt/PythonForSASUsers/blob/master/Chapter%2009%20--%20Panda%20Time%20Series%20and%20Date%20Handling.ipynb?flush_cache=true/#Convert-Time-Series-from-one-Frequency-to-Another\">Convert time series from one frequency to another</a>\n",
    "\n",
    "<a href=\"http://nbviewer.jupyter.org/github/RandyBetancourt/PythonForSASUsers/blob/master/Chapter%2009%20--%20Panda%20Time%20Series%20and%20Date%20Handling.ipynb#Plotting-with-bokeh\">Plotting with bokeh</a>\n",
    "\n",
    "<a href=\"http://nbviewer.jupyter.org/github/RandyBetancourt/PythonForSASUsers/blob/master/Chapter%2009%20--%20Panda%20Time%20Series%20and%20Date%20Handling.ipynb#Resources\">Resources</a>"
   ]
  },
  {
   "cell_type": "markdown",
   "metadata": {},
   "source": [
    "Chapter 8, <a href=\"http://nbviewer.jupyter.org/github/RandyBetancourt/PythonForSASUsers/blob/master/Chapter%2008%20--%20Python%20Date%2C%20Time%2C%20and%20%20Timedelta%20Objects.ipynb\"> Understanding Date Time and TimeDelta objects </a> provided a short introduction to Python's built-in datetime capabilities.  In this chapter we illustrate pandas time series and date handling.  \n",
    "\n"
   ]
  },
  {
   "cell_type": "code",
   "execution_count": 1,
   "metadata": {
    "collapsed": false
   },
   "outputs": [],
   "source": [
    "from datetime import date, time, datetime, timedelta\n",
    "import numpy as np\n",
    "import pandas as pd\n",
    "from pandas import Series, DataFrame, Index\n",
    "from numpy.random import randn as rnd\n",
    "from IPython.display import Image"
   ]
  },
  {
   "cell_type": "markdown",
   "metadata": {},
   "source": [
    " "
   ]
  },
  {
   "cell_type": "markdown",
   "metadata": {},
   "source": [
    "## Creating and manipulating a fixed-frequency of dates and time spans"
   ]
  },
  {
   "cell_type": "markdown",
   "metadata": {},
   "source": [
    "The pd.date_range() method generates a DateTime Index which is applied to a panda Series or DataFrame to provide datetime interval indexing.  We will see examples of its construction methods.  And later we will utilize indexers taking advange of the Date TimeIndex.  "
   ]
  },
  {
   "cell_type": "code",
   "execution_count": 2,
   "metadata": {
    "collapsed": false
   },
   "outputs": [],
   "source": [
    "rng = pd.date_range('1/1/2016', periods=30, freq='D')"
   ]
  },
  {
   "cell_type": "markdown",
   "metadata": {},
   "source": [
    " "
   ]
  },
  {
   "cell_type": "code",
   "execution_count": 3,
   "metadata": {
    "collapsed": false
   },
   "outputs": [
    {
     "data": {
      "text/plain": [
       "DatetimeIndex(['2016-01-01', '2016-01-02', '2016-01-03', '2016-01-04',\n",
       "               '2016-01-05', '2016-01-06', '2016-01-07', '2016-01-08',\n",
       "               '2016-01-09', '2016-01-10', '2016-01-11', '2016-01-12',\n",
       "               '2016-01-13', '2016-01-14', '2016-01-15', '2016-01-16',\n",
       "               '2016-01-17', '2016-01-18', '2016-01-19', '2016-01-20',\n",
       "               '2016-01-21', '2016-01-22', '2016-01-23', '2016-01-24',\n",
       "               '2016-01-25', '2016-01-26', '2016-01-27', '2016-01-28',\n",
       "               '2016-01-29', '2016-01-30'],\n",
       "              dtype='datetime64[ns]', freq='D')"
      ]
     },
     "execution_count": 3,
     "metadata": {},
     "output_type": "execute_result"
    }
   ],
   "source": [
    "rng"
   ]
  },
  {
   "cell_type": "markdown",
   "metadata": {},
   "source": [
    "  "
   ]
  },
  {
   "cell_type": "markdown",
   "metadata": {},
   "source": [
    "Print the first 10 dates in the DateTimeIndex"
   ]
  },
  {
   "cell_type": "code",
   "execution_count": 4,
   "metadata": {
    "collapsed": false
   },
   "outputs": [
    {
     "data": {
      "text/plain": [
       "DatetimeIndex(['2016-01-01', '2016-01-02', '2016-01-03', '2016-01-04',\n",
       "               '2016-01-05', '2016-01-06', '2016-01-07', '2016-01-08',\n",
       "               '2016-01-09', '2016-01-10'],\n",
       "              dtype='datetime64[ns]', freq='D')"
      ]
     },
     "execution_count": 4,
     "metadata": {},
     "output_type": "execute_result"
    }
   ],
   "source": [
    "rng[:10]"
   ]
  },
  {
   "cell_type": "markdown",
   "metadata": {},
   "source": [
    "  "
   ]
  },
  {
   "cell_type": "markdown",
   "metadata": {
    "collapsed": true
   },
   "source": [
    "Assemble a Series by using strings and integers for columns.  Map the year, month, and day value into a date timestamp using the pd.to_datetime() method.  Details for the pd.datetime() method are found <a href=\"http://pandas.pydata.org/pandas-docs/version/0.18.1/generated/pandas.to_datetime.html\"> here</a>."
   ]
  },
  {
   "cell_type": "code",
   "execution_count": 5,
   "metadata": {
    "collapsed": false
   },
   "outputs": [
    {
     "data": {
      "text/plain": [
       "0   2014-01-01\n",
       "1   2015-02-02\n",
       "2   2016-03-03\n",
       "dtype: datetime64[ns]"
      ]
     },
     "execution_count": 5,
     "metadata": {},
     "output_type": "execute_result"
    }
   ],
   "source": [
    "df = pd.DataFrame({'year': ['2014', '2015', '2016'],\n",
    "                   'month': [1, 2, 3],\n",
    "                   'day': [1,2,3,]})\n",
    "df1 = pd.to_datetime(df)\n",
    "df1"
   ]
  },
  {
   "cell_type": "markdown",
   "metadata": {},
   "source": [
    "  "
   ]
  },
  {
   "cell_type": "markdown",
   "metadata": {},
   "source": [
    "Construct the Series 'b_rng' containing only business days using the pd.bdate() method and supplying start and end date.  "
   ]
  },
  {
   "cell_type": "code",
   "execution_count": 6,
   "metadata": {
    "collapsed": true
   },
   "outputs": [],
   "source": [
    "start = datetime(2016, 1, 1)\n",
    "end = datetime(2016, 12, 31)\n",
    "b_rng = pd.bdate_range(start,end)"
   ]
  },
  {
   "cell_type": "markdown",
   "metadata": {},
   "source": [
    "  "
   ]
  },
  {
   "cell_type": "markdown",
   "metadata": {},
   "source": [
    "The Series implicitly creates a DatetimeIndex object.  "
   ]
  },
  {
   "cell_type": "code",
   "execution_count": 7,
   "metadata": {
    "collapsed": false
   },
   "outputs": [
    {
     "data": {
      "text/plain": [
       "pandas.tseries.index.DatetimeIndex"
      ]
     },
     "execution_count": 7,
     "metadata": {},
     "output_type": "execute_result"
    }
   ],
   "source": [
    "type(b_rng)"
   ]
  },
  {
   "cell_type": "markdown",
   "metadata": {},
   "source": [
    " "
   ]
  },
  {
   "cell_type": "code",
   "execution_count": 8,
   "metadata": {
    "collapsed": false
   },
   "outputs": [
    {
     "data": {
      "text/plain": [
       "DatetimeIndex(['2016-01-01', '2016-01-04', '2016-01-05', '2016-01-06',\n",
       "               '2016-01-07', '2016-01-08', '2016-01-11', '2016-01-12',\n",
       "               '2016-01-13', '2016-01-14',\n",
       "               ...\n",
       "               '2016-12-19', '2016-12-20', '2016-12-21', '2016-12-22',\n",
       "               '2016-12-23', '2016-12-26', '2016-12-27', '2016-12-28',\n",
       "               '2016-12-29', '2016-12-30'],\n",
       "              dtype='datetime64[ns]', length=261, freq='B')"
      ]
     },
     "execution_count": 8,
     "metadata": {},
     "output_type": "execute_result"
    }
   ],
   "source": [
    "b_rng"
   ]
  },
  {
   "cell_type": "markdown",
   "metadata": {},
   "source": [
    " "
   ]
  },
  {
   "cell_type": "markdown",
   "metadata": {},
   "source": [
    "Create a Series containing the last business day of the month for 2016."
   ]
  },
  {
   "cell_type": "code",
   "execution_count": 9,
   "metadata": {
    "collapsed": false
   },
   "outputs": [
    {
     "data": {
      "text/plain": [
       "DatetimeIndex(['2016-01-29', '2016-02-29', '2016-03-31', '2016-04-29',\n",
       "               '2016-05-31', '2016-06-30', '2016-07-29', '2016-08-31',\n",
       "               '2016-09-30', '2016-10-31', '2016-11-30', '2016-12-30'],\n",
       "              dtype='datetime64[ns]', freq='BM')"
      ]
     },
     "execution_count": 9,
     "metadata": {},
     "output_type": "execute_result"
    }
   ],
   "source": [
    "rng = pd.date_range(start, end, freq='BM')\n",
    "ts = pd.Series(np.random.randn(len(rng)), index=rng)\n",
    "ts.index"
   ]
  },
  {
   "cell_type": "markdown",
   "metadata": {},
   "source": [
    "Returns the first 5 last business day of the month for 2016."
   ]
  },
  {
   "cell_type": "code",
   "execution_count": 10,
   "metadata": {
    "collapsed": false
   },
   "outputs": [
    {
     "data": {
      "text/plain": [
       "DatetimeIndex(['2016-01-29', '2016-02-29', '2016-03-31', '2016-04-29',\n",
       "               '2016-05-31'],\n",
       "              dtype='datetime64[ns]', freq='BM')"
      ]
     },
     "execution_count": 10,
     "metadata": {},
     "output_type": "execute_result"
    }
   ],
   "source": [
    "ts[:5].index"
   ]
  },
  {
   "cell_type": "markdown",
   "metadata": {},
   "source": [
    "   "
   ]
  },
  {
   "cell_type": "markdown",
   "metadata": {},
   "source": [
    " Returns the last business day of every other month in 2016."
   ]
  },
  {
   "cell_type": "code",
   "execution_count": 11,
   "metadata": {
    "collapsed": false
   },
   "outputs": [
    {
     "data": {
      "text/plain": [
       "2016-01-29    1.246634\n",
       "2016-03-31    0.702623\n",
       "2016-05-31    0.249486\n",
       "2016-07-29    0.795634\n",
       "2016-09-30    1.502413\n",
       "2016-11-30   -0.820219\n",
       "Freq: 2BM, dtype: float64"
      ]
     },
     "execution_count": 11,
     "metadata": {},
     "output_type": "execute_result"
    }
   ],
   "source": [
    "ts[::2]"
   ]
  },
  {
   "cell_type": "markdown",
   "metadata": {
    "collapsed": false
   },
   "source": [
    " "
   ]
  },
  {
   "cell_type": "markdown",
   "metadata": {},
   "source": [
    "## Time Series Walk-Through\n",
    "\n",
    "We can begin combining features covered in previous chapters to conduct a walk-through of a simple   time series analysis.  \n",
    "\n",
    "#### The Data\n",
    "\n",
    "The data is the FHFA House Price Index (HPI) which is a broad measure of the movement of single-family house prices. It is a weighted, repeat-sales index, meaning that it measures average price changes in repeat sales or refinancing on the same properties. This information is obtained by reviewing repeat mortgage transactions on single-family properties whose mortgages have been purchased or securitized by Fannie Mae or Freddie Mac.  \n",
    "\n",
    "Details about the data and how it is organized can be found <a href=\"https://catalog.data.gov/dataset/fhfa-house-price-indexes-hpis\"> here </a>. This time series begins January 1991 and end August 2016.  Both the seasonally adjusted index 'index_sa' and the non-seaonally adjusted index 'index_nsa' set the index value at 100 for January 1991.  \n",
    "\n",
    "#### The Inquiry\n",
    "\n",
    "The three salient questions to answer are:\n",
    "\n",
    "    1. Have U.S. aggregate home prices recovered their value since the Great Recession of 2008-2010? \n",
    "    2. Where are the highest and lowest values for 'traditional', 'purchase-only' homes in the U.S. in 2016? \n",
    "    3. How do the highest and lowest home values market segments compare to the aggregate U.S. home prices?\n",
    "    \n",
    "#### The Approach\n",
    "\n",
    "The input .csv file located <a href=\"some_URL\"> here </a>.  \n",
    "\n",
    "The file is composed of two parts.  Part 1, rows 2 to 3081 are records for the aggregate market groups at the Census Division level.  The frequency interval is monthly.  \n",
    "\n",
    "This portion of the file has 10 columns containing values for major market segments and the U.S. aggregate prices.  The price indicies are both seasonally adjusted and non-seasonally adjusted values.  The end-result DataFrame will be called 'df_us'.\n",
    "\n",
    "Part 2, rows 3082 to 96,243 are more granular with a quarterly frequency interval. The major U.S. market segments are broken into smaller geographics areas with just the non-seasonaly adjusted home index value. Accordingly, the 10th column 'index_sa' contains no values at this location to the end of the file. The end-result DataFrame will be called 'df_states'.\n"
   ]
  },
  {
   "cell_type": "markdown",
   "metadata": {},
   "source": [
    "#### Part 1 of .csv File to Construct the 'df_us' DataFrame"
   ]
  },
  {
   "cell_type": "markdown",
   "metadata": {},
   "source": [
    "Start with a test read of the entire .csv file.  The pd.read_csv method has the one required arguement, the input file name to create the DataFrame 'df_all'."
   ]
  },
  {
   "cell_type": "code",
   "execution_count": 12,
   "metadata": {
    "collapsed": true
   },
   "outputs": [],
   "source": [
    "df_all = pd.read_csv(\"C:\\Data\\\\HPI_master.csv\")"
   ]
  },
  {
   "cell_type": "markdown",
   "metadata": {},
   "source": [
    " "
   ]
  },
  {
   "cell_type": "markdown",
   "metadata": {},
   "source": [
    "Inspect the first 5 rows to determine if the read_csv() method is giving the expected results."
   ]
  },
  {
   "cell_type": "code",
   "execution_count": 13,
   "metadata": {
    "collapsed": false
   },
   "outputs": [
    {
     "data": {
      "text/html": [
       "<div>\n",
       "<table border=\"1\" class=\"dataframe\">\n",
       "  <thead>\n",
       "    <tr style=\"text-align: right;\">\n",
       "      <th></th>\n",
       "      <th>hpi_type</th>\n",
       "      <th>hpi_flavor</th>\n",
       "      <th>frequency</th>\n",
       "      <th>level</th>\n",
       "      <th>place_name</th>\n",
       "      <th>place_id</th>\n",
       "      <th>yr</th>\n",
       "      <th>period</th>\n",
       "      <th>index_nsa</th>\n",
       "      <th>index_sa</th>\n",
       "    </tr>\n",
       "  </thead>\n",
       "  <tbody>\n",
       "    <tr>\n",
       "      <th>0</th>\n",
       "      <td>traditional</td>\n",
       "      <td>purchase-only</td>\n",
       "      <td>monthly</td>\n",
       "      <td>USA or Census Division</td>\n",
       "      <td>East North Central Division</td>\n",
       "      <td>DV_ENC</td>\n",
       "      <td>1991</td>\n",
       "      <td>1</td>\n",
       "      <td>100.00</td>\n",
       "      <td>100.00</td>\n",
       "    </tr>\n",
       "    <tr>\n",
       "      <th>1</th>\n",
       "      <td>traditional</td>\n",
       "      <td>purchase-only</td>\n",
       "      <td>monthly</td>\n",
       "      <td>USA or Census Division</td>\n",
       "      <td>East North Central Division</td>\n",
       "      <td>DV_ENC</td>\n",
       "      <td>1991</td>\n",
       "      <td>2</td>\n",
       "      <td>101.03</td>\n",
       "      <td>101.11</td>\n",
       "    </tr>\n",
       "    <tr>\n",
       "      <th>2</th>\n",
       "      <td>traditional</td>\n",
       "      <td>purchase-only</td>\n",
       "      <td>monthly</td>\n",
       "      <td>USA or Census Division</td>\n",
       "      <td>East North Central Division</td>\n",
       "      <td>DV_ENC</td>\n",
       "      <td>1991</td>\n",
       "      <td>3</td>\n",
       "      <td>101.40</td>\n",
       "      <td>101.08</td>\n",
       "    </tr>\n",
       "    <tr>\n",
       "      <th>3</th>\n",
       "      <td>traditional</td>\n",
       "      <td>purchase-only</td>\n",
       "      <td>monthly</td>\n",
       "      <td>USA or Census Division</td>\n",
       "      <td>East North Central Division</td>\n",
       "      <td>DV_ENC</td>\n",
       "      <td>1991</td>\n",
       "      <td>4</td>\n",
       "      <td>101.79</td>\n",
       "      <td>101.10</td>\n",
       "    </tr>\n",
       "    <tr>\n",
       "      <th>4</th>\n",
       "      <td>traditional</td>\n",
       "      <td>purchase-only</td>\n",
       "      <td>monthly</td>\n",
       "      <td>USA or Census Division</td>\n",
       "      <td>East North Central Division</td>\n",
       "      <td>DV_ENC</td>\n",
       "      <td>1991</td>\n",
       "      <td>5</td>\n",
       "      <td>102.44</td>\n",
       "      <td>101.50</td>\n",
       "    </tr>\n",
       "  </tbody>\n",
       "</table>\n",
       "</div>"
      ],
      "text/plain": [
       "      hpi_type     hpi_flavor frequency                   level  \\\n",
       "0  traditional  purchase-only   monthly  USA or Census Division   \n",
       "1  traditional  purchase-only   monthly  USA or Census Division   \n",
       "2  traditional  purchase-only   monthly  USA or Census Division   \n",
       "3  traditional  purchase-only   monthly  USA or Census Division   \n",
       "4  traditional  purchase-only   monthly  USA or Census Division   \n",
       "\n",
       "                    place_name place_id    yr  period  index_nsa  index_sa  \n",
       "0  East North Central Division   DV_ENC  1991       1     100.00    100.00  \n",
       "1  East North Central Division   DV_ENC  1991       2     101.03    101.11  \n",
       "2  East North Central Division   DV_ENC  1991       3     101.40    101.08  \n",
       "3  East North Central Division   DV_ENC  1991       4     101.79    101.10  \n",
       "4  East North Central Division   DV_ENC  1991       5     102.44    101.50  "
      ]
     },
     "execution_count": 13,
     "metadata": {},
     "output_type": "execute_result"
    }
   ],
   "source": [
    "df_all.head()"
   ]
  },
  {
   "cell_type": "markdown",
   "metadata": {},
   "source": [
    "  "
   ]
  },
  {
   "cell_type": "markdown",
   "metadata": {},
   "source": [
    "We need to combine the year and period fields into a <a href=\"http://nbviewer.jupyter.org/github/RandyBetancourt/PythonForSASUsers/blob/master/Chapter%2008%20--%20Date%2C%20Time%2C%20and%20%20Timedelta%20Objects.ipynb#String-Literal-Mapped-to-datetime-timestamp\"> datetime timetamp </a>.  The .csv file in the cell above is read without any datetime parsing for the fields, 'yr' and 'period'.  We could post-process these fields to construct the appropriate date timestamp values.  \n",
    "\n",
    "A better approach is below.  The parse_dates= argument allows a <a href=\"http://nbviewer.jupyter.org/github/RandyBetancourt/PythonForSASUsers/blob/master/Chapter%2002%20--%20Data%20Structures.ipynb#dictionary\"> dictionary </a> object with the key being the arbitrary name of the new column created and the key values indicating which fields are to be read in the .csv file.  Recall that Python indexes have a start position of 0.  In the .csv file, these fields are the 7th and 8th column position.\n",
    "\n",
    "Sometimes, you may need to create your own date-parser, analogous to building a user-defined SAS INFORMAT to map field values into a datetime object.  This is particularly true in cases where the date value is stored as component values in multiple fields.   \n",
    "\n",
    "The nrows= argument value is set to 3080.  "
   ]
  },
  {
   "cell_type": "code",
   "execution_count": 14,
   "metadata": {
    "collapsed": false
   },
   "outputs": [],
   "source": [
    "df_us = pd.read_csv(\"C:\\Data\\\\HPI_master.csv\",\n",
    "                 parse_dates={'date_idx': [6,7]},\n",
    "                 nrows=3080)"
   ]
  },
  {
   "cell_type": "markdown",
   "metadata": {},
   "source": [
    "  "
   ]
  },
  {
   "cell_type": "markdown",
   "metadata": {},
   "source": [
    " "
   ]
  },
  {
   "cell_type": "code",
   "execution_count": 15,
   "metadata": {
    "collapsed": false
   },
   "outputs": [
    {
     "data": {
      "text/plain": [
       "(3080, 9)"
      ]
     },
     "execution_count": 15,
     "metadata": {},
     "output_type": "execute_result"
    }
   ],
   "source": [
    "df_us.shape"
   ]
  },
  {
   "cell_type": "markdown",
   "metadata": {},
   "source": [
    " "
   ]
  },
  {
   "cell_type": "markdown",
   "metadata": {},
   "source": [
    "Validate column names and their data types.  Confirm the date parser constructed the column 'date_idx' as a datetime object."
   ]
  },
  {
   "cell_type": "code",
   "execution_count": 16,
   "metadata": {
    "collapsed": false
   },
   "outputs": [
    {
     "name": "stdout",
     "output_type": "stream",
     "text": [
      "<class 'pandas.core.frame.DataFrame'>\n",
      "RangeIndex: 3080 entries, 0 to 3079\n",
      "Data columns (total 9 columns):\n",
      "date_idx      3080 non-null datetime64[ns]\n",
      "hpi_type      3080 non-null object\n",
      "hpi_flavor    3080 non-null object\n",
      "frequency     3080 non-null object\n",
      "level         3080 non-null object\n",
      "place_name    3080 non-null object\n",
      "place_id      3080 non-null object\n",
      "index_nsa     3080 non-null float64\n",
      "index_sa      3080 non-null float64\n",
      "dtypes: datetime64[ns](1), float64(2), object(6)\n",
      "memory usage: 216.6+ KB\n"
     ]
    }
   ],
   "source": [
    "df_us.info()"
   ]
  },
  {
   "cell_type": "markdown",
   "metadata": {},
   "source": [
    "  "
   ]
  },
  {
   "cell_type": "markdown",
   "metadata": {},
   "source": [
    "Check for missing values."
   ]
  },
  {
   "cell_type": "code",
   "execution_count": 17,
   "metadata": {
    "collapsed": false
   },
   "outputs": [
    {
     "data": {
      "text/plain": [
       "date_idx      False\n",
       "hpi_type      False\n",
       "hpi_flavor    False\n",
       "frequency     False\n",
       "level         False\n",
       "place_name    False\n",
       "place_id      False\n",
       "index_nsa     False\n",
       "index_sa      False\n",
       "dtype: bool"
      ]
     },
     "execution_count": 17,
     "metadata": {},
     "output_type": "execute_result"
    }
   ],
   "source": [
    "df_us.isnull().any()"
   ]
  },
  {
   "cell_type": "markdown",
   "metadata": {},
   "source": [
    " "
   ]
  },
  {
   "cell_type": "markdown",
   "metadata": {},
   "source": [
    "Set the 'date_idx' column as the <a href=\"http://nbviewer.jupyter.org/github/RandyBetancourt/PythonForSASUsers/blob/master/Chapter%2005%20--%20Understanding%20Indexes.ipynb#Setting-and-resetting-Indicies\">index</a> on the DataFrame."
   ]
  },
  {
   "cell_type": "code",
   "execution_count": 18,
   "metadata": {
    "collapsed": false
   },
   "outputs": [],
   "source": [
    "df_us.set_index(\"date_idx\", inplace=True, drop=False)"
   ]
  },
  {
   "cell_type": "markdown",
   "metadata": {},
   "source": [
    " "
   ]
  },
  {
   "cell_type": "markdown",
   "metadata": {},
   "source": [
    "Indexing on the datetime column 'date' creates a 'datetime-aware' DateTimeIndex.  "
   ]
  },
  {
   "cell_type": "code",
   "execution_count": 19,
   "metadata": {
    "collapsed": false
   },
   "outputs": [
    {
     "data": {
      "text/plain": [
       "DatetimeIndex(['1991-01-01', '1991-02-01', '1991-03-01', '1991-04-01',\n",
       "               '1991-05-01', '1991-06-01', '1991-07-01', '1991-08-01',\n",
       "               '1991-09-01', '1991-10-01',\n",
       "               ...\n",
       "               '2015-11-01', '2015-12-01', '2016-01-01', '2016-02-01',\n",
       "               '2016-03-01', '2016-04-01', '2016-05-01', '2016-06-01',\n",
       "               '2016-07-01', '2016-08-01'],\n",
       "              dtype='datetime64[ns]', name='date_idx', length=3080, freq=None)"
      ]
     },
     "execution_count": 19,
     "metadata": {},
     "output_type": "execute_result"
    }
   ],
   "source": [
    "df_us.index"
   ]
  },
  {
   "cell_type": "markdown",
   "metadata": {},
   "source": [
    " "
   ]
  },
  {
   "cell_type": "markdown",
   "metadata": {},
   "source": [
    " "
   ]
  },
  {
   "cell_type": "markdown",
   "metadata": {},
   "source": [
    "Get the earlies and lastest date values in the 'df_us' DataFrame."
   ]
  },
  {
   "cell_type": "code",
   "execution_count": 20,
   "metadata": {
    "collapsed": false
   },
   "outputs": [
    {
     "name": "stdout",
     "output_type": "stream",
     "text": [
      "Earliest date is: 1991-01-01 00:00:00\n",
      "Latest date is: 2016-08-01 00:00:00\n"
     ]
    }
   ],
   "source": [
    "print('Earliest date is:', df_us.date_idx.min())\n",
    "print('Latest date is:', df_us.date_idx.max())"
   ]
  },
  {
   "cell_type": "markdown",
   "metadata": {},
   "source": [
    " "
   ]
  },
  {
   "cell_type": "markdown",
   "metadata": {},
   "source": [
    "We see from the list of columns returned from the .info() attribute above we have several categorical columns.  We need to understand their levels.  Earlier, we saw the .describe() method used for numerical columns.  In the example below specifying the 'include=' argument returns a description of string columns.  \n",
    "\n",
    "Recall that dtype 'O' (not zero) indicates string values for a Series or DataFrame column."
   ]
  },
  {
   "cell_type": "code",
   "execution_count": 21,
   "metadata": {
    "collapsed": false
   },
   "outputs": [
    {
     "data": {
      "text/html": [
       "<div>\n",
       "<table border=\"1\" class=\"dataframe\">\n",
       "  <thead>\n",
       "    <tr style=\"text-align: right;\">\n",
       "      <th></th>\n",
       "      <th>hpi_type</th>\n",
       "      <th>hpi_flavor</th>\n",
       "      <th>frequency</th>\n",
       "      <th>level</th>\n",
       "      <th>place_name</th>\n",
       "      <th>place_id</th>\n",
       "    </tr>\n",
       "  </thead>\n",
       "  <tbody>\n",
       "    <tr>\n",
       "      <th>count</th>\n",
       "      <td>3080</td>\n",
       "      <td>3080</td>\n",
       "      <td>3080</td>\n",
       "      <td>3080</td>\n",
       "      <td>3080</td>\n",
       "      <td>3080</td>\n",
       "    </tr>\n",
       "    <tr>\n",
       "      <th>unique</th>\n",
       "      <td>1</td>\n",
       "      <td>1</td>\n",
       "      <td>1</td>\n",
       "      <td>1</td>\n",
       "      <td>10</td>\n",
       "      <td>10</td>\n",
       "    </tr>\n",
       "    <tr>\n",
       "      <th>top</th>\n",
       "      <td>traditional</td>\n",
       "      <td>purchase-only</td>\n",
       "      <td>monthly</td>\n",
       "      <td>USA or Census Division</td>\n",
       "      <td>New England Division</td>\n",
       "      <td>DV_WNC</td>\n",
       "    </tr>\n",
       "    <tr>\n",
       "      <th>freq</th>\n",
       "      <td>3080</td>\n",
       "      <td>3080</td>\n",
       "      <td>3080</td>\n",
       "      <td>3080</td>\n",
       "      <td>308</td>\n",
       "      <td>308</td>\n",
       "    </tr>\n",
       "  </tbody>\n",
       "</table>\n",
       "</div>"
      ],
      "text/plain": [
       "           hpi_type     hpi_flavor frequency                   level  \\\n",
       "count          3080           3080      3080                    3080   \n",
       "unique            1              1         1                       1   \n",
       "top     traditional  purchase-only   monthly  USA or Census Division   \n",
       "freq           3080           3080      3080                    3080   \n",
       "\n",
       "                  place_name place_id  \n",
       "count                   3080     3080  \n",
       "unique                    10       10  \n",
       "top     New England Division   DV_WNC  \n",
       "freq                     308      308  "
      ]
     },
     "execution_count": 21,
     "metadata": {},
     "output_type": "execute_result"
    }
   ],
   "source": [
    "df_us.describe(include=['O'])"
   ]
  },
  {
   "cell_type": "markdown",
   "metadata": {},
   "source": [
    " "
   ]
  },
  {
   "cell_type": "markdown",
   "metadata": {},
   "source": [
    "The 'place_name' column has 10 unique levels or values.  We can examine these values with the .unique() attribute."
   ]
  },
  {
   "cell_type": "code",
   "execution_count": 22,
   "metadata": {
    "collapsed": false
   },
   "outputs": [
    {
     "data": {
      "text/plain": [
       "array(['East North Central Division', 'East South Central Division',\n",
       "       'Middle Atlantic Division', 'Mountain Division',\n",
       "       'New England Division', 'Pacific Division',\n",
       "       'South Atlantic Division', 'West North Central Division',\n",
       "       'West South Central Division', 'United States'], dtype=object)"
      ]
     },
     "execution_count": 22,
     "metadata": {},
     "output_type": "execute_result"
    }
   ],
   "source": [
    "df_us.place_name.unique()"
   ]
  },
  {
   "cell_type": "markdown",
   "metadata": {},
   "source": [
    "  "
   ]
  },
  {
   "cell_type": "markdown",
   "metadata": {},
   "source": [
    "Continue by setting an <a href=\"http://nbviewer.jupyter.org/github/RandyBetancourt/PythonForSASUsers/blob/master/Chapter%2005%20--%20Understanding%20Indexes.ipynb#Setting-and-resetting-Indicies\"> index </a> on the column 'place_name'.  Construct the 'df_us_plot' DataFrame with rows for 'place_name' equal to 'United States'.  The .loc indexer allows row slicing which is covered in detail <a href=\"http://nbviewer.jupyter.org/github/RandyBetancourt/PythonForSASUsers/blob/master/Chapter%2005%20--%20Understanding%20Indexes.ipynb#.loc-Indexer\">here</a>.  "
   ]
  },
  {
   "cell_type": "code",
   "execution_count": 23,
   "metadata": {
    "collapsed": false
   },
   "outputs": [],
   "source": [
    "df_us.set_index('place_name', inplace=True, drop=False)\n",
    "df_us_plot = df_us.loc['United States']"
   ]
  },
  {
   "cell_type": "markdown",
   "metadata": {},
   "source": [
    " "
   ]
  },
  {
   "cell_type": "markdown",
   "metadata": {},
   "source": [
    "Time series data lends itself well to plotting.  The bokeh package is used to plot the non-seasonal home price index for the entire U.S. using the 'df_us_plot' DataFrame created above"
   ]
  },
  {
   "cell_type": "code",
   "execution_count": 24,
   "metadata": {
    "collapsed": false
   },
   "outputs": [
    {
     "data": {
      "text/html": [
       "\n",
       "    <div class=\"bk-root\">\n",
       "        <a href=\"http://bokeh.pydata.org\" target=\"_blank\" class=\"bk-logo bk-logo-small bk-logo-notebook\"></a>\n",
       "        <span id=\"ec781c6c-7e20-41cb-aa8a-a07f6f162ae5\">Loading BokehJS ...</span>\n",
       "    </div>"
      ]
     },
     "metadata": {},
     "output_type": "display_data"
    },
    {
     "data": {
      "application/javascript": [
       "\n",
       "(function(global) {\n",
       "  function now() {\n",
       "    return new Date();\n",
       "  }\n",
       "\n",
       "  var force = \"1\";\n",
       "\n",
       "  if (typeof (window._bokeh_onload_callbacks) === \"undefined\" || force !== \"\") {\n",
       "    window._bokeh_onload_callbacks = [];\n",
       "    window._bokeh_is_loading = undefined;\n",
       "  }\n",
       "\n",
       "\n",
       "  \n",
       "  if (typeof (window._bokeh_timeout) === \"undefined\" || force !== \"\") {\n",
       "    window._bokeh_timeout = Date.now() + 5000;\n",
       "    window._bokeh_failed_load = false;\n",
       "  }\n",
       "\n",
       "  var NB_LOAD_WARNING = {'data': {'text/html':\n",
       "     \"<div style='background-color: #fdd'>\\n\"+\n",
       "     \"<p>\\n\"+\n",
       "     \"BokehJS does not appear to have successfully loaded. If loading BokehJS from CDN, this \\n\"+\n",
       "     \"may be due to a slow or bad network connection. Possible fixes:\\n\"+\n",
       "     \"</p>\\n\"+\n",
       "     \"<ul>\\n\"+\n",
       "     \"<li>re-rerun `output_notebook()` to attempt to load from CDN again, or</li>\\n\"+\n",
       "     \"<li>use INLINE resources instead, as so:</li>\\n\"+\n",
       "     \"</ul>\\n\"+\n",
       "     \"<code>\\n\"+\n",
       "     \"from bokeh.resources import INLINE\\n\"+\n",
       "     \"output_notebook(resources=INLINE)\\n\"+\n",
       "     \"</code>\\n\"+\n",
       "     \"</div>\"}};\n",
       "\n",
       "  function display_loaded() {\n",
       "    if (window.Bokeh !== undefined) {\n",
       "      Bokeh.$(\"#ec781c6c-7e20-41cb-aa8a-a07f6f162ae5\").text(\"BokehJS successfully loaded.\");\n",
       "    } else if (Date.now() < window._bokeh_timeout) {\n",
       "      setTimeout(display_loaded, 100)\n",
       "    }\n",
       "  }\n",
       "\n",
       "  function run_callbacks() {\n",
       "    window._bokeh_onload_callbacks.forEach(function(callback) { callback() });\n",
       "    delete window._bokeh_onload_callbacks\n",
       "    console.info(\"Bokeh: all callbacks have finished\");\n",
       "  }\n",
       "\n",
       "  function load_libs(js_urls, callback) {\n",
       "    window._bokeh_onload_callbacks.push(callback);\n",
       "    if (window._bokeh_is_loading > 0) {\n",
       "      console.log(\"Bokeh: BokehJS is being loaded, scheduling callback at\", now());\n",
       "      return null;\n",
       "    }\n",
       "    if (js_urls == null || js_urls.length === 0) {\n",
       "      run_callbacks();\n",
       "      return null;\n",
       "    }\n",
       "    console.log(\"Bokeh: BokehJS not loaded, scheduling load and callback at\", now());\n",
       "    window._bokeh_is_loading = js_urls.length;\n",
       "    for (var i = 0; i < js_urls.length; i++) {\n",
       "      var url = js_urls[i];\n",
       "      var s = document.createElement('script');\n",
       "      s.src = url;\n",
       "      s.async = false;\n",
       "      s.onreadystatechange = s.onload = function() {\n",
       "        window._bokeh_is_loading--;\n",
       "        if (window._bokeh_is_loading === 0) {\n",
       "          console.log(\"Bokeh: all BokehJS libraries loaded\");\n",
       "          run_callbacks()\n",
       "        }\n",
       "      };\n",
       "      s.onerror = function() {\n",
       "        console.warn(\"failed to load library \" + url);\n",
       "      };\n",
       "      console.log(\"Bokeh: injecting script tag for BokehJS library: \", url);\n",
       "      document.getElementsByTagName(\"head\")[0].appendChild(s);\n",
       "    }\n",
       "  };var element = document.getElementById(\"ec781c6c-7e20-41cb-aa8a-a07f6f162ae5\");\n",
       "  if (element == null) {\n",
       "    console.log(\"Bokeh: ERROR: autoload.js configured with elementid 'ec781c6c-7e20-41cb-aa8a-a07f6f162ae5' but no matching script tag was found. \")\n",
       "    return false;\n",
       "  }\n",
       "\n",
       "  var js_urls = ['https://cdn.pydata.org/bokeh/release/bokeh-0.12.2.min.js', 'https://cdn.pydata.org/bokeh/release/bokeh-widgets-0.12.2.min.js', 'https://cdn.pydata.org/bokeh/release/bokeh-compiler-0.12.2.min.js'];\n",
       "\n",
       "  var inline_js = [\n",
       "    function(Bokeh) {\n",
       "      Bokeh.set_log_level(\"info\");\n",
       "    },\n",
       "    \n",
       "    function(Bokeh) {\n",
       "      \n",
       "      Bokeh.$(\"#ec781c6c-7e20-41cb-aa8a-a07f6f162ae5\").text(\"BokehJS is loading...\");\n",
       "    },\n",
       "    function(Bokeh) {\n",
       "      console.log(\"Bokeh: injecting CSS: https://cdn.pydata.org/bokeh/release/bokeh-0.12.2.min.css\");\n",
       "      Bokeh.embed.inject_css(\"https://cdn.pydata.org/bokeh/release/bokeh-0.12.2.min.css\");\n",
       "      console.log(\"Bokeh: injecting CSS: https://cdn.pydata.org/bokeh/release/bokeh-widgets-0.12.2.min.css\");\n",
       "      Bokeh.embed.inject_css(\"https://cdn.pydata.org/bokeh/release/bokeh-widgets-0.12.2.min.css\");\n",
       "    }\n",
       "  ];\n",
       "\n",
       "  function run_inline_js() {\n",
       "    \n",
       "    if ((window.Bokeh !== undefined) || (force === \"1\")) {\n",
       "      for (var i = 0; i < inline_js.length; i++) {\n",
       "        inline_js[i](window.Bokeh);\n",
       "      }if (force === \"1\") {\n",
       "        display_loaded();\n",
       "      }} else if (Date.now() < window._bokeh_timeout) {\n",
       "      setTimeout(run_inline_js, 100);\n",
       "    } else if (!window._bokeh_failed_load) {\n",
       "      console.log(\"Bokeh: BokehJS failed to load within specified timeout.\");\n",
       "      window._bokeh_failed_load = true;\n",
       "    } else if (!force) {\n",
       "      var cell = $(\"#ec781c6c-7e20-41cb-aa8a-a07f6f162ae5\").parents('.cell').data().cell;\n",
       "      cell.output_area.append_execute_result(NB_LOAD_WARNING)\n",
       "    }\n",
       "\n",
       "  }\n",
       "\n",
       "  if (window._bokeh_is_loading === 0) {\n",
       "    console.log(\"Bokeh: BokehJS loaded, going straight to plotting\");\n",
       "    run_inline_js();\n",
       "  } else {\n",
       "    load_libs(js_urls, function() {\n",
       "      console.log(\"Bokeh: BokehJS plotting callback run at\", now());\n",
       "      run_inline_js();\n",
       "    });\n",
       "  }\n",
       "}(this));"
      ]
     },
     "metadata": {},
     "output_type": "display_data"
    }
   ],
   "source": [
    "import bokeh.charts\n",
    "import bokeh.charts.utils\n",
    "import bokeh.io\n",
    "import bokeh.models\n",
    "import bokeh.palettes\n",
    "import bokeh.plotting\n",
    "\n",
    "# Display graphics in this notebook\n",
    "bokeh.io.output_notebook()"
   ]
  },
  {
   "cell_type": "markdown",
   "metadata": {},
   "source": [
    "   "
   ]
  },
  {
   "cell_type": "markdown",
   "metadata": {},
   "source": [
    "Plot the monthly aggregate home index values for the U.S. using the earliest and latest dates from the 'df_us_plot' DataFrame."
   ]
  },
  {
   "cell_type": "code",
   "execution_count": 25,
   "metadata": {
    "collapsed": false
   },
   "outputs": [
    {
     "data": {
      "text/html": [
       "\n",
       "\n",
       "    <div class=\"bk-root\">\n",
       "        <div class=\"plotdiv\" id=\"f27a042c-7858-4210-8c23-ebecca140f80\"></div>\n",
       "    </div>\n",
       "<script type=\"text/javascript\">\n",
       "  \n",
       "  (function(global) {\n",
       "    function now() {\n",
       "      return new Date();\n",
       "    }\n",
       "  \n",
       "    var force = \"\";\n",
       "  \n",
       "    if (typeof (window._bokeh_onload_callbacks) === \"undefined\" || force !== \"\") {\n",
       "      window._bokeh_onload_callbacks = [];\n",
       "      window._bokeh_is_loading = undefined;\n",
       "    }\n",
       "  \n",
       "  \n",
       "    \n",
       "    if (typeof (window._bokeh_timeout) === \"undefined\" || force !== \"\") {\n",
       "      window._bokeh_timeout = Date.now() + 0;\n",
       "      window._bokeh_failed_load = false;\n",
       "    }\n",
       "  \n",
       "    var NB_LOAD_WARNING = {'data': {'text/html':\n",
       "       \"<div style='background-color: #fdd'>\\n\"+\n",
       "       \"<p>\\n\"+\n",
       "       \"BokehJS does not appear to have successfully loaded. If loading BokehJS from CDN, this \\n\"+\n",
       "       \"may be due to a slow or bad network connection. Possible fixes:\\n\"+\n",
       "       \"</p>\\n\"+\n",
       "       \"<ul>\\n\"+\n",
       "       \"<li>re-rerun `output_notebook()` to attempt to load from CDN again, or</li>\\n\"+\n",
       "       \"<li>use INLINE resources instead, as so:</li>\\n\"+\n",
       "       \"</ul>\\n\"+\n",
       "       \"<code>\\n\"+\n",
       "       \"from bokeh.resources import INLINE\\n\"+\n",
       "       \"output_notebook(resources=INLINE)\\n\"+\n",
       "       \"</code>\\n\"+\n",
       "       \"</div>\"}};\n",
       "  \n",
       "    function display_loaded() {\n",
       "      if (window.Bokeh !== undefined) {\n",
       "        Bokeh.$(\"#f27a042c-7858-4210-8c23-ebecca140f80\").text(\"BokehJS successfully loaded.\");\n",
       "      } else if (Date.now() < window._bokeh_timeout) {\n",
       "        setTimeout(display_loaded, 100)\n",
       "      }\n",
       "    }\n",
       "  \n",
       "    function run_callbacks() {\n",
       "      window._bokeh_onload_callbacks.forEach(function(callback) { callback() });\n",
       "      delete window._bokeh_onload_callbacks\n",
       "      console.info(\"Bokeh: all callbacks have finished\");\n",
       "    }\n",
       "  \n",
       "    function load_libs(js_urls, callback) {\n",
       "      window._bokeh_onload_callbacks.push(callback);\n",
       "      if (window._bokeh_is_loading > 0) {\n",
       "        console.log(\"Bokeh: BokehJS is being loaded, scheduling callback at\", now());\n",
       "        return null;\n",
       "      }\n",
       "      if (js_urls == null || js_urls.length === 0) {\n",
       "        run_callbacks();\n",
       "        return null;\n",
       "      }\n",
       "      console.log(\"Bokeh: BokehJS not loaded, scheduling load and callback at\", now());\n",
       "      window._bokeh_is_loading = js_urls.length;\n",
       "      for (var i = 0; i < js_urls.length; i++) {\n",
       "        var url = js_urls[i];\n",
       "        var s = document.createElement('script');\n",
       "        s.src = url;\n",
       "        s.async = false;\n",
       "        s.onreadystatechange = s.onload = function() {\n",
       "          window._bokeh_is_loading--;\n",
       "          if (window._bokeh_is_loading === 0) {\n",
       "            console.log(\"Bokeh: all BokehJS libraries loaded\");\n",
       "            run_callbacks()\n",
       "          }\n",
       "        };\n",
       "        s.onerror = function() {\n",
       "          console.warn(\"failed to load library \" + url);\n",
       "        };\n",
       "        console.log(\"Bokeh: injecting script tag for BokehJS library: \", url);\n",
       "        document.getElementsByTagName(\"head\")[0].appendChild(s);\n",
       "      }\n",
       "    };var element = document.getElementById(\"f27a042c-7858-4210-8c23-ebecca140f80\");\n",
       "    if (element == null) {\n",
       "      console.log(\"Bokeh: ERROR: autoload.js configured with elementid 'f27a042c-7858-4210-8c23-ebecca140f80' but no matching script tag was found. \")\n",
       "      return false;\n",
       "    }\n",
       "  \n",
       "    var js_urls = [];\n",
       "  \n",
       "    var inline_js = [\n",
       "      function(Bokeh) {\n",
       "        Bokeh.$(function() {\n",
       "            var docs_json = {\"b17890a0-5409-464d-83e5-2a517e7fe7fd\":{\"roots\":{\"references\":[{\"attributes\":{\"plot\":{\"id\":\"0f73edbc-e72a-45b1-a5fb-f0d814f2c8f6\",\"subtype\":\"Chart\",\"type\":\"Plot\"},\"ticker\":{\"id\":\"d3312377-3113-403f-ac10-8bb7cdd8872b\",\"type\":\"DatetimeTicker\"}},\"id\":\"20303948-8faf-4616-98d9-6fb745f1a405\",\"type\":\"Grid\"},{\"attributes\":{\"days\":[1,4,7,10,13,16,19,22,25,28]},\"id\":\"a889a28b-b1cf-47ba-b33c-792864abf1cf\",\"type\":\"DaysTicker\"},{\"attributes\":{\"bottom_units\":\"screen\",\"fill_alpha\":{\"value\":0.5},\"fill_color\":{\"value\":\"lightgrey\"},\"left_units\":\"screen\",\"level\":\"overlay\",\"line_alpha\":{\"value\":1.0},\"line_color\":{\"value\":\"black\"},\"line_dash\":[4,4],\"line_width\":{\"value\":2},\"plot\":null,\"render_mode\":\"css\",\"right_units\":\"screen\",\"top_units\":\"screen\"},\"id\":\"ae55df4d-c0af-4225-a046-ace333d44314\",\"type\":\"BoxAnnotation\"},{\"attributes\":{\"base\":24,\"mantissas\":[1,2,4,6,8,12],\"max_interval\":43200000.0,\"min_interval\":3600000.0,\"num_minor_ticks\":0},\"id\":\"2185e851-0455-47e5-8c5f-2946769ba29c\",\"type\":\"AdaptiveTicker\"},{\"attributes\":{\"days\":[1,8,15,22]},\"id\":\"3fdb6365-c526-42cd-a882-63974e4a3911\",\"type\":\"DaysTicker\"},{\"attributes\":{\"dimension\":1,\"plot\":{\"id\":\"0f73edbc-e72a-45b1-a5fb-f0d814f2c8f6\",\"subtype\":\"Chart\",\"type\":\"Plot\"},\"ticker\":{\"id\":\"651f5113-6d57-4e14-8ded-6d1e9a03b73e\",\"type\":\"BasicTicker\"}},\"id\":\"f94efeb2-d785-40d2-a955-abfc2d1dd523\",\"type\":\"Grid\"},{\"attributes\":{\"months\":[0,2,4,6,8,10]},\"id\":\"de7d7b3a-60b0-436e-a415-5390885cfe7a\",\"type\":\"MonthsTicker\"},{\"attributes\":{\"plot\":{\"id\":\"0f73edbc-e72a-45b1-a5fb-f0d814f2c8f6\",\"subtype\":\"Chart\",\"type\":\"Plot\"}},\"id\":\"3e13e1d5-fa99-4f67-828f-afcd19391381\",\"type\":\"WheelZoomTool\"},{\"attributes\":{\"plot\":{\"id\":\"0f73edbc-e72a-45b1-a5fb-f0d814f2c8f6\",\"subtype\":\"Chart\",\"type\":\"Plot\"}},\"id\":\"54af0738-2845-48a5-8029-5d352daf63e5\",\"type\":\"HelpTool\"},{\"attributes\":{\"overlay\":{\"id\":\"ae55df4d-c0af-4225-a046-ace333d44314\",\"type\":\"BoxAnnotation\"},\"plot\":{\"id\":\"0f73edbc-e72a-45b1-a5fb-f0d814f2c8f6\",\"subtype\":\"Chart\",\"type\":\"Plot\"}},\"id\":\"c8f44310-7c70-4eed-9293-53a2d095f42c\",\"type\":\"BoxZoomTool\"},{\"attributes\":{\"max_interval\":500.0,\"num_minor_ticks\":0},\"id\":\"1f1d2158-a17a-4459-93c7-563128e0038a\",\"type\":\"AdaptiveTicker\"},{\"attributes\":{\"plot\":{\"id\":\"0f73edbc-e72a-45b1-a5fb-f0d814f2c8f6\",\"subtype\":\"Chart\",\"type\":\"Plot\"}},\"id\":\"9f0aa506-144a-4784-97a1-98c90a52e18a\",\"type\":\"SaveTool\"},{\"attributes\":{\"months\":[0,6]},\"id\":\"f35c684e-db1e-4f35-b911-cd721d0dbe2a\",\"type\":\"MonthsTicker\"},{\"attributes\":{\"location\":\"top_left\",\"plot\":{\"id\":\"0f73edbc-e72a-45b1-a5fb-f0d814f2c8f6\",\"subtype\":\"Chart\",\"type\":\"Plot\"}},\"id\":\"be1fe1a1-10a9-41f3-a177-16e1e555074f\",\"type\":\"Legend\"},{\"attributes\":{\"months\":[0,4,8]},\"id\":\"b802e757-f255-420f-b678-8b2d5da4f70c\",\"type\":\"MonthsTicker\"},{\"attributes\":{\"below\":[{\"id\":\"93f727df-19fc-4007-9c7b-2a16b19d388d\",\"type\":\"DatetimeAxis\"}],\"left\":[{\"id\":\"9901326c-0ee9-4b30-aa87-2dca8eccb5e8\",\"type\":\"LinearAxis\"}],\"renderers\":[{\"id\":\"ae55df4d-c0af-4225-a046-ace333d44314\",\"type\":\"BoxAnnotation\"},{\"id\":\"721742ca-a82f-417e-9f2a-844e0724f1c5\",\"type\":\"GlyphRenderer\"},{\"id\":\"be1fe1a1-10a9-41f3-a177-16e1e555074f\",\"type\":\"Legend\"},{\"id\":\"93f727df-19fc-4007-9c7b-2a16b19d388d\",\"type\":\"DatetimeAxis\"},{\"id\":\"9901326c-0ee9-4b30-aa87-2dca8eccb5e8\",\"type\":\"LinearAxis\"},{\"id\":\"20303948-8faf-4616-98d9-6fb745f1a405\",\"type\":\"Grid\"},{\"id\":\"f94efeb2-d785-40d2-a955-abfc2d1dd523\",\"type\":\"Grid\"}],\"title\":{\"id\":\"46e4701e-e92a-4eac-b07c-74e7f21fb82b\",\"type\":\"Title\"},\"tool_events\":{\"id\":\"26c2dfd6-9d5b-4f75-9e95-69474f96d4dc\",\"type\":\"ToolEvents\"},\"toolbar\":{\"id\":\"8e74981e-36b8-425a-9a32-09abfa91de1f\",\"type\":\"Toolbar\"},\"x_mapper_type\":\"auto\",\"x_range\":{\"id\":\"4a721326-5116-469c-b3cf-f083ff1b027f\",\"type\":\"Range1d\"},\"y_mapper_type\":\"auto\",\"y_range\":{\"id\":\"ac80130e-1af8-434e-8721-904ad39f2781\",\"type\":\"Range1d\"}},\"id\":\"0f73edbc-e72a-45b1-a5fb-f0d814f2c8f6\",\"subtype\":\"Chart\",\"type\":\"Plot\"},{\"attributes\":{},\"id\":\"49ec517b-ac52-4ec8-a84a-eaee72387837\",\"type\":\"YearsTicker\"},{\"attributes\":{},\"id\":\"82ed1520-3a85-4a54-bdc3-c7ae5c16c2bc\",\"type\":\"DatetimeTickFormatter\"},{\"attributes\":{\"active_drag\":\"auto\",\"active_scroll\":\"auto\",\"active_tap\":\"auto\",\"tools\":[{\"id\":\"699cd6b3-dc03-4caa-a904-a10c22e226d0\",\"type\":\"PanTool\"},{\"id\":\"3e13e1d5-fa99-4f67-828f-afcd19391381\",\"type\":\"WheelZoomTool\"},{\"id\":\"c8f44310-7c70-4eed-9293-53a2d095f42c\",\"type\":\"BoxZoomTool\"},{\"id\":\"9f0aa506-144a-4784-97a1-98c90a52e18a\",\"type\":\"SaveTool\"},{\"id\":\"56808e5b-98d1-4197-9eb4-a03d44f42666\",\"type\":\"ResetTool\"},{\"id\":\"54af0738-2845-48a5-8029-5d352daf63e5\",\"type\":\"HelpTool\"}]},\"id\":\"8e74981e-36b8-425a-9a32-09abfa91de1f\",\"type\":\"Toolbar\"},{\"attributes\":{},\"id\":\"26c2dfd6-9d5b-4f75-9e95-69474f96d4dc\",\"type\":\"ToolEvents\"},{\"attributes\":{\"days\":[1,2,3,4,5,6,7,8,9,10,11,12,13,14,15,16,17,18,19,20,21,22,23,24,25,26,27,28,29,30,31]},\"id\":\"de924cfc-7edc-4c42-91c7-39c552790619\",\"type\":\"DaysTicker\"},{\"attributes\":{\"plot\":{\"id\":\"0f73edbc-e72a-45b1-a5fb-f0d814f2c8f6\",\"subtype\":\"Chart\",\"type\":\"Plot\"}},\"id\":\"699cd6b3-dc03-4caa-a904-a10c22e226d0\",\"type\":\"PanTool\"},{\"attributes\":{\"callback\":null,\"end\":1470009600000.0,\"start\":662688000000.0},\"id\":\"4a721326-5116-469c-b3cf-f083ff1b027f\",\"type\":\"Range1d\"},{\"attributes\":{},\"id\":\"30b61993-1bf7-49e7-b56c-6466b66b5fca\",\"type\":\"BasicTickFormatter\"},{\"attributes\":{\"base\":60,\"mantissas\":[1,2,5,10,15,20,30],\"max_interval\":1800000.0,\"min_interval\":1000.0,\"num_minor_ticks\":0},\"id\":\"51c847b3-ead3-4171-853b-9c7a200a264a\",\"type\":\"AdaptiveTicker\"},{\"attributes\":{\"axis_label\":\"index_nsa\",\"formatter\":{\"id\":\"30b61993-1bf7-49e7-b56c-6466b66b5fca\",\"type\":\"BasicTickFormatter\"},\"plot\":{\"id\":\"0f73edbc-e72a-45b1-a5fb-f0d814f2c8f6\",\"subtype\":\"Chart\",\"type\":\"Plot\"},\"ticker\":{\"id\":\"651f5113-6d57-4e14-8ded-6d1e9a03b73e\",\"type\":\"BasicTicker\"}},\"id\":\"9901326c-0ee9-4b30-aa87-2dca8eccb5e8\",\"type\":\"LinearAxis\"},{\"attributes\":{\"days\":[1,15]},\"id\":\"3c4e73dc-1a2e-4c4b-babe-f9f410eafb4e\",\"type\":\"DaysTicker\"},{\"attributes\":{},\"id\":\"d3312377-3113-403f-ac10-8bb7cdd8872b\",\"type\":\"DatetimeTicker\"},{\"attributes\":{\"data_source\":{\"id\":\"3c19745f-5a77-4f9a-b43b-a882da40c9fe\",\"type\":\"ColumnDataSource\"},\"glyph\":{\"id\":\"612b3e2a-eb6c-4c6e-ab84-1b8ca3c97eb2\",\"type\":\"Line\"},\"hover_glyph\":null,\"nonselection_glyph\":null,\"selection_glyph\":null},\"id\":\"721742ca-a82f-417e-9f2a-844e0724f1c5\",\"type\":\"GlyphRenderer\"},{\"attributes\":{\"callback\":null,\"column_names\":[\"x_values\",\"y_values\"],\"data\":{\"chart_index\":[null,null,null,null,null,null,null,null,null,null,null,null,null,null,null,null,null,null,null,null,null,null,null,null,null,null,null,null,null,null,null,null,null,null,null,null,null,null,null,null,null,null,null,null,null,null,null,null,null,null,null,null,null,null,null,null,null,null,null,null,null,null,null,null,null,null,null,null,null,null,null,null,null,null,null,null,null,null,null,null,null,null,null,null,null,null,null,null,null,null,null,null,null,null,null,null,null,null,null,null,null,null,null,null,null,null,null,null,null,null,null,null,null,null,null,null,null,null,null,null,null,null,null,null,null,null,null,null,null,null,null,null,null,null,null,null,null,null,null,null,null,null,null,null,null,null,null,null,null,null,null,null,null,null,null,null,null,null,null,null,null,null,null,null,null,null,null,null,null,null,null,null,null,null,null,null,null,null,null,null,null,null,null,null,null,null,null,null,null,null,null,null,null,null,null,null,null,null,null,null,null,null,null,null,null,null,null,null,null,null,null,null,null,null,null,null,null,null,null,null,null,null,null,null,null,null,null,null,null,null,null,null,null,null,null,null,null,null,null,null,null,null,null,null,null,null,null,null,null,null,null,null,null,null,null,null,null,null,null,null,null,null,null,null,null,null,null,null,null,null,null,null,null,null,null,null,null,null,null,null,null,null,null,null,null,null,null,null,null,null,null,null,null,null,null,null,null,null,null,null,null,null,null,null,null,null,null,null],\"x_values\":[662688000000.0,665366400000.0,667785600000.0,670464000000.0,673056000000.0,675734400000.0,678326400000.0,681004800000.0,683683200000.0,686275200000.0,688953600000.0,691545600000.0,694224000000.0,696902400000.0,699408000000.0,702086400000.0,704678400000.0,707356800000.0,709948800000.0,712627200000.0,715305600000.0,717897600000.0,720576000000.0,723168000000.0,725846400000.0,728524800000.0,730944000000.0,733622400000.0,736214400000.0,738892800000.0,741484800000.0,744163200000.0,746841600000.0,749433600000.0,752112000000.0,754704000000.0,757382400000.0,760060800000.0,762480000000.0,765158400000.0,767750400000.0,770428800000.0,773020800000.0,775699200000.0,778377600000.0,780969600000.0,783648000000.0,786240000000.0,788918400000.0,791596800000.0,794016000000.0,796694400000.0,799286400000.0,801964800000.0,804556800000.0,807235200000.0,809913600000.0,812505600000.0,815184000000.0,817776000000.0,820454400000.0,823132800000.0,825638400000.0,828316800000.0,830908800000.0,833587200000.0,836179200000.0,838857600000.0,841536000000.0,844128000000.0,846806400000.0,849398400000.0,852076800000.0,854755200000.0,857174400000.0,859852800000.0,862444800000.0,865123200000.0,867715200000.0,870393600000.0,873072000000.0,875664000000.0,878342400000.0,880934400000.0,883612800000.0,886291200000.0,888710400000.0,891388800000.0,893980800000.0,896659200000.0,899251200000.0,901929600000.0,904608000000.0,907200000000.0,909878400000.0,912470400000.0,915148800000.0,917827200000.0,920246400000.0,922924800000.0,925516800000.0,928195200000.0,930787200000.0,933465600000.0,936144000000.0,938736000000.0,941414400000.0,944006400000.0,946684800000.0,949363200000.0,951868800000.0,954547200000.0,957139200000.0,959817600000.0,962409600000.0,965088000000.0,967766400000.0,970358400000.0,973036800000.0,975628800000.0,978307200000.0,980985600000.0,983404800000.0,986083200000.0,988675200000.0,991353600000.0,993945600000.0,996624000000.0,999302400000.0,1001894400000.0,1004572800000.0,1007164800000.0,1009843200000.0,1012521600000.0,1014940800000.0,1017619200000.0,1020211200000.0,1022889600000.0,1025481600000.0,1028160000000.0,1030838400000.0,1033430400000.0,1036108800000.0,1038700800000.0,1041379200000.0,1044057600000.0,1046476800000.0,1049155200000.0,1051747200000.0,1054425600000.0,1057017600000.0,1059696000000.0,1062374400000.0,1064966400000.0,1067644800000.0,1070236800000.0,1072915200000.0,1075593600000.0,1078099200000.0,1080777600000.0,1083369600000.0,1086048000000.0,1088640000000.0,1091318400000.0,1093996800000.0,1096588800000.0,1099267200000.0,1101859200000.0,1104537600000.0,1107216000000.0,1109635200000.0,1112313600000.0,1114905600000.0,1117584000000.0,1120176000000.0,1122854400000.0,1125532800000.0,1128124800000.0,1130803200000.0,1133395200000.0,1136073600000.0,1138752000000.0,1141171200000.0,1143849600000.0,1146441600000.0,1149120000000.0,1151712000000.0,1154390400000.0,1157068800000.0,1159660800000.0,1162339200000.0,1164931200000.0,1167609600000.0,1170288000000.0,1172707200000.0,1175385600000.0,1177977600000.0,1180656000000.0,1183248000000.0,1185926400000.0,1188604800000.0,1191196800000.0,1193875200000.0,1196467200000.0,1199145600000.0,1201824000000.0,1204329600000.0,1207008000000.0,1209600000000.0,1212278400000.0,1214870400000.0,1217548800000.0,1220227200000.0,1222819200000.0,1225497600000.0,1228089600000.0,1230768000000.0,1233446400000.0,1235865600000.0,1238544000000.0,1241136000000.0,1243814400000.0,1246406400000.0,1249084800000.0,1251763200000.0,1254355200000.0,1257033600000.0,1259625600000.0,1262304000000.0,1264982400000.0,1267401600000.0,1270080000000.0,1272672000000.0,1275350400000.0,1277942400000.0,1280620800000.0,1283299200000.0,1285891200000.0,1288569600000.0,1291161600000.0,1293840000000.0,1296518400000.0,1298937600000.0,1301616000000.0,1304208000000.0,1306886400000.0,1309478400000.0,1312156800000.0,1314835200000.0,1317427200000.0,1320105600000.0,1322697600000.0,1325376000000.0,1328054400000.0,1330560000000.0,1333238400000.0,1335830400000.0,1338508800000.0,1341100800000.0,1343779200000.0,1346457600000.0,1349049600000.0,1351728000000.0,1354320000000.0,1356998400000.0,1359676800000.0,1362096000000.0,1364774400000.0,1367366400000.0,1370044800000.0,1372636800000.0,1375315200000.0,1377993600000.0,1380585600000.0,1383264000000.0,1385856000000.0,1388534400000.0,1391212800000.0,1393632000000.0,1396310400000.0,1398902400000.0,1401580800000.0,1404172800000.0,1406851200000.0,1409529600000.0,1412121600000.0,1414800000000.0,1417392000000.0,1420070400000.0,1422748800000.0,1425168000000.0,1427846400000.0,1430438400000.0,1433116800000.0,1435708800000.0,1438387200000.0,1441065600000.0,1443657600000.0,1446336000000.0,1448928000000.0,1451606400000.0,1454284800000.0,1456790400000.0,1459468800000.0,1462060800000.0,1464739200000.0,1467331200000.0,1470009600000.0],\"y_values\":[100.0,100.47,100.73,100.75,100.91,101.4,101.34,101.29,101.42,101.62,102.16,102.19,102.29,102.98,103.08,102.99,103.17,103.53,103.78,104.37,104.62,104.8,105.07,104.65,104.41,104.08,104.7,105.58,105.93,106.71,106.73,107.18,107.41,107.55,107.72,107.91,107.86,108.02,108.74,109.32,109.86,110.48,110.58,110.94,110.8,110.87,111.01,110.67,110.76,111.16,111.45,111.92,112.29,113.11,113.6,113.95,113.86,113.78,113.81,113.95,114.06,114.23,115.0,115.6,116.23,116.72,117.14,117.11,117.12,116.97,117.09,117.1,116.93,117.23,118.18,118.69,119.5,119.97,120.26,120.66,120.42,120.86,120.99,121.07,121.19,122.07,122.95,123.85,124.78,125.96,126.22,126.73,127.19,127.46,127.99,128.21,128.73,129.22,130.26,131.26,132.51,133.55,134.21,134.95,135.03,135.65,135.81,136.06,137.43,137.22,138.8,140.08,141.23,142.65,143.36,143.79,144.43,144.96,145.4,145.8,146.47,147.43,148.79,150.0,151.23,152.48,153.33,153.93,154.5,155.08,155.05,155.58,156.14,157.03,158.6,159.92,161.62,163.17,164.25,165.17,165.94,166.68,167.06,167.71,168.3,169.38,170.61,172.16,173.84,175.23,176.56,177.72,178.9,179.44,180.2,181.09,181.78,183.27,185.23,187.37,190.04,192.6,194.21,195.45,196.59,197.43,198.61,199.56,200.29,201.99,204.88,207.44,210.18,212.63,214.62,216.15,217.57,218.12,218.67,219.14,219.75,220.69,222.4,223.85,225.6,226.29,226.18,226.58,225.88,225.53,225.27,224.48,224.3,224.89,226.81,227.89,228.23,228.21,226.87,225.7,223.96,221.69,219.37,217.2,214.14,213.72,212.38,211.39,210.49,210.01,207.88,205.62,203.07,200.69,196.39,194.77,195.68,196.52,194.63,195.03,196.13,196.93,196.18,195.41,194.42,194.51,194.17,190.78,189.91,189.47,190.04,191.78,193.64,192.49,191.11,190.3,187.71,187.48,186.14,183.42,181.48,179.8,178.91,180.92,182.27,183.96,184.39,183.12,183.29,181.72,181.91,181.15,179.31,179.95,182.71,185.47,188.52,190.43,190.65,190.84,190.71,191.05,191.27,190.93,190.8,192.33,195.93,198.66,202.27,204.83,206.05,205.96,205.62,205.79,205.09,204.86,204.36,205.49,208.14,210.39,213.01,215.14,216.01,215.86,214.98,215.35,215.54,215.93,214.56,216.59,219.17,222.12,225.31,227.36,228.44,227.87,228.19,228.31,228.76,228.62,227.64,229.28,233.36,235.68,238.54,240.67,241.87,242.48]}},\"id\":\"3c19745f-5a77-4f9a-b43b-a882da40c9fe\",\"type\":\"ColumnDataSource\"},{\"attributes\":{\"axis_label\":\"date_idx\",\"formatter\":{\"id\":\"82ed1520-3a85-4a54-bdc3-c7ae5c16c2bc\",\"type\":\"DatetimeTickFormatter\"},\"plot\":{\"id\":\"0f73edbc-e72a-45b1-a5fb-f0d814f2c8f6\",\"subtype\":\"Chart\",\"type\":\"Plot\"},\"ticker\":{\"id\":\"d3312377-3113-403f-ac10-8bb7cdd8872b\",\"type\":\"DatetimeTicker\"}},\"id\":\"93f727df-19fc-4007-9c7b-2a16b19d388d\",\"type\":\"DatetimeAxis\"},{\"attributes\":{\"plot\":{\"id\":\"0f73edbc-e72a-45b1-a5fb-f0d814f2c8f6\",\"subtype\":\"Chart\",\"type\":\"Plot\"}},\"id\":\"56808e5b-98d1-4197-9eb4-a03d44f42666\",\"type\":\"ResetTool\"},{\"attributes\":{\"plot\":null,\"text\":\"Monthly Aggregate Home Price Values in the U.S.\"},\"id\":\"46e4701e-e92a-4eac-b07c-74e7f21fb82b\",\"type\":\"Title\"},{\"attributes\":{},\"id\":\"651f5113-6d57-4e14-8ded-6d1e9a03b73e\",\"type\":\"BasicTicker\"},{\"attributes\":{\"months\":[0,1,2,3,4,5,6,7,8,9,10,11]},\"id\":\"0c0f052f-994a-4215-be83-9ec52304e4b5\",\"type\":\"MonthsTicker\"},{\"attributes\":{\"callback\":null,\"end\":256.728,\"start\":85.752},\"id\":\"ac80130e-1af8-434e-8721-904ad39f2781\",\"type\":\"Range1d\"},{\"attributes\":{\"line_color\":{\"value\":\"firebrick\"},\"line_width\":{\"value\":2},\"x\":{\"field\":\"x_values\"},\"y\":{\"field\":\"y_values\"}},\"id\":\"612b3e2a-eb6c-4c6e-ab84-1b8ca3c97eb2\",\"type\":\"Line\"}],\"root_ids\":[\"0f73edbc-e72a-45b1-a5fb-f0d814f2c8f6\"]},\"title\":\"Bokeh Application\",\"version\":\"0.12.2\"}};\n",
       "            var render_items = [{\"docid\":\"b17890a0-5409-464d-83e5-2a517e7fe7fd\",\"elementid\":\"f27a042c-7858-4210-8c23-ebecca140f80\",\"modelid\":\"0f73edbc-e72a-45b1-a5fb-f0d814f2c8f6\"}];\n",
       "            \n",
       "            Bokeh.embed.embed_items(docs_json, render_items);\n",
       "        });\n",
       "      },\n",
       "      function(Bokeh) {\n",
       "      }\n",
       "    ];\n",
       "  \n",
       "    function run_inline_js() {\n",
       "      \n",
       "      if ((window.Bokeh !== undefined) || (force === \"1\")) {\n",
       "        for (var i = 0; i < inline_js.length; i++) {\n",
       "          inline_js[i](window.Bokeh);\n",
       "        }if (force === \"1\") {\n",
       "          display_loaded();\n",
       "        }} else if (Date.now() < window._bokeh_timeout) {\n",
       "        setTimeout(run_inline_js, 100);\n",
       "      } else if (!window._bokeh_failed_load) {\n",
       "        console.log(\"Bokeh: BokehJS failed to load within specified timeout.\");\n",
       "        window._bokeh_failed_load = true;\n",
       "      } else if (!force) {\n",
       "        var cell = $(\"#f27a042c-7858-4210-8c23-ebecca140f80\").parents('.cell').data().cell;\n",
       "        cell.output_area.append_execute_result(NB_LOAD_WARNING)\n",
       "      }\n",
       "  \n",
       "    }\n",
       "  \n",
       "    if (window._bokeh_is_loading === 0) {\n",
       "      console.log(\"Bokeh: BokehJS loaded, going straight to plotting\");\n",
       "      run_inline_js();\n",
       "    } else {\n",
       "      load_libs(js_urls, function() {\n",
       "        console.log(\"Bokeh: BokehJS plotting callback run at\", now());\n",
       "        run_inline_js();\n",
       "      });\n",
       "    }\n",
       "  }(this));\n",
       "</script>"
      ]
     },
     "metadata": {},
     "output_type": "display_data"
    }
   ],
   "source": [
    "p = bokeh.charts.Line(df_us_plot, x='date_idx', y='index_nsa', color='firebrick', \n",
    "                      title=\"Monthly Aggregate Home Price Values in the U.S.\")\n",
    "\n",
    "# Display it\n",
    "bokeh.io.show(p)"
   ]
  },
  {
   "cell_type": "markdown",
   "metadata": {},
   "source": [
    "  "
   ]
  },
  {
   "cell_type": "markdown",
   "metadata": {},
   "source": [
    "#### Answer to question 1\n",
    "    Have U.S. aggregate home prices recovered their value since the Great Recession of 2008-2010?"
   ]
  },
  {
   "cell_type": "markdown",
   "metadata": {},
   "source": [
    "During the Great Recession of 2008-2010, home prices across the U.S. declined dramatically.  The aggregate U.S. home price index has recovered all of the losses since that time and have continued to experience steady growth. "
   ]
  },
  {
   "cell_type": "markdown",
   "metadata": {},
   "source": [
    "Create the DataFrame 'df_us_3' to select the rows with the values indicated below."
   ]
  },
  {
   "cell_type": "code",
   "execution_count": 26,
   "metadata": {
    "collapsed": false
   },
   "outputs": [],
   "source": [
    "df_us_3 = df_us.loc[['West South Central Division', 'United States', 'Pacific Division']]"
   ]
  },
  {
   "cell_type": "code",
   "execution_count": 27,
   "metadata": {
    "collapsed": false
   },
   "outputs": [
    {
     "name": "stdout",
     "output_type": "stream",
     "text": [
      "<class 'pandas.core.frame.DataFrame'>\n",
      "Index: 924 entries, West South Central Division to Pacific Division\n",
      "Data columns (total 9 columns):\n",
      "date_idx      924 non-null datetime64[ns]\n",
      "hpi_type      924 non-null object\n",
      "hpi_flavor    924 non-null object\n",
      "frequency     924 non-null object\n",
      "level         924 non-null object\n",
      "place_name    924 non-null object\n",
      "place_id      924 non-null object\n",
      "index_nsa     924 non-null float64\n",
      "index_sa      924 non-null float64\n",
      "dtypes: datetime64[ns](1), float64(2), object(6)\n",
      "memory usage: 72.2+ KB\n"
     ]
    }
   ],
   "source": [
    "df_us_3.info()"
   ]
  },
  {
   "cell_type": "markdown",
   "metadata": {},
   "source": [
    "  "
   ]
  },
  {
   "cell_type": "markdown",
   "metadata": {},
   "source": [
    "Plot the 3 regions using the U.S. home price index for comparison.  Rather than specify a color value for color=, specifying a column label produces multiple plots based on the the levels."
   ]
  },
  {
   "cell_type": "code",
   "execution_count": 28,
   "metadata": {
    "collapsed": false
   },
   "outputs": [
    {
     "data": {
      "text/html": [
       "\n",
       "\n",
       "    <div class=\"bk-root\">\n",
       "        <div class=\"plotdiv\" id=\"8b4e9092-3f5a-4e83-abe7-0edf62576a61\"></div>\n",
       "    </div>\n",
       "<script type=\"text/javascript\">\n",
       "  \n",
       "  (function(global) {\n",
       "    function now() {\n",
       "      return new Date();\n",
       "    }\n",
       "  \n",
       "    var force = \"\";\n",
       "  \n",
       "    if (typeof (window._bokeh_onload_callbacks) === \"undefined\" || force !== \"\") {\n",
       "      window._bokeh_onload_callbacks = [];\n",
       "      window._bokeh_is_loading = undefined;\n",
       "    }\n",
       "  \n",
       "  \n",
       "    \n",
       "    if (typeof (window._bokeh_timeout) === \"undefined\" || force !== \"\") {\n",
       "      window._bokeh_timeout = Date.now() + 0;\n",
       "      window._bokeh_failed_load = false;\n",
       "    }\n",
       "  \n",
       "    var NB_LOAD_WARNING = {'data': {'text/html':\n",
       "       \"<div style='background-color: #fdd'>\\n\"+\n",
       "       \"<p>\\n\"+\n",
       "       \"BokehJS does not appear to have successfully loaded. If loading BokehJS from CDN, this \\n\"+\n",
       "       \"may be due to a slow or bad network connection. Possible fixes:\\n\"+\n",
       "       \"</p>\\n\"+\n",
       "       \"<ul>\\n\"+\n",
       "       \"<li>re-rerun `output_notebook()` to attempt to load from CDN again, or</li>\\n\"+\n",
       "       \"<li>use INLINE resources instead, as so:</li>\\n\"+\n",
       "       \"</ul>\\n\"+\n",
       "       \"<code>\\n\"+\n",
       "       \"from bokeh.resources import INLINE\\n\"+\n",
       "       \"output_notebook(resources=INLINE)\\n\"+\n",
       "       \"</code>\\n\"+\n",
       "       \"</div>\"}};\n",
       "  \n",
       "    function display_loaded() {\n",
       "      if (window.Bokeh !== undefined) {\n",
       "        Bokeh.$(\"#8b4e9092-3f5a-4e83-abe7-0edf62576a61\").text(\"BokehJS successfully loaded.\");\n",
       "      } else if (Date.now() < window._bokeh_timeout) {\n",
       "        setTimeout(display_loaded, 100)\n",
       "      }\n",
       "    }\n",
       "  \n",
       "    function run_callbacks() {\n",
       "      window._bokeh_onload_callbacks.forEach(function(callback) { callback() });\n",
       "      delete window._bokeh_onload_callbacks\n",
       "      console.info(\"Bokeh: all callbacks have finished\");\n",
       "    }\n",
       "  \n",
       "    function load_libs(js_urls, callback) {\n",
       "      window._bokeh_onload_callbacks.push(callback);\n",
       "      if (window._bokeh_is_loading > 0) {\n",
       "        console.log(\"Bokeh: BokehJS is being loaded, scheduling callback at\", now());\n",
       "        return null;\n",
       "      }\n",
       "      if (js_urls == null || js_urls.length === 0) {\n",
       "        run_callbacks();\n",
       "        return null;\n",
       "      }\n",
       "      console.log(\"Bokeh: BokehJS not loaded, scheduling load and callback at\", now());\n",
       "      window._bokeh_is_loading = js_urls.length;\n",
       "      for (var i = 0; i < js_urls.length; i++) {\n",
       "        var url = js_urls[i];\n",
       "        var s = document.createElement('script');\n",
       "        s.src = url;\n",
       "        s.async = false;\n",
       "        s.onreadystatechange = s.onload = function() {\n",
       "          window._bokeh_is_loading--;\n",
       "          if (window._bokeh_is_loading === 0) {\n",
       "            console.log(\"Bokeh: all BokehJS libraries loaded\");\n",
       "            run_callbacks()\n",
       "          }\n",
       "        };\n",
       "        s.onerror = function() {\n",
       "          console.warn(\"failed to load library \" + url);\n",
       "        };\n",
       "        console.log(\"Bokeh: injecting script tag for BokehJS library: \", url);\n",
       "        document.getElementsByTagName(\"head\")[0].appendChild(s);\n",
       "      }\n",
       "    };var element = document.getElementById(\"8b4e9092-3f5a-4e83-abe7-0edf62576a61\");\n",
       "    if (element == null) {\n",
       "      console.log(\"Bokeh: ERROR: autoload.js configured with elementid '8b4e9092-3f5a-4e83-abe7-0edf62576a61' but no matching script tag was found. \")\n",
       "      return false;\n",
       "    }\n",
       "  \n",
       "    var js_urls = [];\n",
       "  \n",
       "    var inline_js = [\n",
       "      function(Bokeh) {\n",
       "        Bokeh.$(function() {\n",
       "            var docs_json = {\"04d694a5-7524-4b3f-8cf7-257376b4ca31\":{\"roots\":{\"references\":[{\"attributes\":{\"months\":[0,4,8]},\"id\":\"f96d9bcf-c294-4d3b-875f-5734c4951d54\",\"type\":\"MonthsTicker\"},{\"attributes\":{\"plot\":{\"id\":\"302b3ddc-9a2d-40ab-aeff-c5fc970a7ad0\",\"subtype\":\"Chart\",\"type\":\"Plot\"}},\"id\":\"5311b941-40d8-40bb-b436-1dd57c67069f\",\"type\":\"PanTool\"},{\"attributes\":{\"base\":24,\"mantissas\":[1,2,4,6,8,12],\"max_interval\":43200000.0,\"min_interval\":3600000.0,\"num_minor_ticks\":0},\"id\":\"6550697c-707e-46ae-adea-ff28b698aa15\",\"type\":\"AdaptiveTicker\"},{\"attributes\":{\"data_source\":{\"id\":\"c9464267-1e15-4ae0-aa3a-27308d911693\",\"type\":\"ColumnDataSource\"},\"glyph\":{\"id\":\"d2d380d3-c454-42b5-bb48-87ab56a97f9b\",\"type\":\"Line\"},\"hover_glyph\":null,\"nonselection_glyph\":null,\"selection_glyph\":null},\"id\":\"998981bc-1e24-4e21-b511-494b888a57ea\",\"type\":\"GlyphRenderer\"},{\"attributes\":{\"below\":[{\"id\":\"ba83cb05-f6df-4e8f-947c-d889cc96517a\",\"type\":\"DatetimeAxis\"}],\"left\":[{\"id\":\"393a3346-95e7-4557-b01b-f818631b7e1f\",\"type\":\"LinearAxis\"}],\"renderers\":[{\"id\":\"940f624a-7265-4ae3-ab27-65e093a44c86\",\"type\":\"BoxAnnotation\"},{\"id\":\"f1b68d9f-8e31-4b35-8776-61c759425879\",\"type\":\"GlyphRenderer\"},{\"id\":\"998981bc-1e24-4e21-b511-494b888a57ea\",\"type\":\"GlyphRenderer\"},{\"id\":\"1916fda8-4dd5-4388-9f8c-f0ec11021cbf\",\"type\":\"GlyphRenderer\"},{\"id\":\"7b018c0f-972e-49a4-8cfc-354132d0aaf1\",\"type\":\"Legend\"},{\"id\":\"ba83cb05-f6df-4e8f-947c-d889cc96517a\",\"type\":\"DatetimeAxis\"},{\"id\":\"393a3346-95e7-4557-b01b-f818631b7e1f\",\"type\":\"LinearAxis\"},{\"id\":\"6d088fee-19f0-4aea-bc44-d03e1c8c6614\",\"type\":\"Grid\"},{\"id\":\"731ed67b-49ee-43ab-92ef-b458b7daf579\",\"type\":\"Grid\"}],\"title\":{\"id\":\"d5176f26-9b38-4b13-8c23-486385620e0d\",\"type\":\"Title\"},\"tool_events\":{\"id\":\"639132e6-84cf-4764-939a-3a15e4fd858d\",\"type\":\"ToolEvents\"},\"toolbar\":{\"id\":\"a91ca940-4002-4ef5-a277-2047eb8745e4\",\"type\":\"Toolbar\"},\"x_mapper_type\":\"auto\",\"x_range\":{\"id\":\"c3c67946-83b5-4e12-b5ed-a4ab36833323\",\"type\":\"Range1d\"},\"y_mapper_type\":\"auto\",\"y_range\":{\"id\":\"7b8a3cef-8ccf-45ca-9eea-21b8f12d4c42\",\"type\":\"Range1d\"}},\"id\":\"302b3ddc-9a2d-40ab-aeff-c5fc970a7ad0\",\"subtype\":\"Chart\",\"type\":\"Plot\"},{\"attributes\":{\"days\":[1,15]},\"id\":\"7ce26c65-8d12-4e32-b96f-00fb9599250b\",\"type\":\"DaysTicker\"},{\"attributes\":{\"months\":[0,6]},\"id\":\"0b985ec0-a2c6-4251-b5a1-57f007cde3c5\",\"type\":\"MonthsTicker\"},{\"attributes\":{\"callback\":null,\"end\":303.973,\"start\":76.297},\"id\":\"7b8a3cef-8ccf-45ca-9eea-21b8f12d4c42\",\"type\":\"Range1d\"},{\"attributes\":{\"max_interval\":500.0,\"num_minor_ticks\":0},\"id\":\"b215d018-605c-490f-a124-e7268727677a\",\"type\":\"AdaptiveTicker\"},{\"attributes\":{\"plot\":null,\"text\":\"Monthly Home Price in West South Central and Pacific Division compared to U.S.\"},\"id\":\"d5176f26-9b38-4b13-8c23-486385620e0d\",\"type\":\"Title\"},{\"attributes\":{\"days\":[1,4,7,10,13,16,19,22,25,28]},\"id\":\"13782ee0-17c7-4364-865a-aa22b0468c6d\",\"type\":\"DaysTicker\"},{\"attributes\":{\"overlay\":{\"id\":\"940f624a-7265-4ae3-ab27-65e093a44c86\",\"type\":\"BoxAnnotation\"},\"plot\":{\"id\":\"302b3ddc-9a2d-40ab-aeff-c5fc970a7ad0\",\"subtype\":\"Chart\",\"type\":\"Plot\"}},\"id\":\"8c54e228-bdfb-4285-9a01-b91d6f4c0174\",\"type\":\"BoxZoomTool\"},{\"attributes\":{\"data_source\":{\"id\":\"50124e9d-bd43-43ed-9eb3-1f78e8d70b29\",\"type\":\"ColumnDataSource\"},\"glyph\":{\"id\":\"0aa41154-a25e-4e66-a965-c13e74a6faba\",\"type\":\"Line\"},\"hover_glyph\":null,\"nonselection_glyph\":null,\"selection_glyph\":null},\"id\":\"1916fda8-4dd5-4388-9f8c-f0ec11021cbf\",\"type\":\"GlyphRenderer\"},{\"attributes\":{},\"id\":\"2a729eeb-f567-4bfa-bdc9-880cef0f6742\",\"type\":\"BasicTicker\"},{\"attributes\":{},\"id\":\"4c98c88e-a7d5-4d3b-a844-a475653bbdcf\",\"type\":\"DatetimeTickFormatter\"},{\"attributes\":{\"callback\":null,\"column_names\":[\"x_values\",\"y_values\"],\"data\":{\"chart_index\":[{\"place_name\":\"West South Central Division\"},{\"place_name\":\"West South Central Division\"},{\"place_name\":\"West South Central Division\"},{\"place_name\":\"West South Central Division\"},{\"place_name\":\"West South Central Division\"},{\"place_name\":\"West South Central Division\"},{\"place_name\":\"West South Central Division\"},{\"place_name\":\"West South Central Division\"},{\"place_name\":\"West South Central Division\"},{\"place_name\":\"West South Central Division\"},{\"place_name\":\"West South Central Division\"},{\"place_name\":\"West South Central Division\"},{\"place_name\":\"West South Central Division\"},{\"place_name\":\"West South Central Division\"},{\"place_name\":\"West South Central Division\"},{\"place_name\":\"West South Central Division\"},{\"place_name\":\"West South Central Division\"},{\"place_name\":\"West South Central Division\"},{\"place_name\":\"West South Central Division\"},{\"place_name\":\"West South Central Division\"},{\"place_name\":\"West South Central Division\"},{\"place_name\":\"West South Central Division\"},{\"place_name\":\"West South Central Division\"},{\"place_name\":\"West South Central Division\"},{\"place_name\":\"West South Central Division\"},{\"place_name\":\"West South Central Division\"},{\"place_name\":\"West South Central Division\"},{\"place_name\":\"West South Central Division\"},{\"place_name\":\"West South Central Division\"},{\"place_name\":\"West South Central Division\"},{\"place_name\":\"West South Central Division\"},{\"place_name\":\"West South Central Division\"},{\"place_name\":\"West South Central Division\"},{\"place_name\":\"West South Central Division\"},{\"place_name\":\"West South Central Division\"},{\"place_name\":\"West South Central Division\"},{\"place_name\":\"West South Central Division\"},{\"place_name\":\"West South Central Division\"},{\"place_name\":\"West South Central Division\"},{\"place_name\":\"West South Central Division\"},{\"place_name\":\"West South Central Division\"},{\"place_name\":\"West South Central Division\"},{\"place_name\":\"West South Central Division\"},{\"place_name\":\"West South Central Division\"},{\"place_name\":\"West South Central Division\"},{\"place_name\":\"West South Central Division\"},{\"place_name\":\"West South Central Division\"},{\"place_name\":\"West South Central Division\"},{\"place_name\":\"West South Central Division\"},{\"place_name\":\"West South Central Division\"},{\"place_name\":\"West South Central Division\"},{\"place_name\":\"West South Central Division\"},{\"place_name\":\"West South Central Division\"},{\"place_name\":\"West South Central Division\"},{\"place_name\":\"West South Central Division\"},{\"place_name\":\"West South Central Division\"},{\"place_name\":\"West South Central Division\"},{\"place_name\":\"West South Central Division\"},{\"place_name\":\"West South Central Division\"},{\"place_name\":\"West South Central Division\"},{\"place_name\":\"West South Central Division\"},{\"place_name\":\"West South Central Division\"},{\"place_name\":\"West South Central Division\"},{\"place_name\":\"West South Central Division\"},{\"place_name\":\"West South Central Division\"},{\"place_name\":\"West South Central Division\"},{\"place_name\":\"West South Central Division\"},{\"place_name\":\"West South Central Division\"},{\"place_name\":\"West South Central Division\"},{\"place_name\":\"West South Central Division\"},{\"place_name\":\"West South Central Division\"},{\"place_name\":\"West South Central Division\"},{\"place_name\":\"West South Central Division\"},{\"place_name\":\"West South Central Division\"},{\"place_name\":\"West South Central Division\"},{\"place_name\":\"West South Central Division\"},{\"place_name\":\"West South Central Division\"},{\"place_name\":\"West South Central Division\"},{\"place_name\":\"West South Central Division\"},{\"place_name\":\"West South Central Division\"},{\"place_name\":\"West South Central Division\"},{\"place_name\":\"West South Central Division\"},{\"place_name\":\"West South Central Division\"},{\"place_name\":\"West South Central Division\"},{\"place_name\":\"West South Central Division\"},{\"place_name\":\"West South Central Division\"},{\"place_name\":\"West South Central Division\"},{\"place_name\":\"West South Central Division\"},{\"place_name\":\"West South Central Division\"},{\"place_name\":\"West South Central Division\"},{\"place_name\":\"West South Central Division\"},{\"place_name\":\"West South Central Division\"},{\"place_name\":\"West South Central Division\"},{\"place_name\":\"West South Central Division\"},{\"place_name\":\"West South Central Division\"},{\"place_name\":\"West South Central Division\"},{\"place_name\":\"West South Central Division\"},{\"place_name\":\"West South Central Division\"},{\"place_name\":\"West South Central Division\"},{\"place_name\":\"West South Central Division\"},{\"place_name\":\"West South Central Division\"},{\"place_name\":\"West South Central Division\"},{\"place_name\":\"West South Central Division\"},{\"place_name\":\"West South Central Division\"},{\"place_name\":\"West South Central Division\"},{\"place_name\":\"West South Central Division\"},{\"place_name\":\"West South Central Division\"},{\"place_name\":\"West South Central Division\"},{\"place_name\":\"West South Central Division\"},{\"place_name\":\"West South Central Division\"},{\"place_name\":\"West South Central Division\"},{\"place_name\":\"West South Central Division\"},{\"place_name\":\"West South Central Division\"},{\"place_name\":\"West South Central Division\"},{\"place_name\":\"West South Central Division\"},{\"place_name\":\"West South Central Division\"},{\"place_name\":\"West South Central Division\"},{\"place_name\":\"West South Central Division\"},{\"place_name\":\"West South Central Division\"},{\"place_name\":\"West South Central Division\"},{\"place_name\":\"West South Central Division\"},{\"place_name\":\"West South Central Division\"},{\"place_name\":\"West South Central Division\"},{\"place_name\":\"West South Central Division\"},{\"place_name\":\"West South Central Division\"},{\"place_name\":\"West South Central Division\"},{\"place_name\":\"West South Central Division\"},{\"place_name\":\"West South Central Division\"},{\"place_name\":\"West South Central Division\"},{\"place_name\":\"West South Central Division\"},{\"place_name\":\"West South Central Division\"},{\"place_name\":\"West South Central Division\"},{\"place_name\":\"West South Central Division\"},{\"place_name\":\"West South Central Division\"},{\"place_name\":\"West South Central Division\"},{\"place_name\":\"West South Central Division\"},{\"place_name\":\"West South Central Division\"},{\"place_name\":\"West South Central Division\"},{\"place_name\":\"West South Central Division\"},{\"place_name\":\"West South Central Division\"},{\"place_name\":\"West South Central Division\"},{\"place_name\":\"West South Central Division\"},{\"place_name\":\"West South Central Division\"},{\"place_name\":\"West South Central Division\"},{\"place_name\":\"West South Central Division\"},{\"place_name\":\"West South Central Division\"},{\"place_name\":\"West South Central Division\"},{\"place_name\":\"West South Central Division\"},{\"place_name\":\"West South Central Division\"},{\"place_name\":\"West South Central Division\"},{\"place_name\":\"West South Central Division\"},{\"place_name\":\"West South Central Division\"},{\"place_name\":\"West South Central Division\"},{\"place_name\":\"West South Central Division\"},{\"place_name\":\"West South Central Division\"},{\"place_name\":\"West South Central Division\"},{\"place_name\":\"West South Central Division\"},{\"place_name\":\"West South Central Division\"},{\"place_name\":\"West South Central Division\"},{\"place_name\":\"West South Central Division\"},{\"place_name\":\"West South Central Division\"},{\"place_name\":\"West South Central Division\"},{\"place_name\":\"West South Central Division\"},{\"place_name\":\"West South Central Division\"},{\"place_name\":\"West South Central Division\"},{\"place_name\":\"West South Central Division\"},{\"place_name\":\"West South Central Division\"},{\"place_name\":\"West South Central Division\"},{\"place_name\":\"West South Central Division\"},{\"place_name\":\"West South Central Division\"},{\"place_name\":\"West South Central Division\"},{\"place_name\":\"West South Central Division\"},{\"place_name\":\"West South Central Division\"},{\"place_name\":\"West South Central Division\"},{\"place_name\":\"West South Central Division\"},{\"place_name\":\"West South Central Division\"},{\"place_name\":\"West South Central Division\"},{\"place_name\":\"West South Central Division\"},{\"place_name\":\"West South Central Division\"},{\"place_name\":\"West South Central Division\"},{\"place_name\":\"West South Central Division\"},{\"place_name\":\"West South Central Division\"},{\"place_name\":\"West South Central Division\"},{\"place_name\":\"West South Central Division\"},{\"place_name\":\"West South Central Division\"},{\"place_name\":\"West South Central Division\"},{\"place_name\":\"West South Central Division\"},{\"place_name\":\"West South Central Division\"},{\"place_name\":\"West South Central Division\"},{\"place_name\":\"West South Central Division\"},{\"place_name\":\"West South Central Division\"},{\"place_name\":\"West South Central Division\"},{\"place_name\":\"West South Central Division\"},{\"place_name\":\"West South Central Division\"},{\"place_name\":\"West South Central Division\"},{\"place_name\":\"West South Central Division\"},{\"place_name\":\"West South Central Division\"},{\"place_name\":\"West South Central Division\"},{\"place_name\":\"West South Central Division\"},{\"place_name\":\"West South Central Division\"},{\"place_name\":\"West South Central Division\"},{\"place_name\":\"West South Central Division\"},{\"place_name\":\"West South Central Division\"},{\"place_name\":\"West South Central Division\"},{\"place_name\":\"West South Central Division\"},{\"place_name\":\"West South Central Division\"},{\"place_name\":\"West South Central Division\"},{\"place_name\":\"West South Central Division\"},{\"place_name\":\"West South Central Division\"},{\"place_name\":\"West South Central Division\"},{\"place_name\":\"West South Central Division\"},{\"place_name\":\"West South Central Division\"},{\"place_name\":\"West South Central Division\"},{\"place_name\":\"West South Central Division\"},{\"place_name\":\"West South Central Division\"},{\"place_name\":\"West South Central Division\"},{\"place_name\":\"West South Central Division\"},{\"place_name\":\"West South Central Division\"},{\"place_name\":\"West South Central Division\"},{\"place_name\":\"West South Central Division\"},{\"place_name\":\"West South Central Division\"},{\"place_name\":\"West South Central Division\"},{\"place_name\":\"West South Central Division\"},{\"place_name\":\"West South Central Division\"},{\"place_name\":\"West South Central Division\"},{\"place_name\":\"West South Central Division\"},{\"place_name\":\"West South Central Division\"},{\"place_name\":\"West South Central Division\"},{\"place_name\":\"West South Central Division\"},{\"place_name\":\"West South Central Division\"},{\"place_name\":\"West South Central Division\"},{\"place_name\":\"West South Central Division\"},{\"place_name\":\"West South Central Division\"},{\"place_name\":\"West South Central Division\"},{\"place_name\":\"West South Central Division\"},{\"place_name\":\"West South Central Division\"},{\"place_name\":\"West South Central Division\"},{\"place_name\":\"West South Central Division\"},{\"place_name\":\"West South Central Division\"},{\"place_name\":\"West South Central Division\"},{\"place_name\":\"West South Central Division\"},{\"place_name\":\"West South Central Division\"},{\"place_name\":\"West South Central Division\"},{\"place_name\":\"West South Central Division\"},{\"place_name\":\"West South Central Division\"},{\"place_name\":\"West South Central Division\"},{\"place_name\":\"West South Central Division\"},{\"place_name\":\"West South Central Division\"},{\"place_name\":\"West South Central Division\"},{\"place_name\":\"West South Central Division\"},{\"place_name\":\"West South Central Division\"},{\"place_name\":\"West South Central Division\"},{\"place_name\":\"West South Central Division\"},{\"place_name\":\"West South Central Division\"},{\"place_name\":\"West South Central Division\"},{\"place_name\":\"West South Central Division\"},{\"place_name\":\"West South Central Division\"},{\"place_name\":\"West South Central Division\"},{\"place_name\":\"West South Central Division\"},{\"place_name\":\"West South Central Division\"},{\"place_name\":\"West South Central Division\"},{\"place_name\":\"West South Central Division\"},{\"place_name\":\"West South Central Division\"},{\"place_name\":\"West South Central Division\"},{\"place_name\":\"West South Central Division\"},{\"place_name\":\"West South Central Division\"},{\"place_name\":\"West South Central Division\"},{\"place_name\":\"West South Central Division\"},{\"place_name\":\"West South Central Division\"},{\"place_name\":\"West South Central Division\"},{\"place_name\":\"West South Central Division\"},{\"place_name\":\"West South Central Division\"},{\"place_name\":\"West South Central Division\"},{\"place_name\":\"West South Central Division\"},{\"place_name\":\"West South Central Division\"},{\"place_name\":\"West South Central Division\"},{\"place_name\":\"West South Central Division\"},{\"place_name\":\"West South Central Division\"},{\"place_name\":\"West South Central Division\"},{\"place_name\":\"West South Central Division\"},{\"place_name\":\"West South Central Division\"},{\"place_name\":\"West South Central Division\"},{\"place_name\":\"West South Central Division\"},{\"place_name\":\"West South Central Division\"},{\"place_name\":\"West South Central Division\"},{\"place_name\":\"West South Central Division\"},{\"place_name\":\"West South Central Division\"},{\"place_name\":\"West South Central Division\"},{\"place_name\":\"West South Central Division\"},{\"place_name\":\"West South Central Division\"},{\"place_name\":\"West South Central Division\"},{\"place_name\":\"West South Central Division\"},{\"place_name\":\"West South Central Division\"},{\"place_name\":\"West South Central Division\"},{\"place_name\":\"West South Central Division\"},{\"place_name\":\"West South Central Division\"},{\"place_name\":\"West South Central Division\"},{\"place_name\":\"West South Central Division\"},{\"place_name\":\"West South Central Division\"},{\"place_name\":\"West South Central Division\"},{\"place_name\":\"West South Central Division\"},{\"place_name\":\"West South Central Division\"},{\"place_name\":\"West South Central Division\"},{\"place_name\":\"West South Central Division\"},{\"place_name\":\"West South Central Division\"},{\"place_name\":\"West South Central Division\"},{\"place_name\":\"West South Central Division\"},{\"place_name\":\"West South Central Division\"}],\"place_name\":[\"West South Central Division\",\"West South Central Division\",\"West South Central Division\",\"West South Central Division\",\"West South Central Division\",\"West South Central Division\",\"West South Central Division\",\"West South Central Division\",\"West South Central Division\",\"West South Central Division\",\"West South Central Division\",\"West South Central Division\",\"West South Central Division\",\"West South Central Division\",\"West South Central Division\",\"West South Central Division\",\"West South Central Division\",\"West South Central Division\",\"West South Central Division\",\"West South Central Division\",\"West South Central Division\",\"West South Central Division\",\"West South Central Division\",\"West South Central Division\",\"West South Central Division\",\"West South Central Division\",\"West South Central Division\",\"West South Central Division\",\"West South Central Division\",\"West South Central Division\",\"West South Central Division\",\"West South Central Division\",\"West South Central Division\",\"West South Central Division\",\"West South Central Division\",\"West South Central Division\",\"West South Central Division\",\"West South Central Division\",\"West South Central Division\",\"West South Central Division\",\"West South Central Division\",\"West South Central Division\",\"West South Central Division\",\"West South Central Division\",\"West South Central Division\",\"West South Central Division\",\"West South Central Division\",\"West South Central Division\",\"West South Central Division\",\"West South Central Division\",\"West South Central Division\",\"West South Central Division\",\"West South Central Division\",\"West South Central Division\",\"West South Central Division\",\"West South Central Division\",\"West South Central Division\",\"West South Central Division\",\"West South Central Division\",\"West South Central Division\",\"West South Central Division\",\"West South Central Division\",\"West South Central Division\",\"West South Central Division\",\"West South Central Division\",\"West South Central Division\",\"West South Central Division\",\"West South Central Division\",\"West South Central Division\",\"West South Central Division\",\"West South Central Division\",\"West South Central Division\",\"West South Central Division\",\"West South Central Division\",\"West South Central Division\",\"West South Central Division\",\"West South Central Division\",\"West South Central Division\",\"West South Central Division\",\"West South Central Division\",\"West South Central Division\",\"West South Central Division\",\"West South Central Division\",\"West South Central Division\",\"West South Central Division\",\"West South Central Division\",\"West South Central Division\",\"West South Central Division\",\"West South Central Division\",\"West South Central Division\",\"West South Central Division\",\"West South Central Division\",\"West South Central Division\",\"West South Central Division\",\"West South Central Division\",\"West South Central Division\",\"West South Central Division\",\"West South Central Division\",\"West South Central Division\",\"West South Central Division\",\"West South Central Division\",\"West South Central Division\",\"West South Central Division\",\"West South Central Division\",\"West South Central Division\",\"West South Central Division\",\"West South Central Division\",\"West South Central Division\",\"West South Central Division\",\"West South Central Division\",\"West South Central Division\",\"West South Central Division\",\"West South Central Division\",\"West South Central Division\",\"West South Central Division\",\"West South Central Division\",\"West South Central Division\",\"West South Central Division\",\"West South Central Division\",\"West South Central Division\",\"West South Central Division\",\"West South Central Division\",\"West South Central Division\",\"West South Central Division\",\"West South Central Division\",\"West South Central Division\",\"West South Central Division\",\"West South Central Division\",\"West South Central Division\",\"West South Central Division\",\"West South Central Division\",\"West South Central Division\",\"West South Central Division\",\"West South Central Division\",\"West South Central Division\",\"West South Central Division\",\"West South Central Division\",\"West South Central Division\",\"West South Central Division\",\"West South Central Division\",\"West South Central Division\",\"West South Central Division\",\"West South Central Division\",\"West South Central Division\",\"West South Central Division\",\"West South Central Division\",\"West South Central Division\",\"West South Central Division\",\"West South Central Division\",\"West South Central Division\",\"West South Central Division\",\"West South Central Division\",\"West South Central Division\",\"West South Central Division\",\"West South Central Division\",\"West South Central Division\",\"West South Central Division\",\"West South Central Division\",\"West South Central Division\",\"West South Central Division\",\"West South Central Division\",\"West South Central Division\",\"West South Central Division\",\"West South Central Division\",\"West South Central Division\",\"West South Central Division\",\"West South Central Division\",\"West South Central Division\",\"West South Central Division\",\"West South Central Division\",\"West South Central Division\",\"West South Central Division\",\"West South Central Division\",\"West South Central Division\",\"West South Central Division\",\"West South Central Division\",\"West South Central Division\",\"West South Central Division\",\"West South Central Division\",\"West South Central Division\",\"West South Central Division\",\"West South Central Division\",\"West South Central Division\",\"West South Central Division\",\"West South Central Division\",\"West South Central Division\",\"West South Central Division\",\"West South Central Division\",\"West South Central Division\",\"West South Central Division\",\"West South Central Division\",\"West South Central Division\",\"West South Central Division\",\"West South Central Division\",\"West South Central Division\",\"West South Central Division\",\"West South Central Division\",\"West South Central Division\",\"West South Central Division\",\"West South Central Division\",\"West South Central Division\",\"West South Central Division\",\"West South Central Division\",\"West South Central Division\",\"West South Central Division\",\"West South Central Division\",\"West South Central Division\",\"West South Central Division\",\"West South Central Division\",\"West South Central Division\",\"West South Central Division\",\"West South Central Division\",\"West South Central Division\",\"West South Central Division\",\"West South Central Division\",\"West South Central Division\",\"West South Central Division\",\"West South Central Division\",\"West South Central Division\",\"West South Central Division\",\"West South Central Division\",\"West South Central Division\",\"West South Central Division\",\"West South Central Division\",\"West South Central Division\",\"West South Central Division\",\"West South Central Division\",\"West South Central Division\",\"West South Central Division\",\"West South Central Division\",\"West South Central Division\",\"West South Central Division\",\"West South Central Division\",\"West South Central Division\",\"West South Central Division\",\"West South Central Division\",\"West South Central Division\",\"West South Central Division\",\"West South Central Division\",\"West South Central Division\",\"West South Central Division\",\"West South Central Division\",\"West South Central Division\",\"West South Central Division\",\"West South Central Division\",\"West South Central Division\",\"West South Central Division\",\"West South Central Division\",\"West South Central Division\",\"West South Central Division\",\"West South Central Division\",\"West South Central Division\",\"West South Central Division\",\"West South Central Division\",\"West South Central Division\",\"West South Central Division\",\"West South Central Division\",\"West South Central Division\",\"West South Central Division\",\"West South Central Division\",\"West South Central Division\",\"West South Central Division\",\"West South Central Division\",\"West South Central Division\",\"West South Central Division\",\"West South Central Division\",\"West South Central Division\",\"West South Central Division\",\"West South Central Division\",\"West South Central Division\",\"West South Central Division\",\"West South Central Division\",\"West South Central Division\",\"West South Central Division\",\"West South Central Division\",\"West South Central Division\",\"West South Central Division\",\"West South Central Division\",\"West South Central Division\",\"West South Central Division\",\"West South Central Division\",\"West South Central Division\",\"West South Central Division\",\"West South Central Division\",\"West South Central Division\",\"West South Central Division\",\"West South Central Division\",\"West South Central Division\",\"West South Central Division\",\"West South Central Division\",\"West South Central Division\",\"West South Central Division\",\"West South Central Division\",\"West South Central Division\",\"West South Central Division\",\"West South Central Division\",\"West South Central Division\",\"West South Central Division\",\"West South Central Division\",\"West South Central Division\",\"West South Central Division\",\"West South Central Division\",\"West South Central Division\",\"West South Central Division\",\"West South Central Division\",\"West South Central Division\",\"West South Central Division\",\"West South Central Division\"],\"x_values\":[662688000000.0,665366400000.0,667785600000.0,670464000000.0,673056000000.0,675734400000.0,678326400000.0,681004800000.0,683683200000.0,686275200000.0,688953600000.0,691545600000.0,694224000000.0,696902400000.0,699408000000.0,702086400000.0,704678400000.0,707356800000.0,709948800000.0,712627200000.0,715305600000.0,717897600000.0,720576000000.0,723168000000.0,725846400000.0,728524800000.0,730944000000.0,733622400000.0,736214400000.0,738892800000.0,741484800000.0,744163200000.0,746841600000.0,749433600000.0,752112000000.0,754704000000.0,757382400000.0,760060800000.0,762480000000.0,765158400000.0,767750400000.0,770428800000.0,773020800000.0,775699200000.0,778377600000.0,780969600000.0,783648000000.0,786240000000.0,788918400000.0,791596800000.0,794016000000.0,796694400000.0,799286400000.0,801964800000.0,804556800000.0,807235200000.0,809913600000.0,812505600000.0,815184000000.0,817776000000.0,820454400000.0,823132800000.0,825638400000.0,828316800000.0,830908800000.0,833587200000.0,836179200000.0,838857600000.0,841536000000.0,844128000000.0,846806400000.0,849398400000.0,852076800000.0,854755200000.0,857174400000.0,859852800000.0,862444800000.0,865123200000.0,867715200000.0,870393600000.0,873072000000.0,875664000000.0,878342400000.0,880934400000.0,883612800000.0,886291200000.0,888710400000.0,891388800000.0,893980800000.0,896659200000.0,899251200000.0,901929600000.0,904608000000.0,907200000000.0,909878400000.0,912470400000.0,915148800000.0,917827200000.0,920246400000.0,922924800000.0,925516800000.0,928195200000.0,930787200000.0,933465600000.0,936144000000.0,938736000000.0,941414400000.0,944006400000.0,946684800000.0,949363200000.0,951868800000.0,954547200000.0,957139200000.0,959817600000.0,962409600000.0,965088000000.0,967766400000.0,970358400000.0,973036800000.0,975628800000.0,978307200000.0,980985600000.0,983404800000.0,986083200000.0,988675200000.0,991353600000.0,993945600000.0,996624000000.0,999302400000.0,1001894400000.0,1004572800000.0,1007164800000.0,1009843200000.0,1012521600000.0,1014940800000.0,1017619200000.0,1020211200000.0,1022889600000.0,1025481600000.0,1028160000000.0,1030838400000.0,1033430400000.0,1036108800000.0,1038700800000.0,1041379200000.0,1044057600000.0,1046476800000.0,1049155200000.0,1051747200000.0,1054425600000.0,1057017600000.0,1059696000000.0,1062374400000.0,1064966400000.0,1067644800000.0,1070236800000.0,1072915200000.0,1075593600000.0,1078099200000.0,1080777600000.0,1083369600000.0,1086048000000.0,1088640000000.0,1091318400000.0,1093996800000.0,1096588800000.0,1099267200000.0,1101859200000.0,1104537600000.0,1107216000000.0,1109635200000.0,1112313600000.0,1114905600000.0,1117584000000.0,1120176000000.0,1122854400000.0,1125532800000.0,1128124800000.0,1130803200000.0,1133395200000.0,1136073600000.0,1138752000000.0,1141171200000.0,1143849600000.0,1146441600000.0,1149120000000.0,1151712000000.0,1154390400000.0,1157068800000.0,1159660800000.0,1162339200000.0,1164931200000.0,1167609600000.0,1170288000000.0,1172707200000.0,1175385600000.0,1177977600000.0,1180656000000.0,1183248000000.0,1185926400000.0,1188604800000.0,1191196800000.0,1193875200000.0,1196467200000.0,1199145600000.0,1201824000000.0,1204329600000.0,1207008000000.0,1209600000000.0,1212278400000.0,1214870400000.0,1217548800000.0,1220227200000.0,1222819200000.0,1225497600000.0,1228089600000.0,1230768000000.0,1233446400000.0,1235865600000.0,1238544000000.0,1241136000000.0,1243814400000.0,1246406400000.0,1249084800000.0,1251763200000.0,1254355200000.0,1257033600000.0,1259625600000.0,1262304000000.0,1264982400000.0,1267401600000.0,1270080000000.0,1272672000000.0,1275350400000.0,1277942400000.0,1280620800000.0,1283299200000.0,1285891200000.0,1288569600000.0,1291161600000.0,1293840000000.0,1296518400000.0,1298937600000.0,1301616000000.0,1304208000000.0,1306886400000.0,1309478400000.0,1312156800000.0,1314835200000.0,1317427200000.0,1320105600000.0,1322697600000.0,1325376000000.0,1328054400000.0,1330560000000.0,1333238400000.0,1335830400000.0,1338508800000.0,1341100800000.0,1343779200000.0,1346457600000.0,1349049600000.0,1351728000000.0,1354320000000.0,1356998400000.0,1359676800000.0,1362096000000.0,1364774400000.0,1367366400000.0,1370044800000.0,1372636800000.0,1375315200000.0,1377993600000.0,1380585600000.0,1383264000000.0,1385856000000.0,1388534400000.0,1391212800000.0,1393632000000.0,1396310400000.0,1398902400000.0,1401580800000.0,1404172800000.0,1406851200000.0,1409529600000.0,1412121600000.0,1414800000000.0,1417392000000.0,1420070400000.0,1422748800000.0,1425168000000.0,1427846400000.0,1430438400000.0,1433116800000.0,1435708800000.0,1438387200000.0,1441065600000.0,1443657600000.0,1446336000000.0,1448928000000.0,1451606400000.0,1454284800000.0,1456790400000.0,1459468800000.0,1462060800000.0,1464739200000.0,1467331200000.0,1470009600000.0],\"y_values\":[100.0,100.03,100.89,100.53,100.98,102.17,101.85,101.61,102.28,101.44,102.09,102.19,102.47,103.53,102.85,103.19,103.3,104.25,104.37,105.1,104.99,105.72,106.45,105.44,105.5,105.81,106.6,107.08,107.89,108.82,109.34,109.62,109.65,110.54,110.72,111.02,110.77,111.48,112.51,112.5,113.72,113.94,113.75,114.29,114.08,114.42,114.37,114.35,114.31,114.62,114.62,115.9,116.32,116.4,117.17,117.48,117.77,117.61,117.89,118.4,117.83,118.48,118.87,119.22,120.05,120.76,120.52,120.87,120.79,120.52,120.82,120.98,120.41,121.19,121.64,122.16,123.27,123.46,123.59,123.68,123.67,124.07,124.7,124.63,125.22,125.86,126.44,127.02,128.15,128.98,129.93,130.36,130.47,130.8,131.15,132.01,131.93,132.51,133.17,134.65,135.4,136.2,137.19,137.73,137.4,138.25,138.6,138.77,139.63,139.77,141.4,142.7,143.38,144.21,145.01,145.4,145.61,145.99,146.54,146.12,146.16,148.02,148.34,150.04,149.99,150.85,151.81,151.47,152.05,152.33,151.85,152.14,151.36,152.59,154.25,155.0,155.77,156.31,156.56,156.82,157.13,157.54,157.49,157.94,157.7,158.35,159.15,159.99,160.88,161.14,161.58,162.51,162.89,162.24,162.36,163.03,162.32,163.47,165.51,166.31,167.04,168.25,168.03,168.9,169.17,169.08,170.15,169.92,170.13,171.05,172.77,173.89,175.73,177.11,178.09,178.42,179.1,180.84,180.99,181.76,182.34,183.73,185.24,185.77,188.66,189.47,190.11,191.29,191.54,192.2,192.47,192.41,193.57,194.25,196.02,196.9,198.53,199.3,199.73,200.51,199.24,199.27,198.4,198.42,196.77,197.1,197.04,198.21,198.73,200.68,200.03,198.17,199.31,196.99,192.94,193.5,192.74,195.1,195.53,195.77,197.51,200.41,198.17,197.71,196.18,198.38,196.21,195.24,194.98,194.21,195.51,197.71,200.23,198.59,198.06,197.7,194.4,193.5,192.84,190.56,191.08,189.81,190.69,193.02,193.56,197.02,194.47,193.5,193.66,193.29,194.86,193.91,191.16,193.94,197.62,199.96,201.02,202.52,203.79,203.29,203.24,203.8,204.67,202.57,204.57,205.78,209.12,211.17,213.86,215.78,215.31,214.74,214.78,215.12,215.08,216.99,216.2,217.78,222.29,222.37,224.68,225.38,227.5,227.75,227.73,227.04,229.22,229.3,229.81,231.67,233.5,236.28,240.76,241.46,242.97,242.75,242.78,243.15,243.22,243.39,242.38,244.93,250.05,251.23,254.51,255.81,257.53,257.26]}},\"id\":\"53c9efb0-8214-4193-ae20-5fce94fc91ba\",\"type\":\"ColumnDataSource\"},{\"attributes\":{\"months\":[0,2,4,6,8,10]},\"id\":\"ab1b044e-f355-4719-8806-822b82558f08\",\"type\":\"MonthsTicker\"},{\"attributes\":{\"plot\":{\"id\":\"302b3ddc-9a2d-40ab-aeff-c5fc970a7ad0\",\"subtype\":\"Chart\",\"type\":\"Plot\"}},\"id\":\"cb5810c5-fb65-40f8-9e65-8962de423813\",\"type\":\"HelpTool\"},{\"attributes\":{\"base\":60,\"mantissas\":[1,2,5,10,15,20,30],\"max_interval\":1800000.0,\"min_interval\":1000.0,\"num_minor_ticks\":0},\"id\":\"5d44b45b-36a9-4dcd-bab1-6e7bbae2a0fd\",\"type\":\"AdaptiveTicker\"},{\"attributes\":{\"dimension\":1,\"plot\":{\"id\":\"302b3ddc-9a2d-40ab-aeff-c5fc970a7ad0\",\"subtype\":\"Chart\",\"type\":\"Plot\"},\"ticker\":{\"id\":\"2a729eeb-f567-4bfa-bdc9-880cef0f6742\",\"type\":\"BasicTicker\"}},\"id\":\"731ed67b-49ee-43ab-92ef-b458b7daf579\",\"type\":\"Grid\"},{\"attributes\":{\"plot\":{\"id\":\"302b3ddc-9a2d-40ab-aeff-c5fc970a7ad0\",\"subtype\":\"Chart\",\"type\":\"Plot\"},\"ticker\":{\"id\":\"818852f6-2cac-4ee7-bca4-75865925b44b\",\"type\":\"DatetimeTicker\"}},\"id\":\"6d088fee-19f0-4aea-bc44-d03e1c8c6614\",\"type\":\"Grid\"},{\"attributes\":{},\"id\":\"639132e6-84cf-4764-939a-3a15e4fd858d\",\"type\":\"ToolEvents\"},{\"attributes\":{\"days\":[1,8,15,22]},\"id\":\"cf18a1b5-a889-4628-bc58-1d2004cee8fe\",\"type\":\"DaysTicker\"},{\"attributes\":{\"days\":[1,2,3,4,5,6,7,8,9,10,11,12,13,14,15,16,17,18,19,20,21,22,23,24,25,26,27,28,29,30,31]},\"id\":\"e960a324-aa08-49ed-877c-5c40bb3999f6\",\"type\":\"DaysTicker\"},{\"attributes\":{\"legends\":[[\"West South Central Division\",[{\"id\":\"f1b68d9f-8e31-4b35-8776-61c759425879\",\"type\":\"GlyphRenderer\"}]],[\"United States\",[{\"id\":\"998981bc-1e24-4e21-b511-494b888a57ea\",\"type\":\"GlyphRenderer\"}]],[\"Pacific Division\",[{\"id\":\"1916fda8-4dd5-4388-9f8c-f0ec11021cbf\",\"type\":\"GlyphRenderer\"}]]],\"location\":\"top_left\",\"plot\":{\"id\":\"302b3ddc-9a2d-40ab-aeff-c5fc970a7ad0\",\"subtype\":\"Chart\",\"type\":\"Plot\"}},\"id\":\"7b018c0f-972e-49a4-8cfc-354132d0aaf1\",\"type\":\"Legend\"},{\"attributes\":{},\"id\":\"c9c507e5-cc93-4e03-bc03-9e5bb69a35bf\",\"type\":\"BasicTickFormatter\"},{\"attributes\":{\"line_color\":{\"value\":\"#407ee7\"},\"line_width\":{\"value\":2},\"x\":{\"field\":\"x_values\"},\"y\":{\"field\":\"y_values\"}},\"id\":\"4c7c2eb2-3313-464d-8340-bcdf5857f6d3\",\"type\":\"Line\"},{\"attributes\":{},\"id\":\"44d9fc8f-db1e-4812-b65c-70cea741b9d1\",\"type\":\"YearsTicker\"},{\"attributes\":{},\"id\":\"818852f6-2cac-4ee7-bca4-75865925b44b\",\"type\":\"DatetimeTicker\"},{\"attributes\":{\"line_color\":{\"value\":\"#5ab738\"},\"line_width\":{\"value\":2},\"x\":{\"field\":\"x_values\"},\"y\":{\"field\":\"y_values\"}},\"id\":\"d2d380d3-c454-42b5-bb48-87ab56a97f9b\",\"type\":\"Line\"},{\"attributes\":{\"months\":[0,1,2,3,4,5,6,7,8,9,10,11]},\"id\":\"d74d3b74-073a-46f9-bceb-3334f93016b1\",\"type\":\"MonthsTicker\"},{\"attributes\":{\"callback\":null,\"column_names\":[\"x_values\",\"y_values\"],\"data\":{\"chart_index\":[{\"place_name\":\"United States\"},{\"place_name\":\"United States\"},{\"place_name\":\"United States\"},{\"place_name\":\"United States\"},{\"place_name\":\"United States\"},{\"place_name\":\"United States\"},{\"place_name\":\"United States\"},{\"place_name\":\"United States\"},{\"place_name\":\"United States\"},{\"place_name\":\"United States\"},{\"place_name\":\"United States\"},{\"place_name\":\"United States\"},{\"place_name\":\"United States\"},{\"place_name\":\"United States\"},{\"place_name\":\"United States\"},{\"place_name\":\"United States\"},{\"place_name\":\"United States\"},{\"place_name\":\"United States\"},{\"place_name\":\"United States\"},{\"place_name\":\"United States\"},{\"place_name\":\"United States\"},{\"place_name\":\"United States\"},{\"place_name\":\"United States\"},{\"place_name\":\"United States\"},{\"place_name\":\"United States\"},{\"place_name\":\"United States\"},{\"place_name\":\"United States\"},{\"place_name\":\"United States\"},{\"place_name\":\"United States\"},{\"place_name\":\"United States\"},{\"place_name\":\"United States\"},{\"place_name\":\"United States\"},{\"place_name\":\"United States\"},{\"place_name\":\"United States\"},{\"place_name\":\"United States\"},{\"place_name\":\"United States\"},{\"place_name\":\"United States\"},{\"place_name\":\"United States\"},{\"place_name\":\"United States\"},{\"place_name\":\"United States\"},{\"place_name\":\"United States\"},{\"place_name\":\"United States\"},{\"place_name\":\"United States\"},{\"place_name\":\"United States\"},{\"place_name\":\"United States\"},{\"place_name\":\"United States\"},{\"place_name\":\"United States\"},{\"place_name\":\"United States\"},{\"place_name\":\"United States\"},{\"place_name\":\"United States\"},{\"place_name\":\"United States\"},{\"place_name\":\"United States\"},{\"place_name\":\"United States\"},{\"place_name\":\"United States\"},{\"place_name\":\"United States\"},{\"place_name\":\"United States\"},{\"place_name\":\"United States\"},{\"place_name\":\"United States\"},{\"place_name\":\"United States\"},{\"place_name\":\"United States\"},{\"place_name\":\"United States\"},{\"place_name\":\"United States\"},{\"place_name\":\"United States\"},{\"place_name\":\"United States\"},{\"place_name\":\"United States\"},{\"place_name\":\"United States\"},{\"place_name\":\"United States\"},{\"place_name\":\"United States\"},{\"place_name\":\"United States\"},{\"place_name\":\"United States\"},{\"place_name\":\"United States\"},{\"place_name\":\"United States\"},{\"place_name\":\"United States\"},{\"place_name\":\"United States\"},{\"place_name\":\"United States\"},{\"place_name\":\"United States\"},{\"place_name\":\"United States\"},{\"place_name\":\"United States\"},{\"place_name\":\"United States\"},{\"place_name\":\"United States\"},{\"place_name\":\"United States\"},{\"place_name\":\"United States\"},{\"place_name\":\"United States\"},{\"place_name\":\"United States\"},{\"place_name\":\"United States\"},{\"place_name\":\"United States\"},{\"place_name\":\"United States\"},{\"place_name\":\"United States\"},{\"place_name\":\"United States\"},{\"place_name\":\"United States\"},{\"place_name\":\"United States\"},{\"place_name\":\"United States\"},{\"place_name\":\"United States\"},{\"place_name\":\"United States\"},{\"place_name\":\"United States\"},{\"place_name\":\"United States\"},{\"place_name\":\"United States\"},{\"place_name\":\"United States\"},{\"place_name\":\"United States\"},{\"place_name\":\"United States\"},{\"place_name\":\"United States\"},{\"place_name\":\"United States\"},{\"place_name\":\"United States\"},{\"place_name\":\"United States\"},{\"place_name\":\"United States\"},{\"place_name\":\"United States\"},{\"place_name\":\"United States\"},{\"place_name\":\"United States\"},{\"place_name\":\"United States\"},{\"place_name\":\"United States\"},{\"place_name\":\"United States\"},{\"place_name\":\"United States\"},{\"place_name\":\"United States\"},{\"place_name\":\"United States\"},{\"place_name\":\"United States\"},{\"place_name\":\"United States\"},{\"place_name\":\"United States\"},{\"place_name\":\"United States\"},{\"place_name\":\"United States\"},{\"place_name\":\"United States\"},{\"place_name\":\"United States\"},{\"place_name\":\"United States\"},{\"place_name\":\"United States\"},{\"place_name\":\"United States\"},{\"place_name\":\"United States\"},{\"place_name\":\"United States\"},{\"place_name\":\"United States\"},{\"place_name\":\"United States\"},{\"place_name\":\"United States\"},{\"place_name\":\"United States\"},{\"place_name\":\"United States\"},{\"place_name\":\"United States\"},{\"place_name\":\"United States\"},{\"place_name\":\"United States\"},{\"place_name\":\"United States\"},{\"place_name\":\"United States\"},{\"place_name\":\"United States\"},{\"place_name\":\"United States\"},{\"place_name\":\"United States\"},{\"place_name\":\"United States\"},{\"place_name\":\"United States\"},{\"place_name\":\"United States\"},{\"place_name\":\"United States\"},{\"place_name\":\"United States\"},{\"place_name\":\"United States\"},{\"place_name\":\"United States\"},{\"place_name\":\"United States\"},{\"place_name\":\"United States\"},{\"place_name\":\"United States\"},{\"place_name\":\"United States\"},{\"place_name\":\"United States\"},{\"place_name\":\"United States\"},{\"place_name\":\"United States\"},{\"place_name\":\"United States\"},{\"place_name\":\"United States\"},{\"place_name\":\"United States\"},{\"place_name\":\"United States\"},{\"place_name\":\"United States\"},{\"place_name\":\"United States\"},{\"place_name\":\"United States\"},{\"place_name\":\"United States\"},{\"place_name\":\"United States\"},{\"place_name\":\"United States\"},{\"place_name\":\"United States\"},{\"place_name\":\"United States\"},{\"place_name\":\"United States\"},{\"place_name\":\"United States\"},{\"place_name\":\"United States\"},{\"place_name\":\"United States\"},{\"place_name\":\"United States\"},{\"place_name\":\"United States\"},{\"place_name\":\"United States\"},{\"place_name\":\"United States\"},{\"place_name\":\"United States\"},{\"place_name\":\"United States\"},{\"place_name\":\"United States\"},{\"place_name\":\"United States\"},{\"place_name\":\"United States\"},{\"place_name\":\"United States\"},{\"place_name\":\"United States\"},{\"place_name\":\"United States\"},{\"place_name\":\"United States\"},{\"place_name\":\"United States\"},{\"place_name\":\"United States\"},{\"place_name\":\"United States\"},{\"place_name\":\"United States\"},{\"place_name\":\"United States\"},{\"place_name\":\"United States\"},{\"place_name\":\"United States\"},{\"place_name\":\"United States\"},{\"place_name\":\"United States\"},{\"place_name\":\"United States\"},{\"place_name\":\"United States\"},{\"place_name\":\"United States\"},{\"place_name\":\"United States\"},{\"place_name\":\"United States\"},{\"place_name\":\"United States\"},{\"place_name\":\"United States\"},{\"place_name\":\"United States\"},{\"place_name\":\"United States\"},{\"place_name\":\"United States\"},{\"place_name\":\"United States\"},{\"place_name\":\"United States\"},{\"place_name\":\"United States\"},{\"place_name\":\"United States\"},{\"place_name\":\"United States\"},{\"place_name\":\"United States\"},{\"place_name\":\"United States\"},{\"place_name\":\"United States\"},{\"place_name\":\"United States\"},{\"place_name\":\"United States\"},{\"place_name\":\"United States\"},{\"place_name\":\"United States\"},{\"place_name\":\"United States\"},{\"place_name\":\"United States\"},{\"place_name\":\"United States\"},{\"place_name\":\"United States\"},{\"place_name\":\"United States\"},{\"place_name\":\"United States\"},{\"place_name\":\"United States\"},{\"place_name\":\"United States\"},{\"place_name\":\"United States\"},{\"place_name\":\"United States\"},{\"place_name\":\"United States\"},{\"place_name\":\"United States\"},{\"place_name\":\"United States\"},{\"place_name\":\"United States\"},{\"place_name\":\"United States\"},{\"place_name\":\"United States\"},{\"place_name\":\"United States\"},{\"place_name\":\"United States\"},{\"place_name\":\"United States\"},{\"place_name\":\"United States\"},{\"place_name\":\"United States\"},{\"place_name\":\"United States\"},{\"place_name\":\"United States\"},{\"place_name\":\"United States\"},{\"place_name\":\"United States\"},{\"place_name\":\"United States\"},{\"place_name\":\"United States\"},{\"place_name\":\"United States\"},{\"place_name\":\"United States\"},{\"place_name\":\"United States\"},{\"place_name\":\"United States\"},{\"place_name\":\"United States\"},{\"place_name\":\"United States\"},{\"place_name\":\"United States\"},{\"place_name\":\"United States\"},{\"place_name\":\"United States\"},{\"place_name\":\"United States\"},{\"place_name\":\"United States\"},{\"place_name\":\"United States\"},{\"place_name\":\"United States\"},{\"place_name\":\"United States\"},{\"place_name\":\"United States\"},{\"place_name\":\"United States\"},{\"place_name\":\"United States\"},{\"place_name\":\"United States\"},{\"place_name\":\"United States\"},{\"place_name\":\"United States\"},{\"place_name\":\"United States\"},{\"place_name\":\"United States\"},{\"place_name\":\"United States\"},{\"place_name\":\"United States\"},{\"place_name\":\"United States\"},{\"place_name\":\"United States\"},{\"place_name\":\"United States\"},{\"place_name\":\"United States\"},{\"place_name\":\"United States\"},{\"place_name\":\"United States\"},{\"place_name\":\"United States\"},{\"place_name\":\"United States\"},{\"place_name\":\"United States\"},{\"place_name\":\"United States\"},{\"place_name\":\"United States\"},{\"place_name\":\"United States\"},{\"place_name\":\"United States\"},{\"place_name\":\"United States\"},{\"place_name\":\"United States\"},{\"place_name\":\"United States\"},{\"place_name\":\"United States\"},{\"place_name\":\"United States\"},{\"place_name\":\"United States\"},{\"place_name\":\"United States\"},{\"place_name\":\"United States\"},{\"place_name\":\"United States\"},{\"place_name\":\"United States\"},{\"place_name\":\"United States\"},{\"place_name\":\"United States\"},{\"place_name\":\"United States\"},{\"place_name\":\"United States\"},{\"place_name\":\"United States\"},{\"place_name\":\"United States\"},{\"place_name\":\"United States\"},{\"place_name\":\"United States\"},{\"place_name\":\"United States\"},{\"place_name\":\"United States\"},{\"place_name\":\"United States\"},{\"place_name\":\"United States\"},{\"place_name\":\"United States\"},{\"place_name\":\"United States\"},{\"place_name\":\"United States\"},{\"place_name\":\"United States\"},{\"place_name\":\"United States\"},{\"place_name\":\"United States\"},{\"place_name\":\"United States\"},{\"place_name\":\"United States\"},{\"place_name\":\"United States\"}],\"place_name\":[\"United States\",\"United States\",\"United States\",\"United States\",\"United States\",\"United States\",\"United States\",\"United States\",\"United States\",\"United States\",\"United States\",\"United States\",\"United States\",\"United States\",\"United States\",\"United States\",\"United States\",\"United States\",\"United States\",\"United States\",\"United States\",\"United States\",\"United States\",\"United States\",\"United States\",\"United States\",\"United States\",\"United States\",\"United States\",\"United States\",\"United States\",\"United States\",\"United States\",\"United States\",\"United States\",\"United States\",\"United States\",\"United States\",\"United States\",\"United States\",\"United States\",\"United States\",\"United States\",\"United States\",\"United States\",\"United States\",\"United States\",\"United States\",\"United States\",\"United States\",\"United States\",\"United States\",\"United States\",\"United States\",\"United States\",\"United States\",\"United States\",\"United States\",\"United States\",\"United States\",\"United States\",\"United States\",\"United States\",\"United States\",\"United States\",\"United States\",\"United States\",\"United States\",\"United States\",\"United States\",\"United States\",\"United States\",\"United States\",\"United States\",\"United States\",\"United States\",\"United States\",\"United States\",\"United States\",\"United States\",\"United States\",\"United States\",\"United States\",\"United States\",\"United States\",\"United States\",\"United States\",\"United States\",\"United States\",\"United States\",\"United States\",\"United States\",\"United States\",\"United States\",\"United States\",\"United States\",\"United States\",\"United States\",\"United States\",\"United States\",\"United States\",\"United States\",\"United States\",\"United States\",\"United States\",\"United States\",\"United States\",\"United States\",\"United States\",\"United States\",\"United States\",\"United States\",\"United States\",\"United States\",\"United States\",\"United States\",\"United States\",\"United States\",\"United States\",\"United States\",\"United States\",\"United States\",\"United States\",\"United States\",\"United States\",\"United States\",\"United States\",\"United States\",\"United States\",\"United States\",\"United States\",\"United States\",\"United States\",\"United States\",\"United States\",\"United States\",\"United States\",\"United States\",\"United States\",\"United States\",\"United States\",\"United States\",\"United States\",\"United States\",\"United States\",\"United States\",\"United States\",\"United States\",\"United States\",\"United States\",\"United States\",\"United States\",\"United States\",\"United States\",\"United States\",\"United States\",\"United States\",\"United States\",\"United States\",\"United States\",\"United States\",\"United States\",\"United States\",\"United States\",\"United States\",\"United States\",\"United States\",\"United States\",\"United States\",\"United States\",\"United States\",\"United States\",\"United States\",\"United States\",\"United States\",\"United States\",\"United States\",\"United States\",\"United States\",\"United States\",\"United States\",\"United States\",\"United States\",\"United States\",\"United States\",\"United States\",\"United States\",\"United States\",\"United States\",\"United States\",\"United States\",\"United States\",\"United States\",\"United States\",\"United States\",\"United States\",\"United States\",\"United States\",\"United States\",\"United States\",\"United States\",\"United States\",\"United States\",\"United States\",\"United States\",\"United States\",\"United States\",\"United States\",\"United States\",\"United States\",\"United States\",\"United States\",\"United States\",\"United States\",\"United States\",\"United States\",\"United States\",\"United States\",\"United States\",\"United States\",\"United States\",\"United States\",\"United States\",\"United States\",\"United States\",\"United States\",\"United States\",\"United States\",\"United States\",\"United States\",\"United States\",\"United States\",\"United States\",\"United States\",\"United States\",\"United States\",\"United States\",\"United States\",\"United States\",\"United States\",\"United States\",\"United States\",\"United States\",\"United States\",\"United States\",\"United States\",\"United States\",\"United States\",\"United States\",\"United States\",\"United States\",\"United States\",\"United States\",\"United States\",\"United States\",\"United States\",\"United States\",\"United States\",\"United States\",\"United States\",\"United States\",\"United States\",\"United States\",\"United States\",\"United States\",\"United States\",\"United States\",\"United States\",\"United States\",\"United States\",\"United States\",\"United States\",\"United States\",\"United States\",\"United States\",\"United States\",\"United States\",\"United States\",\"United States\",\"United States\",\"United States\",\"United States\",\"United States\",\"United States\",\"United States\",\"United States\",\"United States\",\"United States\",\"United States\",\"United States\",\"United States\",\"United States\",\"United States\",\"United States\",\"United States\",\"United States\",\"United States\",\"United States\",\"United States\",\"United States\",\"United States\",\"United States\",\"United States\",\"United States\",\"United States\",\"United States\",\"United States\",\"United States\"],\"x_values\":[662688000000.0,665366400000.0,667785600000.0,670464000000.0,673056000000.0,675734400000.0,678326400000.0,681004800000.0,683683200000.0,686275200000.0,688953600000.0,691545600000.0,694224000000.0,696902400000.0,699408000000.0,702086400000.0,704678400000.0,707356800000.0,709948800000.0,712627200000.0,715305600000.0,717897600000.0,720576000000.0,723168000000.0,725846400000.0,728524800000.0,730944000000.0,733622400000.0,736214400000.0,738892800000.0,741484800000.0,744163200000.0,746841600000.0,749433600000.0,752112000000.0,754704000000.0,757382400000.0,760060800000.0,762480000000.0,765158400000.0,767750400000.0,770428800000.0,773020800000.0,775699200000.0,778377600000.0,780969600000.0,783648000000.0,786240000000.0,788918400000.0,791596800000.0,794016000000.0,796694400000.0,799286400000.0,801964800000.0,804556800000.0,807235200000.0,809913600000.0,812505600000.0,815184000000.0,817776000000.0,820454400000.0,823132800000.0,825638400000.0,828316800000.0,830908800000.0,833587200000.0,836179200000.0,838857600000.0,841536000000.0,844128000000.0,846806400000.0,849398400000.0,852076800000.0,854755200000.0,857174400000.0,859852800000.0,862444800000.0,865123200000.0,867715200000.0,870393600000.0,873072000000.0,875664000000.0,878342400000.0,880934400000.0,883612800000.0,886291200000.0,888710400000.0,891388800000.0,893980800000.0,896659200000.0,899251200000.0,901929600000.0,904608000000.0,907200000000.0,909878400000.0,912470400000.0,915148800000.0,917827200000.0,920246400000.0,922924800000.0,925516800000.0,928195200000.0,930787200000.0,933465600000.0,936144000000.0,938736000000.0,941414400000.0,944006400000.0,946684800000.0,949363200000.0,951868800000.0,954547200000.0,957139200000.0,959817600000.0,962409600000.0,965088000000.0,967766400000.0,970358400000.0,973036800000.0,975628800000.0,978307200000.0,980985600000.0,983404800000.0,986083200000.0,988675200000.0,991353600000.0,993945600000.0,996624000000.0,999302400000.0,1001894400000.0,1004572800000.0,1007164800000.0,1009843200000.0,1012521600000.0,1014940800000.0,1017619200000.0,1020211200000.0,1022889600000.0,1025481600000.0,1028160000000.0,1030838400000.0,1033430400000.0,1036108800000.0,1038700800000.0,1041379200000.0,1044057600000.0,1046476800000.0,1049155200000.0,1051747200000.0,1054425600000.0,1057017600000.0,1059696000000.0,1062374400000.0,1064966400000.0,1067644800000.0,1070236800000.0,1072915200000.0,1075593600000.0,1078099200000.0,1080777600000.0,1083369600000.0,1086048000000.0,1088640000000.0,1091318400000.0,1093996800000.0,1096588800000.0,1099267200000.0,1101859200000.0,1104537600000.0,1107216000000.0,1109635200000.0,1112313600000.0,1114905600000.0,1117584000000.0,1120176000000.0,1122854400000.0,1125532800000.0,1128124800000.0,1130803200000.0,1133395200000.0,1136073600000.0,1138752000000.0,1141171200000.0,1143849600000.0,1146441600000.0,1149120000000.0,1151712000000.0,1154390400000.0,1157068800000.0,1159660800000.0,1162339200000.0,1164931200000.0,1167609600000.0,1170288000000.0,1172707200000.0,1175385600000.0,1177977600000.0,1180656000000.0,1183248000000.0,1185926400000.0,1188604800000.0,1191196800000.0,1193875200000.0,1196467200000.0,1199145600000.0,1201824000000.0,1204329600000.0,1207008000000.0,1209600000000.0,1212278400000.0,1214870400000.0,1217548800000.0,1220227200000.0,1222819200000.0,1225497600000.0,1228089600000.0,1230768000000.0,1233446400000.0,1235865600000.0,1238544000000.0,1241136000000.0,1243814400000.0,1246406400000.0,1249084800000.0,1251763200000.0,1254355200000.0,1257033600000.0,1259625600000.0,1262304000000.0,1264982400000.0,1267401600000.0,1270080000000.0,1272672000000.0,1275350400000.0,1277942400000.0,1280620800000.0,1283299200000.0,1285891200000.0,1288569600000.0,1291161600000.0,1293840000000.0,1296518400000.0,1298937600000.0,1301616000000.0,1304208000000.0,1306886400000.0,1309478400000.0,1312156800000.0,1314835200000.0,1317427200000.0,1320105600000.0,1322697600000.0,1325376000000.0,1328054400000.0,1330560000000.0,1333238400000.0,1335830400000.0,1338508800000.0,1341100800000.0,1343779200000.0,1346457600000.0,1349049600000.0,1351728000000.0,1354320000000.0,1356998400000.0,1359676800000.0,1362096000000.0,1364774400000.0,1367366400000.0,1370044800000.0,1372636800000.0,1375315200000.0,1377993600000.0,1380585600000.0,1383264000000.0,1385856000000.0,1388534400000.0,1391212800000.0,1393632000000.0,1396310400000.0,1398902400000.0,1401580800000.0,1404172800000.0,1406851200000.0,1409529600000.0,1412121600000.0,1414800000000.0,1417392000000.0,1420070400000.0,1422748800000.0,1425168000000.0,1427846400000.0,1430438400000.0,1433116800000.0,1435708800000.0,1438387200000.0,1441065600000.0,1443657600000.0,1446336000000.0,1448928000000.0,1451606400000.0,1454284800000.0,1456790400000.0,1459468800000.0,1462060800000.0,1464739200000.0,1467331200000.0,1470009600000.0],\"y_values\":[100.0,100.47,100.73,100.75,100.91,101.4,101.34,101.29,101.42,101.62,102.16,102.19,102.29,102.98,103.08,102.99,103.17,103.53,103.78,104.37,104.62,104.8,105.07,104.65,104.41,104.08,104.7,105.58,105.93,106.71,106.73,107.18,107.41,107.55,107.72,107.91,107.86,108.02,108.74,109.32,109.86,110.48,110.58,110.94,110.8,110.87,111.01,110.67,110.76,111.16,111.45,111.92,112.29,113.11,113.6,113.95,113.86,113.78,113.81,113.95,114.06,114.23,115.0,115.6,116.23,116.72,117.14,117.11,117.12,116.97,117.09,117.1,116.93,117.23,118.18,118.69,119.5,119.97,120.26,120.66,120.42,120.86,120.99,121.07,121.19,122.07,122.95,123.85,124.78,125.96,126.22,126.73,127.19,127.46,127.99,128.21,128.73,129.22,130.26,131.26,132.51,133.55,134.21,134.95,135.03,135.65,135.81,136.06,137.43,137.22,138.8,140.08,141.23,142.65,143.36,143.79,144.43,144.96,145.4,145.8,146.47,147.43,148.79,150.0,151.23,152.48,153.33,153.93,154.5,155.08,155.05,155.58,156.14,157.03,158.6,159.92,161.62,163.17,164.25,165.17,165.94,166.68,167.06,167.71,168.3,169.38,170.61,172.16,173.84,175.23,176.56,177.72,178.9,179.44,180.2,181.09,181.78,183.27,185.23,187.37,190.04,192.6,194.21,195.45,196.59,197.43,198.61,199.56,200.29,201.99,204.88,207.44,210.18,212.63,214.62,216.15,217.57,218.12,218.67,219.14,219.75,220.69,222.4,223.85,225.6,226.29,226.18,226.58,225.88,225.53,225.27,224.48,224.3,224.89,226.81,227.89,228.23,228.21,226.87,225.7,223.96,221.69,219.37,217.2,214.14,213.72,212.38,211.39,210.49,210.01,207.88,205.62,203.07,200.69,196.39,194.77,195.68,196.52,194.63,195.03,196.13,196.93,196.18,195.41,194.42,194.51,194.17,190.78,189.91,189.47,190.04,191.78,193.64,192.49,191.11,190.3,187.71,187.48,186.14,183.42,181.48,179.8,178.91,180.92,182.27,183.96,184.39,183.12,183.29,181.72,181.91,181.15,179.31,179.95,182.71,185.47,188.52,190.43,190.65,190.84,190.71,191.05,191.27,190.93,190.8,192.33,195.93,198.66,202.27,204.83,206.05,205.96,205.62,205.79,205.09,204.86,204.36,205.49,208.14,210.39,213.01,215.14,216.01,215.86,214.98,215.35,215.54,215.93,214.56,216.59,219.17,222.12,225.31,227.36,228.44,227.87,228.19,228.31,228.76,228.62,227.64,229.28,233.36,235.68,238.54,240.67,241.87,242.48]}},\"id\":\"c9464267-1e15-4ae0-aa3a-27308d911693\",\"type\":\"ColumnDataSource\"},{\"attributes\":{\"data_source\":{\"id\":\"53c9efb0-8214-4193-ae20-5fce94fc91ba\",\"type\":\"ColumnDataSource\"},\"glyph\":{\"id\":\"4c7c2eb2-3313-464d-8340-bcdf5857f6d3\",\"type\":\"Line\"},\"hover_glyph\":null,\"nonselection_glyph\":null,\"selection_glyph\":null},\"id\":\"f1b68d9f-8e31-4b35-8776-61c759425879\",\"type\":\"GlyphRenderer\"},{\"attributes\":{\"axis_label\":\"index_nsa\",\"formatter\":{\"id\":\"c9c507e5-cc93-4e03-bc03-9e5bb69a35bf\",\"type\":\"BasicTickFormatter\"},\"plot\":{\"id\":\"302b3ddc-9a2d-40ab-aeff-c5fc970a7ad0\",\"subtype\":\"Chart\",\"type\":\"Plot\"},\"ticker\":{\"id\":\"2a729eeb-f567-4bfa-bdc9-880cef0f6742\",\"type\":\"BasicTicker\"}},\"id\":\"393a3346-95e7-4557-b01b-f818631b7e1f\",\"type\":\"LinearAxis\"},{\"attributes\":{\"callback\":null,\"column_names\":[\"x_values\",\"y_values\"],\"data\":{\"chart_index\":[{\"place_name\":\"Pacific Division\"},{\"place_name\":\"Pacific Division\"},{\"place_name\":\"Pacific Division\"},{\"place_name\":\"Pacific Division\"},{\"place_name\":\"Pacific Division\"},{\"place_name\":\"Pacific Division\"},{\"place_name\":\"Pacific Division\"},{\"place_name\":\"Pacific Division\"},{\"place_name\":\"Pacific Division\"},{\"place_name\":\"Pacific Division\"},{\"place_name\":\"Pacific Division\"},{\"place_name\":\"Pacific Division\"},{\"place_name\":\"Pacific Division\"},{\"place_name\":\"Pacific Division\"},{\"place_name\":\"Pacific Division\"},{\"place_name\":\"Pacific Division\"},{\"place_name\":\"Pacific Division\"},{\"place_name\":\"Pacific Division\"},{\"place_name\":\"Pacific Division\"},{\"place_name\":\"Pacific Division\"},{\"place_name\":\"Pacific Division\"},{\"place_name\":\"Pacific Division\"},{\"place_name\":\"Pacific Division\"},{\"place_name\":\"Pacific Division\"},{\"place_name\":\"Pacific Division\"},{\"place_name\":\"Pacific Division\"},{\"place_name\":\"Pacific Division\"},{\"place_name\":\"Pacific Division\"},{\"place_name\":\"Pacific Division\"},{\"place_name\":\"Pacific Division\"},{\"place_name\":\"Pacific Division\"},{\"place_name\":\"Pacific Division\"},{\"place_name\":\"Pacific Division\"},{\"place_name\":\"Pacific Division\"},{\"place_name\":\"Pacific Division\"},{\"place_name\":\"Pacific Division\"},{\"place_name\":\"Pacific Division\"},{\"place_name\":\"Pacific Division\"},{\"place_name\":\"Pacific Division\"},{\"place_name\":\"Pacific Division\"},{\"place_name\":\"Pacific Division\"},{\"place_name\":\"Pacific Division\"},{\"place_name\":\"Pacific Division\"},{\"place_name\":\"Pacific Division\"},{\"place_name\":\"Pacific Division\"},{\"place_name\":\"Pacific Division\"},{\"place_name\":\"Pacific Division\"},{\"place_name\":\"Pacific Division\"},{\"place_name\":\"Pacific Division\"},{\"place_name\":\"Pacific Division\"},{\"place_name\":\"Pacific Division\"},{\"place_name\":\"Pacific Division\"},{\"place_name\":\"Pacific Division\"},{\"place_name\":\"Pacific Division\"},{\"place_name\":\"Pacific Division\"},{\"place_name\":\"Pacific Division\"},{\"place_name\":\"Pacific Division\"},{\"place_name\":\"Pacific Division\"},{\"place_name\":\"Pacific Division\"},{\"place_name\":\"Pacific Division\"},{\"place_name\":\"Pacific Division\"},{\"place_name\":\"Pacific Division\"},{\"place_name\":\"Pacific Division\"},{\"place_name\":\"Pacific Division\"},{\"place_name\":\"Pacific Division\"},{\"place_name\":\"Pacific Division\"},{\"place_name\":\"Pacific Division\"},{\"place_name\":\"Pacific Division\"},{\"place_name\":\"Pacific Division\"},{\"place_name\":\"Pacific Division\"},{\"place_name\":\"Pacific Division\"},{\"place_name\":\"Pacific Division\"},{\"place_name\":\"Pacific Division\"},{\"place_name\":\"Pacific Division\"},{\"place_name\":\"Pacific Division\"},{\"place_name\":\"Pacific Division\"},{\"place_name\":\"Pacific Division\"},{\"place_name\":\"Pacific Division\"},{\"place_name\":\"Pacific Division\"},{\"place_name\":\"Pacific Division\"},{\"place_name\":\"Pacific Division\"},{\"place_name\":\"Pacific Division\"},{\"place_name\":\"Pacific Division\"},{\"place_name\":\"Pacific Division\"},{\"place_name\":\"Pacific Division\"},{\"place_name\":\"Pacific Division\"},{\"place_name\":\"Pacific Division\"},{\"place_name\":\"Pacific Division\"},{\"place_name\":\"Pacific Division\"},{\"place_name\":\"Pacific Division\"},{\"place_name\":\"Pacific Division\"},{\"place_name\":\"Pacific Division\"},{\"place_name\":\"Pacific Division\"},{\"place_name\":\"Pacific Division\"},{\"place_name\":\"Pacific Division\"},{\"place_name\":\"Pacific Division\"},{\"place_name\":\"Pacific Division\"},{\"place_name\":\"Pacific Division\"},{\"place_name\":\"Pacific Division\"},{\"place_name\":\"Pacific Division\"},{\"place_name\":\"Pacific Division\"},{\"place_name\":\"Pacific Division\"},{\"place_name\":\"Pacific Division\"},{\"place_name\":\"Pacific Division\"},{\"place_name\":\"Pacific Division\"},{\"place_name\":\"Pacific Division\"},{\"place_name\":\"Pacific Division\"},{\"place_name\":\"Pacific Division\"},{\"place_name\":\"Pacific Division\"},{\"place_name\":\"Pacific Division\"},{\"place_name\":\"Pacific Division\"},{\"place_name\":\"Pacific Division\"},{\"place_name\":\"Pacific Division\"},{\"place_name\":\"Pacific Division\"},{\"place_name\":\"Pacific Division\"},{\"place_name\":\"Pacific Division\"},{\"place_name\":\"Pacific Division\"},{\"place_name\":\"Pacific Division\"},{\"place_name\":\"Pacific Division\"},{\"place_name\":\"Pacific Division\"},{\"place_name\":\"Pacific Division\"},{\"place_name\":\"Pacific Division\"},{\"place_name\":\"Pacific Division\"},{\"place_name\":\"Pacific Division\"},{\"place_name\":\"Pacific Division\"},{\"place_name\":\"Pacific Division\"},{\"place_name\":\"Pacific Division\"},{\"place_name\":\"Pacific Division\"},{\"place_name\":\"Pacific Division\"},{\"place_name\":\"Pacific Division\"},{\"place_name\":\"Pacific Division\"},{\"place_name\":\"Pacific Division\"},{\"place_name\":\"Pacific Division\"},{\"place_name\":\"Pacific Division\"},{\"place_name\":\"Pacific Division\"},{\"place_name\":\"Pacific Division\"},{\"place_name\":\"Pacific Division\"},{\"place_name\":\"Pacific Division\"},{\"place_name\":\"Pacific Division\"},{\"place_name\":\"Pacific Division\"},{\"place_name\":\"Pacific Division\"},{\"place_name\":\"Pacific Division\"},{\"place_name\":\"Pacific Division\"},{\"place_name\":\"Pacific Division\"},{\"place_name\":\"Pacific Division\"},{\"place_name\":\"Pacific Division\"},{\"place_name\":\"Pacific Division\"},{\"place_name\":\"Pacific Division\"},{\"place_name\":\"Pacific Division\"},{\"place_name\":\"Pacific Division\"},{\"place_name\":\"Pacific Division\"},{\"place_name\":\"Pacific Division\"},{\"place_name\":\"Pacific Division\"},{\"place_name\":\"Pacific Division\"},{\"place_name\":\"Pacific Division\"},{\"place_name\":\"Pacific Division\"},{\"place_name\":\"Pacific Division\"},{\"place_name\":\"Pacific Division\"},{\"place_name\":\"Pacific Division\"},{\"place_name\":\"Pacific Division\"},{\"place_name\":\"Pacific Division\"},{\"place_name\":\"Pacific Division\"},{\"place_name\":\"Pacific Division\"},{\"place_name\":\"Pacific Division\"},{\"place_name\":\"Pacific Division\"},{\"place_name\":\"Pacific Division\"},{\"place_name\":\"Pacific Division\"},{\"place_name\":\"Pacific Division\"},{\"place_name\":\"Pacific Division\"},{\"place_name\":\"Pacific Division\"},{\"place_name\":\"Pacific Division\"},{\"place_name\":\"Pacific Division\"},{\"place_name\":\"Pacific Division\"},{\"place_name\":\"Pacific Division\"},{\"place_name\":\"Pacific Division\"},{\"place_name\":\"Pacific Division\"},{\"place_name\":\"Pacific Division\"},{\"place_name\":\"Pacific Division\"},{\"place_name\":\"Pacific Division\"},{\"place_name\":\"Pacific Division\"},{\"place_name\":\"Pacific Division\"},{\"place_name\":\"Pacific Division\"},{\"place_name\":\"Pacific Division\"},{\"place_name\":\"Pacific Division\"},{\"place_name\":\"Pacific Division\"},{\"place_name\":\"Pacific Division\"},{\"place_name\":\"Pacific Division\"},{\"place_name\":\"Pacific Division\"},{\"place_name\":\"Pacific Division\"},{\"place_name\":\"Pacific Division\"},{\"place_name\":\"Pacific Division\"},{\"place_name\":\"Pacific Division\"},{\"place_name\":\"Pacific Division\"},{\"place_name\":\"Pacific Division\"},{\"place_name\":\"Pacific Division\"},{\"place_name\":\"Pacific Division\"},{\"place_name\":\"Pacific Division\"},{\"place_name\":\"Pacific Division\"},{\"place_name\":\"Pacific Division\"},{\"place_name\":\"Pacific Division\"},{\"place_name\":\"Pacific Division\"},{\"place_name\":\"Pacific Division\"},{\"place_name\":\"Pacific Division\"},{\"place_name\":\"Pacific Division\"},{\"place_name\":\"Pacific Division\"},{\"place_name\":\"Pacific Division\"},{\"place_name\":\"Pacific Division\"},{\"place_name\":\"Pacific Division\"},{\"place_name\":\"Pacific Division\"},{\"place_name\":\"Pacific Division\"},{\"place_name\":\"Pacific Division\"},{\"place_name\":\"Pacific Division\"},{\"place_name\":\"Pacific Division\"},{\"place_name\":\"Pacific Division\"},{\"place_name\":\"Pacific Division\"},{\"place_name\":\"Pacific Division\"},{\"place_name\":\"Pacific Division\"},{\"place_name\":\"Pacific Division\"},{\"place_name\":\"Pacific Division\"},{\"place_name\":\"Pacific Division\"},{\"place_name\":\"Pacific Division\"},{\"place_name\":\"Pacific Division\"},{\"place_name\":\"Pacific Division\"},{\"place_name\":\"Pacific Division\"},{\"place_name\":\"Pacific Division\"},{\"place_name\":\"Pacific Division\"},{\"place_name\":\"Pacific Division\"},{\"place_name\":\"Pacific Division\"},{\"place_name\":\"Pacific Division\"},{\"place_name\":\"Pacific Division\"},{\"place_name\":\"Pacific Division\"},{\"place_name\":\"Pacific Division\"},{\"place_name\":\"Pacific Division\"},{\"place_name\":\"Pacific Division\"},{\"place_name\":\"Pacific Division\"},{\"place_name\":\"Pacific Division\"},{\"place_name\":\"Pacific Division\"},{\"place_name\":\"Pacific Division\"},{\"place_name\":\"Pacific Division\"},{\"place_name\":\"Pacific Division\"},{\"place_name\":\"Pacific Division\"},{\"place_name\":\"Pacific Division\"},{\"place_name\":\"Pacific Division\"},{\"place_name\":\"Pacific Division\"},{\"place_name\":\"Pacific Division\"},{\"place_name\":\"Pacific Division\"},{\"place_name\":\"Pacific Division\"},{\"place_name\":\"Pacific Division\"},{\"place_name\":\"Pacific Division\"},{\"place_name\":\"Pacific Division\"},{\"place_name\":\"Pacific Division\"},{\"place_name\":\"Pacific Division\"},{\"place_name\":\"Pacific Division\"},{\"place_name\":\"Pacific Division\"},{\"place_name\":\"Pacific Division\"},{\"place_name\":\"Pacific Division\"},{\"place_name\":\"Pacific Division\"},{\"place_name\":\"Pacific Division\"},{\"place_name\":\"Pacific Division\"},{\"place_name\":\"Pacific Division\"},{\"place_name\":\"Pacific Division\"},{\"place_name\":\"Pacific Division\"},{\"place_name\":\"Pacific Division\"},{\"place_name\":\"Pacific Division\"},{\"place_name\":\"Pacific Division\"},{\"place_name\":\"Pacific Division\"},{\"place_name\":\"Pacific Division\"},{\"place_name\":\"Pacific Division\"},{\"place_name\":\"Pacific Division\"},{\"place_name\":\"Pacific Division\"},{\"place_name\":\"Pacific Division\"},{\"place_name\":\"Pacific Division\"},{\"place_name\":\"Pacific Division\"},{\"place_name\":\"Pacific Division\"},{\"place_name\":\"Pacific Division\"},{\"place_name\":\"Pacific Division\"},{\"place_name\":\"Pacific Division\"},{\"place_name\":\"Pacific Division\"},{\"place_name\":\"Pacific Division\"},{\"place_name\":\"Pacific Division\"},{\"place_name\":\"Pacific Division\"},{\"place_name\":\"Pacific Division\"},{\"place_name\":\"Pacific Division\"},{\"place_name\":\"Pacific Division\"},{\"place_name\":\"Pacific Division\"},{\"place_name\":\"Pacific Division\"},{\"place_name\":\"Pacific Division\"},{\"place_name\":\"Pacific Division\"},{\"place_name\":\"Pacific Division\"},{\"place_name\":\"Pacific Division\"},{\"place_name\":\"Pacific Division\"},{\"place_name\":\"Pacific Division\"},{\"place_name\":\"Pacific Division\"},{\"place_name\":\"Pacific Division\"},{\"place_name\":\"Pacific Division\"},{\"place_name\":\"Pacific Division\"},{\"place_name\":\"Pacific Division\"},{\"place_name\":\"Pacific Division\"},{\"place_name\":\"Pacific Division\"},{\"place_name\":\"Pacific Division\"},{\"place_name\":\"Pacific Division\"},{\"place_name\":\"Pacific Division\"},{\"place_name\":\"Pacific Division\"},{\"place_name\":\"Pacific Division\"},{\"place_name\":\"Pacific Division\"},{\"place_name\":\"Pacific Division\"},{\"place_name\":\"Pacific Division\"},{\"place_name\":\"Pacific Division\"}],\"place_name\":[\"Pacific Division\",\"Pacific Division\",\"Pacific Division\",\"Pacific Division\",\"Pacific Division\",\"Pacific Division\",\"Pacific Division\",\"Pacific Division\",\"Pacific Division\",\"Pacific Division\",\"Pacific Division\",\"Pacific Division\",\"Pacific Division\",\"Pacific Division\",\"Pacific Division\",\"Pacific Division\",\"Pacific Division\",\"Pacific Division\",\"Pacific Division\",\"Pacific Division\",\"Pacific Division\",\"Pacific Division\",\"Pacific Division\",\"Pacific Division\",\"Pacific Division\",\"Pacific Division\",\"Pacific Division\",\"Pacific Division\",\"Pacific Division\",\"Pacific Division\",\"Pacific Division\",\"Pacific Division\",\"Pacific Division\",\"Pacific Division\",\"Pacific Division\",\"Pacific Division\",\"Pacific Division\",\"Pacific Division\",\"Pacific Division\",\"Pacific Division\",\"Pacific Division\",\"Pacific Division\",\"Pacific Division\",\"Pacific Division\",\"Pacific Division\",\"Pacific Division\",\"Pacific Division\",\"Pacific Division\",\"Pacific Division\",\"Pacific Division\",\"Pacific Division\",\"Pacific Division\",\"Pacific Division\",\"Pacific Division\",\"Pacific Division\",\"Pacific Division\",\"Pacific Division\",\"Pacific Division\",\"Pacific Division\",\"Pacific Division\",\"Pacific Division\",\"Pacific Division\",\"Pacific Division\",\"Pacific Division\",\"Pacific Division\",\"Pacific Division\",\"Pacific Division\",\"Pacific Division\",\"Pacific Division\",\"Pacific Division\",\"Pacific Division\",\"Pacific Division\",\"Pacific Division\",\"Pacific Division\",\"Pacific Division\",\"Pacific Division\",\"Pacific Division\",\"Pacific Division\",\"Pacific Division\",\"Pacific Division\",\"Pacific Division\",\"Pacific Division\",\"Pacific Division\",\"Pacific Division\",\"Pacific Division\",\"Pacific Division\",\"Pacific Division\",\"Pacific Division\",\"Pacific Division\",\"Pacific Division\",\"Pacific Division\",\"Pacific Division\",\"Pacific Division\",\"Pacific Division\",\"Pacific Division\",\"Pacific Division\",\"Pacific Division\",\"Pacific Division\",\"Pacific Division\",\"Pacific Division\",\"Pacific Division\",\"Pacific Division\",\"Pacific Division\",\"Pacific Division\",\"Pacific Division\",\"Pacific Division\",\"Pacific Division\",\"Pacific Division\",\"Pacific Division\",\"Pacific Division\",\"Pacific Division\",\"Pacific Division\",\"Pacific Division\",\"Pacific Division\",\"Pacific Division\",\"Pacific Division\",\"Pacific Division\",\"Pacific Division\",\"Pacific Division\",\"Pacific Division\",\"Pacific Division\",\"Pacific Division\",\"Pacific Division\",\"Pacific Division\",\"Pacific Division\",\"Pacific Division\",\"Pacific Division\",\"Pacific Division\",\"Pacific Division\",\"Pacific Division\",\"Pacific Division\",\"Pacific Division\",\"Pacific Division\",\"Pacific Division\",\"Pacific Division\",\"Pacific Division\",\"Pacific Division\",\"Pacific Division\",\"Pacific Division\",\"Pacific Division\",\"Pacific Division\",\"Pacific Division\",\"Pacific Division\",\"Pacific Division\",\"Pacific Division\",\"Pacific Division\",\"Pacific Division\",\"Pacific Division\",\"Pacific Division\",\"Pacific Division\",\"Pacific Division\",\"Pacific Division\",\"Pacific Division\",\"Pacific Division\",\"Pacific Division\",\"Pacific Division\",\"Pacific Division\",\"Pacific Division\",\"Pacific Division\",\"Pacific Division\",\"Pacific Division\",\"Pacific Division\",\"Pacific Division\",\"Pacific Division\",\"Pacific Division\",\"Pacific Division\",\"Pacific Division\",\"Pacific Division\",\"Pacific Division\",\"Pacific Division\",\"Pacific Division\",\"Pacific Division\",\"Pacific Division\",\"Pacific Division\",\"Pacific Division\",\"Pacific Division\",\"Pacific Division\",\"Pacific Division\",\"Pacific Division\",\"Pacific Division\",\"Pacific Division\",\"Pacific Division\",\"Pacific Division\",\"Pacific Division\",\"Pacific Division\",\"Pacific Division\",\"Pacific Division\",\"Pacific Division\",\"Pacific Division\",\"Pacific Division\",\"Pacific Division\",\"Pacific Division\",\"Pacific Division\",\"Pacific Division\",\"Pacific Division\",\"Pacific Division\",\"Pacific Division\",\"Pacific Division\",\"Pacific Division\",\"Pacific Division\",\"Pacific Division\",\"Pacific Division\",\"Pacific Division\",\"Pacific Division\",\"Pacific Division\",\"Pacific Division\",\"Pacific Division\",\"Pacific Division\",\"Pacific Division\",\"Pacific Division\",\"Pacific Division\",\"Pacific Division\",\"Pacific Division\",\"Pacific Division\",\"Pacific Division\",\"Pacific Division\",\"Pacific Division\",\"Pacific Division\",\"Pacific Division\",\"Pacific Division\",\"Pacific Division\",\"Pacific Division\",\"Pacific Division\",\"Pacific Division\",\"Pacific Division\",\"Pacific Division\",\"Pacific Division\",\"Pacific Division\",\"Pacific Division\",\"Pacific Division\",\"Pacific Division\",\"Pacific Division\",\"Pacific Division\",\"Pacific Division\",\"Pacific Division\",\"Pacific Division\",\"Pacific Division\",\"Pacific Division\",\"Pacific Division\",\"Pacific Division\",\"Pacific Division\",\"Pacific Division\",\"Pacific Division\",\"Pacific Division\",\"Pacific Division\",\"Pacific Division\",\"Pacific Division\",\"Pacific Division\",\"Pacific Division\",\"Pacific Division\",\"Pacific Division\",\"Pacific Division\",\"Pacific Division\",\"Pacific Division\",\"Pacific Division\",\"Pacific Division\",\"Pacific Division\",\"Pacific Division\",\"Pacific Division\",\"Pacific Division\",\"Pacific Division\",\"Pacific Division\",\"Pacific Division\",\"Pacific Division\",\"Pacific Division\",\"Pacific Division\",\"Pacific Division\",\"Pacific Division\",\"Pacific Division\",\"Pacific Division\",\"Pacific Division\",\"Pacific Division\",\"Pacific Division\",\"Pacific Division\",\"Pacific Division\",\"Pacific Division\",\"Pacific Division\",\"Pacific Division\",\"Pacific Division\",\"Pacific Division\",\"Pacific Division\",\"Pacific Division\",\"Pacific Division\",\"Pacific Division\",\"Pacific Division\",\"Pacific Division\",\"Pacific Division\",\"Pacific Division\",\"Pacific Division\",\"Pacific Division\",\"Pacific Division\",\"Pacific Division\",\"Pacific Division\",\"Pacific Division\",\"Pacific Division\",\"Pacific Division\",\"Pacific Division\",\"Pacific Division\",\"Pacific Division\",\"Pacific Division\",\"Pacific Division\",\"Pacific Division\",\"Pacific Division\",\"Pacific Division\",\"Pacific Division\",\"Pacific Division\",\"Pacific Division\",\"Pacific Division\"],\"x_values\":[662688000000.0,665366400000.0,667785600000.0,670464000000.0,673056000000.0,675734400000.0,678326400000.0,681004800000.0,683683200000.0,686275200000.0,688953600000.0,691545600000.0,694224000000.0,696902400000.0,699408000000.0,702086400000.0,704678400000.0,707356800000.0,709948800000.0,712627200000.0,715305600000.0,717897600000.0,720576000000.0,723168000000.0,725846400000.0,728524800000.0,730944000000.0,733622400000.0,736214400000.0,738892800000.0,741484800000.0,744163200000.0,746841600000.0,749433600000.0,752112000000.0,754704000000.0,757382400000.0,760060800000.0,762480000000.0,765158400000.0,767750400000.0,770428800000.0,773020800000.0,775699200000.0,778377600000.0,780969600000.0,783648000000.0,786240000000.0,788918400000.0,791596800000.0,794016000000.0,796694400000.0,799286400000.0,801964800000.0,804556800000.0,807235200000.0,809913600000.0,812505600000.0,815184000000.0,817776000000.0,820454400000.0,823132800000.0,825638400000.0,828316800000.0,830908800000.0,833587200000.0,836179200000.0,838857600000.0,841536000000.0,844128000000.0,846806400000.0,849398400000.0,852076800000.0,854755200000.0,857174400000.0,859852800000.0,862444800000.0,865123200000.0,867715200000.0,870393600000.0,873072000000.0,875664000000.0,878342400000.0,880934400000.0,883612800000.0,886291200000.0,888710400000.0,891388800000.0,893980800000.0,896659200000.0,899251200000.0,901929600000.0,904608000000.0,907200000000.0,909878400000.0,912470400000.0,915148800000.0,917827200000.0,920246400000.0,922924800000.0,925516800000.0,928195200000.0,930787200000.0,933465600000.0,936144000000.0,938736000000.0,941414400000.0,944006400000.0,946684800000.0,949363200000.0,951868800000.0,954547200000.0,957139200000.0,959817600000.0,962409600000.0,965088000000.0,967766400000.0,970358400000.0,973036800000.0,975628800000.0,978307200000.0,980985600000.0,983404800000.0,986083200000.0,988675200000.0,991353600000.0,993945600000.0,996624000000.0,999302400000.0,1001894400000.0,1004572800000.0,1007164800000.0,1009843200000.0,1012521600000.0,1014940800000.0,1017619200000.0,1020211200000.0,1022889600000.0,1025481600000.0,1028160000000.0,1030838400000.0,1033430400000.0,1036108800000.0,1038700800000.0,1041379200000.0,1044057600000.0,1046476800000.0,1049155200000.0,1051747200000.0,1054425600000.0,1057017600000.0,1059696000000.0,1062374400000.0,1064966400000.0,1067644800000.0,1070236800000.0,1072915200000.0,1075593600000.0,1078099200000.0,1080777600000.0,1083369600000.0,1086048000000.0,1088640000000.0,1091318400000.0,1093996800000.0,1096588800000.0,1099267200000.0,1101859200000.0,1104537600000.0,1107216000000.0,1109635200000.0,1112313600000.0,1114905600000.0,1117584000000.0,1120176000000.0,1122854400000.0,1125532800000.0,1128124800000.0,1130803200000.0,1133395200000.0,1136073600000.0,1138752000000.0,1141171200000.0,1143849600000.0,1146441600000.0,1149120000000.0,1151712000000.0,1154390400000.0,1157068800000.0,1159660800000.0,1162339200000.0,1164931200000.0,1167609600000.0,1170288000000.0,1172707200000.0,1175385600000.0,1177977600000.0,1180656000000.0,1183248000000.0,1185926400000.0,1188604800000.0,1191196800000.0,1193875200000.0,1196467200000.0,1199145600000.0,1201824000000.0,1204329600000.0,1207008000000.0,1209600000000.0,1212278400000.0,1214870400000.0,1217548800000.0,1220227200000.0,1222819200000.0,1225497600000.0,1228089600000.0,1230768000000.0,1233446400000.0,1235865600000.0,1238544000000.0,1241136000000.0,1243814400000.0,1246406400000.0,1249084800000.0,1251763200000.0,1254355200000.0,1257033600000.0,1259625600000.0,1262304000000.0,1264982400000.0,1267401600000.0,1270080000000.0,1272672000000.0,1275350400000.0,1277942400000.0,1280620800000.0,1283299200000.0,1285891200000.0,1288569600000.0,1291161600000.0,1293840000000.0,1296518400000.0,1298937600000.0,1301616000000.0,1304208000000.0,1306886400000.0,1309478400000.0,1312156800000.0,1314835200000.0,1317427200000.0,1320105600000.0,1322697600000.0,1325376000000.0,1328054400000.0,1330560000000.0,1333238400000.0,1335830400000.0,1338508800000.0,1341100800000.0,1343779200000.0,1346457600000.0,1349049600000.0,1351728000000.0,1354320000000.0,1356998400000.0,1359676800000.0,1362096000000.0,1364774400000.0,1367366400000.0,1370044800000.0,1372636800000.0,1375315200000.0,1377993600000.0,1380585600000.0,1383264000000.0,1385856000000.0,1388534400000.0,1391212800000.0,1393632000000.0,1396310400000.0,1398902400000.0,1401580800000.0,1404172800000.0,1406851200000.0,1409529600000.0,1412121600000.0,1414800000000.0,1417392000000.0,1420070400000.0,1422748800000.0,1425168000000.0,1427846400000.0,1430438400000.0,1433116800000.0,1435708800000.0,1438387200000.0,1441065600000.0,1443657600000.0,1446336000000.0,1448928000000.0,1451606400000.0,1454284800000.0,1456790400000.0,1459468800000.0,1462060800000.0,1464739200000.0,1467331200000.0,1470009600000.0],\"y_values\":[100.0,100.26,100.05,100.21,100.42,100.48,100.52,100.84,100.43,100.99,100.93,101.11,100.99,101.13,100.71,100.49,100.65,100.33,100.77,101.07,101.1,100.13,99.98,99.64,98.83,97.81,98.24,98.52,98.29,98.61,97.6,98.04,97.7,97.81,96.95,97.09,96.67,96.21,96.46,97.04,96.85,97.2,97.19,97.18,97.28,96.49,96.14,96.15,96.15,96.15,95.73,95.38,96.09,96.21,96.54,96.58,96.06,95.82,95.7,95.42,95.59,95.27,95.72,95.99,96.32,96.65,96.99,96.63,96.43,96.45,96.52,96.46,95.91,95.92,96.94,97.94,98.69,98.88,99.82,100.03,99.91,100.03,101.05,100.82,101.23,102.43,103.57,105.2,106.28,107.3,107.6,108.32,108.48,109.23,109.73,109.57,110.89,111.36,112.98,113.98,115.24,116.17,116.54,117.35,117.82,118.67,119.05,119.57,122.13,121.19,123.54,124.52,126.35,127.56,128.43,129.54,130.46,131.72,132.91,133.83,134.61,136.38,138.24,139.43,141.0,141.92,142.69,143.66,144.85,145.06,145.22,146.75,147.66,149.19,151.52,153.25,156.34,158.7,160.83,162.54,163.55,165.19,165.93,167.25,168.74,171.01,172.84,175.42,177.94,179.55,182.29,184.88,187.18,189.67,191.98,194.62,196.66,199.17,203.63,206.99,213.41,218.87,223.05,225.5,228.76,230.09,234.2,237.61,238.31,243.6,248.21,253.18,259.42,263.28,267.76,271.87,275.91,274.9,275.04,277.76,276.86,280.82,281.03,282.93,284.26,285.0,283.71,282.49,281.12,277.25,277.26,275.72,275.73,274.51,279.15,278.29,276.3,274.3,272.01,265.28,261.91,255.74,249.38,243.61,237.55,233.63,225.67,222.32,218.42,216.43,212.2,207.45,203.95,199.63,194.21,191.76,187.99,189.91,187.89,186.91,187.13,189.47,189.9,190.75,189.74,190.08,191.34,187.34,184.93,187.91,187.66,188.73,191.16,187.43,187.45,185.02,184.41,181.27,179.81,177.68,174.13,173.88,172.75,173.38,173.55,173.61,175.01,172.58,173.11,172.21,171.32,170.3,169.95,170.55,173.49,176.93,180.46,182.67,182.33,185.33,184.95,187.77,189.73,190.54,191.88,194.2,199.83,204.43,209.05,212.51,217.14,217.44,218.23,218.9,218.38,217.52,218.18,221.79,224.23,226.88,229.68,232.01,234.09,234.25,233.48,234.63,234.4,236.16,235.9,237.6,241.03,244.65,248.23,249.4,252.08,251.52,253.18,252.98,256.19,256.05,253.8,258.27,263.62,266.91,268.98,268.64,271.62,271.51]}},\"id\":\"50124e9d-bd43-43ed-9eb3-1f78e8d70b29\",\"type\":\"ColumnDataSource\"},{\"attributes\":{\"active_drag\":\"auto\",\"active_scroll\":\"auto\",\"active_tap\":\"auto\",\"tools\":[{\"id\":\"5311b941-40d8-40bb-b436-1dd57c67069f\",\"type\":\"PanTool\"},{\"id\":\"5a99cda2-0ca1-4997-8288-cdf4fb6a67aa\",\"type\":\"WheelZoomTool\"},{\"id\":\"8c54e228-bdfb-4285-9a01-b91d6f4c0174\",\"type\":\"BoxZoomTool\"},{\"id\":\"44e377d7-f444-4228-abd9-bb20812f7759\",\"type\":\"SaveTool\"},{\"id\":\"c03cffae-1ca0-4973-a727-e8dab6c53ef0\",\"type\":\"ResetTool\"},{\"id\":\"cb5810c5-fb65-40f8-9e65-8962de423813\",\"type\":\"HelpTool\"}]},\"id\":\"a91ca940-4002-4ef5-a277-2047eb8745e4\",\"type\":\"Toolbar\"},{\"attributes\":{\"axis_label\":\"date_idx\",\"formatter\":{\"id\":\"4c98c88e-a7d5-4d3b-a844-a475653bbdcf\",\"type\":\"DatetimeTickFormatter\"},\"plot\":{\"id\":\"302b3ddc-9a2d-40ab-aeff-c5fc970a7ad0\",\"subtype\":\"Chart\",\"type\":\"Plot\"},\"ticker\":{\"id\":\"818852f6-2cac-4ee7-bca4-75865925b44b\",\"type\":\"DatetimeTicker\"}},\"id\":\"ba83cb05-f6df-4e8f-947c-d889cc96517a\",\"type\":\"DatetimeAxis\"},{\"attributes\":{\"plot\":{\"id\":\"302b3ddc-9a2d-40ab-aeff-c5fc970a7ad0\",\"subtype\":\"Chart\",\"type\":\"Plot\"}},\"id\":\"c03cffae-1ca0-4973-a727-e8dab6c53ef0\",\"type\":\"ResetTool\"},{\"attributes\":{\"plot\":{\"id\":\"302b3ddc-9a2d-40ab-aeff-c5fc970a7ad0\",\"subtype\":\"Chart\",\"type\":\"Plot\"}},\"id\":\"44e377d7-f444-4228-abd9-bb20812f7759\",\"type\":\"SaveTool\"},{\"attributes\":{\"bottom_units\":\"screen\",\"fill_alpha\":{\"value\":0.5},\"fill_color\":{\"value\":\"lightgrey\"},\"left_units\":\"screen\",\"level\":\"overlay\",\"line_alpha\":{\"value\":1.0},\"line_color\":{\"value\":\"black\"},\"line_dash\":[4,4],\"line_width\":{\"value\":2},\"plot\":null,\"render_mode\":\"css\",\"right_units\":\"screen\",\"top_units\":\"screen\"},\"id\":\"940f624a-7265-4ae3-ab27-65e093a44c86\",\"type\":\"BoxAnnotation\"},{\"attributes\":{\"callback\":null,\"end\":1470009600000.0,\"start\":662688000000.0},\"id\":\"c3c67946-83b5-4e12-b5ed-a4ab36833323\",\"type\":\"Range1d\"},{\"attributes\":{\"plot\":{\"id\":\"302b3ddc-9a2d-40ab-aeff-c5fc970a7ad0\",\"subtype\":\"Chart\",\"type\":\"Plot\"}},\"id\":\"5a99cda2-0ca1-4997-8288-cdf4fb6a67aa\",\"type\":\"WheelZoomTool\"},{\"attributes\":{\"line_color\":{\"value\":\"#f22c40\"},\"line_width\":{\"value\":2},\"x\":{\"field\":\"x_values\"},\"y\":{\"field\":\"y_values\"}},\"id\":\"0aa41154-a25e-4e66-a965-c13e74a6faba\",\"type\":\"Line\"}],\"root_ids\":[\"302b3ddc-9a2d-40ab-aeff-c5fc970a7ad0\"]},\"title\":\"Bokeh Application\",\"version\":\"0.12.2\"}};\n",
       "            var render_items = [{\"docid\":\"04d694a5-7524-4b3f-8cf7-257376b4ca31\",\"elementid\":\"8b4e9092-3f5a-4e83-abe7-0edf62576a61\",\"modelid\":\"302b3ddc-9a2d-40ab-aeff-c5fc970a7ad0\"}];\n",
       "            \n",
       "            Bokeh.embed.embed_items(docs_json, render_items);\n",
       "        });\n",
       "      },\n",
       "      function(Bokeh) {\n",
       "      }\n",
       "    ];\n",
       "  \n",
       "    function run_inline_js() {\n",
       "      \n",
       "      if ((window.Bokeh !== undefined) || (force === \"1\")) {\n",
       "        for (var i = 0; i < inline_js.length; i++) {\n",
       "          inline_js[i](window.Bokeh);\n",
       "        }if (force === \"1\") {\n",
       "          display_loaded();\n",
       "        }} else if (Date.now() < window._bokeh_timeout) {\n",
       "        setTimeout(run_inline_js, 100);\n",
       "      } else if (!window._bokeh_failed_load) {\n",
       "        console.log(\"Bokeh: BokehJS failed to load within specified timeout.\");\n",
       "        window._bokeh_failed_load = true;\n",
       "      } else if (!force) {\n",
       "        var cell = $(\"#8b4e9092-3f5a-4e83-abe7-0edf62576a61\").parents('.cell').data().cell;\n",
       "        cell.output_area.append_execute_result(NB_LOAD_WARNING)\n",
       "      }\n",
       "  \n",
       "    }\n",
       "  \n",
       "    if (window._bokeh_is_loading === 0) {\n",
       "      console.log(\"Bokeh: BokehJS loaded, going straight to plotting\");\n",
       "      run_inline_js();\n",
       "    } else {\n",
       "      load_libs(js_urls, function() {\n",
       "        console.log(\"Bokeh: BokehJS plotting callback run at\", now());\n",
       "        run_inline_js();\n",
       "      });\n",
       "    }\n",
       "  }(this));\n",
       "</script>"
      ]
     },
     "metadata": {},
     "output_type": "display_data"
    }
   ],
   "source": [
    "p = bokeh.charts.Line(df_us_3, x='date_idx', y='index_nsa', color='place_name', \n",
    "                      title=\"Monthly Home Price in West South Central and Pacific Division compared to U.S.\",\n",
    "                      legend=\"top_left\")\n",
    "\n",
    "bokeh.io.show(p)"
   ]
  },
  {
   "cell_type": "markdown",
   "metadata": {},
   "source": [
    " "
   ]
  },
  {
   "cell_type": "markdown",
   "metadata": {},
   "source": [
    "#### Part 2 of .csv File to Construct the 'df_states' DataFrame"
   ]
  },
  {
   "cell_type": "markdown",
   "metadata": {},
   "source": [
    "Use to 'skiprows=' argument to begin reading at row 3082.  We use a tuple to specify the columns labels. "
   ]
  },
  {
   "cell_type": "markdown",
   "metadata": {},
   "source": [
    "Beginning with row 3082 the values for the field 'index_sa' are missing.  Begin the read at row 3082 until end of file.  And since the default is to key off column names, supply column labels with a<a href= \"http://nbviewer.jupyter.org/github/RandyBetancourt/PythonForSASUsers/blob/master/Chapter%2002%20--%20Data%20Structures.ipynb#tuple\"> tuple</a> of names.  The usecols= argument uses a tuple of integers to indicate which fields are to be read from the .csv file.  Header=None is to prevent the reader from building column names at row position nrows-1, which in our case contains data values."
   ]
  },
  {
   "cell_type": "code",
   "execution_count": 29,
   "metadata": {
    "collapsed": false
   },
   "outputs": [],
   "source": [
    "df_states = pd.read_csv(\"C:\\Data\\\\HPI_master.csv\",                 \n",
    "            skiprows=3082,\n",
    "            usecols=(0, 1, 2, 3, 4, 5, 6, 7, 8),\n",
    "            names=('hpi_type', 'hpi_flavor', 'frequency', 'level', 'place_name', 'place_id', 'yr', 'period', 'index_nsa'),\n",
    "            header=None)"
   ]
  },
  {
   "cell_type": "markdown",
   "metadata": {},
   "source": [
    "    "
   ]
  },
  {
   "cell_type": "markdown",
   "metadata": {},
   "source": [
    "The columns 'yr' and 'period' are read as string values and need to be converted to datetime values.  The operation below creates the new column 'date_str' by:\n",
    "\n",
    "    1. Concatenating 'yr' with 'Q' with 'period' to form a date string \n",
    "    2. The date string is passed to the pd.to_datetime function creating the dateime column 'date_idx'"
   ]
  },
  {
   "cell_type": "markdown",
   "metadata": {},
   "source": [
    "    1. String concatenation operation to form YYYYq."
   ]
  },
  {
   "cell_type": "code",
   "execution_count": 30,
   "metadata": {
    "collapsed": false
   },
   "outputs": [],
   "source": [
    "df_states[\"date_str\"] = df_states['yr'].map(str) + 'Q' + df_states['period'].map(str)"
   ]
  },
  {
   "cell_type": "markdown",
   "metadata": {},
   "source": [
    "  "
   ]
  },
  {
   "cell_type": "markdown",
   "metadata": {},
   "source": [
    "Display the 'date_str' value using the <a href=\"http://nbviewer.jupyter.org/github/RandyBetancourt/PythonForSASUsers/blob/master/Chapter%2005%20--%20Understanding%20Indexes.ipynb#.iloc-Indexer\"> iloc indexer</a> which returns row and column location by integer positions."
   ]
  },
  {
   "cell_type": "code",
   "execution_count": 31,
   "metadata": {
    "collapsed": false
   },
   "outputs": [
    {
     "data": {
      "text/plain": [
       "'1986Q4'"
      ]
     },
     "execution_count": 31,
     "metadata": {},
     "output_type": "execute_result"
    }
   ],
   "source": [
    "df_states.iloc[0,-1]"
   ]
  },
  {
   "cell_type": "markdown",
   "metadata": {},
   "source": [
    "  "
   ]
  },
  {
   "cell_type": "markdown",
   "metadata": {},
   "source": [
    "    2. Convert the 'date_str' column into a panda datetime column called 'date_idx'. "
   ]
  },
  {
   "cell_type": "code",
   "execution_count": 32,
   "metadata": {
    "collapsed": false
   },
   "outputs": [],
   "source": [
    "df_states['date_idx'] = pd.to_datetime(df_states['date_str'])"
   ]
  },
  {
   "cell_type": "markdown",
   "metadata": {},
   "source": [
    "  "
   ]
  },
  {
   "cell_type": "markdown",
   "metadata": {},
   "source": [
    "Inspect the first 5 records in the 'df_states' DataFrame."
   ]
  },
  {
   "cell_type": "code",
   "execution_count": 33,
   "metadata": {
    "collapsed": false
   },
   "outputs": [
    {
     "data": {
      "text/html": [
       "<div>\n",
       "<table border=\"1\" class=\"dataframe\">\n",
       "  <thead>\n",
       "    <tr style=\"text-align: right;\">\n",
       "      <th></th>\n",
       "      <th>hpi_type</th>\n",
       "      <th>hpi_flavor</th>\n",
       "      <th>frequency</th>\n",
       "      <th>level</th>\n",
       "      <th>place_name</th>\n",
       "      <th>place_id</th>\n",
       "      <th>yr</th>\n",
       "      <th>period</th>\n",
       "      <th>index_nsa</th>\n",
       "      <th>date_str</th>\n",
       "      <th>date_idx</th>\n",
       "    </tr>\n",
       "  </thead>\n",
       "  <tbody>\n",
       "    <tr>\n",
       "      <th>0</th>\n",
       "      <td>traditional</td>\n",
       "      <td>all-transactions</td>\n",
       "      <td>quarterly</td>\n",
       "      <td>MSA</td>\n",
       "      <td>Abilene, TX</td>\n",
       "      <td>10180</td>\n",
       "      <td>1986</td>\n",
       "      <td>4</td>\n",
       "      <td>94.95</td>\n",
       "      <td>1986Q4</td>\n",
       "      <td>1986-10-01</td>\n",
       "    </tr>\n",
       "    <tr>\n",
       "      <th>1</th>\n",
       "      <td>traditional</td>\n",
       "      <td>all-transactions</td>\n",
       "      <td>quarterly</td>\n",
       "      <td>MSA</td>\n",
       "      <td>Abilene, TX</td>\n",
       "      <td>10180</td>\n",
       "      <td>1987</td>\n",
       "      <td>1</td>\n",
       "      <td>100.91</td>\n",
       "      <td>1987Q1</td>\n",
       "      <td>1987-01-01</td>\n",
       "    </tr>\n",
       "    <tr>\n",
       "      <th>2</th>\n",
       "      <td>traditional</td>\n",
       "      <td>all-transactions</td>\n",
       "      <td>quarterly</td>\n",
       "      <td>MSA</td>\n",
       "      <td>Abilene, TX</td>\n",
       "      <td>10180</td>\n",
       "      <td>1987</td>\n",
       "      <td>2</td>\n",
       "      <td>100.76</td>\n",
       "      <td>1987Q2</td>\n",
       "      <td>1987-04-01</td>\n",
       "    </tr>\n",
       "    <tr>\n",
       "      <th>3</th>\n",
       "      <td>traditional</td>\n",
       "      <td>all-transactions</td>\n",
       "      <td>quarterly</td>\n",
       "      <td>MSA</td>\n",
       "      <td>Abilene, TX</td>\n",
       "      <td>10180</td>\n",
       "      <td>1987</td>\n",
       "      <td>3</td>\n",
       "      <td>94.02</td>\n",
       "      <td>1987Q3</td>\n",
       "      <td>1987-07-01</td>\n",
       "    </tr>\n",
       "    <tr>\n",
       "      <th>4</th>\n",
       "      <td>traditional</td>\n",
       "      <td>all-transactions</td>\n",
       "      <td>quarterly</td>\n",
       "      <td>MSA</td>\n",
       "      <td>Abilene, TX</td>\n",
       "      <td>10180</td>\n",
       "      <td>1987</td>\n",
       "      <td>4</td>\n",
       "      <td>91.43</td>\n",
       "      <td>1987Q4</td>\n",
       "      <td>1987-10-01</td>\n",
       "    </tr>\n",
       "  </tbody>\n",
       "</table>\n",
       "</div>"
      ],
      "text/plain": [
       "      hpi_type        hpi_flavor  frequency level   place_name place_id    yr  \\\n",
       "0  traditional  all-transactions  quarterly   MSA  Abilene, TX    10180  1986   \n",
       "1  traditional  all-transactions  quarterly   MSA  Abilene, TX    10180  1987   \n",
       "2  traditional  all-transactions  quarterly   MSA  Abilene, TX    10180  1987   \n",
       "3  traditional  all-transactions  quarterly   MSA  Abilene, TX    10180  1987   \n",
       "4  traditional  all-transactions  quarterly   MSA  Abilene, TX    10180  1987   \n",
       "\n",
       "   period  index_nsa date_str   date_idx  \n",
       "0       4      94.95   1986Q4 1986-10-01  \n",
       "1       1     100.91   1987Q1 1987-01-01  \n",
       "2       2     100.76   1987Q2 1987-04-01  \n",
       "3       3      94.02   1987Q3 1987-07-01  \n",
       "4       4      91.43   1987Q4 1987-10-01  "
      ]
     },
     "execution_count": 33,
     "metadata": {},
     "output_type": "execute_result"
    }
   ],
   "source": [
    "df_states.head()"
   ]
  },
  {
   "cell_type": "markdown",
   "metadata": {},
   "source": [
    "  "
   ]
  },
  {
   "cell_type": "markdown",
   "metadata": {},
   "source": [
    "Return the number of rows and columns in the DataFrame."
   ]
  },
  {
   "cell_type": "code",
   "execution_count": 34,
   "metadata": {
    "collapsed": false
   },
   "outputs": [
    {
     "data": {
      "text/plain": [
       "(96244, 11)"
      ]
     },
     "execution_count": 34,
     "metadata": {},
     "output_type": "execute_result"
    }
   ],
   "source": [
    "df_states.shape"
   ]
  },
  {
   "cell_type": "markdown",
   "metadata": {},
   "source": [
    " "
   ]
  },
  {
   "cell_type": "markdown",
   "metadata": {},
   "source": [
    "The following SAS Data Step reads the same .csv file using FIRSTOBS= to begin reading from the arbitary row position 3082."
   ]
  },
  {
   "cell_type": "markdown",
   "metadata": {},
   "source": [
    "````\n",
    "    /********************************/\n",
    "    /* c09_read()_csv_df_states.sas */\n",
    "    /********************************/\n",
    "    data df_states;\n",
    "          infile 'C:\\Data\\HPI_master.csv' delimiter=',' missover dsd firstobs=3082; \n",
    "          informat hpi_type $12.\n",
    "                   hpi_flavor $16.\n",
    "                   frequency $9.\n",
    "                   level $28.\n",
    "                   place_name $33.\n",
    "                   place_id $8.\n",
    "                   yr $5.\n",
    "                   period $6.\n",
    "                   index_nsa 8.;\n",
    "             input hpi_type $\n",
    "                   hpi_flavor $\n",
    "                   frequency $\n",
    "                   level $\n",
    "                   place_name $\n",
    "                   place_id $\n",
    "                   yr $\n",
    "                   period $\n",
    "                   index_nsa ;\n",
    "````"
   ]
  },
  {
   "cell_type": "markdown",
   "metadata": {},
   "source": [
    "  "
   ]
  },
  {
   "cell_type": "markdown",
   "metadata": {},
   "source": [
    "Display the first 5 rows of the SAS data set df_states.  In the SAS code example below the 'yr' and 'period' variables are combined to create the SAS datetime variable 'date_idx'."
   ]
  },
  {
   "cell_type": "code",
   "execution_count": 35,
   "metadata": {
    "collapsed": false
   },
   "outputs": [
    {
     "data": {
      "image/jpeg": "[encoded data removed]",
      "text/plain": [
       "<IPython.core.display.Image object>"
      ]
     },
     "execution_count": 35,
     "metadata": {},
     "output_type": "execute_result"
    }
   ],
   "source": [
    "Image(filename='Anaconda3\\\\output\\\\df_states_output.JPG')  "
   ]
  },
  {
   "cell_type": "markdown",
   "metadata": {},
   "source": [
    " "
   ]
  },
  {
   "cell_type": "markdown",
   "metadata": {},
   "source": [
    "Inspect values for the categorical columns."
   ]
  },
  {
   "cell_type": "code",
   "execution_count": 36,
   "metadata": {
    "collapsed": false
   },
   "outputs": [
    {
     "data": {
      "text/html": [
       "<div>\n",
       "<table border=\"1\" class=\"dataframe\">\n",
       "  <thead>\n",
       "    <tr style=\"text-align: right;\">\n",
       "      <th></th>\n",
       "      <th>hpi_type</th>\n",
       "      <th>hpi_flavor</th>\n",
       "      <th>frequency</th>\n",
       "      <th>level</th>\n",
       "      <th>place_name</th>\n",
       "      <th>place_id</th>\n",
       "      <th>date_str</th>\n",
       "    </tr>\n",
       "  </thead>\n",
       "  <tbody>\n",
       "    <tr>\n",
       "      <th>count</th>\n",
       "      <td>96244</td>\n",
       "      <td>96244</td>\n",
       "      <td>96244</td>\n",
       "      <td>96244</td>\n",
       "      <td>96244</td>\n",
       "      <td>96244</td>\n",
       "      <td>96244</td>\n",
       "    </tr>\n",
       "    <tr>\n",
       "      <th>unique</th>\n",
       "      <td>4</td>\n",
       "      <td>3</td>\n",
       "      <td>1</td>\n",
       "      <td>4</td>\n",
       "      <td>464</td>\n",
       "      <td>464</td>\n",
       "      <td>166</td>\n",
       "    </tr>\n",
       "    <tr>\n",
       "      <th>top</th>\n",
       "      <td>traditional</td>\n",
       "      <td>all-transactions</td>\n",
       "      <td>quarterly</td>\n",
       "      <td>MSA</td>\n",
       "      <td>Los Angeles-Long Beach-Glendale, CA (MSAD)</td>\n",
       "      <td>31084</td>\n",
       "      <td>2002Q3</td>\n",
       "    </tr>\n",
       "    <tr>\n",
       "      <th>freq</th>\n",
       "      <td>90806</td>\n",
       "      <td>67190</td>\n",
       "      <td>96244</td>\n",
       "      <td>69460</td>\n",
       "      <td>472</td>\n",
       "      <td>472</td>\n",
       "      <td>796</td>\n",
       "    </tr>\n",
       "  </tbody>\n",
       "</table>\n",
       "</div>"
      ],
      "text/plain": [
       "           hpi_type        hpi_flavor  frequency  level  \\\n",
       "count         96244             96244      96244  96244   \n",
       "unique            4                 3          1      4   \n",
       "top     traditional  all-transactions  quarterly    MSA   \n",
       "freq          90806             67190      96244  69460   \n",
       "\n",
       "                                        place_name place_id date_str  \n",
       "count                                        96244    96244    96244  \n",
       "unique                                         464      464      166  \n",
       "top     Los Angeles-Long Beach-Glendale, CA (MSAD)    31084   2002Q3  \n",
       "freq                                           472      472      796  "
      ]
     },
     "execution_count": 36,
     "metadata": {},
     "output_type": "execute_result"
    }
   ],
   "source": [
    "df_states.describe(include=['O'])"
   ]
  },
  {
   "cell_type": "markdown",
   "metadata": {},
   "source": [
    "  "
   ]
  },
  {
   "cell_type": "markdown",
   "metadata": {},
   "source": [
    "## Returning Unique Levels of Categories"
   ]
  },
  {
   "cell_type": "markdown",
   "metadata": {},
   "source": [
    "Get unique values for column 'level'"
   ]
  },
  {
   "cell_type": "code",
   "execution_count": 37,
   "metadata": {
    "collapsed": false
   },
   "outputs": [
    {
     "data": {
      "text/plain": [
       "array(['MSA', 'State', 'USA or Census Division', 'Puerto Rico'], dtype=object)"
      ]
     },
     "execution_count": 37,
     "metadata": {},
     "output_type": "execute_result"
    }
   ],
   "source": [
    "df_states.level.unique()"
   ]
  },
  {
   "cell_type": "markdown",
   "metadata": {},
   "source": [
    "  "
   ]
  },
  {
   "cell_type": "markdown",
   "metadata": {},
   "source": [
    "PROC SQL used to obtain unique values from the variable 'level'."
   ]
  },
  {
   "cell_type": "markdown",
   "metadata": {},
   "source": [
    "````\n",
    "    /******************************************************/\n",
    "    /* c09_select_unique_level.sas                        */\n",
    "    /******************************************************/\n",
    "    56       proc sql;\n",
    "    57          select unique level\n",
    "    58          from df_states;\n",
    "    59       quit;\n",
    "````"
   ]
  },
  {
   "cell_type": "code",
   "execution_count": 38,
   "metadata": {
    "collapsed": false
   },
   "outputs": [
    {
     "data": {
      "image/jpeg": "[encoded data removed]",
      "text/plain": [
       "<IPython.core.display.Image object>"
      ]
     },
     "execution_count": 38,
     "metadata": {},
     "output_type": "execute_result"
    }
   ],
   "source": [
    "Image(filename='Anaconda3\\\\output\\\\level_unique_values.JPG')  "
   ]
  },
  {
   "cell_type": "markdown",
   "metadata": {},
   "source": [
    "  "
   ]
  },
  {
   "cell_type": "markdown",
   "metadata": {},
   "source": [
    "Start by creating a <a href=\"http://nbviewer.jupyter.org/github/RandyBetancourt/PythonForSASUsers/blob/master/Chapter%2002%20--%20Data%20Structures.ipynb#list\">list</a> called 'lvls' using the .select_dtypes() attribute to include columns with dtype value 'O' selecting columns with string values."
   ]
  },
  {
   "cell_type": "code",
   "execution_count": 39,
   "metadata": {
    "collapsed": true
   },
   "outputs": [],
   "source": [
    "lvls = list(df_states.select_dtypes(include=['O']).columns)"
   ]
  },
  {
   "cell_type": "markdown",
   "metadata": {},
   "source": [
    " "
   ]
  },
  {
   "cell_type": "markdown",
   "metadata": {},
   "source": [
    "Inspect the 'lvls' list."
   ]
  },
  {
   "cell_type": "code",
   "execution_count": 40,
   "metadata": {
    "collapsed": false
   },
   "outputs": [
    {
     "data": {
      "text/plain": [
       "['hpi_type',\n",
       " 'hpi_flavor',\n",
       " 'frequency',\n",
       " 'level',\n",
       " 'place_name',\n",
       " 'place_id',\n",
       " 'date_str']"
      ]
     },
     "execution_count": 40,
     "metadata": {},
     "output_type": "execute_result"
    }
   ],
   "source": [
    "lvls "
   ]
  },
  {
   "cell_type": "markdown",
   "metadata": {},
   "source": [
    " "
   ]
  },
  {
   "cell_type": "markdown",
   "metadata": {},
   "source": [
    "If we had a long list of columns needing to determine unique values the approach above becomes tedious; an iterative approach is called for using the for statement shown below."
   ]
  },
  {
   "cell_type": "code",
   "execution_count": 41,
   "metadata": {
    "collapsed": false
   },
   "outputs": [
    {
     "name": "stdout",
     "output_type": "stream",
     "text": [
      "hpi_type levels are: ['traditional' 'non-metro' 'distress-free' 'developmental']\n",
      "hpi_flavor levels are: ['all-transactions' 'expanded-data' 'purchase-only']\n",
      "frequency levels are: ['quarterly']\n",
      "level levels are: ['MSA' 'State' 'USA or Census Division' 'Puerto Rico']\n"
     ]
    }
   ],
   "source": [
    "for item in lvls[:4]:\n",
    "   print(item, 'levels are:', df_states[item].unique())    "
   ]
  },
  {
   "cell_type": "markdown",
   "metadata": {},
   "source": [
    " "
   ]
  },
  {
   "cell_type": "markdown",
   "metadata": {},
   "source": [
    "Using the levels for the categorial columns displayed above, filter the 'df_state' DataFrame to match the 'df_us' Dataframe.  For this row slicing operation, create a boolean mask and combine it with the .loc indexer described <a href=\"http://nbviewer.jupyter.org/github/RandyBetancourt/PythonForSASUsers/blob/master/Chapter%2005%20--%20Understanding%20Indexes.ipynb#Mixing-.loc-Indexer-with-Boolean-Operators\">here</a>.  This is a common pattern for filtering rows or column values.  "
   ]
  },
  {
   "cell_type": "markdown",
   "metadata": {},
   "source": [
    "Create a boolean mask for the filtering criteria."
   ]
  },
  {
   "cell_type": "code",
   "execution_count": 42,
   "metadata": {
    "collapsed": false
   },
   "outputs": [],
   "source": [
    "mask = (df_states['hpi_type'] == 'traditional') & (df_states['hpi_flavor'] == 'purchase-only') & \\\n",
    "       (df_states['level'] == 'State')"
   ]
  },
  {
   "cell_type": "markdown",
   "metadata": {},
   "source": [
    " "
   ]
  },
  {
   "cell_type": "markdown",
   "metadata": {},
   "source": [
    "Apply the mask.  Notice the 'df_states' DataFrame is updated in place with this assignment.  The original 'df_states' DataFrame had 96244 rows. "
   ]
  },
  {
   "cell_type": "code",
   "execution_count": 43,
   "metadata": {
    "collapsed": false
   },
   "outputs": [],
   "source": [
    "df_states = df_states.loc[mask]"
   ]
  },
  {
   "cell_type": "markdown",
   "metadata": {},
   "source": [
    " "
   ]
  },
  {
   "cell_type": "markdown",
   "metadata": {},
   "source": [
    "The .shape attribute returns the new row and column count for the 'df_states' DataFrame."
   ]
  },
  {
   "cell_type": "code",
   "execution_count": 44,
   "metadata": {
    "collapsed": false
   },
   "outputs": [
    {
     "data": {
      "text/plain": [
       "(5202, 11)"
      ]
     },
     "execution_count": 44,
     "metadata": {},
     "output_type": "execute_result"
    }
   ],
   "source": [
    "df_states.shape"
   ]
  },
  {
   "cell_type": "markdown",
   "metadata": {},
   "source": [
    " "
   ]
  },
  {
   "cell_type": "markdown",
   "metadata": {},
   "source": [
    "#### Minimums and Maximums for Part 2, 'df_states' DataFrame"
   ]
  },
  {
   "cell_type": "markdown",
   "metadata": {},
   "source": [
    "Index the column 'index_nsa' in order to find the maximum and minimum for the 'df_states' DataFrame."
   ]
  },
  {
   "cell_type": "code",
   "execution_count": 45,
   "metadata": {
    "collapsed": false
   },
   "outputs": [],
   "source": [
    "df_states.set_index('index_nsa', inplace=True, drop=False)"
   ]
  },
  {
   "cell_type": "markdown",
   "metadata": {},
   "source": [
    "  "
   ]
  },
  {
   "cell_type": "code",
   "execution_count": 46,
   "metadata": {
    "collapsed": false
   },
   "outputs": [
    {
     "name": "stdout",
     "output_type": "stream",
     "text": [
      "Max value for index_nsa: 503.11\n",
      "Min value for index_nsa: 82.37\n"
     ]
    }
   ],
   "source": [
    "print('Max value for index_nsa:', df_states['index_nsa'].max())\n",
    "print('Min value for index_nsa:', df_states['index_nsa'].min())"
   ]
  },
  {
   "cell_type": "markdown",
   "metadata": {},
   "source": [
    "PROC SQL for finding min and max for the variable 'index_nsa'."
   ]
  },
  {
   "cell_type": "markdown",
   "metadata": {},
   "source": [
    "````\n",
    "    /******************************************************/\n",
    "    /* c09_min_max_index_nsa.sas                          */\n",
    "    /******************************************************/\n",
    "37      proc sql;\n",
    "38         select max (index_nsa) as max_index_nsa,\n",
    "39                min (index_nsa) as min_index_nsa\n",
    "40         from df_states\n",
    "41         where hpi_type ='traditional' and  hpi_flavor = 'purchase-only' and\n",
    "42          level = 'State';\n",
    "43      quit;\n",
    "````"
   ]
  },
  {
   "cell_type": "code",
   "execution_count": 47,
   "metadata": {
    "collapsed": false
   },
   "outputs": [
    {
     "data": {
      "image/jpeg": "[encoded data removed]",
      "text/plain": [
       "<IPython.core.display.Image object>"
      ]
     },
     "execution_count": 47,
     "metadata": {},
     "output_type": "execute_result"
    }
   ],
   "source": [
    "Image(filename='Anaconda3\\\\output\\\\max_min_index_nsa.JPG')"
   ]
  },
  {
   "cell_type": "markdown",
   "metadata": {},
   "source": [
    "#### Filter for  2016"
   ]
  },
  {
   "cell_type": "markdown",
   "metadata": {},
   "source": [
    "For 2016, return the rows with the largest and smallest value for 'index_nsa'.  \n",
    "\n",
    "In order to find the row with the lowest 'index_nsa' value, the example below uses a multi-step process:\n",
    "    1. Create a boolean mask filtering the rows with 'date_idx' between January 1, 2016 and December 31, 2016\n",
    "    2. Use the .loc indexer applying the mask to create the 'df_2016' DataFrame\n",
    "    3. Use the .idxmin() attribute to return the row having the minimum 'index_nsa' value\n",
    "    4. Use the .idxmax() attribute to return the row having the maximum 'index_nsa' value\n",
    "    \n",
    "Keep in mind that the 'df_states' DataFrame has already been filtered previously."
   ]
  },
  {
   "cell_type": "markdown",
   "metadata": {},
   "source": [
    "Create the boolean mask for the filtering criteria."
   ]
  },
  {
   "cell_type": "code",
   "execution_count": 48,
   "metadata": {
    "collapsed": false
   },
   "outputs": [],
   "source": [
    "mask1 = (df_states['date_idx'] >= '2016-01-01') & (df_states['date_idx'] <= '2016-12-31')"
   ]
  },
  {
   "cell_type": "markdown",
   "metadata": {},
   "source": [
    " "
   ]
  },
  {
   "cell_type": "markdown",
   "metadata": {},
   "source": [
    "Apply the mask using the <a href=\"http://nbviewer.jupyter.org/github/RandyBetancourt/PythonForSASUsers/blob/master/Chapter%2005%20--%20Understanding%20Indexes.ipynb#.loc-Indexer\">.loc indexer</a> "
   ]
  },
  {
   "cell_type": "code",
   "execution_count": 49,
   "metadata": {
    "collapsed": false
   },
   "outputs": [],
   "source": [
    "df_2016 = df_states.loc[mask1]"
   ]
  },
  {
   "cell_type": "markdown",
   "metadata": {},
   "source": [
    "    "
   ]
  },
  {
   "cell_type": "markdown",
   "metadata": {},
   "source": [
    "## Return a Row using a Minimum Value"
   ]
  },
  {
   "cell_type": "markdown",
   "metadata": {},
   "source": [
    "Use the .idxmin() method to return the minimum 'index_nsa' value."
   ]
  },
  {
   "cell_type": "code",
   "execution_count": 50,
   "metadata": {
    "collapsed": false
   },
   "outputs": [
    {
     "data": {
      "text/plain": [
       "hpi_type              traditional\n",
       "hpi_flavor          purchase-only\n",
       "frequency               quarterly\n",
       "level                       State\n",
       "place_name            Connecticut\n",
       "place_id                       CT\n",
       "yr                           2016\n",
       "period                          1\n",
       "index_nsa                  165.81\n",
       "date_str                   2016Q1\n",
       "date_idx      2016-01-01 00:00:00\n",
       "Name: 165.81, dtype: object"
      ]
     },
     "execution_count": 50,
     "metadata": {},
     "output_type": "execute_result"
    }
   ],
   "source": [
    "df_2016.ix[df_2016['index_nsa'].idxmin()]"
   ]
  },
  {
   "cell_type": "markdown",
   "metadata": {},
   "source": [
    "  "
   ]
  },
  {
   "cell_type": "markdown",
   "metadata": {},
   "source": [
    "## Return a Row using a Maximum Value"
   ]
  },
  {
   "cell_type": "markdown",
   "metadata": {},
   "source": [
    "Use the .idxmax() attribute to return the row with the maximum 'index_nsa' value."
   ]
  },
  {
   "cell_type": "code",
   "execution_count": 51,
   "metadata": {
    "collapsed": false
   },
   "outputs": [
    {
     "data": {
      "text/plain": [
       "hpi_type               traditional\n",
       "hpi_flavor           purchase-only\n",
       "frequency                quarterly\n",
       "level                        State\n",
       "place_name    District of Columbia\n",
       "place_id                        DC\n",
       "yr                            2016\n",
       "period                           2\n",
       "index_nsa                   501.35\n",
       "date_str                    2016Q2\n",
       "date_idx       2016-04-01 00:00:00\n",
       "Name: 501.35, dtype: object"
      ]
     },
     "execution_count": 51,
     "metadata": {},
     "output_type": "execute_result"
    }
   ],
   "source": [
    "df_2016.ix[df_2016['index_nsa'].idxmax()]"
   ]
  },
  {
   "cell_type": "markdown",
   "metadata": {},
   "source": [
    " "
   ]
  },
  {
   "cell_type": "markdown",
   "metadata": {},
   "source": [
    "The .min and .max attribute return minimum and maximum respectively.  The .idxmin() attribute returns the entire row as a Series.  This enables the ability to use other column values, like 'place_name' or 'place_id' as further filtering and selection criteria."
   ]
  },
  {
   "cell_type": "markdown",
   "metadata": {},
   "source": [
    "  "
   ]
  },
  {
   "cell_type": "markdown",
   "metadata": {},
   "source": [
    "The .min() and .max attributes return a scalar."
   ]
  },
  {
   "cell_type": "code",
   "execution_count": 52,
   "metadata": {
    "collapsed": false
   },
   "outputs": [
    {
     "name": "stdout",
     "output_type": "stream",
     "text": [
      "2016 minimum value for 'index_nsa': 165.81\n",
      "2016 maximum value for 'index_nsa': 501.35\n"
     ]
    }
   ],
   "source": [
    "print(\"2016 minimum value for 'index_nsa':\", df_2016.index_nsa.min())\n",
    "print(\"2016 maximum value for 'index_nsa':\", df_2016.index_nsa.max())"
   ]
  },
  {
   "cell_type": "markdown",
   "metadata": {},
   "source": [
    " "
   ]
  },
  {
   "cell_type": "markdown",
   "metadata": {},
   "source": [
    "The SAS Data Step above used to the read .csv file does not create a SAS datetime variable.  This is illustrated below. \n",
    "\n",
    "The SAS example below uses a pair of PUT functions nested inside the YYQ function to create the SAS date variable 'date_idx'.  The PUT functions map the variables 'yr' and 'period' from character to numeric.  The YYQ function described <a href=\"http://support.sas.com/documentation/cdl/en/lrdict/64316/HTML/default/viewer.htm#a000199346.htm\">here</a> returns a SAS datetime values from year and quarter values.\n",
    "\n",
    "The Data Step below is continued from the SAS Data Step example above used to read the .csv file."
   ]
  },
  {
   "cell_type": "markdown",
   "metadata": {},
   "source": [
    "````\n",
    "    /******************************************************/\n",
    "    /* c09_min_max_index_nsa_for2016.sas                  */\n",
    "    /******************************************************/\n",
    "    12      date_idx=yyq(put(yr,8.),put(period,8.));\n",
    "    13      format date_idx yyq10.;\n",
    "    14      \n",
    "    15      proc sql;\n",
    "    16         select max (index_nsa) as max_index_nsa,\n",
    "    17                min (index_nsa) as min_index_nsa\n",
    "    18         from df_states\n",
    "    19         where hpi_type ='traditional' and\n",
    "    20               hpi_flavor = 'purchase-only' and\n",
    "    21               level = 'State' and\n",
    "    22               date_idx between '01Jan2016'd and '31Dec2016'd;\n",
    "    23      quit;\n",
    "````"
   ]
  },
  {
   "cell_type": "code",
   "execution_count": 53,
   "metadata": {
    "collapsed": false
   },
   "outputs": [
    {
     "data": {
      "image/jpeg": "[encoded data removed]",
      "text/plain": [
       "<IPython.core.display.Image object>"
      ]
     },
     "execution_count": 53,
     "metadata": {},
     "output_type": "execute_result"
    }
   ],
   "source": [
    "Image(filename='Anaconda3\\\\output\\\\2016_min_max.JPG')  "
   ]
  },
  {
   "cell_type": "markdown",
   "metadata": {},
   "source": [
    " "
   ]
  },
  {
   "cell_type": "markdown",
   "metadata": {},
   "source": [
    "#### Answer to question #2\n",
    "\n",
    "    2. Where are the highest and lowest values for 'traditional', 'purchase-only' homes in the U.S. in 2016? \n",
    "    \n",
    "**Lowest home prices are in the state of Connecticut** and the **highest are in Washington, D.C.**  \n",
    "\n",
    "Recall the 'df_states' DataFrame was filtered for column 'hpi_type' = 'traditional' **and** column 'hpi_flavor' = 'purchase-only' **and** level='state'.  This DataFrame was subsequently filtered to create the DataFrame 'df_2016' in which we searched for the lowest and highest home index values."
   ]
  },
  {
   "cell_type": "markdown",
   "metadata": {},
   "source": [
    "## Convert Time Series from one Frequency to Another"
   ]
  },
  {
   "cell_type": "markdown",
   "metadata": {},
   "source": [
    "In order to answer the last question:\n",
    "    How do the highest and lowest home values market segments compare to the aggregate U.S. home prices?\n",
    "    \n",
    "Information from the 'df_states' and 'df_us' DataFrame need to be combined.  The 'df_us' monthly values need to be downsampled to quarterly.  In other words, aggregated to a lower frequency.  In doing so, the frequency in both DataFrames become quarterly. "
   ]
  },
  {
   "cell_type": "markdown",
   "metadata": {},
   "source": [
    "In order to answer the 3rd question above, we need to conduct the following:\n",
    "    1. Set the index for 'df_us' DataFrame to the column 'date_idx'\n",
    "    2. Resample the 'df_us' DataFrame aggregating from monthly to quarterly using mean values\n",
    "    3. Create a column in the 'df_us' labeled 'place_name' with the value \"U.S. Aggregate\".  \n",
    "    4. Extract rows from 'df_states' DataFrame for lowest and highest home values using the column 'place_name' \n",
    "    5. Merge (concatenate) the resampled 'df_us' DataFrame with the high & low value rows from the extract operation\n",
    "    6. Plot the resulting 'DataFrame'\n"
   ]
  },
  {
   "cell_type": "markdown",
   "metadata": {},
   "source": [
    " "
   ]
  },
  {
   "cell_type": "markdown",
   "metadata": {},
   "source": [
    "Start by examining the quarterly date values from the 'df_states' DataFrame... "
   ]
  },
  {
   "cell_type": "code",
   "execution_count": 54,
   "metadata": {
    "collapsed": false
   },
   "outputs": [
    {
     "data": {
      "text/plain": [
       "index_nsa\n",
       "100.00   1991-01-01\n",
       "100.72   1991-04-01\n",
       "101.58   1991-07-01\n",
       "102.48   1991-10-01\n",
       "Name: date_idx, dtype: datetime64[ns]"
      ]
     },
     "execution_count": 54,
     "metadata": {},
     "output_type": "execute_result"
    }
   ],
   "source": [
    " df_states.iloc[0:4, -1]"
   ]
  },
  {
   "cell_type": "markdown",
   "metadata": {},
   "source": [
    " "
   ]
  },
  {
   "cell_type": "markdown",
   "metadata": {},
   "source": [
    "...and compare with the monthly date values from the 'df_us' DataFrame."
   ]
  },
  {
   "cell_type": "code",
   "execution_count": 55,
   "metadata": {
    "collapsed": false
   },
   "outputs": [
    {
     "data": {
      "text/plain": [
       "place_name\n",
       "East North Central Division    100.00\n",
       "East North Central Division    101.03\n",
       "East North Central Division    101.40\n",
       "East North Central Division    101.79\n",
       "Name: index_nsa, dtype: float64"
      ]
     },
     "execution_count": 55,
     "metadata": {},
     "output_type": "execute_result"
    }
   ],
   "source": [
    "df_us.iloc[0:4, 7]"
   ]
  },
  {
   "cell_type": "markdown",
   "metadata": {},
   "source": [
    "  "
   ]
  },
  {
   "cell_type": "markdown",
   "metadata": {},
   "source": [
    "#### 1. Set the index for 'df_us' DataFrame to the column 'date_idx'"
   ]
  },
  {
   "cell_type": "code",
   "execution_count": 56,
   "metadata": {
    "collapsed": false
   },
   "outputs": [],
   "source": [
    "df_us.set_index('date_idx', inplace=True, drop=False)"
   ]
  },
  {
   "cell_type": "markdown",
   "metadata": {},
   "source": [
    " "
   ]
  },
  {
   "cell_type": "markdown",
   "metadata": {},
   "source": [
    "####    2. Resample the 'df_us' DataFrame aggregating from monthly to quarterly using mean values"
   ]
  },
  {
   "cell_type": "markdown",
   "metadata": {},
   "source": [
    "pandas can perform resampling operations during frequency conversion (in this case, an aggregation of monthly values into quarterly values for the 'df_us' DataFrame). This is a common pattern in time series analysis.\n",
    "\n",
    "The .resample() method is a time-based <a href=\" \">needs a link to groupby</a> operation, followed by a reduction method on each of its groups.  Frequency conversion doc is found <a href=\"http://pandas.pydata.org/pandas-docs/stable/timeseries.html#frequency-conversion\"> here</a>.  The .resample() method accepts frequency offset suffixes that are listed <a href=\"http://pandas.pydata.org/pandas-docs/stable/timeseries.html#anchored-offsets\"> here</a>. \n",
    " \n",
    "In order to align the monthly date values found in the 'df_us' DataFrame, with the quarterly date values in the 'df_states' DataFrame, use the 'QS' date offset.  'QS' sets the date value frequency to quarterly with year ending in December.  The resulting DataFrame is called 'df_us_qtr'."
   ]
  },
  {
   "cell_type": "code",
   "execution_count": 57,
   "metadata": {
    "collapsed": false
   },
   "outputs": [],
   "source": [
    "df_us_qtr = df_us.resample('QS').mean()"
   ]
  },
  {
   "cell_type": "markdown",
   "metadata": {},
   "source": [
    "  "
   ]
  },
  {
   "cell_type": "markdown",
   "metadata": {},
   "source": [
    "#### 3. Create a column in the 'df_us' labeled 'place_name' with the value \"U.S. Aggregate\". "
   ]
  },
  {
   "cell_type": "code",
   "execution_count": 58,
   "metadata": {
    "collapsed": false
   },
   "outputs": [],
   "source": [
    "df_us_qtr['place_name'] = 'U.S. Aggregate'"
   ]
  },
  {
   "cell_type": "markdown",
   "metadata": {
    "collapsed": false
   },
   "source": [
    "  "
   ]
  },
  {
   "cell_type": "markdown",
   "metadata": {},
   "source": [
    "#### 4. Extract rows for the lowest and highest home values using the df_us_qtr['place_name'] column"
   ]
  },
  {
   "cell_type": "markdown",
   "metadata": {},
   "source": [
    " Set the <a href=\"http://nbviewer.jupyter.org/github/RandyBetancourt/PythonForSASUsers/blob/master/Chapter%2005%20--%20Understanding%20Indexes.ipynb#Setting-and-resetting-Indicies\">index</a> to the column 'place_name' and extract the rows using the <a href=\"http://nbviewer.jupyter.org/github/RandyBetancourt/PythonForSASUsers/blob/master/Chapter%2005%20--%20Understanding%20Indexes.ipynb#.loc-Indexer\">.loc indexer</a>."
   ]
  },
  {
   "cell_type": "code",
   "execution_count": 59,
   "metadata": {
    "collapsed": true
   },
   "outputs": [],
   "source": [
    "df_states.set_index('place_name', inplace=True, drop=False)"
   ]
  },
  {
   "cell_type": "markdown",
   "metadata": {},
   "source": [
    " "
   ]
  },
  {
   "cell_type": "markdown",
   "metadata": {},
   "source": [
    "Create a boolean mask using the logical OR operator ( | )."
   ]
  },
  {
   "cell_type": "code",
   "execution_count": 60,
   "metadata": {
    "collapsed": false
   },
   "outputs": [],
   "source": [
    "mask = (df_states['place_name'] == 'Connecticut') | (df_states['place_name'] == 'District of Columbia')"
   ]
  },
  {
   "cell_type": "markdown",
   "metadata": {},
   "source": [
    " "
   ]
  },
  {
   "cell_type": "markdown",
   "metadata": {},
   "source": [
    "Apply the mask using the <a href=\"http://nbviewer.jupyter.org/github/RandyBetancourt/PythonForSASUsers/blob/master/Chapter%2005%20--%20Understanding%20Indexes.ipynb#.loc-Indexer\">.loc indexer</a> to create the 'hi_lo' DataFrame."
   ]
  },
  {
   "cell_type": "code",
   "execution_count": 61,
   "metadata": {
    "collapsed": false
   },
   "outputs": [],
   "source": [
    "hi_lo = df_states.loc[mask]"
   ]
  },
  {
   "cell_type": "markdown",
   "metadata": {},
   "source": [
    " "
   ]
  },
  {
   "cell_type": "markdown",
   "metadata": {},
   "source": [
    "<a href=\"http://nbviewer.jupyter.org/github/RandyBetancourt/PythonForSASUsers/blob/master/Chapter%2005%20--%20Understanding%20Indexes.ipynb#Setting-and-resetting-Indicies\">Reset the index</a> since the 'hi_lo' DataFrame will be concatenated (merged) with the resampled 'us_df' DataFrame."
   ]
  },
  {
   "cell_type": "code",
   "execution_count": 62,
   "metadata": {
    "collapsed": false
   },
   "outputs": [],
   "source": [
    "hi_lo.reset_index(drop=True, inplace=True)"
   ]
  },
  {
   "cell_type": "markdown",
   "metadata": {
    "collapsed": false
   },
   "source": [
    " "
   ]
  },
  {
   "cell_type": "markdown",
   "metadata": {},
   "source": [
    "#### 5. Merge (concatenate) the resampled 'df_us' DataFrame with the high & low value rows from the extract operation"
   ]
  },
  {
   "cell_type": "markdown",
   "metadata": {
    "collapsed": false
   },
   "source": [
    "Reset the index, since the 'df_us_qtr' DataFrame will be merged with the 'hi_lo' DataFrame created above.  "
   ]
  },
  {
   "cell_type": "code",
   "execution_count": 63,
   "metadata": {
    "collapsed": false
   },
   "outputs": [],
   "source": [
    "df_us_qtr.reset_index(inplace=True)"
   ]
  },
  {
   "cell_type": "markdown",
   "metadata": {},
   "source": [
    " "
   ]
  },
  {
   "cell_type": "markdown",
   "metadata": {},
   "source": [
    "Create a <a href=\"http://nbviewer.jupyter.org/github/RandyBetancourt/PythonForSASUsers/blob/master/Chapter%2002%20--%20Data%20Structures.ipynb#list\">list</a> of DataFrames to be included in the concatenation operation."
   ]
  },
  {
   "cell_type": "code",
   "execution_count": 64,
   "metadata": {
    "collapsed": true
   },
   "outputs": [],
   "source": [
    "frames = [df_us_qtr, hi_lo]"
   ]
  },
  {
   "cell_type": "markdown",
   "metadata": {},
   "source": [
    " "
   ]
  },
  {
   "cell_type": "markdown",
   "metadata": {},
   "source": [
    "Create the DataFrame 'plot_hi_low' concatenating values for the lowest home prices (Connecticut), with the highest ('District of Columbia') together with the U.S. aggregate.  This is accomplished using the <a href=\" \">needs a link to concat</a> operation."
   ]
  },
  {
   "cell_type": "code",
   "execution_count": 65,
   "metadata": {
    "collapsed": false
   },
   "outputs": [],
   "source": [
    "plot_hi_low = pd.concat(frames)"
   ]
  },
  {
   "cell_type": "markdown",
   "metadata": {},
   "source": [
    " "
   ]
  },
  {
   "cell_type": "markdown",
   "metadata": {
    "collapsed": false
   },
   "source": [
    "## Plotting with bokeh  "
   ]
  },
  {
   "cell_type": "code",
   "execution_count": 66,
   "metadata": {
    "collapsed": false
   },
   "outputs": [
    {
     "data": {
      "text/html": [
       "\n",
       "\n",
       "    <div class=\"bk-root\">\n",
       "        <div class=\"plotdiv\" id=\"b2dce38f-805a-43f3-a50d-f626d7a75ffb\"></div>\n",
       "    </div>\n",
       "<script type=\"text/javascript\">\n",
       "  \n",
       "  (function(global) {\n",
       "    function now() {\n",
       "      return new Date();\n",
       "    }\n",
       "  \n",
       "    var force = \"\";\n",
       "  \n",
       "    if (typeof (window._bokeh_onload_callbacks) === \"undefined\" || force !== \"\") {\n",
       "      window._bokeh_onload_callbacks = [];\n",
       "      window._bokeh_is_loading = undefined;\n",
       "    }\n",
       "  \n",
       "  \n",
       "    \n",
       "    if (typeof (window._bokeh_timeout) === \"undefined\" || force !== \"\") {\n",
       "      window._bokeh_timeout = Date.now() + 0;\n",
       "      window._bokeh_failed_load = false;\n",
       "    }\n",
       "  \n",
       "    var NB_LOAD_WARNING = {'data': {'text/html':\n",
       "       \"<div style='background-color: #fdd'>\\n\"+\n",
       "       \"<p>\\n\"+\n",
       "       \"BokehJS does not appear to have successfully loaded. If loading BokehJS from CDN, this \\n\"+\n",
       "       \"may be due to a slow or bad network connection. Possible fixes:\\n\"+\n",
       "       \"</p>\\n\"+\n",
       "       \"<ul>\\n\"+\n",
       "       \"<li>re-rerun `output_notebook()` to attempt to load from CDN again, or</li>\\n\"+\n",
       "       \"<li>use INLINE resources instead, as so:</li>\\n\"+\n",
       "       \"</ul>\\n\"+\n",
       "       \"<code>\\n\"+\n",
       "       \"from bokeh.resources import INLINE\\n\"+\n",
       "       \"output_notebook(resources=INLINE)\\n\"+\n",
       "       \"</code>\\n\"+\n",
       "       \"</div>\"}};\n",
       "  \n",
       "    function display_loaded() {\n",
       "      if (window.Bokeh !== undefined) {\n",
       "        Bokeh.$(\"#b2dce38f-805a-43f3-a50d-f626d7a75ffb\").text(\"BokehJS successfully loaded.\");\n",
       "      } else if (Date.now() < window._bokeh_timeout) {\n",
       "        setTimeout(display_loaded, 100)\n",
       "      }\n",
       "    }\n",
       "  \n",
       "    function run_callbacks() {\n",
       "      window._bokeh_onload_callbacks.forEach(function(callback) { callback() });\n",
       "      delete window._bokeh_onload_callbacks\n",
       "      console.info(\"Bokeh: all callbacks have finished\");\n",
       "    }\n",
       "  \n",
       "    function load_libs(js_urls, callback) {\n",
       "      window._bokeh_onload_callbacks.push(callback);\n",
       "      if (window._bokeh_is_loading > 0) {\n",
       "        console.log(\"Bokeh: BokehJS is being loaded, scheduling callback at\", now());\n",
       "        return null;\n",
       "      }\n",
       "      if (js_urls == null || js_urls.length === 0) {\n",
       "        run_callbacks();\n",
       "        return null;\n",
       "      }\n",
       "      console.log(\"Bokeh: BokehJS not loaded, scheduling load and callback at\", now());\n",
       "      window._bokeh_is_loading = js_urls.length;\n",
       "      for (var i = 0; i < js_urls.length; i++) {\n",
       "        var url = js_urls[i];\n",
       "        var s = document.createElement('script');\n",
       "        s.src = url;\n",
       "        s.async = false;\n",
       "        s.onreadystatechange = s.onload = function() {\n",
       "          window._bokeh_is_loading--;\n",
       "          if (window._bokeh_is_loading === 0) {\n",
       "            console.log(\"Bokeh: all BokehJS libraries loaded\");\n",
       "            run_callbacks()\n",
       "          }\n",
       "        };\n",
       "        s.onerror = function() {\n",
       "          console.warn(\"failed to load library \" + url);\n",
       "        };\n",
       "        console.log(\"Bokeh: injecting script tag for BokehJS library: \", url);\n",
       "        document.getElementsByTagName(\"head\")[0].appendChild(s);\n",
       "      }\n",
       "    };var element = document.getElementById(\"b2dce38f-805a-43f3-a50d-f626d7a75ffb\");\n",
       "    if (element == null) {\n",
       "      console.log(\"Bokeh: ERROR: autoload.js configured with elementid 'b2dce38f-805a-43f3-a50d-f626d7a75ffb' but no matching script tag was found. \")\n",
       "      return false;\n",
       "    }\n",
       "  \n",
       "    var js_urls = [];\n",
       "  \n",
       "    var inline_js = [\n",
       "      function(Bokeh) {\n",
       "        Bokeh.$(function() {\n",
       "            var docs_json = {\"98ca5cce-280b-455e-a5a6-406e325be2ed\":{\"roots\":{\"references\":[{\"attributes\":{},\"id\":\"2c9a22f1-8d2e-4455-bdcb-9240a9a82ad1\",\"type\":\"BasicTickFormatter\"},{\"attributes\":{\"line_color\":{\"value\":\"#407ee7\"},\"line_width\":{\"value\":2},\"x\":{\"field\":\"x_values\"},\"y\":{\"field\":\"y_values\"}},\"id\":\"812bff22-92de-4cce-ba67-742777b41633\",\"type\":\"Line\"},{\"attributes\":{\"days\":[1,4,7,10,13,16,19,22,25,28]},\"id\":\"fab0c66b-8130-4a79-b087-3b3293aadf5b\",\"type\":\"DaysTicker\"},{\"attributes\":{\"line_color\":{\"value\":\"#5ab738\"},\"line_width\":{\"value\":2},\"x\":{\"field\":\"x_values\"},\"y\":{\"field\":\"y_values\"}},\"id\":\"7f374001-61ad-47b4-9d02-005f5af646e2\",\"type\":\"Line\"},{\"attributes\":{\"months\":[0,2,4,6,8,10]},\"id\":\"994850f1-af11-486e-893d-a5814a121714\",\"type\":\"MonthsTicker\"},{\"attributes\":{\"callback\":null,\"column_names\":[\"x_values\",\"y_values\"],\"data\":{\"chart_index\":[{\"place_name\":\"District of Columbia\"},{\"place_name\":\"District of Columbia\"},{\"place_name\":\"District of Columbia\"},{\"place_name\":\"District of Columbia\"},{\"place_name\":\"District of Columbia\"},{\"place_name\":\"District of Columbia\"},{\"place_name\":\"District of Columbia\"},{\"place_name\":\"District of Columbia\"},{\"place_name\":\"District of Columbia\"},{\"place_name\":\"District of Columbia\"},{\"place_name\":\"District of Columbia\"},{\"place_name\":\"District of Columbia\"},{\"place_name\":\"District of Columbia\"},{\"place_name\":\"District of Columbia\"},{\"place_name\":\"District of Columbia\"},{\"place_name\":\"District of Columbia\"},{\"place_name\":\"District of Columbia\"},{\"place_name\":\"District of Columbia\"},{\"place_name\":\"District of Columbia\"},{\"place_name\":\"District of Columbia\"},{\"place_name\":\"District of Columbia\"},{\"place_name\":\"District of Columbia\"},{\"place_name\":\"District of Columbia\"},{\"place_name\":\"District of Columbia\"},{\"place_name\":\"District of Columbia\"},{\"place_name\":\"District of Columbia\"},{\"place_name\":\"District of Columbia\"},{\"place_name\":\"District of Columbia\"},{\"place_name\":\"District of Columbia\"},{\"place_name\":\"District of Columbia\"},{\"place_name\":\"District of Columbia\"},{\"place_name\":\"District of Columbia\"},{\"place_name\":\"District of Columbia\"},{\"place_name\":\"District of Columbia\"},{\"place_name\":\"District of Columbia\"},{\"place_name\":\"District of Columbia\"},{\"place_name\":\"District of Columbia\"},{\"place_name\":\"District of Columbia\"},{\"place_name\":\"District of Columbia\"},{\"place_name\":\"District of Columbia\"},{\"place_name\":\"District of Columbia\"},{\"place_name\":\"District of Columbia\"},{\"place_name\":\"District of Columbia\"},{\"place_name\":\"District of Columbia\"},{\"place_name\":\"District of Columbia\"},{\"place_name\":\"District of Columbia\"},{\"place_name\":\"District of Columbia\"},{\"place_name\":\"District of Columbia\"},{\"place_name\":\"District of Columbia\"},{\"place_name\":\"District of Columbia\"},{\"place_name\":\"District of Columbia\"},{\"place_name\":\"District of Columbia\"},{\"place_name\":\"District of Columbia\"},{\"place_name\":\"District of Columbia\"},{\"place_name\":\"District of Columbia\"},{\"place_name\":\"District of Columbia\"},{\"place_name\":\"District of Columbia\"},{\"place_name\":\"District of Columbia\"},{\"place_name\":\"District of Columbia\"},{\"place_name\":\"District of Columbia\"},{\"place_name\":\"District of Columbia\"},{\"place_name\":\"District of Columbia\"},{\"place_name\":\"District of Columbia\"},{\"place_name\":\"District of Columbia\"},{\"place_name\":\"District of Columbia\"},{\"place_name\":\"District of Columbia\"},{\"place_name\":\"District of Columbia\"},{\"place_name\":\"District of Columbia\"},{\"place_name\":\"District of Columbia\"},{\"place_name\":\"District of Columbia\"},{\"place_name\":\"District of Columbia\"},{\"place_name\":\"District of Columbia\"},{\"place_name\":\"District of Columbia\"},{\"place_name\":\"District of Columbia\"},{\"place_name\":\"District of Columbia\"},{\"place_name\":\"District of Columbia\"},{\"place_name\":\"District of Columbia\"},{\"place_name\":\"District of Columbia\"},{\"place_name\":\"District of Columbia\"},{\"place_name\":\"District of Columbia\"},{\"place_name\":\"District of Columbia\"},{\"place_name\":\"District of Columbia\"},{\"place_name\":\"District of Columbia\"},{\"place_name\":\"District of Columbia\"},{\"place_name\":\"District of Columbia\"},{\"place_name\":\"District of Columbia\"},{\"place_name\":\"District of Columbia\"},{\"place_name\":\"District of Columbia\"},{\"place_name\":\"District of Columbia\"},{\"place_name\":\"District of Columbia\"},{\"place_name\":\"District of Columbia\"},{\"place_name\":\"District of Columbia\"},{\"place_name\":\"District of Columbia\"},{\"place_name\":\"District of Columbia\"},{\"place_name\":\"District of Columbia\"},{\"place_name\":\"District of Columbia\"},{\"place_name\":\"District of Columbia\"},{\"place_name\":\"District of Columbia\"},{\"place_name\":\"District of Columbia\"},{\"place_name\":\"District of Columbia\"},{\"place_name\":\"District of Columbia\"},{\"place_name\":\"District of Columbia\"}],\"place_name\":[\"District of Columbia\",\"District of Columbia\",\"District of Columbia\",\"District of Columbia\",\"District of Columbia\",\"District of Columbia\",\"District of Columbia\",\"District of Columbia\",\"District of Columbia\",\"District of Columbia\",\"District of Columbia\",\"District of Columbia\",\"District of Columbia\",\"District of Columbia\",\"District of Columbia\",\"District of Columbia\",\"District of Columbia\",\"District of Columbia\",\"District of Columbia\",\"District of Columbia\",\"District of Columbia\",\"District of Columbia\",\"District of Columbia\",\"District of Columbia\",\"District of Columbia\",\"District of Columbia\",\"District of Columbia\",\"District of Columbia\",\"District of Columbia\",\"District of Columbia\",\"District of Columbia\",\"District of Columbia\",\"District of Columbia\",\"District of Columbia\",\"District of Columbia\",\"District of Columbia\",\"District of Columbia\",\"District of Columbia\",\"District of Columbia\",\"District of Columbia\",\"District of Columbia\",\"District of Columbia\",\"District of Columbia\",\"District of Columbia\",\"District of Columbia\",\"District of Columbia\",\"District of Columbia\",\"District of Columbia\",\"District of Columbia\",\"District of Columbia\",\"District of Columbia\",\"District of Columbia\",\"District of Columbia\",\"District of Columbia\",\"District of Columbia\",\"District of Columbia\",\"District of Columbia\",\"District of Columbia\",\"District of Columbia\",\"District of Columbia\",\"District of Columbia\",\"District of Columbia\",\"District of Columbia\",\"District of Columbia\",\"District of Columbia\",\"District of Columbia\",\"District of Columbia\",\"District of Columbia\",\"District of Columbia\",\"District of Columbia\",\"District of Columbia\",\"District of Columbia\",\"District of Columbia\",\"District of Columbia\",\"District of Columbia\",\"District of Columbia\",\"District of Columbia\",\"District of Columbia\",\"District of Columbia\",\"District of Columbia\",\"District of Columbia\",\"District of Columbia\",\"District of Columbia\",\"District of Columbia\",\"District of Columbia\",\"District of Columbia\",\"District of Columbia\",\"District of Columbia\",\"District of Columbia\",\"District of Columbia\",\"District of Columbia\",\"District of Columbia\",\"District of Columbia\",\"District of Columbia\",\"District of Columbia\",\"District of Columbia\",\"District of Columbia\",\"District of Columbia\",\"District of Columbia\",\"District of Columbia\",\"District of Columbia\",\"District of Columbia\"],\"x_values\":[662688000000.0,670464000000.0,678326400000.0,686275200000.0,694224000000.0,702086400000.0,709948800000.0,717897600000.0,725846400000.0,733622400000.0,741484800000.0,749433600000.0,757382400000.0,765158400000.0,773020800000.0,780969600000.0,788918400000.0,796694400000.0,804556800000.0,812505600000.0,820454400000.0,828316800000.0,836179200000.0,844128000000.0,852076800000.0,859852800000.0,867715200000.0,875664000000.0,883612800000.0,891388800000.0,899251200000.0,907200000000.0,915148800000.0,922924800000.0,930787200000.0,938736000000.0,946684800000.0,954547200000.0,962409600000.0,970358400000.0,978307200000.0,986083200000.0,993945600000.0,1001894400000.0,1009843200000.0,1017619200000.0,1025481600000.0,1033430400000.0,1041379200000.0,1049155200000.0,1057017600000.0,1064966400000.0,1072915200000.0,1080777600000.0,1088640000000.0,1096588800000.0,1104537600000.0,1112313600000.0,1120176000000.0,1128124800000.0,1136073600000.0,1143849600000.0,1151712000000.0,1159660800000.0,1167609600000.0,1175385600000.0,1183248000000.0,1191196800000.0,1199145600000.0,1207008000000.0,1214870400000.0,1222819200000.0,1230768000000.0,1238544000000.0,1246406400000.0,1254355200000.0,1262304000000.0,1270080000000.0,1277942400000.0,1285891200000.0,1293840000000.0,1301616000000.0,1309478400000.0,1317427200000.0,1325376000000.0,1333238400000.0,1341100800000.0,1349049600000.0,1356998400000.0,1364774400000.0,1372636800000.0,1380585600000.0,1388534400000.0,1396310400000.0,1404172800000.0,1412121600000.0,1420070400000.0,1427846400000.0,1435708800000.0,1443657600000.0,1451606400000.0,1459468800000.0],\"y_values\":[100.0,101.39,99.0,97.54,99.75,100.4,101.97,98.04,93.01,98.4,98.23,91.06,95.23,98.28,99.22,91.58,92.39,89.35,91.89,93.48,93.83,95.13,93.65,96.79,89.18,96.33,93.0,94.59,97.11,100.61,106.25,107.01,108.0,111.1,118.34,117.74,127.35,129.61,133.99,133.63,140.97,147.81,157.17,159.7,167.32,179.14,185.89,191.81,187.59,208.82,220.26,219.19,241.29,251.68,257.54,277.93,282.33,315.99,330.58,323.15,322.35,324.68,339.81,333.27,335.37,345.09,346.06,336.81,328.44,321.61,328.02,320.16,305.61,316.24,319.12,322.14,328.23,312.8,337.32,322.64,316.22,340.71,335.17,344.38,348.59,352.17,371.64,371.47,385.45,395.17,428.37,411.68,442.63,437.0,442.15,454.89,445.65,466.75,503.11,482.44,457.69,501.35]}},\"id\":\"95faf83d-c176-4a0c-8ed4-f13e0f483321\",\"type\":\"ColumnDataSource\"},{\"attributes\":{\"line_color\":{\"value\":\"#f22c40\"},\"line_width\":{\"value\":2},\"x\":{\"field\":\"x_values\"},\"y\":{\"field\":\"y_values\"}},\"id\":\"423fe082-8b96-4e03-be14-e935cfae6bbc\",\"type\":\"Line\"},{\"attributes\":{\"data_source\":{\"id\":\"bb6e13d9-296a-48ee-8b27-788d9a592ac4\",\"type\":\"ColumnDataSource\"},\"glyph\":{\"id\":\"812bff22-92de-4cce-ba67-742777b41633\",\"type\":\"Line\"},\"hover_glyph\":null,\"nonselection_glyph\":null,\"selection_glyph\":null},\"id\":\"8d94ca4b-d810-44f1-b81a-3f469a38328d\",\"type\":\"GlyphRenderer\"},{\"attributes\":{\"callback\":null,\"column_names\":[\"x_values\",\"y_values\"],\"data\":{\"chart_index\":[{\"place_name\":\"U.S. Aggregate\"},{\"place_name\":\"U.S. Aggregate\"},{\"place_name\":\"U.S. Aggregate\"},{\"place_name\":\"U.S. Aggregate\"},{\"place_name\":\"U.S. Aggregate\"},{\"place_name\":\"U.S. Aggregate\"},{\"place_name\":\"U.S. Aggregate\"},{\"place_name\":\"U.S. Aggregate\"},{\"place_name\":\"U.S. Aggregate\"},{\"place_name\":\"U.S. Aggregate\"},{\"place_name\":\"U.S. Aggregate\"},{\"place_name\":\"U.S. Aggregate\"},{\"place_name\":\"U.S. Aggregate\"},{\"place_name\":\"U.S. Aggregate\"},{\"place_name\":\"U.S. Aggregate\"},{\"place_name\":\"U.S. Aggregate\"},{\"place_name\":\"U.S. Aggregate\"},{\"place_name\":\"U.S. Aggregate\"},{\"place_name\":\"U.S. Aggregate\"},{\"place_name\":\"U.S. Aggregate\"},{\"place_name\":\"U.S. Aggregate\"},{\"place_name\":\"U.S. Aggregate\"},{\"place_name\":\"U.S. Aggregate\"},{\"place_name\":\"U.S. Aggregate\"},{\"place_name\":\"U.S. Aggregate\"},{\"place_name\":\"U.S. Aggregate\"},{\"place_name\":\"U.S. Aggregate\"},{\"place_name\":\"U.S. Aggregate\"},{\"place_name\":\"U.S. Aggregate\"},{\"place_name\":\"U.S. Aggregate\"},{\"place_name\":\"U.S. Aggregate\"},{\"place_name\":\"U.S. Aggregate\"},{\"place_name\":\"U.S. Aggregate\"},{\"place_name\":\"U.S. Aggregate\"},{\"place_name\":\"U.S. Aggregate\"},{\"place_name\":\"U.S. Aggregate\"},{\"place_name\":\"U.S. Aggregate\"},{\"place_name\":\"U.S. Aggregate\"},{\"place_name\":\"U.S. Aggregate\"},{\"place_name\":\"U.S. Aggregate\"},{\"place_name\":\"U.S. Aggregate\"},{\"place_name\":\"U.S. Aggregate\"},{\"place_name\":\"U.S. Aggregate\"},{\"place_name\":\"U.S. Aggregate\"},{\"place_name\":\"U.S. Aggregate\"},{\"place_name\":\"U.S. Aggregate\"},{\"place_name\":\"U.S. Aggregate\"},{\"place_name\":\"U.S. Aggregate\"},{\"place_name\":\"U.S. Aggregate\"},{\"place_name\":\"U.S. Aggregate\"},{\"place_name\":\"U.S. Aggregate\"},{\"place_name\":\"U.S. Aggregate\"},{\"place_name\":\"U.S. Aggregate\"},{\"place_name\":\"U.S. Aggregate\"},{\"place_name\":\"U.S. Aggregate\"},{\"place_name\":\"U.S. Aggregate\"},{\"place_name\":\"U.S. Aggregate\"},{\"place_name\":\"U.S. Aggregate\"},{\"place_name\":\"U.S. Aggregate\"},{\"place_name\":\"U.S. Aggregate\"},{\"place_name\":\"U.S. Aggregate\"},{\"place_name\":\"U.S. Aggregate\"},{\"place_name\":\"U.S. Aggregate\"},{\"place_name\":\"U.S. Aggregate\"},{\"place_name\":\"U.S. Aggregate\"},{\"place_name\":\"U.S. Aggregate\"},{\"place_name\":\"U.S. Aggregate\"},{\"place_name\":\"U.S. Aggregate\"},{\"place_name\":\"U.S. Aggregate\"},{\"place_name\":\"U.S. Aggregate\"},{\"place_name\":\"U.S. Aggregate\"},{\"place_name\":\"U.S. Aggregate\"},{\"place_name\":\"U.S. Aggregate\"},{\"place_name\":\"U.S. Aggregate\"},{\"place_name\":\"U.S. Aggregate\"},{\"place_name\":\"U.S. Aggregate\"},{\"place_name\":\"U.S. Aggregate\"},{\"place_name\":\"U.S. Aggregate\"},{\"place_name\":\"U.S. Aggregate\"},{\"place_name\":\"U.S. Aggregate\"},{\"place_name\":\"U.S. Aggregate\"},{\"place_name\":\"U.S. Aggregate\"},{\"place_name\":\"U.S. Aggregate\"},{\"place_name\":\"U.S. Aggregate\"},{\"place_name\":\"U.S. Aggregate\"},{\"place_name\":\"U.S. Aggregate\"},{\"place_name\":\"U.S. Aggregate\"},{\"place_name\":\"U.S. Aggregate\"},{\"place_name\":\"U.S. Aggregate\"},{\"place_name\":\"U.S. Aggregate\"},{\"place_name\":\"U.S. Aggregate\"},{\"place_name\":\"U.S. Aggregate\"},{\"place_name\":\"U.S. Aggregate\"},{\"place_name\":\"U.S. Aggregate\"},{\"place_name\":\"U.S. Aggregate\"},{\"place_name\":\"U.S. Aggregate\"},{\"place_name\":\"U.S. Aggregate\"},{\"place_name\":\"U.S. Aggregate\"},{\"place_name\":\"U.S. Aggregate\"},{\"place_name\":\"U.S. Aggregate\"},{\"place_name\":\"U.S. Aggregate\"},{\"place_name\":\"U.S. Aggregate\"},{\"place_name\":\"U.S. Aggregate\"}],\"place_name\":[\"U.S. Aggregate\",\"U.S. Aggregate\",\"U.S. Aggregate\",\"U.S. Aggregate\",\"U.S. Aggregate\",\"U.S. Aggregate\",\"U.S. Aggregate\",\"U.S. Aggregate\",\"U.S. Aggregate\",\"U.S. Aggregate\",\"U.S. Aggregate\",\"U.S. Aggregate\",\"U.S. Aggregate\",\"U.S. Aggregate\",\"U.S. Aggregate\",\"U.S. Aggregate\",\"U.S. Aggregate\",\"U.S. Aggregate\",\"U.S. Aggregate\",\"U.S. Aggregate\",\"U.S. Aggregate\",\"U.S. Aggregate\",\"U.S. Aggregate\",\"U.S. Aggregate\",\"U.S. Aggregate\",\"U.S. Aggregate\",\"U.S. Aggregate\",\"U.S. Aggregate\",\"U.S. Aggregate\",\"U.S. Aggregate\",\"U.S. Aggregate\",\"U.S. Aggregate\",\"U.S. Aggregate\",\"U.S. Aggregate\",\"U.S. Aggregate\",\"U.S. Aggregate\",\"U.S. Aggregate\",\"U.S. Aggregate\",\"U.S. Aggregate\",\"U.S. Aggregate\",\"U.S. Aggregate\",\"U.S. Aggregate\",\"U.S. Aggregate\",\"U.S. Aggregate\",\"U.S. Aggregate\",\"U.S. Aggregate\",\"U.S. Aggregate\",\"U.S. Aggregate\",\"U.S. Aggregate\",\"U.S. Aggregate\",\"U.S. Aggregate\",\"U.S. Aggregate\",\"U.S. Aggregate\",\"U.S. Aggregate\",\"U.S. Aggregate\",\"U.S. Aggregate\",\"U.S. Aggregate\",\"U.S. Aggregate\",\"U.S. Aggregate\",\"U.S. Aggregate\",\"U.S. Aggregate\",\"U.S. Aggregate\",\"U.S. Aggregate\",\"U.S. Aggregate\",\"U.S. Aggregate\",\"U.S. Aggregate\",\"U.S. Aggregate\",\"U.S. Aggregate\",\"U.S. Aggregate\",\"U.S. Aggregate\",\"U.S. Aggregate\",\"U.S. Aggregate\",\"U.S. Aggregate\",\"U.S. Aggregate\",\"U.S. Aggregate\",\"U.S. Aggregate\",\"U.S. Aggregate\",\"U.S. Aggregate\",\"U.S. Aggregate\",\"U.S. Aggregate\",\"U.S. Aggregate\",\"U.S. Aggregate\",\"U.S. Aggregate\",\"U.S. Aggregate\",\"U.S. Aggregate\",\"U.S. Aggregate\",\"U.S. Aggregate\",\"U.S. Aggregate\",\"U.S. Aggregate\",\"U.S. Aggregate\",\"U.S. Aggregate\",\"U.S. Aggregate\",\"U.S. Aggregate\",\"U.S. Aggregate\",\"U.S. Aggregate\",\"U.S. Aggregate\",\"U.S. Aggregate\",\"U.S. Aggregate\",\"U.S. Aggregate\",\"U.S. Aggregate\",\"U.S. Aggregate\",\"U.S. Aggregate\",\"U.S. Aggregate\"],\"x_values\":[662688000000.0,670464000000.0,678326400000.0,686275200000.0,694224000000.0,702086400000.0,709948800000.0,717897600000.0,725846400000.0,733622400000.0,741484800000.0,749433600000.0,757382400000.0,765158400000.0,773020800000.0,780969600000.0,788918400000.0,796694400000.0,804556800000.0,812505600000.0,820454400000.0,828316800000.0,836179200000.0,844128000000.0,852076800000.0,859852800000.0,867715200000.0,875664000000.0,883612800000.0,891388800000.0,899251200000.0,907200000000.0,915148800000.0,922924800000.0,930787200000.0,938736000000.0,946684800000.0,954547200000.0,962409600000.0,970358400000.0,978307200000.0,986083200000.0,993945600000.0,1001894400000.0,1009843200000.0,1017619200000.0,1025481600000.0,1033430400000.0,1041379200000.0,1049155200000.0,1057017600000.0,1064966400000.0,1072915200000.0,1080777600000.0,1088640000000.0,1096588800000.0,1104537600000.0,1112313600000.0,1120176000000.0,1128124800000.0,1136073600000.0,1143849600000.0,1151712000000.0,1159660800000.0,1167609600000.0,1175385600000.0,1183248000000.0,1191196800000.0,1199145600000.0,1207008000000.0,1214870400000.0,1222819200000.0,1230768000000.0,1238544000000.0,1246406400000.0,1254355200000.0,1262304000000.0,1270080000000.0,1277942400000.0,1285891200000.0,1293840000000.0,1301616000000.0,1309478400000.0,1317427200000.0,1325376000000.0,1333238400000.0,1341100800000.0,1349049600000.0,1356998400000.0,1364774400000.0,1372636800000.0,1380585600000.0,1388534400000.0,1396310400000.0,1404172800000.0,1412121600000.0,1420070400000.0,1427846400000.0,1435708800000.0,1443657600000.0,1451606400000.0,1459468800000.0,1467331200000.0],\"y_values\":[100.39099999999999,100.92333333333335,101.21766666666666,101.87533333333334,102.73233333333332,103.10533333333335,104.17199999999997,104.868,104.46799999999998,106.23566666666669,107.44399999999999,108.19033333333331,108.83933333333334,110.66466666666665,111.62466666666668,111.78833333333333,112.08799999999998,113.56133333333332,115.01366666666665,115.12666666666665,115.75133333333332,117.60466666666669,118.63466666666663,118.57233333333336,118.97700000000002,120.97766666666668,122.04666666666665,122.53633333333333,123.60600000000004,126.45433333333337,128.34900000000002,129.56533333333334,131.05400000000003,134.151,136.53333333333336,137.602,139.54533333333333,143.15366666666665,145.69899999999998,147.2036666666667,149.38766666666663,153.17499999999998,155.89966666666666,157.20166666666668,159.14000000000001,163.53200000000004,167.19700000000003,169.21666666666667,171.40833333333333,175.808,179.87266666666662,182.4043333333333,185.56366666666665,192.28900000000004,197.87499999999997,200.93333333333337,204.92566666666667,212.8646666666667,219.0486666666666,221.5516666666667,223.9236666666666,228.2456666666667,229.13633333333334,227.98999999999998,228.23966666666666,231.19366666666664,228.753,222.66699999999994,216.9453333333334,214.40966666666665,209.4563333333334,201.47400000000005,199.87366666666668,200.23700000000005,199.30466666666672,197.22666666666663,193.77033333333333,196.53633333333335,193.7953333333333,189.64866666666666,184.22833333333338,186.62100000000004,187.78866666666664,185.68933333333334,184.79166666666663,192.08233333333334,194.7313333333333,195.06433333333334,196.85166666666663,205.55666666666673,209.43166666666667,208.69733333333335,209.42000000000002,216.14733333333336,218.9913333333333,218.7783333333333,220.10499999999996,228.06466666666665,231.48733333333328,231.69266666666672,233.16599999999997,241.3996666666667,245.33599999999996]}},\"id\":\"bb6e13d9-296a-48ee-8b27-788d9a592ac4\",\"type\":\"ColumnDataSource\"},{\"attributes\":{\"plot\":{\"id\":\"7ff3b103-6e0b-46c4-a246-de908d9e6afe\",\"subtype\":\"Chart\",\"type\":\"Plot\"}},\"id\":\"3c7adaab-1337-4ee8-993e-4b00fa57e1c4\",\"type\":\"HelpTool\"},{\"attributes\":{\"days\":[1,2,3,4,5,6,7,8,9,10,11,12,13,14,15,16,17,18,19,20,21,22,23,24,25,26,27,28,29,30,31]},\"id\":\"a476c606-61f6-487a-9cd2-677e6065f2a2\",\"type\":\"DaysTicker\"},{\"attributes\":{\"days\":[1,8,15,22]},\"id\":\"c665b07c-1846-4c6b-8b18-31fceac01b11\",\"type\":\"DaysTicker\"},{\"attributes\":{\"plot\":null,\"text\":\"Comparison of lowest & highest home values with U.S. aggregate index value\"},\"id\":\"b9b6dbbd-126b-4889-9aaa-25a8e86cdbce\",\"type\":\"Title\"},{\"attributes\":{\"legends\":[[\"U.S. Aggregate\",[{\"id\":\"8d94ca4b-d810-44f1-b81a-3f469a38328d\",\"type\":\"GlyphRenderer\"}]],[\"Connecticut\",[{\"id\":\"26f9dd4b-2c5c-4e2e-9432-b4fd1ed44430\",\"type\":\"GlyphRenderer\"}]],[\"District of Columbia\",[{\"id\":\"dc8fd44f-464f-4f80-a261-8b16d97fd7fb\",\"type\":\"GlyphRenderer\"}]]],\"location\":\"top_left\",\"plot\":{\"id\":\"7ff3b103-6e0b-46c4-a246-de908d9e6afe\",\"subtype\":\"Chart\",\"type\":\"Plot\"}},\"id\":\"775d9b0c-db53-4d40-8f5b-5296cbc4b09d\",\"type\":\"Legend\"},{\"attributes\":{\"plot\":{\"id\":\"7ff3b103-6e0b-46c4-a246-de908d9e6afe\",\"subtype\":\"Chart\",\"type\":\"Plot\"}},\"id\":\"25e186a5-80e2-410f-8ebe-3077079c4dc7\",\"type\":\"WheelZoomTool\"},{\"attributes\":{},\"id\":\"e8df24c2-7c6f-4c84-9ea5-4ec77a7ce9f8\",\"type\":\"YearsTicker\"},{\"attributes\":{\"active_drag\":\"auto\",\"active_scroll\":\"auto\",\"active_tap\":\"auto\",\"tools\":[{\"id\":\"3eebb12c-8949-47ed-9d0d-ac04ce143954\",\"type\":\"PanTool\"},{\"id\":\"25e186a5-80e2-410f-8ebe-3077079c4dc7\",\"type\":\"WheelZoomTool\"},{\"id\":\"cda69769-39dd-4a48-913a-02869a16c17c\",\"type\":\"BoxZoomTool\"},{\"id\":\"b718042a-44d5-4523-aee3-3deaae238f87\",\"type\":\"SaveTool\"},{\"id\":\"a7e0d0cb-9407-46ec-9734-4c811956201f\",\"type\":\"ResetTool\"},{\"id\":\"3c7adaab-1337-4ee8-993e-4b00fa57e1c4\",\"type\":\"HelpTool\"}]},\"id\":\"53950eef-ea85-4147-98bd-50c5ac5a4e31\",\"type\":\"Toolbar\"},{\"attributes\":{\"plot\":{\"id\":\"7ff3b103-6e0b-46c4-a246-de908d9e6afe\",\"subtype\":\"Chart\",\"type\":\"Plot\"}},\"id\":\"a7e0d0cb-9407-46ec-9734-4c811956201f\",\"type\":\"ResetTool\"},{\"attributes\":{\"data_source\":{\"id\":\"b2c6b947-28d2-4299-b1fe-55e6afc870b1\",\"type\":\"ColumnDataSource\"},\"glyph\":{\"id\":\"423fe082-8b96-4e03-be14-e935cfae6bbc\",\"type\":\"Line\"},\"hover_glyph\":null,\"nonselection_glyph\":null,\"selection_glyph\":null},\"id\":\"26f9dd4b-2c5c-4e2e-9432-b4fd1ed44430\",\"type\":\"GlyphRenderer\"},{\"attributes\":{\"base\":60,\"mantissas\":[1,2,5,10,15,20,30],\"max_interval\":1800000.0,\"min_interval\":1000.0,\"num_minor_ticks\":0},\"id\":\"65415ac3-34e0-4733-9c86-edd550aed73e\",\"type\":\"AdaptiveTicker\"},{\"attributes\":{\"plot\":{\"id\":\"7ff3b103-6e0b-46c4-a246-de908d9e6afe\",\"subtype\":\"Chart\",\"type\":\"Plot\"}},\"id\":\"b718042a-44d5-4523-aee3-3deaae238f87\",\"type\":\"SaveTool\"},{\"attributes\":{},\"id\":\"62b24567-bed5-495c-ba22-bf2359d6e63d\",\"type\":\"ToolEvents\"},{\"attributes\":{\"months\":[0,4,8]},\"id\":\"57f84e17-a31a-423f-8433-04a6ce5e3813\",\"type\":\"MonthsTicker\"},{\"attributes\":{\"below\":[{\"id\":\"30634cda-56b1-46f1-be88-56c35e950747\",\"type\":\"DatetimeAxis\"}],\"left\":[{\"id\":\"c6142368-b87c-4bdf-b164-9762454f8aa5\",\"type\":\"LinearAxis\"}],\"renderers\":[{\"id\":\"f195f330-9761-4916-8950-3db93897a320\",\"type\":\"BoxAnnotation\"},{\"id\":\"8d94ca4b-d810-44f1-b81a-3f469a38328d\",\"type\":\"GlyphRenderer\"},{\"id\":\"26f9dd4b-2c5c-4e2e-9432-b4fd1ed44430\",\"type\":\"GlyphRenderer\"},{\"id\":\"dc8fd44f-464f-4f80-a261-8b16d97fd7fb\",\"type\":\"GlyphRenderer\"},{\"id\":\"775d9b0c-db53-4d40-8f5b-5296cbc4b09d\",\"type\":\"Legend\"},{\"id\":\"30634cda-56b1-46f1-be88-56c35e950747\",\"type\":\"DatetimeAxis\"},{\"id\":\"c6142368-b87c-4bdf-b164-9762454f8aa5\",\"type\":\"LinearAxis\"},{\"id\":\"78eda32a-24bf-4790-bda3-44c79ce383a1\",\"type\":\"Grid\"},{\"id\":\"384feb14-e5ba-4c04-babe-1867001b9ba6\",\"type\":\"Grid\"}],\"title\":{\"id\":\"b9b6dbbd-126b-4889-9aaa-25a8e86cdbce\",\"type\":\"Title\"},\"tool_events\":{\"id\":\"62b24567-bed5-495c-ba22-bf2359d6e63d\",\"type\":\"ToolEvents\"},\"toolbar\":{\"id\":\"53950eef-ea85-4147-98bd-50c5ac5a4e31\",\"type\":\"Toolbar\"},\"x_mapper_type\":\"auto\",\"x_range\":{\"id\":\"dc62006e-90fb-4457-b419-f7eee7073589\",\"type\":\"Range1d\"},\"y_mapper_type\":\"auto\",\"y_range\":{\"id\":\"79223452-af06-4880-9577-937643a14686\",\"type\":\"Range1d\"}},\"id\":\"7ff3b103-6e0b-46c4-a246-de908d9e6afe\",\"subtype\":\"Chart\",\"type\":\"Plot\"},{\"attributes\":{\"months\":[0,6]},\"id\":\"4f655f49-296d-43bf-b8a7-a94f88ae7d50\",\"type\":\"MonthsTicker\"},{\"attributes\":{\"callback\":null,\"end\":1467331200000.0,\"start\":662688000000.0},\"id\":\"dc62006e-90fb-4457-b419-f7eee7073589\",\"type\":\"Range1d\"},{\"attributes\":{\"months\":[0,1,2,3,4,5,6,7,8,9,10,11]},\"id\":\"6cb1cc3e-885b-4085-a9a9-aeaec0493214\",\"type\":\"MonthsTicker\"},{\"attributes\":{\"bottom_units\":\"screen\",\"fill_alpha\":{\"value\":0.5},\"fill_color\":{\"value\":\"lightgrey\"},\"left_units\":\"screen\",\"level\":\"overlay\",\"line_alpha\":{\"value\":1.0},\"line_color\":{\"value\":\"black\"},\"line_dash\":[4,4],\"line_width\":{\"value\":2},\"plot\":null,\"render_mode\":\"css\",\"right_units\":\"screen\",\"top_units\":\"screen\"},\"id\":\"f195f330-9761-4916-8950-3db93897a320\",\"type\":\"BoxAnnotation\"},{\"attributes\":{\"base\":24,\"mantissas\":[1,2,4,6,8,12],\"max_interval\":43200000.0,\"min_interval\":3600000.0,\"num_minor_ticks\":0},\"id\":\"e19332ca-4053-4ed1-bea8-e69234756917\",\"type\":\"AdaptiveTicker\"},{\"attributes\":{\"overlay\":{\"id\":\"f195f330-9761-4916-8950-3db93897a320\",\"type\":\"BoxAnnotation\"},\"plot\":{\"id\":\"7ff3b103-6e0b-46c4-a246-de908d9e6afe\",\"subtype\":\"Chart\",\"type\":\"Plot\"}},\"id\":\"cda69769-39dd-4a48-913a-02869a16c17c\",\"type\":\"BoxZoomTool\"},{\"attributes\":{},\"id\":\"1e8d2f54-cbc2-405a-a008-cdb933b59658\",\"type\":\"DatetimeTickFormatter\"},{\"attributes\":{\"days\":[1,15]},\"id\":\"40dc88a0-8664-48a0-af1b-fedc0a83a697\",\"type\":\"DaysTicker\"},{\"attributes\":{\"max_interval\":500.0,\"num_minor_ticks\":0},\"id\":\"b4d1bef8-f38a-4bdc-afc0-c43bc5e3916c\",\"type\":\"AdaptiveTicker\"},{\"attributes\":{\"data_source\":{\"id\":\"95faf83d-c176-4a0c-8ed4-f13e0f483321\",\"type\":\"ColumnDataSource\"},\"glyph\":{\"id\":\"7f374001-61ad-47b4-9d02-005f5af646e2\",\"type\":\"Line\"},\"hover_glyph\":null,\"nonselection_glyph\":null,\"selection_glyph\":null},\"id\":\"dc8fd44f-464f-4f80-a261-8b16d97fd7fb\",\"type\":\"GlyphRenderer\"},{\"attributes\":{\"dimension\":1,\"plot\":{\"id\":\"7ff3b103-6e0b-46c4-a246-de908d9e6afe\",\"subtype\":\"Chart\",\"type\":\"Plot\"},\"ticker\":{\"id\":\"919ff43f-4757-4f59-8df8-621156392b86\",\"type\":\"BasicTicker\"}},\"id\":\"384feb14-e5ba-4c04-babe-1867001b9ba6\",\"type\":\"Grid\"},{\"attributes\":{\"callback\":null,\"end\":544.503,\"start\":47.787000000000006},\"id\":\"79223452-af06-4880-9577-937643a14686\",\"type\":\"Range1d\"},{\"attributes\":{\"axis_label\":\"index_nsa\",\"formatter\":{\"id\":\"2c9a22f1-8d2e-4455-bdcb-9240a9a82ad1\",\"type\":\"BasicTickFormatter\"},\"plot\":{\"id\":\"7ff3b103-6e0b-46c4-a246-de908d9e6afe\",\"subtype\":\"Chart\",\"type\":\"Plot\"},\"ticker\":{\"id\":\"919ff43f-4757-4f59-8df8-621156392b86\",\"type\":\"BasicTicker\"}},\"id\":\"c6142368-b87c-4bdf-b164-9762454f8aa5\",\"type\":\"LinearAxis\"},{\"attributes\":{\"callback\":null,\"column_names\":[\"x_values\",\"y_values\"],\"data\":{\"chart_index\":[{\"place_name\":\"Connecticut\"},{\"place_name\":\"Connecticut\"},{\"place_name\":\"Connecticut\"},{\"place_name\":\"Connecticut\"},{\"place_name\":\"Connecticut\"},{\"place_name\":\"Connecticut\"},{\"place_name\":\"Connecticut\"},{\"place_name\":\"Connecticut\"},{\"place_name\":\"Connecticut\"},{\"place_name\":\"Connecticut\"},{\"place_name\":\"Connecticut\"},{\"place_name\":\"Connecticut\"},{\"place_name\":\"Connecticut\"},{\"place_name\":\"Connecticut\"},{\"place_name\":\"Connecticut\"},{\"place_name\":\"Connecticut\"},{\"place_name\":\"Connecticut\"},{\"place_name\":\"Connecticut\"},{\"place_name\":\"Connecticut\"},{\"place_name\":\"Connecticut\"},{\"place_name\":\"Connecticut\"},{\"place_name\":\"Connecticut\"},{\"place_name\":\"Connecticut\"},{\"place_name\":\"Connecticut\"},{\"place_name\":\"Connecticut\"},{\"place_name\":\"Connecticut\"},{\"place_name\":\"Connecticut\"},{\"place_name\":\"Connecticut\"},{\"place_name\":\"Connecticut\"},{\"place_name\":\"Connecticut\"},{\"place_name\":\"Connecticut\"},{\"place_name\":\"Connecticut\"},{\"place_name\":\"Connecticut\"},{\"place_name\":\"Connecticut\"},{\"place_name\":\"Connecticut\"},{\"place_name\":\"Connecticut\"},{\"place_name\":\"Connecticut\"},{\"place_name\":\"Connecticut\"},{\"place_name\":\"Connecticut\"},{\"place_name\":\"Connecticut\"},{\"place_name\":\"Connecticut\"},{\"place_name\":\"Connecticut\"},{\"place_name\":\"Connecticut\"},{\"place_name\":\"Connecticut\"},{\"place_name\":\"Connecticut\"},{\"place_name\":\"Connecticut\"},{\"place_name\":\"Connecticut\"},{\"place_name\":\"Connecticut\"},{\"place_name\":\"Connecticut\"},{\"place_name\":\"Connecticut\"},{\"place_name\":\"Connecticut\"},{\"place_name\":\"Connecticut\"},{\"place_name\":\"Connecticut\"},{\"place_name\":\"Connecticut\"},{\"place_name\":\"Connecticut\"},{\"place_name\":\"Connecticut\"},{\"place_name\":\"Connecticut\"},{\"place_name\":\"Connecticut\"},{\"place_name\":\"Connecticut\"},{\"place_name\":\"Connecticut\"},{\"place_name\":\"Connecticut\"},{\"place_name\":\"Connecticut\"},{\"place_name\":\"Connecticut\"},{\"place_name\":\"Connecticut\"},{\"place_name\":\"Connecticut\"},{\"place_name\":\"Connecticut\"},{\"place_name\":\"Connecticut\"},{\"place_name\":\"Connecticut\"},{\"place_name\":\"Connecticut\"},{\"place_name\":\"Connecticut\"},{\"place_name\":\"Connecticut\"},{\"place_name\":\"Connecticut\"},{\"place_name\":\"Connecticut\"},{\"place_name\":\"Connecticut\"},{\"place_name\":\"Connecticut\"},{\"place_name\":\"Connecticut\"},{\"place_name\":\"Connecticut\"},{\"place_name\":\"Connecticut\"},{\"place_name\":\"Connecticut\"},{\"place_name\":\"Connecticut\"},{\"place_name\":\"Connecticut\"},{\"place_name\":\"Connecticut\"},{\"place_name\":\"Connecticut\"},{\"place_name\":\"Connecticut\"},{\"place_name\":\"Connecticut\"},{\"place_name\":\"Connecticut\"},{\"place_name\":\"Connecticut\"},{\"place_name\":\"Connecticut\"},{\"place_name\":\"Connecticut\"},{\"place_name\":\"Connecticut\"},{\"place_name\":\"Connecticut\"},{\"place_name\":\"Connecticut\"},{\"place_name\":\"Connecticut\"},{\"place_name\":\"Connecticut\"},{\"place_name\":\"Connecticut\"},{\"place_name\":\"Connecticut\"},{\"place_name\":\"Connecticut\"},{\"place_name\":\"Connecticut\"},{\"place_name\":\"Connecticut\"},{\"place_name\":\"Connecticut\"},{\"place_name\":\"Connecticut\"},{\"place_name\":\"Connecticut\"}],\"place_name\":[\"Connecticut\",\"Connecticut\",\"Connecticut\",\"Connecticut\",\"Connecticut\",\"Connecticut\",\"Connecticut\",\"Connecticut\",\"Connecticut\",\"Connecticut\",\"Connecticut\",\"Connecticut\",\"Connecticut\",\"Connecticut\",\"Connecticut\",\"Connecticut\",\"Connecticut\",\"Connecticut\",\"Connecticut\",\"Connecticut\",\"Connecticut\",\"Connecticut\",\"Connecticut\",\"Connecticut\",\"Connecticut\",\"Connecticut\",\"Connecticut\",\"Connecticut\",\"Connecticut\",\"Connecticut\",\"Connecticut\",\"Connecticut\",\"Connecticut\",\"Connecticut\",\"Connecticut\",\"Connecticut\",\"Connecticut\",\"Connecticut\",\"Connecticut\",\"Connecticut\",\"Connecticut\",\"Connecticut\",\"Connecticut\",\"Connecticut\",\"Connecticut\",\"Connecticut\",\"Connecticut\",\"Connecticut\",\"Connecticut\",\"Connecticut\",\"Connecticut\",\"Connecticut\",\"Connecticut\",\"Connecticut\",\"Connecticut\",\"Connecticut\",\"Connecticut\",\"Connecticut\",\"Connecticut\",\"Connecticut\",\"Connecticut\",\"Connecticut\",\"Connecticut\",\"Connecticut\",\"Connecticut\",\"Connecticut\",\"Connecticut\",\"Connecticut\",\"Connecticut\",\"Connecticut\",\"Connecticut\",\"Connecticut\",\"Connecticut\",\"Connecticut\",\"Connecticut\",\"Connecticut\",\"Connecticut\",\"Connecticut\",\"Connecticut\",\"Connecticut\",\"Connecticut\",\"Connecticut\",\"Connecticut\",\"Connecticut\",\"Connecticut\",\"Connecticut\",\"Connecticut\",\"Connecticut\",\"Connecticut\",\"Connecticut\",\"Connecticut\",\"Connecticut\",\"Connecticut\",\"Connecticut\",\"Connecticut\",\"Connecticut\",\"Connecticut\",\"Connecticut\",\"Connecticut\",\"Connecticut\",\"Connecticut\",\"Connecticut\"],\"x_values\":[662688000000.0,670464000000.0,678326400000.0,686275200000.0,694224000000.0,702086400000.0,709948800000.0,717897600000.0,725846400000.0,733622400000.0,741484800000.0,749433600000.0,757382400000.0,765158400000.0,773020800000.0,780969600000.0,788918400000.0,796694400000.0,804556800000.0,812505600000.0,820454400000.0,828316800000.0,836179200000.0,844128000000.0,852076800000.0,859852800000.0,867715200000.0,875664000000.0,883612800000.0,891388800000.0,899251200000.0,907200000000.0,915148800000.0,922924800000.0,930787200000.0,938736000000.0,946684800000.0,954547200000.0,962409600000.0,970358400000.0,978307200000.0,986083200000.0,993945600000.0,1001894400000.0,1009843200000.0,1017619200000.0,1025481600000.0,1033430400000.0,1041379200000.0,1049155200000.0,1057017600000.0,1064966400000.0,1072915200000.0,1080777600000.0,1088640000000.0,1096588800000.0,1104537600000.0,1112313600000.0,1120176000000.0,1128124800000.0,1136073600000.0,1143849600000.0,1151712000000.0,1159660800000.0,1167609600000.0,1175385600000.0,1183248000000.0,1191196800000.0,1199145600000.0,1207008000000.0,1214870400000.0,1222819200000.0,1230768000000.0,1238544000000.0,1246406400000.0,1254355200000.0,1262304000000.0,1270080000000.0,1277942400000.0,1285891200000.0,1293840000000.0,1301616000000.0,1309478400000.0,1317427200000.0,1325376000000.0,1333238400000.0,1341100800000.0,1349049600000.0,1356998400000.0,1364774400000.0,1372636800000.0,1380585600000.0,1388534400000.0,1396310400000.0,1404172800000.0,1412121600000.0,1420070400000.0,1427846400000.0,1435708800000.0,1443657600000.0,1451606400000.0,1459468800000.0],\"y_values\":[100.0,97.81,97.11,96.53,97.3,95.18,95.07,96.03,92.43,91.63,92.4,91.96,91.2,91.89,92.83,91.83,90.38,90.7,91.87,91.03,90.62,91.98,92.01,90.89,90.74,92.66,93.53,93.37,93.42,96.4,98.59,99.7,101.23,104.66,107.0,108.18,110.03,114.6,116.71,118.07,120.08,124.88,129.18,130.48,131.97,138.61,143.39,146.62,148.4,153.65,158.53,160.19,162.43,170.99,177.69,178.85,181.91,189.89,194.1,194.31,195.79,200.18,197.86,194.91,196.93,199.14,199.4,193.79,189.1,190.48,186.57,180.7,177.96,179.2,177.47,173.74,169.51,173.86,171.07,167.17,163.11,169.48,165.84,162.91,157.87,163.21,165.31,161.72,159.28,165.97,168.09,163.76,163.65,166.86,167.79,165.48,164.53,169.08,169.27,165.96,165.81,169.24]}},\"id\":\"b2c6b947-28d2-4299-b1fe-55e6afc870b1\",\"type\":\"ColumnDataSource\"},{\"attributes\":{},\"id\":\"919ff43f-4757-4f59-8df8-621156392b86\",\"type\":\"BasicTicker\"},{\"attributes\":{},\"id\":\"b1555a14-8efc-41e3-b27f-bca5135c9e1c\",\"type\":\"DatetimeTicker\"},{\"attributes\":{\"plot\":{\"id\":\"7ff3b103-6e0b-46c4-a246-de908d9e6afe\",\"subtype\":\"Chart\",\"type\":\"Plot\"}},\"id\":\"3eebb12c-8949-47ed-9d0d-ac04ce143954\",\"type\":\"PanTool\"},{\"attributes\":{\"axis_label\":\"date_idx\",\"formatter\":{\"id\":\"1e8d2f54-cbc2-405a-a008-cdb933b59658\",\"type\":\"DatetimeTickFormatter\"},\"plot\":{\"id\":\"7ff3b103-6e0b-46c4-a246-de908d9e6afe\",\"subtype\":\"Chart\",\"type\":\"Plot\"},\"ticker\":{\"id\":\"b1555a14-8efc-41e3-b27f-bca5135c9e1c\",\"type\":\"DatetimeTicker\"}},\"id\":\"30634cda-56b1-46f1-be88-56c35e950747\",\"type\":\"DatetimeAxis\"},{\"attributes\":{\"plot\":{\"id\":\"7ff3b103-6e0b-46c4-a246-de908d9e6afe\",\"subtype\":\"Chart\",\"type\":\"Plot\"},\"ticker\":{\"id\":\"b1555a14-8efc-41e3-b27f-bca5135c9e1c\",\"type\":\"DatetimeTicker\"}},\"id\":\"78eda32a-24bf-4790-bda3-44c79ce383a1\",\"type\":\"Grid\"}],\"root_ids\":[\"7ff3b103-6e0b-46c4-a246-de908d9e6afe\"]},\"title\":\"Bokeh Application\",\"version\":\"0.12.2\"}};\n",
       "            var render_items = [{\"docid\":\"98ca5cce-280b-455e-a5a6-406e325be2ed\",\"elementid\":\"b2dce38f-805a-43f3-a50d-f626d7a75ffb\",\"modelid\":\"7ff3b103-6e0b-46c4-a246-de908d9e6afe\"}];\n",
       "            \n",
       "            Bokeh.embed.embed_items(docs_json, render_items);\n",
       "        });\n",
       "      },\n",
       "      function(Bokeh) {\n",
       "      }\n",
       "    ];\n",
       "  \n",
       "    function run_inline_js() {\n",
       "      \n",
       "      if ((window.Bokeh !== undefined) || (force === \"1\")) {\n",
       "        for (var i = 0; i < inline_js.length; i++) {\n",
       "          inline_js[i](window.Bokeh);\n",
       "        }if (force === \"1\") {\n",
       "          display_loaded();\n",
       "        }} else if (Date.now() < window._bokeh_timeout) {\n",
       "        setTimeout(run_inline_js, 100);\n",
       "      } else if (!window._bokeh_failed_load) {\n",
       "        console.log(\"Bokeh: BokehJS failed to load within specified timeout.\");\n",
       "        window._bokeh_failed_load = true;\n",
       "      } else if (!force) {\n",
       "        var cell = $(\"#b2dce38f-805a-43f3-a50d-f626d7a75ffb\").parents('.cell').data().cell;\n",
       "        cell.output_area.append_execute_result(NB_LOAD_WARNING)\n",
       "      }\n",
       "  \n",
       "    }\n",
       "  \n",
       "    if (window._bokeh_is_loading === 0) {\n",
       "      console.log(\"Bokeh: BokehJS loaded, going straight to plotting\");\n",
       "      run_inline_js();\n",
       "    } else {\n",
       "      load_libs(js_urls, function() {\n",
       "        console.log(\"Bokeh: BokehJS plotting callback run at\", now());\n",
       "        run_inline_js();\n",
       "      });\n",
       "    }\n",
       "  }(this));\n",
       "</script>"
      ]
     },
     "metadata": {},
     "output_type": "display_data"
    }
   ],
   "source": [
    "p = bokeh.charts.Line(plot_hi_low, x='date_idx', y='index_nsa',  color='place_name', \n",
    "                     title= \"Comparison of lowest & highest home values with U.S. aggregate index value\")\n",
    "\n",
    "# Display it\n",
    "bokeh.io.show(p)"
   ]
  },
  {
   "cell_type": "markdown",
   "metadata": {},
   "source": [
    "  "
   ]
  },
  {
   "cell_type": "markdown",
   "metadata": {},
   "source": [
    "#### Answer to Question 3.\n",
    "    3. How do the highest and lowest home values market segments compare to the aggregate U.S. home prices?\n",
    "\n",
    "In the plot above, we see that the aggregate U.S. home price index regained its losses from the Great Recession (2008-2010) beginning around 2015.  Since then it has seen steady growth and has exceeded the peak from the pre-recession values.\n",
    "\n",
    "In contrast, the home value index for Connecticut is just now recovering its value lost during the Great Recession.  However, it has not recovered its pre-recession value.\n",
    "\n",
    "Since 2011, the aggregate U.S. home price index has been growing faster than that of Connecticut, but not even close to the growth rate for Washington, D.C."
   ]
  },
  {
   "cell_type": "markdown",
   "metadata": {},
   "source": [
    "Drop the values for 'District of Columbia' to compare the lowest home prices with the 'U.S. Aggregate' home price index.  Notice the automatic re-scaling of the Y-axis."
   ]
  },
  {
   "cell_type": "code",
   "execution_count": 67,
   "metadata": {
    "collapsed": true
   },
   "outputs": [],
   "source": [
    "mask = (plot_hi_low['place_name'] != 'District of Columbia')"
   ]
  },
  {
   "cell_type": "code",
   "execution_count": 68,
   "metadata": {
    "collapsed": false
   },
   "outputs": [],
   "source": [
    "plt_lo_us = plot_hi_low.loc[mask]"
   ]
  },
  {
   "cell_type": "code",
   "execution_count": 69,
   "metadata": {
    "collapsed": false
   },
   "outputs": [
    {
     "data": {
      "text/html": [
       "\n",
       "\n",
       "    <div class=\"bk-root\">\n",
       "        <div class=\"plotdiv\" id=\"ac51d0ac-e40f-4ec9-b019-3a9d30c61cda\"></div>\n",
       "    </div>\n",
       "<script type=\"text/javascript\">\n",
       "  \n",
       "  (function(global) {\n",
       "    function now() {\n",
       "      return new Date();\n",
       "    }\n",
       "  \n",
       "    var force = \"\";\n",
       "  \n",
       "    if (typeof (window._bokeh_onload_callbacks) === \"undefined\" || force !== \"\") {\n",
       "      window._bokeh_onload_callbacks = [];\n",
       "      window._bokeh_is_loading = undefined;\n",
       "    }\n",
       "  \n",
       "  \n",
       "    \n",
       "    if (typeof (window._bokeh_timeout) === \"undefined\" || force !== \"\") {\n",
       "      window._bokeh_timeout = Date.now() + 0;\n",
       "      window._bokeh_failed_load = false;\n",
       "    }\n",
       "  \n",
       "    var NB_LOAD_WARNING = {'data': {'text/html':\n",
       "       \"<div style='background-color: #fdd'>\\n\"+\n",
       "       \"<p>\\n\"+\n",
       "       \"BokehJS does not appear to have successfully loaded. If loading BokehJS from CDN, this \\n\"+\n",
       "       \"may be due to a slow or bad network connection. Possible fixes:\\n\"+\n",
       "       \"</p>\\n\"+\n",
       "       \"<ul>\\n\"+\n",
       "       \"<li>re-rerun `output_notebook()` to attempt to load from CDN again, or</li>\\n\"+\n",
       "       \"<li>use INLINE resources instead, as so:</li>\\n\"+\n",
       "       \"</ul>\\n\"+\n",
       "       \"<code>\\n\"+\n",
       "       \"from bokeh.resources import INLINE\\n\"+\n",
       "       \"output_notebook(resources=INLINE)\\n\"+\n",
       "       \"</code>\\n\"+\n",
       "       \"</div>\"}};\n",
       "  \n",
       "    function display_loaded() {\n",
       "      if (window.Bokeh !== undefined) {\n",
       "        Bokeh.$(\"#ac51d0ac-e40f-4ec9-b019-3a9d30c61cda\").text(\"BokehJS successfully loaded.\");\n",
       "      } else if (Date.now() < window._bokeh_timeout) {\n",
       "        setTimeout(display_loaded, 100)\n",
       "      }\n",
       "    }\n",
       "  \n",
       "    function run_callbacks() {\n",
       "      window._bokeh_onload_callbacks.forEach(function(callback) { callback() });\n",
       "      delete window._bokeh_onload_callbacks\n",
       "      console.info(\"Bokeh: all callbacks have finished\");\n",
       "    }\n",
       "  \n",
       "    function load_libs(js_urls, callback) {\n",
       "      window._bokeh_onload_callbacks.push(callback);\n",
       "      if (window._bokeh_is_loading > 0) {\n",
       "        console.log(\"Bokeh: BokehJS is being loaded, scheduling callback at\", now());\n",
       "        return null;\n",
       "      }\n",
       "      if (js_urls == null || js_urls.length === 0) {\n",
       "        run_callbacks();\n",
       "        return null;\n",
       "      }\n",
       "      console.log(\"Bokeh: BokehJS not loaded, scheduling load and callback at\", now());\n",
       "      window._bokeh_is_loading = js_urls.length;\n",
       "      for (var i = 0; i < js_urls.length; i++) {\n",
       "        var url = js_urls[i];\n",
       "        var s = document.createElement('script');\n",
       "        s.src = url;\n",
       "        s.async = false;\n",
       "        s.onreadystatechange = s.onload = function() {\n",
       "          window._bokeh_is_loading--;\n",
       "          if (window._bokeh_is_loading === 0) {\n",
       "            console.log(\"Bokeh: all BokehJS libraries loaded\");\n",
       "            run_callbacks()\n",
       "          }\n",
       "        };\n",
       "        s.onerror = function() {\n",
       "          console.warn(\"failed to load library \" + url);\n",
       "        };\n",
       "        console.log(\"Bokeh: injecting script tag for BokehJS library: \", url);\n",
       "        document.getElementsByTagName(\"head\")[0].appendChild(s);\n",
       "      }\n",
       "    };var element = document.getElementById(\"ac51d0ac-e40f-4ec9-b019-3a9d30c61cda\");\n",
       "    if (element == null) {\n",
       "      console.log(\"Bokeh: ERROR: autoload.js configured with elementid 'ac51d0ac-e40f-4ec9-b019-3a9d30c61cda' but no matching script tag was found. \")\n",
       "      return false;\n",
       "    }\n",
       "  \n",
       "    var js_urls = [];\n",
       "  \n",
       "    var inline_js = [\n",
       "      function(Bokeh) {\n",
       "        Bokeh.$(function() {\n",
       "            var docs_json = {\"60976dfc-efc1-4d88-8683-8e22b62ca67e\":{\"roots\":{\"references\":[{\"attributes\":{\"overlay\":{\"id\":\"0c1e7400-ff47-4220-b5a1-cc212f3990e6\",\"type\":\"BoxAnnotation\"},\"plot\":{\"id\":\"8b57daa9-6577-4048-a090-c491a6f4deb4\",\"subtype\":\"Chart\",\"type\":\"Plot\"}},\"id\":\"9e0606ee-8639-4996-91cd-5749145bdd5a\",\"type\":\"BoxZoomTool\"},{\"attributes\":{\"callback\":null,\"end\":1467331200000.0,\"start\":662688000000.0},\"id\":\"672a5726-3c76-4cfd-9aad-0b607f42cf79\",\"type\":\"Range1d\"},{\"attributes\":{},\"id\":\"50321570-1e37-413d-910a-1bf40e4bb04b\",\"type\":\"YearsTicker\"},{\"attributes\":{\"plot\":{\"id\":\"8b57daa9-6577-4048-a090-c491a6f4deb4\",\"subtype\":\"Chart\",\"type\":\"Plot\"}},\"id\":\"ca85e6d2-029f-43c5-b773-1c9e402cdd20\",\"type\":\"HelpTool\"},{\"attributes\":{\"callback\":null,\"end\":260.8316,\"start\":74.8844},\"id\":\"de42797c-b373-4e72-84d9-02c30dd17c02\",\"type\":\"Range1d\"},{\"attributes\":{\"bottom_units\":\"screen\",\"fill_alpha\":{\"value\":0.5},\"fill_color\":{\"value\":\"lightgrey\"},\"left_units\":\"screen\",\"level\":\"overlay\",\"line_alpha\":{\"value\":1.0},\"line_color\":{\"value\":\"black\"},\"line_dash\":[4,4],\"line_width\":{\"value\":2},\"plot\":null,\"render_mode\":\"css\",\"right_units\":\"screen\",\"top_units\":\"screen\"},\"id\":\"0c1e7400-ff47-4220-b5a1-cc212f3990e6\",\"type\":\"BoxAnnotation\"},{\"attributes\":{\"days\":[1,2,3,4,5,6,7,8,9,10,11,12,13,14,15,16,17,18,19,20,21,22,23,24,25,26,27,28,29,30,31]},\"id\":\"7ff402dd-5251-43e1-a26b-be7ad2f21191\",\"type\":\"DaysTicker\"},{\"attributes\":{\"days\":[1,4,7,10,13,16,19,22,25,28]},\"id\":\"4a7423a0-06ea-4eeb-b89b-3372ba991400\",\"type\":\"DaysTicker\"},{\"attributes\":{\"active_drag\":\"auto\",\"active_scroll\":\"auto\",\"active_tap\":\"auto\",\"tools\":[{\"id\":\"f68c2b47-d578-446d-956e-995e992befa4\",\"type\":\"PanTool\"},{\"id\":\"6ec9f16c-e3aa-4f98-ae99-71f3ad2f86e2\",\"type\":\"WheelZoomTool\"},{\"id\":\"9e0606ee-8639-4996-91cd-5749145bdd5a\",\"type\":\"BoxZoomTool\"},{\"id\":\"b1f36efb-a8ff-46b5-a061-f3f79b9a0949\",\"type\":\"SaveTool\"},{\"id\":\"45f15f40-cbab-46a1-b005-34ca498d721b\",\"type\":\"ResetTool\"},{\"id\":\"ca85e6d2-029f-43c5-b773-1c9e402cdd20\",\"type\":\"HelpTool\"}]},\"id\":\"761cdd33-f689-49cf-9a83-a7ac4a0e7505\",\"type\":\"Toolbar\"},{\"attributes\":{\"months\":[0,4,8]},\"id\":\"acee11e6-8c0e-4bb9-9c26-3d2d9f43c97a\",\"type\":\"MonthsTicker\"},{\"attributes\":{\"base\":60,\"mantissas\":[1,2,5,10,15,20,30],\"max_interval\":1800000.0,\"min_interval\":1000.0,\"num_minor_ticks\":0},\"id\":\"7dd293be-4de0-4d2d-8051-d17b299a292a\",\"type\":\"AdaptiveTicker\"},{\"attributes\":{},\"id\":\"7ef4b6d2-4124-401d-836e-2e5d214e7d4b\",\"type\":\"BasicTickFormatter\"},{\"attributes\":{\"below\":[{\"id\":\"43ef4402-11bb-4330-839e-a473407e0721\",\"type\":\"DatetimeAxis\"}],\"left\":[{\"id\":\"1f29d2e8-4023-45e6-9f32-fec837f855bc\",\"type\":\"LinearAxis\"}],\"renderers\":[{\"id\":\"0c1e7400-ff47-4220-b5a1-cc212f3990e6\",\"type\":\"BoxAnnotation\"},{\"id\":\"e088a56e-3629-4d11-8684-ad28f6386ca7\",\"type\":\"GlyphRenderer\"},{\"id\":\"2c0d351e-acab-4456-af94-6aaf28a45831\",\"type\":\"GlyphRenderer\"},{\"id\":\"083317a3-2331-4679-ab02-b8519bee1bba\",\"type\":\"Legend\"},{\"id\":\"43ef4402-11bb-4330-839e-a473407e0721\",\"type\":\"DatetimeAxis\"},{\"id\":\"1f29d2e8-4023-45e6-9f32-fec837f855bc\",\"type\":\"LinearAxis\"},{\"id\":\"0782d239-e7fb-4ac7-b248-fef5b1db254a\",\"type\":\"Grid\"},{\"id\":\"8dbd40df-6302-4797-892d-abb65330722c\",\"type\":\"Grid\"}],\"title\":{\"id\":\"968be8b1-0098-46c4-b113-43dc567e9faf\",\"type\":\"Title\"},\"tool_events\":{\"id\":\"bdbb550f-cd3d-4c5e-acbd-f95be35d3bd2\",\"type\":\"ToolEvents\"},\"toolbar\":{\"id\":\"761cdd33-f689-49cf-9a83-a7ac4a0e7505\",\"type\":\"Toolbar\"},\"x_mapper_type\":\"auto\",\"x_range\":{\"id\":\"672a5726-3c76-4cfd-9aad-0b607f42cf79\",\"type\":\"Range1d\"},\"y_mapper_type\":\"auto\",\"y_range\":{\"id\":\"de42797c-b373-4e72-84d9-02c30dd17c02\",\"type\":\"Range1d\"}},\"id\":\"8b57daa9-6577-4048-a090-c491a6f4deb4\",\"subtype\":\"Chart\",\"type\":\"Plot\"},{\"attributes\":{},\"id\":\"6224f2aa-e234-46a7-8ea3-adbfd24425e6\",\"type\":\"BasicTicker\"},{\"attributes\":{\"months\":[0,2,4,6,8,10]},\"id\":\"3b47e300-77aa-45b3-b95e-36831ac3d4f1\",\"type\":\"MonthsTicker\"},{\"attributes\":{\"base\":24,\"mantissas\":[1,2,4,6,8,12],\"max_interval\":43200000.0,\"min_interval\":3600000.0,\"num_minor_ticks\":0},\"id\":\"61045899-27ab-46a2-a697-3fbe4ee63b47\",\"type\":\"AdaptiveTicker\"},{\"attributes\":{},\"id\":\"c7ff70aa-88a8-4ad8-b800-cfe0ae068943\",\"type\":\"DatetimeTicker\"},{\"attributes\":{\"data_source\":{\"id\":\"f166ba77-690a-429f-a422-68f4d80d05b5\",\"type\":\"ColumnDataSource\"},\"glyph\":{\"id\":\"a205089c-3f9a-47dc-bee1-ed7ec598fd6d\",\"type\":\"Line\"},\"hover_glyph\":null,\"nonselection_glyph\":null,\"selection_glyph\":null},\"id\":\"2c0d351e-acab-4456-af94-6aaf28a45831\",\"type\":\"GlyphRenderer\"},{\"attributes\":{},\"id\":\"bdbb550f-cd3d-4c5e-acbd-f95be35d3bd2\",\"type\":\"ToolEvents\"},{\"attributes\":{\"callback\":null,\"column_names\":[\"x_values\",\"y_values\"],\"data\":{\"chart_index\":[{\"place_name\":\"Connecticut\"},{\"place_name\":\"Connecticut\"},{\"place_name\":\"Connecticut\"},{\"place_name\":\"Connecticut\"},{\"place_name\":\"Connecticut\"},{\"place_name\":\"Connecticut\"},{\"place_name\":\"Connecticut\"},{\"place_name\":\"Connecticut\"},{\"place_name\":\"Connecticut\"},{\"place_name\":\"Connecticut\"},{\"place_name\":\"Connecticut\"},{\"place_name\":\"Connecticut\"},{\"place_name\":\"Connecticut\"},{\"place_name\":\"Connecticut\"},{\"place_name\":\"Connecticut\"},{\"place_name\":\"Connecticut\"},{\"place_name\":\"Connecticut\"},{\"place_name\":\"Connecticut\"},{\"place_name\":\"Connecticut\"},{\"place_name\":\"Connecticut\"},{\"place_name\":\"Connecticut\"},{\"place_name\":\"Connecticut\"},{\"place_name\":\"Connecticut\"},{\"place_name\":\"Connecticut\"},{\"place_name\":\"Connecticut\"},{\"place_name\":\"Connecticut\"},{\"place_name\":\"Connecticut\"},{\"place_name\":\"Connecticut\"},{\"place_name\":\"Connecticut\"},{\"place_name\":\"Connecticut\"},{\"place_name\":\"Connecticut\"},{\"place_name\":\"Connecticut\"},{\"place_name\":\"Connecticut\"},{\"place_name\":\"Connecticut\"},{\"place_name\":\"Connecticut\"},{\"place_name\":\"Connecticut\"},{\"place_name\":\"Connecticut\"},{\"place_name\":\"Connecticut\"},{\"place_name\":\"Connecticut\"},{\"place_name\":\"Connecticut\"},{\"place_name\":\"Connecticut\"},{\"place_name\":\"Connecticut\"},{\"place_name\":\"Connecticut\"},{\"place_name\":\"Connecticut\"},{\"place_name\":\"Connecticut\"},{\"place_name\":\"Connecticut\"},{\"place_name\":\"Connecticut\"},{\"place_name\":\"Connecticut\"},{\"place_name\":\"Connecticut\"},{\"place_name\":\"Connecticut\"},{\"place_name\":\"Connecticut\"},{\"place_name\":\"Connecticut\"},{\"place_name\":\"Connecticut\"},{\"place_name\":\"Connecticut\"},{\"place_name\":\"Connecticut\"},{\"place_name\":\"Connecticut\"},{\"place_name\":\"Connecticut\"},{\"place_name\":\"Connecticut\"},{\"place_name\":\"Connecticut\"},{\"place_name\":\"Connecticut\"},{\"place_name\":\"Connecticut\"},{\"place_name\":\"Connecticut\"},{\"place_name\":\"Connecticut\"},{\"place_name\":\"Connecticut\"},{\"place_name\":\"Connecticut\"},{\"place_name\":\"Connecticut\"},{\"place_name\":\"Connecticut\"},{\"place_name\":\"Connecticut\"},{\"place_name\":\"Connecticut\"},{\"place_name\":\"Connecticut\"},{\"place_name\":\"Connecticut\"},{\"place_name\":\"Connecticut\"},{\"place_name\":\"Connecticut\"},{\"place_name\":\"Connecticut\"},{\"place_name\":\"Connecticut\"},{\"place_name\":\"Connecticut\"},{\"place_name\":\"Connecticut\"},{\"place_name\":\"Connecticut\"},{\"place_name\":\"Connecticut\"},{\"place_name\":\"Connecticut\"},{\"place_name\":\"Connecticut\"},{\"place_name\":\"Connecticut\"},{\"place_name\":\"Connecticut\"},{\"place_name\":\"Connecticut\"},{\"place_name\":\"Connecticut\"},{\"place_name\":\"Connecticut\"},{\"place_name\":\"Connecticut\"},{\"place_name\":\"Connecticut\"},{\"place_name\":\"Connecticut\"},{\"place_name\":\"Connecticut\"},{\"place_name\":\"Connecticut\"},{\"place_name\":\"Connecticut\"},{\"place_name\":\"Connecticut\"},{\"place_name\":\"Connecticut\"},{\"place_name\":\"Connecticut\"},{\"place_name\":\"Connecticut\"},{\"place_name\":\"Connecticut\"},{\"place_name\":\"Connecticut\"},{\"place_name\":\"Connecticut\"},{\"place_name\":\"Connecticut\"},{\"place_name\":\"Connecticut\"},{\"place_name\":\"Connecticut\"}],\"place_name\":[\"Connecticut\",\"Connecticut\",\"Connecticut\",\"Connecticut\",\"Connecticut\",\"Connecticut\",\"Connecticut\",\"Connecticut\",\"Connecticut\",\"Connecticut\",\"Connecticut\",\"Connecticut\",\"Connecticut\",\"Connecticut\",\"Connecticut\",\"Connecticut\",\"Connecticut\",\"Connecticut\",\"Connecticut\",\"Connecticut\",\"Connecticut\",\"Connecticut\",\"Connecticut\",\"Connecticut\",\"Connecticut\",\"Connecticut\",\"Connecticut\",\"Connecticut\",\"Connecticut\",\"Connecticut\",\"Connecticut\",\"Connecticut\",\"Connecticut\",\"Connecticut\",\"Connecticut\",\"Connecticut\",\"Connecticut\",\"Connecticut\",\"Connecticut\",\"Connecticut\",\"Connecticut\",\"Connecticut\",\"Connecticut\",\"Connecticut\",\"Connecticut\",\"Connecticut\",\"Connecticut\",\"Connecticut\",\"Connecticut\",\"Connecticut\",\"Connecticut\",\"Connecticut\",\"Connecticut\",\"Connecticut\",\"Connecticut\",\"Connecticut\",\"Connecticut\",\"Connecticut\",\"Connecticut\",\"Connecticut\",\"Connecticut\",\"Connecticut\",\"Connecticut\",\"Connecticut\",\"Connecticut\",\"Connecticut\",\"Connecticut\",\"Connecticut\",\"Connecticut\",\"Connecticut\",\"Connecticut\",\"Connecticut\",\"Connecticut\",\"Connecticut\",\"Connecticut\",\"Connecticut\",\"Connecticut\",\"Connecticut\",\"Connecticut\",\"Connecticut\",\"Connecticut\",\"Connecticut\",\"Connecticut\",\"Connecticut\",\"Connecticut\",\"Connecticut\",\"Connecticut\",\"Connecticut\",\"Connecticut\",\"Connecticut\",\"Connecticut\",\"Connecticut\",\"Connecticut\",\"Connecticut\",\"Connecticut\",\"Connecticut\",\"Connecticut\",\"Connecticut\",\"Connecticut\",\"Connecticut\",\"Connecticut\",\"Connecticut\"],\"x_values\":[662688000000.0,670464000000.0,678326400000.0,686275200000.0,694224000000.0,702086400000.0,709948800000.0,717897600000.0,725846400000.0,733622400000.0,741484800000.0,749433600000.0,757382400000.0,765158400000.0,773020800000.0,780969600000.0,788918400000.0,796694400000.0,804556800000.0,812505600000.0,820454400000.0,828316800000.0,836179200000.0,844128000000.0,852076800000.0,859852800000.0,867715200000.0,875664000000.0,883612800000.0,891388800000.0,899251200000.0,907200000000.0,915148800000.0,922924800000.0,930787200000.0,938736000000.0,946684800000.0,954547200000.0,962409600000.0,970358400000.0,978307200000.0,986083200000.0,993945600000.0,1001894400000.0,1009843200000.0,1017619200000.0,1025481600000.0,1033430400000.0,1041379200000.0,1049155200000.0,1057017600000.0,1064966400000.0,1072915200000.0,1080777600000.0,1088640000000.0,1096588800000.0,1104537600000.0,1112313600000.0,1120176000000.0,1128124800000.0,1136073600000.0,1143849600000.0,1151712000000.0,1159660800000.0,1167609600000.0,1175385600000.0,1183248000000.0,1191196800000.0,1199145600000.0,1207008000000.0,1214870400000.0,1222819200000.0,1230768000000.0,1238544000000.0,1246406400000.0,1254355200000.0,1262304000000.0,1270080000000.0,1277942400000.0,1285891200000.0,1293840000000.0,1301616000000.0,1309478400000.0,1317427200000.0,1325376000000.0,1333238400000.0,1341100800000.0,1349049600000.0,1356998400000.0,1364774400000.0,1372636800000.0,1380585600000.0,1388534400000.0,1396310400000.0,1404172800000.0,1412121600000.0,1420070400000.0,1427846400000.0,1435708800000.0,1443657600000.0,1451606400000.0,1459468800000.0],\"y_values\":[100.0,97.81,97.11,96.53,97.3,95.18,95.07,96.03,92.43,91.63,92.4,91.96,91.2,91.89,92.83,91.83,90.38,90.7,91.87,91.03,90.62,91.98,92.01,90.89,90.74,92.66,93.53,93.37,93.42,96.4,98.59,99.7,101.23,104.66,107.0,108.18,110.03,114.6,116.71,118.07,120.08,124.88,129.18,130.48,131.97,138.61,143.39,146.62,148.4,153.65,158.53,160.19,162.43,170.99,177.69,178.85,181.91,189.89,194.1,194.31,195.79,200.18,197.86,194.91,196.93,199.14,199.4,193.79,189.1,190.48,186.57,180.7,177.96,179.2,177.47,173.74,169.51,173.86,171.07,167.17,163.11,169.48,165.84,162.91,157.87,163.21,165.31,161.72,159.28,165.97,168.09,163.76,163.65,166.86,167.79,165.48,164.53,169.08,169.27,165.96,165.81,169.24]}},\"id\":\"f166ba77-690a-429f-a422-68f4d80d05b5\",\"type\":\"ColumnDataSource\"},{\"attributes\":{\"plot\":null,\"text\":\"Comparison of lowest & U.S. Aggregate home values\"},\"id\":\"968be8b1-0098-46c4-b113-43dc567e9faf\",\"type\":\"Title\"},{\"attributes\":{\"plot\":{\"id\":\"8b57daa9-6577-4048-a090-c491a6f4deb4\",\"subtype\":\"Chart\",\"type\":\"Plot\"}},\"id\":\"f68c2b47-d578-446d-956e-995e992befa4\",\"type\":\"PanTool\"},{\"attributes\":{\"axis_label\":\"date_idx\",\"formatter\":{\"id\":\"4d4c74a5-6c5f-49dc-b9e0-425bc404f1da\",\"type\":\"DatetimeTickFormatter\"},\"plot\":{\"id\":\"8b57daa9-6577-4048-a090-c491a6f4deb4\",\"subtype\":\"Chart\",\"type\":\"Plot\"},\"ticker\":{\"id\":\"c7ff70aa-88a8-4ad8-b800-cfe0ae068943\",\"type\":\"DatetimeTicker\"}},\"id\":\"43ef4402-11bb-4330-839e-a473407e0721\",\"type\":\"DatetimeAxis\"},{\"attributes\":{\"plot\":{\"id\":\"8b57daa9-6577-4048-a090-c491a6f4deb4\",\"subtype\":\"Chart\",\"type\":\"Plot\"}},\"id\":\"6ec9f16c-e3aa-4f98-ae99-71f3ad2f86e2\",\"type\":\"WheelZoomTool\"},{\"attributes\":{\"plot\":{\"id\":\"8b57daa9-6577-4048-a090-c491a6f4deb4\",\"subtype\":\"Chart\",\"type\":\"Plot\"}},\"id\":\"45f15f40-cbab-46a1-b005-34ca498d721b\",\"type\":\"ResetTool\"},{\"attributes\":{\"data_source\":{\"id\":\"23a24b57-8d78-4490-a463-0615e8b061ec\",\"type\":\"ColumnDataSource\"},\"glyph\":{\"id\":\"7854e654-6918-449b-9584-5fb123ca4642\",\"type\":\"Line\"},\"hover_glyph\":null,\"nonselection_glyph\":null,\"selection_glyph\":null},\"id\":\"e088a56e-3629-4d11-8684-ad28f6386ca7\",\"type\":\"GlyphRenderer\"},{\"attributes\":{\"months\":[0,1,2,3,4,5,6,7,8,9,10,11]},\"id\":\"f6782110-5485-4bc7-b7a5-950108816975\",\"type\":\"MonthsTicker\"},{\"attributes\":{\"days\":[1,15]},\"id\":\"283cd58c-a2b1-465c-a025-328f5b9503b7\",\"type\":\"DaysTicker\"},{\"attributes\":{\"plot\":{\"id\":\"8b57daa9-6577-4048-a090-c491a6f4deb4\",\"subtype\":\"Chart\",\"type\":\"Plot\"},\"ticker\":{\"id\":\"c7ff70aa-88a8-4ad8-b800-cfe0ae068943\",\"type\":\"DatetimeTicker\"}},\"id\":\"0782d239-e7fb-4ac7-b248-fef5b1db254a\",\"type\":\"Grid\"},{\"attributes\":{\"plot\":{\"id\":\"8b57daa9-6577-4048-a090-c491a6f4deb4\",\"subtype\":\"Chart\",\"type\":\"Plot\"}},\"id\":\"b1f36efb-a8ff-46b5-a061-f3f79b9a0949\",\"type\":\"SaveTool\"},{\"attributes\":{\"axis_label\":\"index_nsa\",\"formatter\":{\"id\":\"7ef4b6d2-4124-401d-836e-2e5d214e7d4b\",\"type\":\"BasicTickFormatter\"},\"plot\":{\"id\":\"8b57daa9-6577-4048-a090-c491a6f4deb4\",\"subtype\":\"Chart\",\"type\":\"Plot\"},\"ticker\":{\"id\":\"6224f2aa-e234-46a7-8ea3-adbfd24425e6\",\"type\":\"BasicTicker\"}},\"id\":\"1f29d2e8-4023-45e6-9f32-fec837f855bc\",\"type\":\"LinearAxis\"},{\"attributes\":{},\"id\":\"4d4c74a5-6c5f-49dc-b9e0-425bc404f1da\",\"type\":\"DatetimeTickFormatter\"},{\"attributes\":{\"dimension\":1,\"plot\":{\"id\":\"8b57daa9-6577-4048-a090-c491a6f4deb4\",\"subtype\":\"Chart\",\"type\":\"Plot\"},\"ticker\":{\"id\":\"6224f2aa-e234-46a7-8ea3-adbfd24425e6\",\"type\":\"BasicTicker\"}},\"id\":\"8dbd40df-6302-4797-892d-abb65330722c\",\"type\":\"Grid\"},{\"attributes\":{\"line_color\":{\"value\":\"#f22c40\"},\"line_width\":{\"value\":2},\"x\":{\"field\":\"x_values\"},\"y\":{\"field\":\"y_values\"}},\"id\":\"a205089c-3f9a-47dc-bee1-ed7ec598fd6d\",\"type\":\"Line\"},{\"attributes\":{\"max_interval\":500.0,\"num_minor_ticks\":0},\"id\":\"e32ac99e-a483-46cf-8ff2-0e2444e59ed5\",\"type\":\"AdaptiveTicker\"},{\"attributes\":{\"days\":[1,8,15,22]},\"id\":\"a2051769-4612-47cf-87ac-d3536f57c9db\",\"type\":\"DaysTicker\"},{\"attributes\":{\"callback\":null,\"column_names\":[\"x_values\",\"y_values\"],\"data\":{\"chart_index\":[{\"place_name\":\"U.S. Aggregate\"},{\"place_name\":\"U.S. Aggregate\"},{\"place_name\":\"U.S. Aggregate\"},{\"place_name\":\"U.S. Aggregate\"},{\"place_name\":\"U.S. Aggregate\"},{\"place_name\":\"U.S. Aggregate\"},{\"place_name\":\"U.S. Aggregate\"},{\"place_name\":\"U.S. Aggregate\"},{\"place_name\":\"U.S. Aggregate\"},{\"place_name\":\"U.S. Aggregate\"},{\"place_name\":\"U.S. Aggregate\"},{\"place_name\":\"U.S. Aggregate\"},{\"place_name\":\"U.S. Aggregate\"},{\"place_name\":\"U.S. Aggregate\"},{\"place_name\":\"U.S. Aggregate\"},{\"place_name\":\"U.S. Aggregate\"},{\"place_name\":\"U.S. Aggregate\"},{\"place_name\":\"U.S. Aggregate\"},{\"place_name\":\"U.S. Aggregate\"},{\"place_name\":\"U.S. Aggregate\"},{\"place_name\":\"U.S. Aggregate\"},{\"place_name\":\"U.S. Aggregate\"},{\"place_name\":\"U.S. Aggregate\"},{\"place_name\":\"U.S. Aggregate\"},{\"place_name\":\"U.S. Aggregate\"},{\"place_name\":\"U.S. Aggregate\"},{\"place_name\":\"U.S. Aggregate\"},{\"place_name\":\"U.S. Aggregate\"},{\"place_name\":\"U.S. Aggregate\"},{\"place_name\":\"U.S. Aggregate\"},{\"place_name\":\"U.S. Aggregate\"},{\"place_name\":\"U.S. Aggregate\"},{\"place_name\":\"U.S. Aggregate\"},{\"place_name\":\"U.S. Aggregate\"},{\"place_name\":\"U.S. Aggregate\"},{\"place_name\":\"U.S. Aggregate\"},{\"place_name\":\"U.S. Aggregate\"},{\"place_name\":\"U.S. Aggregate\"},{\"place_name\":\"U.S. Aggregate\"},{\"place_name\":\"U.S. Aggregate\"},{\"place_name\":\"U.S. Aggregate\"},{\"place_name\":\"U.S. Aggregate\"},{\"place_name\":\"U.S. Aggregate\"},{\"place_name\":\"U.S. Aggregate\"},{\"place_name\":\"U.S. Aggregate\"},{\"place_name\":\"U.S. Aggregate\"},{\"place_name\":\"U.S. Aggregate\"},{\"place_name\":\"U.S. Aggregate\"},{\"place_name\":\"U.S. Aggregate\"},{\"place_name\":\"U.S. Aggregate\"},{\"place_name\":\"U.S. Aggregate\"},{\"place_name\":\"U.S. Aggregate\"},{\"place_name\":\"U.S. Aggregate\"},{\"place_name\":\"U.S. Aggregate\"},{\"place_name\":\"U.S. Aggregate\"},{\"place_name\":\"U.S. Aggregate\"},{\"place_name\":\"U.S. Aggregate\"},{\"place_name\":\"U.S. Aggregate\"},{\"place_name\":\"U.S. Aggregate\"},{\"place_name\":\"U.S. Aggregate\"},{\"place_name\":\"U.S. Aggregate\"},{\"place_name\":\"U.S. Aggregate\"},{\"place_name\":\"U.S. Aggregate\"},{\"place_name\":\"U.S. Aggregate\"},{\"place_name\":\"U.S. Aggregate\"},{\"place_name\":\"U.S. Aggregate\"},{\"place_name\":\"U.S. Aggregate\"},{\"place_name\":\"U.S. Aggregate\"},{\"place_name\":\"U.S. Aggregate\"},{\"place_name\":\"U.S. Aggregate\"},{\"place_name\":\"U.S. Aggregate\"},{\"place_name\":\"U.S. Aggregate\"},{\"place_name\":\"U.S. Aggregate\"},{\"place_name\":\"U.S. Aggregate\"},{\"place_name\":\"U.S. Aggregate\"},{\"place_name\":\"U.S. Aggregate\"},{\"place_name\":\"U.S. Aggregate\"},{\"place_name\":\"U.S. Aggregate\"},{\"place_name\":\"U.S. Aggregate\"},{\"place_name\":\"U.S. Aggregate\"},{\"place_name\":\"U.S. Aggregate\"},{\"place_name\":\"U.S. Aggregate\"},{\"place_name\":\"U.S. Aggregate\"},{\"place_name\":\"U.S. Aggregate\"},{\"place_name\":\"U.S. Aggregate\"},{\"place_name\":\"U.S. Aggregate\"},{\"place_name\":\"U.S. Aggregate\"},{\"place_name\":\"U.S. Aggregate\"},{\"place_name\":\"U.S. Aggregate\"},{\"place_name\":\"U.S. Aggregate\"},{\"place_name\":\"U.S. Aggregate\"},{\"place_name\":\"U.S. Aggregate\"},{\"place_name\":\"U.S. Aggregate\"},{\"place_name\":\"U.S. Aggregate\"},{\"place_name\":\"U.S. Aggregate\"},{\"place_name\":\"U.S. Aggregate\"},{\"place_name\":\"U.S. Aggregate\"},{\"place_name\":\"U.S. Aggregate\"},{\"place_name\":\"U.S. Aggregate\"},{\"place_name\":\"U.S. Aggregate\"},{\"place_name\":\"U.S. Aggregate\"},{\"place_name\":\"U.S. Aggregate\"},{\"place_name\":\"U.S. Aggregate\"}],\"place_name\":[\"U.S. Aggregate\",\"U.S. Aggregate\",\"U.S. Aggregate\",\"U.S. Aggregate\",\"U.S. Aggregate\",\"U.S. Aggregate\",\"U.S. Aggregate\",\"U.S. Aggregate\",\"U.S. Aggregate\",\"U.S. Aggregate\",\"U.S. Aggregate\",\"U.S. Aggregate\",\"U.S. Aggregate\",\"U.S. Aggregate\",\"U.S. Aggregate\",\"U.S. Aggregate\",\"U.S. Aggregate\",\"U.S. Aggregate\",\"U.S. Aggregate\",\"U.S. Aggregate\",\"U.S. Aggregate\",\"U.S. Aggregate\",\"U.S. Aggregate\",\"U.S. Aggregate\",\"U.S. Aggregate\",\"U.S. Aggregate\",\"U.S. Aggregate\",\"U.S. Aggregate\",\"U.S. Aggregate\",\"U.S. Aggregate\",\"U.S. Aggregate\",\"U.S. Aggregate\",\"U.S. Aggregate\",\"U.S. Aggregate\",\"U.S. Aggregate\",\"U.S. Aggregate\",\"U.S. Aggregate\",\"U.S. Aggregate\",\"U.S. Aggregate\",\"U.S. Aggregate\",\"U.S. Aggregate\",\"U.S. Aggregate\",\"U.S. Aggregate\",\"U.S. Aggregate\",\"U.S. Aggregate\",\"U.S. Aggregate\",\"U.S. Aggregate\",\"U.S. Aggregate\",\"U.S. Aggregate\",\"U.S. Aggregate\",\"U.S. Aggregate\",\"U.S. Aggregate\",\"U.S. Aggregate\",\"U.S. Aggregate\",\"U.S. Aggregate\",\"U.S. Aggregate\",\"U.S. Aggregate\",\"U.S. Aggregate\",\"U.S. Aggregate\",\"U.S. Aggregate\",\"U.S. Aggregate\",\"U.S. Aggregate\",\"U.S. Aggregate\",\"U.S. Aggregate\",\"U.S. Aggregate\",\"U.S. Aggregate\",\"U.S. Aggregate\",\"U.S. Aggregate\",\"U.S. Aggregate\",\"U.S. Aggregate\",\"U.S. Aggregate\",\"U.S. Aggregate\",\"U.S. Aggregate\",\"U.S. Aggregate\",\"U.S. Aggregate\",\"U.S. Aggregate\",\"U.S. Aggregate\",\"U.S. Aggregate\",\"U.S. Aggregate\",\"U.S. Aggregate\",\"U.S. Aggregate\",\"U.S. Aggregate\",\"U.S. Aggregate\",\"U.S. Aggregate\",\"U.S. Aggregate\",\"U.S. Aggregate\",\"U.S. Aggregate\",\"U.S. Aggregate\",\"U.S. Aggregate\",\"U.S. Aggregate\",\"U.S. Aggregate\",\"U.S. Aggregate\",\"U.S. Aggregate\",\"U.S. Aggregate\",\"U.S. Aggregate\",\"U.S. Aggregate\",\"U.S. Aggregate\",\"U.S. Aggregate\",\"U.S. Aggregate\",\"U.S. Aggregate\",\"U.S. Aggregate\",\"U.S. Aggregate\",\"U.S. Aggregate\"],\"x_values\":[662688000000.0,670464000000.0,678326400000.0,686275200000.0,694224000000.0,702086400000.0,709948800000.0,717897600000.0,725846400000.0,733622400000.0,741484800000.0,749433600000.0,757382400000.0,765158400000.0,773020800000.0,780969600000.0,788918400000.0,796694400000.0,804556800000.0,812505600000.0,820454400000.0,828316800000.0,836179200000.0,844128000000.0,852076800000.0,859852800000.0,867715200000.0,875664000000.0,883612800000.0,891388800000.0,899251200000.0,907200000000.0,915148800000.0,922924800000.0,930787200000.0,938736000000.0,946684800000.0,954547200000.0,962409600000.0,970358400000.0,978307200000.0,986083200000.0,993945600000.0,1001894400000.0,1009843200000.0,1017619200000.0,1025481600000.0,1033430400000.0,1041379200000.0,1049155200000.0,1057017600000.0,1064966400000.0,1072915200000.0,1080777600000.0,1088640000000.0,1096588800000.0,1104537600000.0,1112313600000.0,1120176000000.0,1128124800000.0,1136073600000.0,1143849600000.0,1151712000000.0,1159660800000.0,1167609600000.0,1175385600000.0,1183248000000.0,1191196800000.0,1199145600000.0,1207008000000.0,1214870400000.0,1222819200000.0,1230768000000.0,1238544000000.0,1246406400000.0,1254355200000.0,1262304000000.0,1270080000000.0,1277942400000.0,1285891200000.0,1293840000000.0,1301616000000.0,1309478400000.0,1317427200000.0,1325376000000.0,1333238400000.0,1341100800000.0,1349049600000.0,1356998400000.0,1364774400000.0,1372636800000.0,1380585600000.0,1388534400000.0,1396310400000.0,1404172800000.0,1412121600000.0,1420070400000.0,1427846400000.0,1435708800000.0,1443657600000.0,1451606400000.0,1459468800000.0,1467331200000.0],\"y_values\":[100.39099999999999,100.92333333333335,101.21766666666666,101.87533333333334,102.73233333333332,103.10533333333335,104.17199999999997,104.868,104.46799999999998,106.23566666666669,107.44399999999999,108.19033333333331,108.83933333333334,110.66466666666665,111.62466666666668,111.78833333333333,112.08799999999998,113.56133333333332,115.01366666666665,115.12666666666665,115.75133333333332,117.60466666666669,118.63466666666663,118.57233333333336,118.97700000000002,120.97766666666668,122.04666666666665,122.53633333333333,123.60600000000004,126.45433333333337,128.34900000000002,129.56533333333334,131.05400000000003,134.151,136.53333333333336,137.602,139.54533333333333,143.15366666666665,145.69899999999998,147.2036666666667,149.38766666666663,153.17499999999998,155.89966666666666,157.20166666666668,159.14000000000001,163.53200000000004,167.19700000000003,169.21666666666667,171.40833333333333,175.808,179.87266666666662,182.4043333333333,185.56366666666665,192.28900000000004,197.87499999999997,200.93333333333337,204.92566666666667,212.8646666666667,219.0486666666666,221.5516666666667,223.9236666666666,228.2456666666667,229.13633333333334,227.98999999999998,228.23966666666666,231.19366666666664,228.753,222.66699999999994,216.9453333333334,214.40966666666665,209.4563333333334,201.47400000000005,199.87366666666668,200.23700000000005,199.30466666666672,197.22666666666663,193.77033333333333,196.53633333333335,193.7953333333333,189.64866666666666,184.22833333333338,186.62100000000004,187.78866666666664,185.68933333333334,184.79166666666663,192.08233333333334,194.7313333333333,195.06433333333334,196.85166666666663,205.55666666666673,209.43166666666667,208.69733333333335,209.42000000000002,216.14733333333336,218.9913333333333,218.7783333333333,220.10499999999996,228.06466666666665,231.48733333333328,231.69266666666672,233.16599999999997,241.3996666666667,245.33599999999996]}},\"id\":\"23a24b57-8d78-4490-a463-0615e8b061ec\",\"type\":\"ColumnDataSource\"},{\"attributes\":{\"months\":[0,6]},\"id\":\"121b7d6a-97d2-4cec-967a-a449e2ec945b\",\"type\":\"MonthsTicker\"},{\"attributes\":{\"line_color\":{\"value\":\"#5ab738\"},\"line_width\":{\"value\":2},\"x\":{\"field\":\"x_values\"},\"y\":{\"field\":\"y_values\"}},\"id\":\"7854e654-6918-449b-9584-5fb123ca4642\",\"type\":\"Line\"},{\"attributes\":{\"legends\":[[\"U.S. Aggregate\",[{\"id\":\"e088a56e-3629-4d11-8684-ad28f6386ca7\",\"type\":\"GlyphRenderer\"}]],[\"Connecticut\",[{\"id\":\"2c0d351e-acab-4456-af94-6aaf28a45831\",\"type\":\"GlyphRenderer\"}]]],\"location\":\"top_left\",\"plot\":{\"id\":\"8b57daa9-6577-4048-a090-c491a6f4deb4\",\"subtype\":\"Chart\",\"type\":\"Plot\"}},\"id\":\"083317a3-2331-4679-ab02-b8519bee1bba\",\"type\":\"Legend\"}],\"root_ids\":[\"8b57daa9-6577-4048-a090-c491a6f4deb4\"]},\"title\":\"Bokeh Application\",\"version\":\"0.12.2\"}};\n",
       "            var render_items = [{\"docid\":\"60976dfc-efc1-4d88-8683-8e22b62ca67e\",\"elementid\":\"ac51d0ac-e40f-4ec9-b019-3a9d30c61cda\",\"modelid\":\"8b57daa9-6577-4048-a090-c491a6f4deb4\"}];\n",
       "            \n",
       "            Bokeh.embed.embed_items(docs_json, render_items);\n",
       "        });\n",
       "      },\n",
       "      function(Bokeh) {\n",
       "      }\n",
       "    ];\n",
       "  \n",
       "    function run_inline_js() {\n",
       "      \n",
       "      if ((window.Bokeh !== undefined) || (force === \"1\")) {\n",
       "        for (var i = 0; i < inline_js.length; i++) {\n",
       "          inline_js[i](window.Bokeh);\n",
       "        }if (force === \"1\") {\n",
       "          display_loaded();\n",
       "        }} else if (Date.now() < window._bokeh_timeout) {\n",
       "        setTimeout(run_inline_js, 100);\n",
       "      } else if (!window._bokeh_failed_load) {\n",
       "        console.log(\"Bokeh: BokehJS failed to load within specified timeout.\");\n",
       "        window._bokeh_failed_load = true;\n",
       "      } else if (!force) {\n",
       "        var cell = $(\"#ac51d0ac-e40f-4ec9-b019-3a9d30c61cda\").parents('.cell').data().cell;\n",
       "        cell.output_area.append_execute_result(NB_LOAD_WARNING)\n",
       "      }\n",
       "  \n",
       "    }\n",
       "  \n",
       "    if (window._bokeh_is_loading === 0) {\n",
       "      console.log(\"Bokeh: BokehJS loaded, going straight to plotting\");\n",
       "      run_inline_js();\n",
       "    } else {\n",
       "      load_libs(js_urls, function() {\n",
       "        console.log(\"Bokeh: BokehJS plotting callback run at\", now());\n",
       "        run_inline_js();\n",
       "      });\n",
       "    }\n",
       "  }(this));\n",
       "</script>"
      ]
     },
     "metadata": {},
     "output_type": "display_data"
    }
   ],
   "source": [
    "p = bokeh.charts.Line(plt_lo_us, x='date_idx', y='index_nsa', color='place_name',  \n",
    "                      title=\"Comparison of lowest & U.S. Aggregate home values\")\n",
    "\n",
    "bokeh.io.show(p)"
   ]
  },
  {
   "cell_type": "markdown",
   "metadata": {},
   "source": [
    "  "
   ]
  },
  {
   "cell_type": "markdown",
   "metadata": {},
   "source": [
    "## Resources \n",
    "\n",
    "pandas Time Series and Date functionality doc located <a href=\"http://pandas.pydata.org/pandas-docs/stable/timeseries.html\">here</a>.\n",
    "\n",
    "pandas datetime Indexing doc located <a href=\"http://pandas.pydata.org/pandas-docs/stable/timeseries.html#datetime-indexing\">here</a>.\n",
    "\n",
    "pandas cookbook for <a href=\"http://pandas.pydata.org/pandas-docs/stable/cookbook.html#timeseries\">timeseries</a>.\n",
    "\n",
    "Chapter 10, Time Series, \"Python for Data Analysis, by Wes McKinney, located <a href=\"http://shop.oreilly.com/product/0636920023784.do\">here</a>.\n",
    "\n",
    "SAS 9.4 Language Reference: Concepts, 5th ed., <a href=\"http://support.sas.com/documentation/cdl/en/lrcon/68089/HTML/default/viewer.htm#n0q9ylcaccjgjrn19hvqnd9cte8p.htm\"> Dates, Times, and Intervals"
   ]
  },
  {
   "cell_type": "markdown",
   "metadata": {
    "collapsed": true
   },
   "source": [
    "## Navigation\n",
    "\n",
    "<a href=\"http://nbviewer.jupyter.org/github/RandyBetancourt/PythonForSASUsers/tree/master/\"> Return to Chapter List </a>    "
   ]
  }
 ],
 "metadata": {
  "anaconda-cloud": {},
  "kernelspec": {
   "display_name": "Python [Root]",
   "language": "python",
   "name": "Python [Root]"
  },
  "language_info": {
   "codemirror_mode": {
    "name": "ipython",
    "version": 3
   },
   "file_extension": ".py",
   "mimetype": "text/x-python",
   "name": "python",
   "nbconvert_exporter": "python",
   "pygments_lexer": "ipython3",
   "version": "3.5.2"
  }
 },
 "nbformat": 4,
 "nbformat_minor": 0
}
