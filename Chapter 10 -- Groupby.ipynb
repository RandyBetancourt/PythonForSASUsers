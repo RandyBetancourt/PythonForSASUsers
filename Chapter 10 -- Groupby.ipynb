{
 "cells": [
  {
   "cell_type": "markdown",
   "metadata": {},
   "source": [
    "# Chapter 10 -- Groupby"
   ]
  },
  {
   "cell_type": "markdown",
   "metadata": {},
   "source": [
    "## Topics Covered:\n",
    "\n",
    "<a href=\"http://nbviewer.jupyter.org/github/RandyBetancourt/PythonForSASUsers/blob/master/Chapter%2010%20--%20Groupby.ipynb#Setting-Display-Options\">Setting Display Options</a>\n",
    "\n",
    "<a href=\"http://nbviewer.jupyter.org/github/RandyBetancourt/PythonForSASUsers/blob/master/Chapter%2010%20--%20Groupby.ipynb#Read-'pickled'-DataFrame\">Read 'pickled' DataFrame</a>\n",
    "\n",
    "<a href=\"http://nbviewer.jupyter.org/github/RandyBetancourt/PythonForSASUsers/blob/master/Chapter%2010%20--%20Groupby.ipynb#Create-GroupBy-Object\">Create GroupBy Object</a>\n",
    "\n",
    "<a href=\"http://nbviewer.jupyter.org/github/RandyBetancourt/PythonForSASUsers/blob/master/Chapter%2010%20--%20Groupby.ipynb#GroupBy-with-Aggregations\">GroupBy with Aggregations</a>\n",
    "\n",
    "<a href=\"http://nbviewer.jupyter.org/github/RandyBetancourt/PythonForSASUsers/blob/master/Chapter%2010%20--%20Groupby.ipynb#Understanding-Binning\">Understanding Binning</a>\n",
    "\n",
    "<a href=\"http://nbviewer.jupyter.org/github/RandyBetancourt/PythonForSASUsers/blob/master/Chapter%2010%20--%20Groupby.ipynb#Defining-Functions\">Defining Functions</a>\n",
    "\n",
    "<a href=\"http://nbviewer.jupyter.org/github/RandyBetancourt/PythonForSASUsers/blob/master/Chapter%2010%20--%20Groupby.ipynb#Applying-Functions-to-Groups\">Applying Functions to Groups</a>\n",
    "\n",
    "<a href=\"http://nbviewer.jupyter.org/github/RandyBetancourt/PythonForSASUsers/blob/master/Chapter%2010%20--%20Groupby.ipynb#Applying-Transformations-to-Groups\">Applying Transformations to Groups</a>\n",
    "\n",
    "<a href=\"http://nbviewer.jupyter.org/github/RandyBetancourt/PythonForSASUsers/blob/master/Chapter%2010%20--%20Groupby.ipynb#Top/Bottom-N-processing\">Top/Bottom N processing</a>\n",
    "\n",
    "<a href=\"http://nbviewer.jupyter.org/github/RandyBetancourt/PythonForSASUsers/blob/master/Chapter%2010%20--%20Groupby.ipynb#Resources\">Resources</a>"
   ]
  },
  {
   "cell_type": "code",
   "execution_count": 1,
   "metadata": {
    "collapsed": true
   },
   "outputs": [],
   "source": [
    "import numpy as np\n",
    "import pandas as pd\n",
    "from pandas import Series, DataFrame, Index\n",
    "from IPython.display import Image"
   ]
  },
  {
   "cell_type": "markdown",
   "metadata": {},
   "source": [
    "## Setting Display Options"
   ]
  },
  {
   "cell_type": "markdown",
   "metadata": {},
   "source": [
    "For this notebook, display floats with a field width of 20 and two places left of the decimal."
   ]
  },
  {
   "cell_type": "code",
   "execution_count": 2,
   "metadata": {
    "collapsed": true
   },
   "outputs": [],
   "source": [
    "pd.options.display.float_format = '{:20,.2f}'.format"
   ]
  },
  {
   "cell_type": "markdown",
   "metadata": {},
   "source": [
    " "
   ]
  },
  {
   "cell_type": "markdown",
   "metadata": {},
   "source": [
    "## Read 'pickled' DataFrame"
   ]
  },
  {
   "cell_type": "markdown",
   "metadata": {},
   "source": [
    "The pd.read_pickle() function loads the Lending Club Data Frame created in <a href=\"http://nbviewer.jupyter.org/github/RandyBetancourt/PythonForSASUsers/blob/master/Chapter%2012%20--%20Additional%20Data%20Handling%20.ipynb#Save-to-Disk\"> Chapter 12, Additional Data Handling</a>.  The pd.read_pickle() method is documented <a href=\"http://pandas.pydata.org/pandas-docs/stable/generated/pandas.read_pickle.html\">here</a>. "
   ]
  },
  {
   "cell_type": "code",
   "execution_count": 3,
   "metadata": {
    "collapsed": false
   },
   "outputs": [
    {
     "data": {
      "text/plain": [
       "(42595, 24)"
      ]
     },
     "execution_count": 3,
     "metadata": {},
     "output_type": "execute_result"
    }
   ],
   "source": [
    "loans = pd.read_pickle('lending_club.pkl')\n",
    "loans.shape"
   ]
  },
  {
   "cell_type": "code",
   "execution_count": 4,
   "metadata": {
    "collapsed": true
   },
   "outputs": [],
   "source": [
    "loans.set_index('id', inplace=True)"
   ]
  },
  {
   "cell_type": "markdown",
   "metadata": {},
   "source": [
    " "
   ]
  },
  {
   "cell_type": "markdown",
   "metadata": {},
   "source": [
    "Display attribute information for the 'loans' DataFrame."
   ]
  },
  {
   "cell_type": "code",
   "execution_count": 5,
   "metadata": {
    "collapsed": false
   },
   "outputs": [
    {
     "name": "stdout",
     "output_type": "stream",
     "text": [
      "<class 'pandas.core.frame.DataFrame'>\n",
      "Int64Index: 42595 entries, 872482 to 1064908\n",
      "Data columns (total 23 columns):\n",
      "mem_id         42595 non-null int64\n",
      "ln_amt         42595 non-null int64\n",
      "term           42595 non-null object\n",
      "rate           42595 non-null float64\n",
      "m_pay          42595 non-null float64\n",
      "grade          42595 non-null object\n",
      "sub_grd        42595 non-null object\n",
      "emp_len        42595 non-null object\n",
      "own_rnt        42595 non-null object\n",
      "income         42595 non-null float64\n",
      "ln_stat        42595 non-null object\n",
      "purpose        42595 non-null object\n",
      "state          42595 non-null object\n",
      "dti            42595 non-null float64\n",
      "delinq_2yrs    42566 non-null float64\n",
      "ln_fst         42566 non-null object\n",
      "inq_6mnth      42566 non-null float64\n",
      "open_acc       42566 non-null float64\n",
      "revol_bal      42595 non-null int64\n",
      "revol_util     42595 non-null float64\n",
      "ln_plcy        42595 non-null bool\n",
      "dti_cat        42595 non-null category\n",
      "inc_cat        42595 non-null int8\n",
      "dtypes: bool(1), category(1), float64(8), int64(3), int8(1), object(9)\n",
      "memory usage: 6.9+ MB\n"
     ]
    }
   ],
   "source": [
    "loans.info()"
   ]
  },
  {
   "cell_type": "markdown",
   "metadata": {},
   "source": [
    "  "
   ]
  },
  {
   "cell_type": "markdown",
   "metadata": {},
   "source": [
    "## Create GroupBy Object"
   ]
  },
  {
   "cell_type": "markdown",
   "metadata": {},
   "source": [
    "Create the GroupBy object 'grp_grd' using the key column 'grade'. It does not compute anything until an operation is applied to the resulting groups.  One of the simplest aggregation method applied is the len() function used to return the number of groups. The GroupBy: split-apply-combine doc for panda is located <a href=\"http://pandas.pydata.org/pandas-docs/stable/groupby.html\"> here</a>."
   ]
  },
  {
   "cell_type": "code",
   "execution_count": 6,
   "metadata": {
    "collapsed": false
   },
   "outputs": [
    {
     "name": "stdout",
     "output_type": "stream",
     "text": [
      "<class 'pandas.core.groupby.DataFrameGroupBy'>\n",
      "7\n"
     ]
    }
   ],
   "source": [
    "grp_grd = loans.groupby('grade')\n",
    "print(type(grp_grd))\n",
    "print(len(grp_grd))"
   ]
  },
  {
   "cell_type": "markdown",
   "metadata": {},
   "source": [
    "The GroupBy object has a number of aggregation methods which can be applied to individual group levels, for example .mean()."
   ]
  },
  {
   "cell_type": "code",
   "execution_count": 7,
   "metadata": {
    "collapsed": false
   },
   "outputs": [
    {
     "data": {
      "text/plain": [
       "grade\n",
       "A              66,711.88\n",
       "B              67,918.69\n",
       "C              68,199.96\n",
       "D              68,277.02\n",
       "E              75,889.16\n",
       "F              83,095.53\n",
       "G              93,055.82\n",
       "Name: income, dtype: float64"
      ]
     },
     "execution_count": 7,
     "metadata": {},
     "output_type": "execute_result"
    }
   ],
   "source": [
    "grp_grd['income'].mean()"
   ]
  },
  {
   "cell_type": "markdown",
   "metadata": {},
   "source": [
    " "
   ]
  },
  {
   "cell_type": "markdown",
   "metadata": {},
   "source": [
    "Even if we do not use the GroupBy object created above, we can still render the average income for each level of the column 'grade' by passing the DataFrame column name.  In this case, 'income' grouped by grade to calculate the group mean."
   ]
  },
  {
   "cell_type": "code",
   "execution_count": 8,
   "metadata": {
    "collapsed": false
   },
   "outputs": [
    {
     "data": {
      "text/plain": [
       "grade\n",
       "A              66,711.88\n",
       "B              67,918.69\n",
       "C              68,199.96\n",
       "D              68,277.02\n",
       "E              75,889.16\n",
       "F              83,095.53\n",
       "G              93,055.82\n",
       "Name: income, dtype: float64"
      ]
     },
     "execution_count": 8,
     "metadata": {},
     "output_type": "execute_result"
    }
   ],
   "source": [
    "loans.groupby('grade')['income'].mean()"
   ]
  },
  {
   "cell_type": "markdown",
   "metadata": {},
   "source": [
    " "
   ]
  },
  {
   "cell_type": "markdown",
   "metadata": {},
   "source": [
    "Not surprisingly, the pandas GroupBy logic is analogous to SQL's group by syntax.  "
   ]
  },
  {
   "cell_type": "markdown",
   "metadata": {},
   "source": [
    "````\n",
    "    /******************************************************/\n",
    "    /* c10_groupby_grade.sas                              */\n",
    "    /******************************************************/\n",
    "    6       proc sql;\n",
    "    7       select grade label = 'Grade',\n",
    "    8              mean(income) label = 'Mean Income'\n",
    "    9                           \n",
    "    10       from df\n",
    "    11       group by grade\n",
    "    12       order by mean;\n",
    "````"
   ]
  },
  {
   "cell_type": "code",
   "execution_count": 9,
   "metadata": {
    "collapsed": false
   },
   "outputs": [
    {
     "data": {
      "image/jpeg": "[encoded data removed]",
      "text/plain": [
       "<IPython.core.display.Image object>"
      ]
     },
     "execution_count": 9,
     "metadata": {},
     "output_type": "execute_result"
    }
   ],
   "source": [
    "  Image(filename='Anaconda3\\\\output\\\\income_groupby_grade.JPG')  "
   ]
  },
  {
   "cell_type": "markdown",
   "metadata": {},
   "source": [
    "## GroupBy with Aggregations"
   ]
  },
  {
   "cell_type": "markdown",
   "metadata": {},
   "source": [
    "We can use the .aggregate() attribute to apply multiple methods to the group levels."
   ]
  },
  {
   "cell_type": "code",
   "execution_count": 10,
   "metadata": {
    "collapsed": false
   },
   "outputs": [
    {
     "data": {
      "text/html": [
       "<div>\n",
       "<table border=\"1\" class=\"dataframe\">\n",
       "  <thead>\n",
       "    <tr style=\"text-align: right;\">\n",
       "      <th></th>\n",
       "      <th>mean</th>\n",
       "      <th>std</th>\n",
       "      <th>count</th>\n",
       "    </tr>\n",
       "    <tr>\n",
       "      <th>grade</th>\n",
       "      <th></th>\n",
       "      <th></th>\n",
       "      <th></th>\n",
       "    </tr>\n",
       "  </thead>\n",
       "  <tbody>\n",
       "    <tr>\n",
       "      <th>A</th>\n",
       "      <td>66,711.88</td>\n",
       "      <td>54,049.48</td>\n",
       "      <td>10202</td>\n",
       "    </tr>\n",
       "    <tr>\n",
       "      <th>B</th>\n",
       "      <td>67,918.69</td>\n",
       "      <td>60,705.94</td>\n",
       "      <td>12408</td>\n",
       "    </tr>\n",
       "    <tr>\n",
       "      <th>C</th>\n",
       "      <td>68,199.96</td>\n",
       "      <td>86,568.69</td>\n",
       "      <td>8747</td>\n",
       "    </tr>\n",
       "    <tr>\n",
       "      <th>D</th>\n",
       "      <td>68,277.02</td>\n",
       "      <td>49,031.33</td>\n",
       "      <td>6025</td>\n",
       "    </tr>\n",
       "    <tr>\n",
       "      <th>E</th>\n",
       "      <td>75,889.16</td>\n",
       "      <td>55,312.08</td>\n",
       "      <td>3401</td>\n",
       "    </tr>\n",
       "    <tr>\n",
       "      <th>F</th>\n",
       "      <td>83,095.53</td>\n",
       "      <td>63,771.87</td>\n",
       "      <td>1300</td>\n",
       "    </tr>\n",
       "    <tr>\n",
       "      <th>G</th>\n",
       "      <td>93,055.82</td>\n",
       "      <td>73,522.11</td>\n",
       "      <td>512</td>\n",
       "    </tr>\n",
       "  </tbody>\n",
       "</table>\n",
       "</div>"
      ],
      "text/plain": [
       "                      mean                  std  count\n",
       "grade                                                 \n",
       "A                66,711.88            54,049.48  10202\n",
       "B                67,918.69            60,705.94  12408\n",
       "C                68,199.96            86,568.69   8747\n",
       "D                68,277.02            49,031.33   6025\n",
       "E                75,889.16            55,312.08   3401\n",
       "F                83,095.53            63,771.87   1300\n",
       "G                93,055.82            73,522.11    512"
      ]
     },
     "execution_count": 10,
     "metadata": {},
     "output_type": "execute_result"
    }
   ],
   "source": [
    "grp_grd['income'].aggregate(['mean', 'std', 'count'])"
   ]
  },
  {
   "cell_type": "markdown",
   "metadata": {},
   "source": [
    " "
   ]
  },
  {
   "cell_type": "markdown",
   "metadata": {},
   "source": [
    " "
   ]
  },
  {
   "cell_type": "markdown",
   "metadata": {},
   "source": [
    "The analog SAS program using the MEAN, STD, and COUNT function to produce the same results."
   ]
  },
  {
   "cell_type": "markdown",
   "metadata": {},
   "source": [
    "````\n",
    "    /******************************************************/\n",
    "    /* c10_groupby_grade_stats.sas                        */\n",
    "    /******************************************************/\n",
    "    3       proc sql;\n",
    "    4       select grade label = 'Grade'\n",
    "    5              , mean(income) label = 'Mean Income' as mean\n",
    "    6              , std(income) label = 'Standard Deviation'\n",
    "    7              , count(income) label = 'Count'\n",
    "    8       \n",
    "   9       from df\n",
    "   10       group by grade\n",
    "   11       order by mean;\n",
    "````"
   ]
  },
  {
   "cell_type": "code",
   "execution_count": 11,
   "metadata": {
    "collapsed": false,
    "scrolled": true
   },
   "outputs": [
    {
     "data": {
      "image/jpeg": "[encoded data removed]",
      "text/plain": [
       "<IPython.core.display.Image object>"
      ]
     },
     "execution_count": 11,
     "metadata": {},
     "output_type": "execute_result"
    }
   ],
   "source": [
    "  Image(filename='Anaconda3\\\\output\\\\groupby_income_stats.JPG')  "
   ]
  },
  {
   "cell_type": "markdown",
   "metadata": {},
   "source": [
    " "
   ]
  },
  {
   "cell_type": "markdown",
   "metadata": {},
   "source": [
    "We can requests multiple columns as part of the GroupBy operation.  In this case, loans['income'] and loans['dti'] (debt-to-income ratio).  The .describe() attribute is applied to each of the group levels.  The .stack() .and unstack() attributes are discussed <a href=\"http://nbviewer.jupyter.org/github/RandyBetancourt/PythonForSASUsers/blob/master/Chapter%2006%20--%20Hierarchical%20Indexing.ipynb#stack()-and-unstack()-methods\"> here </a>."
   ]
  },
  {
   "cell_type": "code",
   "execution_count": 12,
   "metadata": {
    "collapsed": false
   },
   "outputs": [
    {
     "data": {
      "text/html": [
       "<div>\n",
       "<table border=\"1\" class=\"dataframe\">\n",
       "  <thead>\n",
       "    <tr>\n",
       "      <th></th>\n",
       "      <th colspan=\"8\" halign=\"left\">income</th>\n",
       "      <th colspan=\"8\" halign=\"left\">dti</th>\n",
       "    </tr>\n",
       "    <tr>\n",
       "      <th></th>\n",
       "      <th>count</th>\n",
       "      <th>mean</th>\n",
       "      <th>std</th>\n",
       "      <th>min</th>\n",
       "      <th>25%</th>\n",
       "      <th>50%</th>\n",
       "      <th>75%</th>\n",
       "      <th>max</th>\n",
       "      <th>count</th>\n",
       "      <th>mean</th>\n",
       "      <th>std</th>\n",
       "      <th>min</th>\n",
       "      <th>25%</th>\n",
       "      <th>50%</th>\n",
       "      <th>75%</th>\n",
       "      <th>max</th>\n",
       "    </tr>\n",
       "    <tr>\n",
       "      <th>grade</th>\n",
       "      <th></th>\n",
       "      <th></th>\n",
       "      <th></th>\n",
       "      <th></th>\n",
       "      <th></th>\n",
       "      <th></th>\n",
       "      <th></th>\n",
       "      <th></th>\n",
       "      <th></th>\n",
       "      <th></th>\n",
       "      <th></th>\n",
       "      <th></th>\n",
       "      <th></th>\n",
       "      <th></th>\n",
       "      <th></th>\n",
       "      <th></th>\n",
       "    </tr>\n",
       "  </thead>\n",
       "  <tbody>\n",
       "    <tr>\n",
       "      <th>A</th>\n",
       "      <td>10,202.00</td>\n",
       "      <td>66,711.88</td>\n",
       "      <td>54,049.48</td>\n",
       "      <td>3,300.00</td>\n",
       "      <td>40,000.00</td>\n",
       "      <td>57,632.00</td>\n",
       "      <td>80,000.00</td>\n",
       "      <td>1,900,000.00</td>\n",
       "      <td>10,202.00</td>\n",
       "      <td>12.04</td>\n",
       "      <td>7.01</td>\n",
       "      <td>0.00</td>\n",
       "      <td>6.46</td>\n",
       "      <td>11.50</td>\n",
       "      <td>17.10</td>\n",
       "      <td>29.99</td>\n",
       "    </tr>\n",
       "    <tr>\n",
       "      <th>B</th>\n",
       "      <td>12,408.00</td>\n",
       "      <td>67,918.69</td>\n",
       "      <td>60,705.94</td>\n",
       "      <td>2,000.00</td>\n",
       "      <td>40,000.00</td>\n",
       "      <td>57,996.00</td>\n",
       "      <td>80,497.00</td>\n",
       "      <td>3,900,000.00</td>\n",
       "      <td>12,408.00</td>\n",
       "      <td>13.39</td>\n",
       "      <td>6.66</td>\n",
       "      <td>0.00</td>\n",
       "      <td>8.31</td>\n",
       "      <td>13.51</td>\n",
       "      <td>18.62</td>\n",
       "      <td>29.95</td>\n",
       "    </tr>\n",
       "    <tr>\n",
       "      <th>C</th>\n",
       "      <td>8,747.00</td>\n",
       "      <td>68,199.96</td>\n",
       "      <td>86,568.69</td>\n",
       "      <td>4,000.00</td>\n",
       "      <td>40,000.00</td>\n",
       "      <td>56,000.00</td>\n",
       "      <td>80,000.00</td>\n",
       "      <td>6,000,000.00</td>\n",
       "      <td>8,747.00</td>\n",
       "      <td>13.85</td>\n",
       "      <td>6.50</td>\n",
       "      <td>0.00</td>\n",
       "      <td>8.97</td>\n",
       "      <td>14.05</td>\n",
       "      <td>18.99</td>\n",
       "      <td>29.78</td>\n",
       "    </tr>\n",
       "    <tr>\n",
       "      <th>D</th>\n",
       "      <td>6,025.00</td>\n",
       "      <td>68,277.02</td>\n",
       "      <td>49,031.33</td>\n",
       "      <td>4,000.00</td>\n",
       "      <td>40,000.00</td>\n",
       "      <td>58,000.00</td>\n",
       "      <td>82,000.00</td>\n",
       "      <td>1,200,000.00</td>\n",
       "      <td>6,025.00</td>\n",
       "      <td>13.98</td>\n",
       "      <td>6.43</td>\n",
       "      <td>0.00</td>\n",
       "      <td>9.16</td>\n",
       "      <td>14.31</td>\n",
       "      <td>19.25</td>\n",
       "      <td>29.63</td>\n",
       "    </tr>\n",
       "    <tr>\n",
       "      <th>E</th>\n",
       "      <td>3,401.00</td>\n",
       "      <td>75,889.16</td>\n",
       "      <td>55,312.08</td>\n",
       "      <td>4,200.00</td>\n",
       "      <td>45,000.00</td>\n",
       "      <td>62,000.00</td>\n",
       "      <td>90,000.00</td>\n",
       "      <td>750,000.00</td>\n",
       "      <td>3,401.00</td>\n",
       "      <td>14.18</td>\n",
       "      <td>6.53</td>\n",
       "      <td>0.00</td>\n",
       "      <td>9.36</td>\n",
       "      <td>14.62</td>\n",
       "      <td>19.60</td>\n",
       "      <td>29.70</td>\n",
       "    </tr>\n",
       "    <tr>\n",
       "      <th>F</th>\n",
       "      <td>1,300.00</td>\n",
       "      <td>83,095.53</td>\n",
       "      <td>63,771.87</td>\n",
       "      <td>7,280.00</td>\n",
       "      <td>50,000.00</td>\n",
       "      <td>70,679.00</td>\n",
       "      <td>100,000.00</td>\n",
       "      <td>1,440,000.00</td>\n",
       "      <td>1,300.00</td>\n",
       "      <td>14.65</td>\n",
       "      <td>6.55</td>\n",
       "      <td>0.00</td>\n",
       "      <td>9.81</td>\n",
       "      <td>15.16</td>\n",
       "      <td>19.76</td>\n",
       "      <td>29.95</td>\n",
       "    </tr>\n",
       "    <tr>\n",
       "      <th>G</th>\n",
       "      <td>512.00</td>\n",
       "      <td>93,055.82</td>\n",
       "      <td>73,522.11</td>\n",
       "      <td>1,896.00</td>\n",
       "      <td>52,000.00</td>\n",
       "      <td>75,000.00</td>\n",
       "      <td>110,000.00</td>\n",
       "      <td>725,000.00</td>\n",
       "      <td>512.00</td>\n",
       "      <td>15.69</td>\n",
       "      <td>7.29</td>\n",
       "      <td>0.00</td>\n",
       "      <td>9.89</td>\n",
       "      <td>15.96</td>\n",
       "      <td>21.33</td>\n",
       "      <td>29.96</td>\n",
       "    </tr>\n",
       "  </tbody>\n",
       "</table>\n",
       "</div>"
      ],
      "text/plain": [
       "                    income                                            \\\n",
       "                     count                 mean                  std   \n",
       "grade                                                                  \n",
       "A                10,202.00            66,711.88            54,049.48   \n",
       "B                12,408.00            67,918.69            60,705.94   \n",
       "C                 8,747.00            68,199.96            86,568.69   \n",
       "D                 6,025.00            68,277.02            49,031.33   \n",
       "E                 3,401.00            75,889.16            55,312.08   \n",
       "F                 1,300.00            83,095.53            63,771.87   \n",
       "G                   512.00            93,055.82            73,522.11   \n",
       "\n",
       "                                                                      \\\n",
       "                       min                  25%                  50%   \n",
       "grade                                                                  \n",
       "A                 3,300.00            40,000.00            57,632.00   \n",
       "B                 2,000.00            40,000.00            57,996.00   \n",
       "C                 4,000.00            40,000.00            56,000.00   \n",
       "D                 4,000.00            40,000.00            58,000.00   \n",
       "E                 4,200.00            45,000.00            62,000.00   \n",
       "F                 7,280.00            50,000.00            70,679.00   \n",
       "G                 1,896.00            52,000.00            75,000.00   \n",
       "\n",
       "                                                                 dti  \\\n",
       "                       75%                  max                count   \n",
       "grade                                                                  \n",
       "A                80,000.00         1,900,000.00            10,202.00   \n",
       "B                80,497.00         3,900,000.00            12,408.00   \n",
       "C                80,000.00         6,000,000.00             8,747.00   \n",
       "D                82,000.00         1,200,000.00             6,025.00   \n",
       "E                90,000.00           750,000.00             3,401.00   \n",
       "F               100,000.00         1,440,000.00             1,300.00   \n",
       "G               110,000.00           725,000.00               512.00   \n",
       "\n",
       "                                                                      \\\n",
       "                      mean                  std                  min   \n",
       "grade                                                                  \n",
       "A                    12.04                 7.01                 0.00   \n",
       "B                    13.39                 6.66                 0.00   \n",
       "C                    13.85                 6.50                 0.00   \n",
       "D                    13.98                 6.43                 0.00   \n",
       "E                    14.18                 6.53                 0.00   \n",
       "F                    14.65                 6.55                 0.00   \n",
       "G                    15.69                 7.29                 0.00   \n",
       "\n",
       "                                                                      \\\n",
       "                       25%                  50%                  75%   \n",
       "grade                                                                  \n",
       "A                     6.46                11.50                17.10   \n",
       "B                     8.31                13.51                18.62   \n",
       "C                     8.97                14.05                18.99   \n",
       "D                     9.16                14.31                19.25   \n",
       "E                     9.36                14.62                19.60   \n",
       "F                     9.81                15.16                19.76   \n",
       "G                     9.89                15.96                21.33   \n",
       "\n",
       "                            \n",
       "                       max  \n",
       "grade                       \n",
       "A                    29.99  \n",
       "B                    29.95  \n",
       "C                    29.78  \n",
       "D                    29.63  \n",
       "E                    29.70  \n",
       "F                    29.95  \n",
       "G                    29.96  "
      ]
     },
     "execution_count": 12,
     "metadata": {},
     "output_type": "execute_result"
    }
   ],
   "source": [
    "grp_grd['income', 'dti'].describe().unstack()"
   ]
  },
  {
   "cell_type": "markdown",
   "metadata": {},
   "source": [
    " "
   ]
  },
  {
   "cell_type": "markdown",
   "metadata": {},
   "source": [
    "The GroupBy .size() attribute returns a count of the number of values for each level.  Of course, this same information is available as the loans['count'] column from the operation executed in the cell above."
   ]
  },
  {
   "cell_type": "code",
   "execution_count": 13,
   "metadata": {
    "collapsed": false
   },
   "outputs": [
    {
     "data": {
      "text/plain": [
       "grade\n",
       "A    10202\n",
       "B    12408\n",
       "C     8747\n",
       "D     6025\n",
       "E     3401\n",
       "F     1300\n",
       "G      512\n",
       "dtype: int64"
      ]
     },
     "execution_count": 13,
     "metadata": {},
     "output_type": "execute_result"
    }
   ],
   "source": [
    "grp_grd.size()"
   ]
  },
  {
   "cell_type": "markdown",
   "metadata": {},
   "source": [
    "The analog SAS program."
   ]
  },
  {
   "cell_type": "markdown",
   "metadata": {},
   "source": [
    "````\n",
    "    /******************************************************/\n",
    "    /* c10_groupby_grade_count.sas                        */\n",
    "    /******************************************************/\n",
    "    21       proc sql;\n",
    "    22       select grade\n",
    "    23              ,count(grade) label='N'\n",
    "    24       from df\n",
    "    25       group by grade;\n",
    "    26       quit;\n",
    "````"
   ]
  },
  {
   "cell_type": "code",
   "execution_count": 14,
   "metadata": {
    "collapsed": false
   },
   "outputs": [
    {
     "data": {
      "image/jpeg": "[encoded data removed]",
      "text/plain": [
       "<IPython.core.display.Image object>"
      ]
     },
     "execution_count": 14,
     "metadata": {},
     "output_type": "execute_result"
    }
   ],
   "source": [
    "  Image(filename='Anaconda3\\\\output\\\\groupby_grade_count.JPG')  "
   ]
  },
  {
   "cell_type": "markdown",
   "metadata": {},
   "source": [
    "  "
   ]
  },
  {
   "cell_type": "markdown",
   "metadata": {},
   "source": [
    "The .get_group attribute returns information about a particular group level.  "
   ]
  },
  {
   "cell_type": "code",
   "execution_count": 15,
   "metadata": {
    "collapsed": false
   },
   "outputs": [
    {
     "data": {
      "text/plain": [
       "512"
      ]
     },
     "execution_count": 15,
     "metadata": {},
     "output_type": "execute_result"
    }
   ],
   "source": [
    "grp_grd.get_group('G').mem_id.count()"
   ]
  },
  {
   "cell_type": "markdown",
   "metadata": {},
   "source": [
    " "
   ]
  },
  {
   "cell_type": "markdown",
   "metadata": {},
   "source": [
    "````\n",
    "    /******************************************************/\n",
    "    /* c10_groupby_grade_where.sas                        */\n",
    "    /******************************************************/\n",
    "    32       proc sql;\n",
    "    33       select count(grade) label='N'\n",
    "    34       from df\n",
    "    35       where grade = 'G'\n",
    "    36       group by grade;\n",
    "    37       \n",
    "    38       quit;\n",
    "````"
   ]
  },
  {
   "cell_type": "code",
   "execution_count": 16,
   "metadata": {
    "collapsed": false
   },
   "outputs": [
    {
     "data": {
      "image/jpeg": "[encoded data removed]",
      "text/plain": [
       "<IPython.core.display.Image object>"
      ]
     },
     "execution_count": 16,
     "metadata": {},
     "output_type": "execute_result"
    }
   ],
   "source": [
    "  Image(filename='Anaconda3\\\\output\\\\groupby_grade_G.JPG') "
   ]
  },
  {
   "cell_type": "markdown",
   "metadata": {},
   "source": [
    " "
   ]
  },
  {
   "cell_type": "markdown",
   "metadata": {},
   "source": [
    "We can chain attributes together to produce the desired results.  Details for sorting values in DataFrames are discussed in <a href=\"http://nbviewer.jupyter.org/github/RandyBetancourt/PythonForSASUsers/blob/master/Chapter%2012%20--%20Additional%20Data%20Handling%20.ipynb#Sort-and-Sort-Sequences\"> Sort and Sort Sequences</a> in Chapter 12--Additional Data Handling."
   ]
  },
  {
   "cell_type": "code",
   "execution_count": 17,
   "metadata": {
    "collapsed": false
   },
   "outputs": [
    {
     "data": {
      "text/plain": [
       "grade\n",
       "G              93,055.82\n",
       "F              83,095.53\n",
       "E              75,889.16\n",
       "D              68,277.02\n",
       "C              68,199.96\n",
       "B              67,918.69\n",
       "A              66,711.88\n",
       "Name: income, dtype: float64"
      ]
     },
     "execution_count": 17,
     "metadata": {},
     "output_type": "execute_result"
    }
   ],
   "source": [
    "grp_grd.income.mean().sort_values(ascending=False)"
   ]
  },
  {
   "cell_type": "markdown",
   "metadata": {},
   "source": [
    " "
   ]
  },
  {
   "cell_type": "markdown",
   "metadata": {},
   "source": [
    "The analog SAS PROC SQL example."
   ]
  },
  {
   "cell_type": "markdown",
   "metadata": {},
   "source": [
    "````\n",
    "    /******************************************************/\n",
    "    /* c10_groupby_grade_orderby.sas                      */\n",
    "    /******************************************************/\n",
    "    44       proc sql;\n",
    "    45       select grade\n",
    "    46              ,mean(income) label='Mean Income'\n",
    "    47       from df\n",
    "    48       group by grade\n",
    "    49       order by 2 descending;\n",
    "    50       \n",
    "    51       quit;\n",
    "````"
   ]
  },
  {
   "cell_type": "code",
   "execution_count": 18,
   "metadata": {
    "collapsed": false
   },
   "outputs": [
    {
     "data": {
      "image/jpeg": "[encoded data removed]",
      "text/plain": [
       "<IPython.core.display.Image object>"
      ]
     },
     "execution_count": 18,
     "metadata": {},
     "output_type": "execute_result"
    }
   ],
   "source": [
    "  Image(filename='Anaconda3\\\\output\\\\groupby_grade_income_descend.JPG')"
   ]
  },
  {
   "cell_type": "markdown",
   "metadata": {},
   "source": [
    " "
   ]
  },
  {
   "cell_type": "markdown",
   "metadata": {},
   "source": [
    "## Understanding Binning"
   ]
  },
  {
   "cell_type": "markdown",
   "metadata": {},
   "source": [
    "In this section, we want to create output displaying the statistics, N, mean, and standard deviation for income by binning the values for loan to debt ratio (loans['dti']) into the categories, 'low', 'medium', 'high'. \n",
    "\n",
    "Start by displaying the min and max values for the loans['dti'] column to determine 'bucket' sizes."
   ]
  },
  {
   "cell_type": "code",
   "execution_count": 19,
   "metadata": {
    "collapsed": false
   },
   "outputs": [
    {
     "name": "stdout",
     "output_type": "stream",
     "text": [
      "0.0\n",
      "29.99\n"
     ]
    }
   ],
   "source": [
    "print(loans.dti.min())\n",
    "print(loans.dti.max())"
   ]
  },
  {
   "cell_type": "markdown",
   "metadata": {},
   "source": [
    " "
   ]
  },
  {
   "cell_type": "markdown",
   "metadata": {},
   "source": [
    "Return the count of continous values in the column loans['dti']."
   ]
  },
  {
   "cell_type": "code",
   "execution_count": 20,
   "metadata": {
    "collapsed": false
   },
   "outputs": [
    {
     "data": {
      "text/plain": [
       "42595"
      ]
     },
     "execution_count": 20,
     "metadata": {},
     "output_type": "execute_result"
    }
   ],
   "source": [
    "loans.dti.count()"
   ]
  },
  {
   "cell_type": "markdown",
   "metadata": {},
   "source": [
    "Use the pd.cut() method to bin continuous vales into discreet values, or categories.  Additional examples for pd.cut() are found in the section \"Binning Continuous Values\" in Chapter 12, located <a href=\"http://nbviewer.jupyter.org/github/RandyBetancourt/PythonForSASUsers/blob/master/Chapter%2012%20--%20Additional%20Data%20Handling%20.ipynb#Binning-Continuous-Values\"> here</a>. pd.cut is analogous to user defined SAS formats. "
   ]
  },
  {
   "cell_type": "code",
   "execution_count": 21,
   "metadata": {
    "collapsed": false
   },
   "outputs": [],
   "source": [
    "bins = [0.0, 10.0, 20.0, 30.0]\n",
    "names=['Low', 'Medium', 'High']"
   ]
  },
  {
   "cell_type": "markdown",
   "metadata": {},
   "source": [
    " "
   ]
  },
  {
   "cell_type": "markdown",
   "metadata": {},
   "source": [
    "Create the new column loans['dti_cat'] in the loans DataFrame."
   ]
  },
  {
   "cell_type": "code",
   "execution_count": 22,
   "metadata": {
    "collapsed": true
   },
   "outputs": [],
   "source": [
    "loans['dti_cat'] = pd.cut(loans['dti'], bins, labels=names)"
   ]
  },
  {
   "cell_type": "markdown",
   "metadata": {},
   "source": [
    " "
   ]
  },
  {
   "cell_type": "markdown",
   "metadata": {},
   "source": [
    "We expect the number of values for both the value count for loans['dti'] and categorical values in the  loans['dti_cat'] column to be the same.  "
   ]
  },
  {
   "cell_type": "code",
   "execution_count": 23,
   "metadata": {
    "collapsed": false
   },
   "outputs": [
    {
     "data": {
      "text/plain": [
       "False"
      ]
     },
     "execution_count": 23,
     "metadata": {},
     "output_type": "execute_result"
    }
   ],
   "source": [
    "loans.dti.count() == loans.dti_cat.count()"
   ]
  },
  {
   "cell_type": "markdown",
   "metadata": {},
   "source": [
    " "
   ]
  },
  {
   "cell_type": "markdown",
   "metadata": {},
   "source": [
    "By default, the pd.cut() method sets the right= argument to True.  From the doc, \"Indicates whether the bins include the rightmost edge or not. If right == True (the default), then the bins [1,2,3,4] indicate (1,2], (2,3], (3,4]\"."
   ]
  },
  {
   "cell_type": "code",
   "execution_count": 24,
   "metadata": {
    "collapsed": true
   },
   "outputs": [],
   "source": [
    "loans['dti_cat'] = pd.cut(loans['dti'], bins, right=False, labels=names)"
   ]
  },
  {
   "cell_type": "code",
   "execution_count": 25,
   "metadata": {
    "collapsed": false
   },
   "outputs": [
    {
     "data": {
      "text/plain": [
       "True"
      ]
     },
     "execution_count": 25,
     "metadata": {},
     "output_type": "execute_result"
    }
   ],
   "source": [
    "loans.dti.count() == loans.dti_cat.count()"
   ]
  },
  {
   "cell_type": "markdown",
   "metadata": {},
   "source": [
    " "
   ]
  },
  {
   "cell_type": "markdown",
   "metadata": {},
   "source": [
    "## Defining Functions "
   ]
  },
  {
   "cell_type": "markdown",
   "metadata": {},
   "source": [
    "Define the function 'stats' which returns the desired statistics, mean, std (standard deviation), and count (N).  The type() method returns the object's type."
   ]
  },
  {
   "cell_type": "code",
   "execution_count": 26,
   "metadata": {
    "collapsed": false
   },
   "outputs": [
    {
     "data": {
      "text/plain": [
       "function"
      ]
     },
     "execution_count": 26,
     "metadata": {},
     "output_type": "execute_result"
    }
   ],
   "source": [
    "def stats(grp):\n",
    "    return {'mean': grp.mean(), 'std': grp.std(), 'count':grp.count()}\n",
    "type(stats)"
   ]
  },
  {
   "cell_type": "markdown",
   "metadata": {},
   "source": [
    "  "
   ]
  },
  {
   "cell_type": "markdown",
   "metadata": {},
   "source": [
    "## Applying Functions to Groups"
   ]
  },
  {
   "cell_type": "markdown",
   "metadata": {},
   "source": [
    " "
   ]
  },
  {
   "cell_type": "markdown",
   "metadata": {},
   "source": [
    "Putting these together, the 'income' column is grouped-by the loans['dti_cat'] column displaying the rows labeled, 'Low', 'Medium', and 'High'.  The .apply() attribute applies the 'stats' function to create the columns, 'count', 'mean', 'std'.  The .unstack() attribute places the output in a 'tall and skinny' format."
   ]
  },
  {
   "cell_type": "code",
   "execution_count": 27,
   "metadata": {
    "collapsed": false
   },
   "outputs": [
    {
     "data": {
      "text/html": [
       "<div>\n",
       "<table border=\"1\" class=\"dataframe\">\n",
       "  <thead>\n",
       "    <tr style=\"text-align: right;\">\n",
       "      <th></th>\n",
       "      <th>count</th>\n",
       "      <th>mean</th>\n",
       "      <th>std</th>\n",
       "    </tr>\n",
       "    <tr>\n",
       "      <th>dti_cat</th>\n",
       "      <th></th>\n",
       "      <th></th>\n",
       "      <th></th>\n",
       "    </tr>\n",
       "  </thead>\n",
       "  <tbody>\n",
       "    <tr>\n",
       "      <th>Low</th>\n",
       "      <td>14,067.00</td>\n",
       "      <td>77,863.73</td>\n",
       "      <td>97,182.50</td>\n",
       "    </tr>\n",
       "    <tr>\n",
       "      <th>Medium</th>\n",
       "      <td>20,295.00</td>\n",
       "      <td>67,121.00</td>\n",
       "      <td>38,976.54</td>\n",
       "    </tr>\n",
       "    <tr>\n",
       "      <th>High</th>\n",
       "      <td>8,233.00</td>\n",
       "      <td>59,210.71</td>\n",
       "      <td>33,334.58</td>\n",
       "    </tr>\n",
       "  </tbody>\n",
       "</table>\n",
       "</div>"
      ],
      "text/plain": [
       "                       count                 mean                  std\n",
       "dti_cat                                                               \n",
       "Low                14,067.00            77,863.73            97,182.50\n",
       "Medium             20,295.00            67,121.00            38,976.54\n",
       "High                8,233.00            59,210.71            33,334.58"
      ]
     },
     "execution_count": 27,
     "metadata": {},
     "output_type": "execute_result"
    }
   ],
   "source": [
    "loans['income'].groupby(loans['dti_cat']).apply(stats).unstack()"
   ]
  },
  {
   "cell_type": "markdown",
   "metadata": {},
   "source": [
    " "
   ]
  },
  {
   "cell_type": "markdown",
   "metadata": {},
   "source": [
    " "
   ]
  },
  {
   "cell_type": "markdown",
   "metadata": {},
   "source": [
    "The analog SAS program uses PROC SQL to find min and man for the 'dti' column, performs the aggregation funtions, and uses the CASE statement to define 'bins' for the new column 'dti_cat'."
   ]
  },
  {
   "cell_type": "markdown",
   "metadata": {},
   "source": [
    "````\n",
    "    /******************************************************/\n",
    "    /* c10_groupby_dti_cat.sas                            */\n",
    "    /******************************************************/\n",
    "    29      proc sql;\n",
    "    30      select min(dti) as dit_min\n",
    "    31            ,max(dti) as dti_max\n",
    "    32      from df;\n",
    "    33      \n",
    "    34      select count(income) as count\n",
    "    35            ,mean(income) as mean\n",
    "    36            ,std(income) as std\n",
    "    37            ,\n",
    "    38      case\n",
    "    39         when dti < 10 then       'Low'\n",
    "    40         when 10 <= dti < 20 then 'Medium'\n",
    "    41         else                     'High'\n",
    "    42      end as dti_cat\n",
    "    43      from df\n",
    "    44      group by calculated dti_cat;\n",
    "    45      quit;\n",
    "````"
   ]
  },
  {
   "cell_type": "code",
   "execution_count": 28,
   "metadata": {
    "collapsed": false
   },
   "outputs": [
    {
     "data": {
      "image/jpeg": "[encoded data removed]",
      "text/plain": [
       "<IPython.core.display.Image object>"
      ]
     },
     "execution_count": 28,
     "metadata": {},
     "output_type": "execute_result"
    }
   ],
   "source": [
    "Image(filename='Anaconda3\\\\output\\\\groupby_dti_cat_income.JPG') "
   ]
  },
  {
   "cell_type": "markdown",
   "metadata": {},
   "source": [
    " "
   ]
  },
  {
   "cell_type": "markdown",
   "metadata": {},
   "source": [
    "For another example define the 'max_min' function for calculating a range and apply it income values grouped by loans['dti_cat'] levels nested inside loans['grade'] levels."
   ]
  },
  {
   "cell_type": "code",
   "execution_count": 29,
   "metadata": {
    "collapsed": false,
    "scrolled": true
   },
   "outputs": [
    {
     "data": {
      "text/html": [
       "<div>\n",
       "<table border=\"1\" class=\"dataframe\">\n",
       "  <thead>\n",
       "    <tr style=\"text-align: right;\">\n",
       "      <th>dti_cat</th>\n",
       "      <th>Low</th>\n",
       "      <th>Medium</th>\n",
       "      <th>High</th>\n",
       "    </tr>\n",
       "    <tr>\n",
       "      <th>grade</th>\n",
       "      <th></th>\n",
       "      <th></th>\n",
       "      <th></th>\n",
       "    </tr>\n",
       "  </thead>\n",
       "  <tbody>\n",
       "    <tr>\n",
       "      <th>A</th>\n",
       "      <td>1,896,700.00</td>\n",
       "      <td>377,000.00</td>\n",
       "      <td>234,000.00</td>\n",
       "    </tr>\n",
       "    <tr>\n",
       "      <th>B</th>\n",
       "      <td>3,898,000.00</td>\n",
       "      <td>483,400.00</td>\n",
       "      <td>241,912.00</td>\n",
       "    </tr>\n",
       "    <tr>\n",
       "      <th>C</th>\n",
       "      <td>5,996,000.00</td>\n",
       "      <td>335,200.00</td>\n",
       "      <td>1,245,200.00</td>\n",
       "    </tr>\n",
       "    <tr>\n",
       "      <th>D</th>\n",
       "      <td>1,195,200.00</td>\n",
       "      <td>524,000.00</td>\n",
       "      <td>519,200.00</td>\n",
       "    </tr>\n",
       "    <tr>\n",
       "      <th>E</th>\n",
       "      <td>745,800.00</td>\n",
       "      <td>351,600.00</td>\n",
       "      <td>308,600.00</td>\n",
       "    </tr>\n",
       "    <tr>\n",
       "      <th>F</th>\n",
       "      <td>1,425,600.00</td>\n",
       "      <td>342,720.00</td>\n",
       "      <td>218,724.00</td>\n",
       "    </tr>\n",
       "    <tr>\n",
       "      <th>G</th>\n",
       "      <td>715,400.00</td>\n",
       "      <td>598,104.00</td>\n",
       "      <td>235,800.00</td>\n",
       "    </tr>\n",
       "  </tbody>\n",
       "</table>\n",
       "</div>"
      ],
      "text/plain": [
       "dti_cat                  Low               Medium                 High\n",
       "grade                                                                 \n",
       "A               1,896,700.00           377,000.00           234,000.00\n",
       "B               3,898,000.00           483,400.00           241,912.00\n",
       "C               5,996,000.00           335,200.00         1,245,200.00\n",
       "D               1,195,200.00           524,000.00           519,200.00\n",
       "E                 745,800.00           351,600.00           308,600.00\n",
       "F               1,425,600.00           342,720.00           218,724.00\n",
       "G                 715,400.00           598,104.00           235,800.00"
      ]
     },
     "execution_count": 29,
     "metadata": {},
     "output_type": "execute_result"
    }
   ],
   "source": [
    " def max_min(x):\n",
    "        return x.max() - x.min()\n",
    "dti_grd_grp = loans.groupby(['grade', 'dti_cat'])\n",
    "dti_grd_grp.income.agg(max_min).unstack()"
   ]
  },
  {
   "cell_type": "markdown",
   "metadata": {
    "collapsed": false
   },
   "source": [
    "  "
   ]
  },
  {
   "cell_type": "markdown",
   "metadata": {},
   "source": [
    "The range for the income values is large with extremes in both directions.  Rather than 'bucketing' these values into arbitrary sizes, another approach is to place values into deciles.  "
   ]
  },
  {
   "cell_type": "code",
   "execution_count": 30,
   "metadata": {
    "collapsed": false
   },
   "outputs": [
    {
     "name": "stdout",
     "output_type": "stream",
     "text": [
      "1896.0\n",
      "6000000.0\n"
     ]
    }
   ],
   "source": [
    "print(loans.income.min())\n",
    "print(loans.income.max())"
   ]
  },
  {
   "cell_type": "markdown",
   "metadata": {},
   "source": [
    " "
   ]
  },
  {
   "cell_type": "markdown",
   "metadata": {},
   "source": [
    "Similar to the pd.cut() method is the pd.qcut() method for creating deciles which is documented <a href=\"http://pandas.pydata.org/pandas-docs/version/0.15.0/generated/pandas.qcut.html\"> here</a>.  The operation below creates the new column loans['inc_cat_dec'] for the 'loans' DataFrame."
   ]
  },
  {
   "cell_type": "code",
   "execution_count": 31,
   "metadata": {
    "collapsed": false
   },
   "outputs": [],
   "source": [
    "loans['inc_cat_dec'] = pd.qcut(loans['income'], q=10)"
   ]
  },
  {
   "cell_type": "markdown",
   "metadata": {},
   "source": [
    " "
   ]
  },
  {
   "cell_type": "markdown",
   "metadata": {},
   "source": [
    "Using the income deciles, return a count for each level in descending sorted order."
   ]
  },
  {
   "cell_type": "code",
   "execution_count": 32,
   "metadata": {
    "collapsed": false
   },
   "outputs": [
    {
     "data": {
      "text/plain": [
       "[1896, 30000]          5088\n",
       "(75600, 90000]         4436\n",
       "(50004, 59000]         4309\n",
       "(44500, 50004]         4306\n",
       "(37000, 44500]         4265\n",
       "(116690.4, 6000000]    4260\n",
       "(65600, 75600]         4253\n",
       "(59000, 65600]         4163\n",
       "(90000, 116690.4]      4082\n",
       "(30000, 37000]         3433\n",
       "Name: inc_cat_dec, dtype: int64"
      ]
     },
     "execution_count": 32,
     "metadata": {},
     "output_type": "execute_result"
    }
   ],
   "source": [
    "pd.value_counts(loans['inc_cat_dec'].sort_values())"
   ]
  },
  {
   "cell_type": "markdown",
   "metadata": {},
   "source": [
    " "
   ]
  },
  {
   "cell_type": "markdown",
   "metadata": {},
   "source": [
    "The bin value ranges are a bit unwieldy.  An alternative is to map the bin value ranges into category codes."
   ]
  },
  {
   "cell_type": "code",
   "execution_count": 33,
   "metadata": {
    "collapsed": false
   },
   "outputs": [
    {
     "data": {
      "text/plain": [
       "0    5088\n",
       "7    4436\n",
       "4    4309\n",
       "3    4306\n",
       "2    4265\n",
       "9    4260\n",
       "6    4253\n",
       "5    4163\n",
       "8    4082\n",
       "1    3433\n",
       "Name: inc_cat_dec, dtype: int64"
      ]
     },
     "execution_count": 33,
     "metadata": {},
     "output_type": "execute_result"
    }
   ],
   "source": [
    "loans['inc_cat_dec'] = pd.qcut(loans['income'].values, 10).codes\n",
    "pd.value_counts(loans['inc_cat_dec'].sort_values())"
   ]
  },
  {
   "cell_type": "code",
   "execution_count": 34,
   "metadata": {
    "collapsed": false
   },
   "outputs": [
    {
     "data": {
      "text/plain": [
       "True"
      ]
     },
     "execution_count": 34,
     "metadata": {},
     "output_type": "execute_result"
    }
   ],
   "source": [
    "loans.income.count() == loans.inc_cat_dec.count()"
   ]
  },
  {
   "cell_type": "markdown",
   "metadata": {},
   "source": [
    "With SAS, the traditional method for creating deciles is through PROC RANK as illustrated below."
   ]
  },
  {
   "cell_type": "markdown",
   "metadata": {},
   "source": [
    "````\n",
    "    /******************************************************/\n",
    "    /* c10_default_deciles.sas                            */\n",
    "    /******************************************************/\n",
    "    98      proc rank data=df groups=10 out=r_df;\n",
    "    99           var income;\n",
    "    100           ranks r_income;\n",
    "    NOTE: Data set \"WORK.r_df\" has 42595 observation(s) and 23 variable(s)\n",
    "    101      \n",
    "    102      proc sql;\n",
    "    103         select count(r_income) label='Income Deciles' as count\n",
    "    104      from r_df\n",
    "    105      group by r_income\n",
    "    106      order by count descending;\n",
    "    107      quit;\n",
    "````"
   ]
  },
  {
   "cell_type": "markdown",
   "metadata": {},
   "source": [
    " "
   ]
  },
  {
   "cell_type": "markdown",
   "metadata": {},
   "source": [
    "However, the **default** results between pd.qcut() method and PROC RANK are different."
   ]
  },
  {
   "cell_type": "code",
   "execution_count": 35,
   "metadata": {
    "collapsed": false
   },
   "outputs": [
    {
     "data": {
      "image/jpeg": "[encoded data removed]",
      "text/plain": [
       "<IPython.core.display.Image object>"
      ]
     },
     "execution_count": 35,
     "metadata": {},
     "output_type": "execute_result"
    }
   ],
   "source": [
    " Image(filename='Anaconda3\\\\output\\\\default_income_deciles.JPG') "
   ]
  },
  {
   "cell_type": "markdown",
   "metadata": {},
   "source": [
    " "
   ]
  },
  {
   "cell_type": "markdown",
   "metadata": {},
   "source": [
    "The difference are attributable to the method by which PROC RANK handles 'tied' values.  PROC RANK provides the TIES= option and when set to LOW, the results are the same as the pd.qcut() method.  You can read more about how PROC RANK treats tied values <a href=\"https://support.sas.com/documentation/cdl/en/proc/65145/HTML/default/viewer.htm#n1pe8iekjrnnfin1hdw34ik02tcw.htm#p1lkzb8a7dpbkxn1k6bspo5f9680\"> here</a>."
   ]
  },
  {
   "cell_type": "markdown",
   "metadata": {},
   "source": [
    "````\n",
    "    /******************************************************/\n",
    "    /* c10_deciles_ties_low.sas                           */\n",
    "    /******************************************************/\n",
    "57      proc rank data=df groups=10 ties=low out=r_df;\n",
    "58           var income;\n",
    "59           ranks r_income;\n",
    "NOTE: Data set \"WORK.r_df\" has 42595 observation(s) and 23 variable(s)\n",
    "60      \n",
    "61      proc sql;\n",
    "62         select count(r_income) label='Income Deciles' as count\n",
    "63      from r_df\n",
    "64      group by r_income\n",
    "65      order by count descending;\n",
    "66      quit;\n",
    "````"
   ]
  },
  {
   "cell_type": "code",
   "execution_count": 36,
   "metadata": {
    "collapsed": false
   },
   "outputs": [
    {
     "data": {
      "image/jpeg": "[encoded data removed]",
      "text/plain": [
       "<IPython.core.display.Image object>"
      ]
     },
     "execution_count": 36,
     "metadata": {},
     "output_type": "execute_result"
    }
   ],
   "source": [
    " Image(filename='Anaconda3\\\\output\\\\deciles_ties_low.JPG') "
   ]
  },
  {
   "cell_type": "markdown",
   "metadata": {},
   "source": [
    " "
   ]
  },
  {
   "cell_type": "markdown",
   "metadata": {},
   "source": [
    "Use the created column loans['inc_cat_dec'] for income deciles to display statistics provided by the 'stats' function created above to return count, mean, and standard deviation.  "
   ]
  },
  {
   "cell_type": "code",
   "execution_count": 37,
   "metadata": {
    "collapsed": false
   },
   "outputs": [
    {
     "data": {
      "text/html": [
       "<div>\n",
       "<table border=\"1\" class=\"dataframe\">\n",
       "  <thead>\n",
       "    <tr style=\"text-align: right;\">\n",
       "      <th></th>\n",
       "      <th>count</th>\n",
       "      <th>mean</th>\n",
       "      <th>std</th>\n",
       "    </tr>\n",
       "    <tr>\n",
       "      <th>inc_cat_dec</th>\n",
       "      <th></th>\n",
       "      <th></th>\n",
       "      <th></th>\n",
       "    </tr>\n",
       "  </thead>\n",
       "  <tbody>\n",
       "    <tr>\n",
       "      <th>0</th>\n",
       "      <td>5,088.00</td>\n",
       "      <td>23,505.59</td>\n",
       "      <td>5,733.08</td>\n",
       "    </tr>\n",
       "    <tr>\n",
       "      <th>1</th>\n",
       "      <td>3,433.00</td>\n",
       "      <td>34,240.73</td>\n",
       "      <td>1,863.40</td>\n",
       "    </tr>\n",
       "    <tr>\n",
       "      <th>2</th>\n",
       "      <td>4,265.00</td>\n",
       "      <td>40,730.02</td>\n",
       "      <td>1,888.30</td>\n",
       "    </tr>\n",
       "    <tr>\n",
       "      <th>3</th>\n",
       "      <td>4,306.00</td>\n",
       "      <td>47,674.11</td>\n",
       "      <td>1,948.03</td>\n",
       "    </tr>\n",
       "    <tr>\n",
       "      <th>4</th>\n",
       "      <td>4,309.00</td>\n",
       "      <td>54,526.42</td>\n",
       "      <td>2,339.30</td>\n",
       "    </tr>\n",
       "    <tr>\n",
       "      <th>5</th>\n",
       "      <td>4,163.00</td>\n",
       "      <td>62,090.00</td>\n",
       "      <td>2,108.14</td>\n",
       "    </tr>\n",
       "    <tr>\n",
       "      <th>6</th>\n",
       "      <td>4,253.00</td>\n",
       "      <td>71,171.32</td>\n",
       "      <td>2,872.85</td>\n",
       "    </tr>\n",
       "    <tr>\n",
       "      <th>7</th>\n",
       "      <td>4,436.00</td>\n",
       "      <td>83,137.04</td>\n",
       "      <td>4,291.91</td>\n",
       "    </tr>\n",
       "    <tr>\n",
       "      <th>8</th>\n",
       "      <td>4,082.00</td>\n",
       "      <td>101,756.61</td>\n",
       "      <td>6,990.66</td>\n",
       "    </tr>\n",
       "    <tr>\n",
       "      <th>9</th>\n",
       "      <td>4,260.00</td>\n",
       "      <td>175,721.94</td>\n",
       "      <td>152,667.92</td>\n",
       "    </tr>\n",
       "  </tbody>\n",
       "</table>\n",
       "</div>"
      ],
      "text/plain": [
       "                           count                 mean                  std\n",
       "inc_cat_dec                                                               \n",
       "0                       5,088.00            23,505.59             5,733.08\n",
       "1                       3,433.00            34,240.73             1,863.40\n",
       "2                       4,265.00            40,730.02             1,888.30\n",
       "3                       4,306.00            47,674.11             1,948.03\n",
       "4                       4,309.00            54,526.42             2,339.30\n",
       "5                       4,163.00            62,090.00             2,108.14\n",
       "6                       4,253.00            71,171.32             2,872.85\n",
       "7                       4,436.00            83,137.04             4,291.91\n",
       "8                       4,082.00           101,756.61             6,990.66\n",
       "9                       4,260.00           175,721.94           152,667.92"
      ]
     },
     "execution_count": 37,
     "metadata": {},
     "output_type": "execute_result"
    }
   ],
   "source": [
    " loans['income'].groupby(loans['inc_cat_dec']).apply(stats).unstack()"
   ]
  },
  {
   "cell_type": "markdown",
   "metadata": {
    "collapsed": true
   },
   "source": [
    " "
   ]
  },
  {
   "cell_type": "markdown",
   "metadata": {},
   "source": [
    "pandas crosstabs is another method for accessing GroupBy processing using two factors, or categorical columns.  In the example below, the values= argument is monthly payments loans['income'] column using the aggregation function count.  Additional crosstab examples are found in the <a href=\"http://nbviewer.jupyter.org/github/RandyBetancourt/PythonForSASUsers/blob/master/Chapter%2012%20--%20Additional%20Data%20Handling%20.ipynb#Crosstabs\"> crosstabs</a> section of Chapter, 12--Additional Data Handling."
   ]
  },
  {
   "cell_type": "code",
   "execution_count": 38,
   "metadata": {
    "collapsed": false,
    "scrolled": true
   },
   "outputs": [
    {
     "data": {
      "text/html": [
       "<div>\n",
       "<table border=\"1\" class=\"dataframe\">\n",
       "  <thead>\n",
       "    <tr style=\"text-align: right;\">\n",
       "      <th>Income Deciles</th>\n",
       "      <th>0</th>\n",
       "      <th>1</th>\n",
       "      <th>2</th>\n",
       "      <th>3</th>\n",
       "      <th>4</th>\n",
       "      <th>5</th>\n",
       "      <th>6</th>\n",
       "      <th>7</th>\n",
       "      <th>8</th>\n",
       "      <th>9</th>\n",
       "      <th>All</th>\n",
       "    </tr>\n",
       "    <tr>\n",
       "      <th>Debt/Income Ratio</th>\n",
       "      <th></th>\n",
       "      <th></th>\n",
       "      <th></th>\n",
       "      <th></th>\n",
       "      <th></th>\n",
       "      <th></th>\n",
       "      <th></th>\n",
       "      <th></th>\n",
       "      <th></th>\n",
       "      <th></th>\n",
       "      <th></th>\n",
       "    </tr>\n",
       "  </thead>\n",
       "  <tbody>\n",
       "    <tr>\n",
       "      <th>Low</th>\n",
       "      <td>1,882.00</td>\n",
       "      <td>963.00</td>\n",
       "      <td>1,210.00</td>\n",
       "      <td>1,281.00</td>\n",
       "      <td>1,181.00</td>\n",
       "      <td>1,266.00</td>\n",
       "      <td>1,313.00</td>\n",
       "      <td>1,476.00</td>\n",
       "      <td>1,493.00</td>\n",
       "      <td>2,002.00</td>\n",
       "      <td>14,067.00</td>\n",
       "    </tr>\n",
       "    <tr>\n",
       "      <th>Medium</th>\n",
       "      <td>2,179.00</td>\n",
       "      <td>1,602.00</td>\n",
       "      <td>2,034.00</td>\n",
       "      <td>2,058.00</td>\n",
       "      <td>2,165.00</td>\n",
       "      <td>2,074.00</td>\n",
       "      <td>2,129.00</td>\n",
       "      <td>2,217.00</td>\n",
       "      <td>1,988.00</td>\n",
       "      <td>1,849.00</td>\n",
       "      <td>20,295.00</td>\n",
       "    </tr>\n",
       "    <tr>\n",
       "      <th>High</th>\n",
       "      <td>1,027.00</td>\n",
       "      <td>868.00</td>\n",
       "      <td>1,021.00</td>\n",
       "      <td>967.00</td>\n",
       "      <td>963.00</td>\n",
       "      <td>823.00</td>\n",
       "      <td>811.00</td>\n",
       "      <td>743.00</td>\n",
       "      <td>601.00</td>\n",
       "      <td>409.00</td>\n",
       "      <td>8,233.00</td>\n",
       "    </tr>\n",
       "    <tr>\n",
       "      <th>All</th>\n",
       "      <td>5,088.00</td>\n",
       "      <td>3,433.00</td>\n",
       "      <td>4,265.00</td>\n",
       "      <td>4,306.00</td>\n",
       "      <td>4,309.00</td>\n",
       "      <td>4,163.00</td>\n",
       "      <td>4,253.00</td>\n",
       "      <td>4,436.00</td>\n",
       "      <td>4,082.00</td>\n",
       "      <td>4,260.00</td>\n",
       "      <td>42,595.00</td>\n",
       "    </tr>\n",
       "  </tbody>\n",
       "</table>\n",
       "</div>"
      ],
      "text/plain": [
       "Income Deciles                       0                    1  \\\n",
       "Debt/Income Ratio                                             \n",
       "Low                           1,882.00               963.00   \n",
       "Medium                        2,179.00             1,602.00   \n",
       "High                          1,027.00               868.00   \n",
       "All                           5,088.00             3,433.00   \n",
       "\n",
       "Income Deciles                       2                    3  \\\n",
       "Debt/Income Ratio                                             \n",
       "Low                           1,210.00             1,281.00   \n",
       "Medium                        2,034.00             2,058.00   \n",
       "High                          1,021.00               967.00   \n",
       "All                           4,265.00             4,306.00   \n",
       "\n",
       "Income Deciles                       4                    5  \\\n",
       "Debt/Income Ratio                                             \n",
       "Low                           1,181.00             1,266.00   \n",
       "Medium                        2,165.00             2,074.00   \n",
       "High                            963.00               823.00   \n",
       "All                           4,309.00             4,163.00   \n",
       "\n",
       "Income Deciles                       6                    7  \\\n",
       "Debt/Income Ratio                                             \n",
       "Low                           1,313.00             1,476.00   \n",
       "Medium                        2,129.00             2,217.00   \n",
       "High                            811.00               743.00   \n",
       "All                           4,253.00             4,436.00   \n",
       "\n",
       "Income Deciles                       8                    9  \\\n",
       "Debt/Income Ratio                                             \n",
       "Low                           1,493.00             2,002.00   \n",
       "Medium                        1,988.00             1,849.00   \n",
       "High                            601.00               409.00   \n",
       "All                           4,082.00             4,260.00   \n",
       "\n",
       "Income Deciles                     All  \n",
       "Debt/Income Ratio                       \n",
       "Low                          14,067.00  \n",
       "Medium                       20,295.00  \n",
       "High                          8,233.00  \n",
       "All                          42,595.00  "
      ]
     },
     "execution_count": 38,
     "metadata": {},
     "output_type": "execute_result"
    }
   ],
   "source": [
    " pd.crosstab([loans.dti_cat], [loans.inc_cat_dec], \\\n",
    "             values=loans.income, aggfunc='count', margins=True, colnames=['Income Deciles'], rownames=['Debt/Income Ratio'])"
   ]
  },
  {
   "cell_type": "markdown",
   "metadata": {},
   "source": [
    " "
   ]
  },
  {
   "cell_type": "markdown",
   "metadata": {
    "collapsed": false
   },
   "source": [
    " "
   ]
  },
  {
   "cell_type": "markdown",
   "metadata": {},
   "source": [
    "The analog SAS program uses PROC FREQ."
   ]
  },
  {
   "cell_type": "markdown",
   "metadata": {},
   "source": [
    "````    \n",
    "    /******************************************************/\n",
    "    /* c10_pd.crosstabs.sas                               */\n",
    "    /******************************************************/\n",
    "    5      proc rank data=df groups=10 ties=low out=r_df;\n",
    "    6          var income;\n",
    "    7           ranks r_income;\n",
    "    8\n",
    "    9      data tables;\n",
    "    10         set r_df (keep = r_income dti);\n",
    "    11      length dti_cat $ 6;\n",
    "    12      if dti < 10 then dti_cat = 'Low';\n",
    "    13          else if dti < 20 then dti_cat = 'Medium';\n",
    "    14         else dti_cat = 'High';\n",
    "    15      \n",
    "    16      proc freq data=tables order=formatted;\n",
    "    17      tables dti_cat * r_income /nocol nocum norow nopercent;\n",
    "````"
   ]
  },
  {
   "cell_type": "code",
   "execution_count": 39,
   "metadata": {
    "collapsed": false
   },
   "outputs": [
    {
     "data": {
      "image/jpeg": "[encoded data removed]",
      "text/plain": [
       "<IPython.core.display.Image object>"
      ]
     },
     "execution_count": 39,
     "metadata": {},
     "output_type": "execute_result"
    }
   ],
   "source": [
    " Image(filename='Anaconda3\\\\output\\\\pd_crosstab.JPG') "
   ]
  },
  {
   "cell_type": "markdown",
   "metadata": {},
   "source": [
    "## Applying Transformations to Groups"
   ]
  },
  {
   "cell_type": "markdown",
   "metadata": {},
   "source": [
    "A fairly common pattern is standardization and transformation of values.  In the cell below, the new column loans['iz_all'] is added to the 'loans' DataFrame.  It computes a zscore by subtracting the mean value for income from income and dividing by the standard deviation.   "
   ]
  },
  {
   "cell_type": "code",
   "execution_count": 40,
   "metadata": {
    "collapsed": false
   },
   "outputs": [],
   "source": [
    "loans['iz_all'] = (loans.income - loans.income.mean()) / loans.income.std() "
   ]
  },
  {
   "cell_type": "code",
   "execution_count": 41,
   "metadata": {
    "collapsed": false
   },
   "outputs": [
    {
     "data": {
      "text/plain": [
       "0"
      ]
     },
     "execution_count": 41,
     "metadata": {},
     "output_type": "execute_result"
    }
   ],
   "source": [
    "loans['iz_all'].isnull().sum()"
   ]
  },
  {
   "cell_type": "markdown",
   "metadata": {},
   "source": [
    " "
   ]
  },
  {
   "cell_type": "markdown",
   "metadata": {},
   "source": [
    "However, we want to calculate zscores by deciles rather than the overall mean for income.  Start by creating the grouper for the loans['inc_cat'] column which is the deciles created with the pd.qcut() method above."
   ]
  },
  {
   "cell_type": "code",
   "execution_count": 42,
   "metadata": {
    "collapsed": false
   },
   "outputs": [],
   "source": [
    "grp_inc_cat = loans.groupby('inc_cat')"
   ]
  },
  {
   "cell_type": "markdown",
   "metadata": {},
   "source": [
    " "
   ]
  },
  {
   "cell_type": "markdown",
   "metadata": {},
   "source": [
    "Create the zcore function using lambda as an anonymous function."
   ]
  },
  {
   "cell_type": "code",
   "execution_count": 43,
   "metadata": {
    "collapsed": false
   },
   "outputs": [
    {
     "data": {
      "text/plain": [
       "function"
      ]
     },
     "execution_count": 43,
     "metadata": {},
     "output_type": "execute_result"
    }
   ],
   "source": [
    "zscore = lambda x: (x - x.mean()) / x.std()\n",
    "type(zscore)"
   ]
  },
  {
   "cell_type": "markdown",
   "metadata": {},
   "source": [
    " "
   ]
  },
  {
   "cell_type": "markdown",
   "metadata": {},
   "source": [
    "Using the 'grp_inc_cat' grouper created above, call the .transform() attribute to apply the zscore function and assign the results to a new DataFrame called 't_loans'."
   ]
  },
  {
   "cell_type": "code",
   "execution_count": 44,
   "metadata": {
    "collapsed": false
   },
   "outputs": [],
   "source": [
    "t_loans = grp_inc_cat.transform(zscore)"
   ]
  },
  {
   "cell_type": "markdown",
   "metadata": {},
   "source": [
    " "
   ]
  },
  {
   "cell_type": "markdown",
   "metadata": {},
   "source": [
    "The zscore function is applied to all of the numeric columns in the 'loans' DataFrame, so extract the transformed t_loans['income'] column from the 't_loans' DataFrame and assign it as the column loans['iz_grp'] in the 'loans' DataFrame."
   ]
  },
  {
   "cell_type": "code",
   "execution_count": 45,
   "metadata": {
    "collapsed": true
   },
   "outputs": [],
   "source": [
    "loans['iz_grp'] = t_loans['income']"
   ]
  },
  {
   "cell_type": "markdown",
   "metadata": {},
   "source": [
    " "
   ]
  },
  {
   "cell_type": "markdown",
   "metadata": {},
   "source": [
    "Display the transformed income values."
   ]
  },
  {
   "cell_type": "code",
   "execution_count": 46,
   "metadata": {
    "collapsed": false,
    "scrolled": false
   },
   "outputs": [
    {
     "name": "stdout",
     "output_type": "stream",
     "text": [
      "id\n",
      "513542                  92.58\n",
      "519954                  59.80\n",
      "269818                  30.76\n",
      "611872                  28.58\n",
      "884755                  26.74\n",
      "502114                  21.40\n",
      "458760                  21.40\n",
      "453667                  20.18\n",
      "830027                  18.43\n",
      "603818                  17.65\n",
      "Name: iz_all, dtype: float64 id\n",
      "513542                  38.15\n",
      "519954                  24.39\n",
      "269818                  12.21\n",
      "611872                  11.29\n",
      "884755                  10.52\n",
      "502114                   8.28\n",
      "458760                   8.28\n",
      "453667                   7.77\n",
      "830027                   7.04\n",
      "468400                   6.71\n",
      "Name: iz_grp, dtype: float64\n"
     ]
    }
   ],
   "source": [
    "print(loans['iz_all'].sort_values(ascending=False).head(10), \n",
    "      loans['iz_grp'].sort_values(ascending=False).head(10))"
   ]
  },
  {
   "cell_type": "markdown",
   "metadata": {},
   "source": [
    " "
   ]
  },
  {
   "cell_type": "markdown",
   "metadata": {
    "collapsed": false
   },
   "source": [
    "We would like to display the transformed income values side-by-side.  Create the new DataFrame 'prt' by extracting the loans['iz_all'] column (income zscores computed with column mean) and the loans['iz_grp'] (income zscores computed with the group mean). "
   ]
  },
  {
   "cell_type": "code",
   "execution_count": 47,
   "metadata": {
    "collapsed": false
   },
   "outputs": [
    {
     "data": {
      "text/plain": [
       "pandas.core.frame.DataFrame"
      ]
     },
     "execution_count": 47,
     "metadata": {},
     "output_type": "execute_result"
    }
   ],
   "source": [
    "prt = loans[['iz_all', 'iz_grp']]\n",
    "type(prt)"
   ]
  },
  {
   "cell_type": "markdown",
   "metadata": {},
   "source": [
    " "
   ]
  },
  {
   "cell_type": "markdown",
   "metadata": {},
   "source": [
    "Provide descriptive column names."
   ]
  },
  {
   "cell_type": "code",
   "execution_count": 48,
   "metadata": {
    "collapsed": false
   },
   "outputs": [],
   "source": [
    "prt.columns = ['zscore w/ overall mean','zscore with group mean']"
   ]
  },
  {
   "cell_type": "markdown",
   "metadata": {},
   "source": [
    " "
   ]
  },
  {
   "cell_type": "markdown",
   "metadata": {},
   "source": [
    "Display the transformed income values."
   ]
  },
  {
   "cell_type": "code",
   "execution_count": 49,
   "metadata": {
    "collapsed": false
   },
   "outputs": [
    {
     "data": {
      "text/html": [
       "<div>\n",
       "<table border=\"1\" class=\"dataframe\">\n",
       "  <thead>\n",
       "    <tr style=\"text-align: right;\">\n",
       "      <th></th>\n",
       "      <th>zscore w/ overall mean</th>\n",
       "      <th>zscore with group mean</th>\n",
       "    </tr>\n",
       "    <tr>\n",
       "      <th>id</th>\n",
       "      <th></th>\n",
       "      <th></th>\n",
       "    </tr>\n",
       "  </thead>\n",
       "  <tbody>\n",
       "    <tr>\n",
       "      <th>513542</th>\n",
       "      <td>92.58</td>\n",
       "      <td>38.15</td>\n",
       "    </tr>\n",
       "    <tr>\n",
       "      <th>519954</th>\n",
       "      <td>59.80</td>\n",
       "      <td>24.39</td>\n",
       "    </tr>\n",
       "    <tr>\n",
       "      <th>269818</th>\n",
       "      <td>30.76</td>\n",
       "      <td>12.21</td>\n",
       "    </tr>\n",
       "    <tr>\n",
       "      <th>611872</th>\n",
       "      <td>28.58</td>\n",
       "      <td>11.29</td>\n",
       "    </tr>\n",
       "    <tr>\n",
       "      <th>884755</th>\n",
       "      <td>26.74</td>\n",
       "      <td>10.52</td>\n",
       "    </tr>\n",
       "    <tr>\n",
       "      <th>502114</th>\n",
       "      <td>21.40</td>\n",
       "      <td>8.28</td>\n",
       "    </tr>\n",
       "    <tr>\n",
       "      <th>458760</th>\n",
       "      <td>21.40</td>\n",
       "      <td>8.28</td>\n",
       "    </tr>\n",
       "    <tr>\n",
       "      <th>453667</th>\n",
       "      <td>20.18</td>\n",
       "      <td>7.77</td>\n",
       "    </tr>\n",
       "    <tr>\n",
       "      <th>830027</th>\n",
       "      <td>18.43</td>\n",
       "      <td>7.04</td>\n",
       "    </tr>\n",
       "    <tr>\n",
       "      <th>468400</th>\n",
       "      <td>17.65</td>\n",
       "      <td>6.71</td>\n",
       "    </tr>\n",
       "  </tbody>\n",
       "</table>\n",
       "</div>"
      ],
      "text/plain": [
       "        zscore w/ overall mean  zscore with group mean\n",
       "id                                                    \n",
       "513542                   92.58                   38.15\n",
       "519954                   59.80                   24.39\n",
       "269818                   30.76                   12.21\n",
       "611872                   28.58                   11.29\n",
       "884755                   26.74                   10.52\n",
       "502114                   21.40                    8.28\n",
       "458760                   21.40                    8.28\n",
       "453667                   20.18                    7.77\n",
       "830027                   18.43                    7.04\n",
       "468400                   17.65                    6.71"
      ]
     },
     "execution_count": 49,
     "metadata": {},
     "output_type": "execute_result"
    }
   ],
   "source": [
    "prt.sort_values('zscore w/ overall mean', ascending=False).head(10)"
   ]
  },
  {
   "cell_type": "markdown",
   "metadata": {},
   "source": [
    "  "
   ]
  },
  {
   "cell_type": "markdown",
   "metadata": {},
   "source": [
    "The analog SAS program combines the creating of income deciles using PROC RANK and PROC SQL to calculate income zscores based on overall mean and income decile group mean."
   ]
  },
  {
   "cell_type": "markdown",
   "metadata": {},
   "source": [
    "````\n",
    "    /******************************************************/\n",
    "    /* c10_zscore_all_bygroup.sas                         */\n",
    "    /******************************************************/\n",
    "    48      proc rank data=df groups=10 ties=low out=r_df;\n",
    "    49           var income;\n",
    "    50           ranks r_income;\n",
    "    51      \n",
    "    52      proc sql ;\n",
    "    53      create table all_mean as\n",
    "    54      select id\n",
    "    55            ,(income - mean) / std as iz_all format=6.2\n",
    "    56         from\n",
    "    57            (select id\n",
    "    58                    ,income\n",
    "    59                    ,mean(income) as mean\n",
    "    60                    ,std(income) as std\n",
    "    61         from r_df)\n",
    "    62      order by iz_all desc;\n",
    "    63      \n",
    "    64      create table grp_mean as\n",
    "    65      select id\n",
    "    66            ,(income - mean) / std as iz_grp format=6.2\n",
    "    67         from\n",
    "    68            (select id\n",
    "    69                    ,income\n",
    "    70                    ,mean(income) as mean\n",
    "    71                    ,std(income) as std\n",
    "    72             from r_df\n",
    "    73             group by r_income)\n",
    "    74      order by iz_grp descending;\n",
    "    75      \n",
    "    76      create table all(drop=old_id) as\n",
    "    77      select coalesce(all_mean.old_id, grp_mean.old_id) as id\n",
    "    78            ,*\n",
    "    79         from all_mean (rename=(id=old_id))\n",
    "    80      full join grp_mean (rename=(id=old_id))\n",
    "    81          on all_mean.old_id = grp_mean.old_id\n",
    "    82      order by iz_all desc;\n",
    "    83      \n",
    "    84      select *\n",
    "    85         from all(obs=10);\n",
    "    86      quit;\n",
    "````"
   ]
  },
  {
   "cell_type": "code",
   "execution_count": 50,
   "metadata": {
    "collapsed": false
   },
   "outputs": [
    {
     "data": {
      "image/jpeg": "[encoded data removed]",
      "text/plain": [
       "<IPython.core.display.Image object>"
      ]
     },
     "execution_count": 50,
     "metadata": {},
     "output_type": "execute_result"
    }
   ],
   "source": [
    " Image(filename='Anaconda3\\\\output\\\\income_zcore_table.JPG') "
   ]
  },
  {
   "cell_type": "markdown",
   "metadata": {
    "collapsed": true
   },
   "source": [
    "  "
   ]
  },
  {
   "cell_type": "markdown",
   "metadata": {
    "collapsed": false
   },
   "source": [
    " ## Top/Bottom N processing"
   ]
  },
  {
   "cell_type": "markdown",
   "metadata": {
    "collapsed": false
   },
   "source": [
    "Start by defining a function with 3 argument values.  First one is positional (df) followed by two named arguments (n=, and sort_col=).  The function returns a Series of n= values in descending sort order."
   ]
  },
  {
   "cell_type": "code",
   "execution_count": 51,
   "metadata": {
    "collapsed": true
   },
   "outputs": [],
   "source": [
    "def topn(df, n=3, sort_col='income'):\n",
    "    return pd.Series(df[sort_col]).sort_values(ascending=False).head(n)"
   ]
  },
  {
   "cell_type": "markdown",
   "metadata": {},
   "source": [
    " "
   ]
  },
  {
   "cell_type": "markdown",
   "metadata": {},
   "source": [
    "Call the 'topn' function."
   ]
  },
  {
   "cell_type": "code",
   "execution_count": 52,
   "metadata": {
    "collapsed": false
   },
   "outputs": [
    {
     "data": {
      "text/plain": [
       "id\n",
       "793919                  29.99\n",
       "234391                  29.96\n",
       "289144                  29.95\n",
       "754868                  29.95\n",
       "831945                  29.93\n",
       "Name: dti, dtype: float64"
      ]
     },
     "execution_count": 52,
     "metadata": {},
     "output_type": "execute_result"
    }
   ],
   "source": [
    "topn(loans, sort_col='dti', n=5)"
   ]
  },
  {
   "cell_type": "markdown",
   "metadata": {},
   "source": [
    " "
   ]
  },
  {
   "cell_type": "markdown",
   "metadata": {},
   "source": [
    "The function can be applied to levels of a GroupBy object using the .apply() attribute."
   ]
  },
  {
   "cell_type": "code",
   "execution_count": 53,
   "metadata": {
    "collapsed": false
   },
   "outputs": [
    {
     "data": {
      "text/plain": [
       "grade  id    \n",
       "A      611872           1,900,000.00\n",
       "       458760           1,440,000.00\n",
       "       453667           1,362,000.00\n",
       "B      519954           3,900,000.00\n",
       "       624215             984,000.00\n",
       "       643926             948,000.00\n",
       "C      513542           6,000,000.00\n",
       "       269818           2,039,784.00\n",
       "       884755           1,782,000.00\n",
       "D      603818           1,200,000.00\n",
       "       514680             840,000.00\n",
       "       752994             648,000.00\n",
       "E      792270             750,000.00\n",
       "       565565             700,053.85\n",
       "       508436             660,000.00\n",
       "F      502114           1,440,000.00\n",
       "       473872             600,000.00\n",
       "       843071             350,000.00\n",
       "G      989796             725,000.00\n",
       "       391263             600,000.00\n",
       "       115363             500,000.00\n",
       "Name: income, dtype: float64"
      ]
     },
     "execution_count": 53,
     "metadata": {},
     "output_type": "execute_result"
    }
   ],
   "source": [
    "loans.groupby('grade').apply(topn)"
   ]
  },
  {
   "cell_type": "markdown",
   "metadata": {},
   "source": [
    " "
   ]
  },
  {
   "cell_type": "markdown",
   "metadata": {},
   "source": [
    "Not surprisingly, we did not need to create this function since the .nlargest() and .nsmallest() attributes performs the same operation."
   ]
  },
  {
   "cell_type": "code",
   "execution_count": 54,
   "metadata": {
    "collapsed": false
   },
   "outputs": [
    {
     "data": {
      "text/plain": [
       "grade  id    \n",
       "A      611872           1,900,000.00\n",
       "       458760           1,440,000.00\n",
       "       453667           1,362,000.00\n",
       "B      519954           3,900,000.00\n",
       "       624215             984,000.00\n",
       "       643926             948,000.00\n",
       "C      513542           6,000,000.00\n",
       "       269818           2,039,784.00\n",
       "       884755           1,782,000.00\n",
       "D      603818           1,200,000.00\n",
       "       514680             840,000.00\n",
       "       752994             648,000.00\n",
       "E      792270             750,000.00\n",
       "       565565             700,053.85\n",
       "       508436             660,000.00\n",
       "F      502114           1,440,000.00\n",
       "       473872             600,000.00\n",
       "       843071             350,000.00\n",
       "G      989796             725,000.00\n",
       "       391263             600,000.00\n",
       "       115363             500,000.00\n",
       "Name: income, dtype: float64"
      ]
     },
     "execution_count": 54,
     "metadata": {},
     "output_type": "execute_result"
    }
   ],
   "source": [
    "grp_grd['income'].nlargest(3)"
   ]
  },
  {
   "cell_type": "markdown",
   "metadata": {},
   "source": [
    " "
   ]
  },
  {
   "cell_type": "markdown",
   "metadata": {},
   "source": [
    "Return the 3 smallest income values for each debt-to-income loans['dti_cat'] column levels."
   ]
  },
  {
   "cell_type": "code",
   "execution_count": 55,
   "metadata": {
    "collapsed": false
   },
   "outputs": [
    {
     "data": {
      "text/plain": [
       "grade  id     \n",
       "A      288342                3,300.00\n",
       "       228954                3,500.00\n",
       "       398765                5,500.00\n",
       "B      139940                2,000.00\n",
       "       267670                3,600.00\n",
       "       524201                4,080.00\n",
       "C      434740                4,000.00\n",
       "       99987                 4,000.00\n",
       "       503299                4,200.00\n",
       "D      91126                 4,000.00\n",
       "       565967                4,800.00\n",
       "       521396                6,000.00\n",
       "E      367694                4,200.00\n",
       "       403941                4,800.00\n",
       "       388623                5,843.00\n",
       "F      119948                7,280.00\n",
       "       1000862               9,960.00\n",
       "       708331               12,000.00\n",
       "G      123688                1,896.00\n",
       "       108473                9,600.00\n",
       "       387462               10,000.00\n",
       "Name: income, dtype: float64"
      ]
     },
     "execution_count": 55,
     "metadata": {},
     "output_type": "execute_result"
    }
   ],
   "source": [
    "grp_grd['income'].nsmallest(3)"
   ]
  },
  {
   "cell_type": "markdown",
   "metadata": {},
   "source": [
    " "
   ]
  },
  {
   "cell_type": "markdown",
   "metadata": {},
   "source": [
    "## Resources\n",
    "\n",
    "The GroupBy: split-apply-combine for panda is located <a href=\"http://pandas.pydata.org/pandas-docs/stable/groupby.html\"> here</a>.\n",
    "\n",
    "Apply Operations to Groups in Pandas, by Chris Albon, located <a href=\"http://chrisalbon.com/python/pandas_apply_operations_to_groups.html\"> here.</a>\n",
    "\n",
    "GroupBy-fu: improvements in grouping and aggregating data in pandas, by Wes McKinney, located <a href=\"http://wesmckinney.com/blog/groupby-fu-improvements-in-grouping-and-aggregating-data-in-pandas/\"> here</a>.\n",
    "\n",
    "MERGING vs. JOINING: Comparing the DATA Step with SQL, by Malachy J. Foley, University of North Carolina at Chapel Hill, located <a href=\"http://www2.sas.com/proceedings/sugi30/249-30.pdf\"> here</a>."
   ]
  },
  {
   "cell_type": "markdown",
   "metadata": {},
   "source": [
    " "
   ]
  },
  {
   "cell_type": "markdown",
   "metadata": {},
   "source": [
    "## Navigation\n",
    "\n",
    "<a href=\"http://nbviewer.jupyter.org/github/RandyBetancourt/PythonForSASUsers/tree/master/\">Return to Chapter List</a>"
   ]
  }
 ],
 "metadata": {
  "kernelspec": {
   "display_name": "Python [Root]",
   "language": "python",
   "name": "Python [Root]"
  },
  "language_info": {
   "codemirror_mode": {
    "name": "ipython",
    "version": 3
   },
   "file_extension": ".py",
   "mimetype": "text/x-python",
   "name": "python",
   "nbconvert_exporter": "python",
   "pygments_lexer": "ipython3",
   "version": "3.5.2"
  }
 },
 "nbformat": 4,
 "nbformat_minor": 0
}
