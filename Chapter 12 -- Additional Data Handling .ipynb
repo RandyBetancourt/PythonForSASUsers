{
 "cells": [
  {
   "cell_type": "markdown",
   "metadata": {},
   "source": [
    "# Chapter 12 -- Additional Data Handling"
   ]
  },
  {
   "cell_type": "markdown",
   "metadata": {},
   "source": [
    "## Topics Covered:\n",
    "\n",
    "<a href=\"http://nbviewer.jupyter.org/github/RandyBetancourt/PythonForSASUsers/blob/master/Chapter%2012%20--%20Additional%20Data%20Handling%20.ipynb#Sort-and-Sort-Sequences\">Sort and Sort Sequences</a>\n",
    "\n",
    "<a href=\"http://nbviewer.jupyter.org/github/RandyBetancourt/PythonForSASUsers/blob/master/Chapter%2012%20--%20Additional%20Data%20Handling%20.ipynb#Drop/Keep-Columns\">Drop/Keep Columns</a> \n",
    "\n",
    "<a href=\"http://nbviewer.jupyter.org/github/RandyBetancourt/PythonForSASUsers/blob/master/Chapter%2012%20--%20Additional%20Data%20Handling%20.ipynb#Rename-Columns\">Rename Columns</a>\n",
    "\n",
    "<a href=\"http://nbviewer.jupyter.org/github/RandyBetancourt/PythonForSASUsers/blob/master/Chapter%2012%20--%20Additional%20Data%20Handling%20.ipynb#Finding-Duplicate-Values\">Find Duplicate Values</a>\n",
    "\n",
    "<a href=\"http://nbviewer.jupyter.org/github/RandyBetancourt/PythonForSASUsers/blob/master/Chapter%2012%20--%20Additional%20Data%20Handling%20.ipynb#Extract-Duplicate-Values\">Extract Duplicate Rows to a new DataFrame</a>\n",
    "\n",
    "<a href=\"http://nbviewer.jupyter.org/github/RandyBetancourt/PythonForSASUsers/blob/master/Chapter%2012%20--%20Additional%20Data%20Handling%20.ipynb#Drop-Duplicate-Rows\">Drop Duplicate Rows</a>\n",
    "\n",
    "<a href=\"http://nbviewer.jupyter.org/github/RandyBetancourt/PythonForSASUsers/blob/master/Chapter%2012%20--%20Additional%20Data%20Handling%20.ipynb#Add-a-New-DataFrame-Column\">Add a New DataFrame Column</a>\n",
    "\n",
    "<a href=\"http://nbviewer.jupyter.org/github/RandyBetancourt/PythonForSASUsers/blob/master/Chapter%2012%20--%20Additional%20Data%20Handling%20.ipynb#Cast-Strings-to-Floats\">Cast Strings to Float</a>\n",
    "\n",
    "<a href=\"http://nbviewer.jupyter.org/github/RandyBetancourt/PythonForSASUsers/blob/master/Chapter%2012%20--%20Additional%20Data%20Handling%20.ipynb#Concatenating-DataFrames-(Join)\">Concatenating DataFrames (Join)</a>\n",
    "\n",
    "<a href=\"http://nbviewer.jupyter.org/github/RandyBetancourt/PythonForSASUsers/blob/master/Chapter%2012%20--%20Additional%20Data%20Handling%20.ipynb#Crosstabs\">Crosstabs</a>\n",
    "\n",
    "<a href=\"http://nbviewer.jupyter.org/github/RandyBetancourt/PythonForSASUsers/blob/master/Chapter%2012%20--%20Additional%20Data%20Handling%20.ipynb#Sampling\">Sampling</a>\n",
    "\n",
    "<a href=\"http://nbviewer.jupyter.org/github/RandyBetancourt/PythonForSASUsers/blob/master/Chapter%2012%20--%20Additional%20Data%20Handling%20.ipynb#Binning-Continuous-Values\">Binning Continuous Values</a>\n",
    "\n",
    "<a href=\"http://nbviewer.jupyter.org/github/RandyBetancourt/PythonForSASUsers/blob/master/Chapter%2012%20--%20Additional%20Data%20Handling%20.ipynb#Save-to-Disk\">Save to Disk</a>\n",
    "\n",
    "<a href=\"http://nbviewer.jupyter.org/github/RandyBetancourt/PythonForSASUsers/blob/master/Chapter%2012%20--%20Additional%20Data%20Handling%20.ipynb#Resources\">Resources</a>"
   ]
  },
  {
   "cell_type": "markdown",
   "metadata": {},
   "source": [
    " "
   ]
  },
  {
   "cell_type": "code",
   "execution_count": 1,
   "metadata": {
    "collapsed": false
   },
   "outputs": [],
   "source": [
    "import numpy as np\n",
    "import pandas as pd\n",
    "from pandas import Series, DataFrame, Index\n",
    "from IPython.display import Image"
   ]
  },
  {
   "cell_type": "markdown",
   "metadata": {},
   "source": [
    "  "
   ]
  },
  {
   "cell_type": "markdown",
   "metadata": {},
   "source": [
    "## Sort and Sort Sequences"
   ]
  },
  {
   "cell_type": "markdown",
   "metadata": {},
   "source": [
    "The example below is used in <a href=\"http://nbviewer.jupyter.org/github/RandyBetancourt/PythonForSASUsers/blob/master/Chapter%2009%20--%20Panda%20Time%20Series%20and%20Date%20Handling.ipynb#Time-Series-Walk-Through\">Time Series Walk-Through</a> in Chapter 09 -- Panda Time Series and Date Handling.  It uses the <a href=\"http://nbviewer.jupyter.org/github/RandyBetancourt/PythonForSASUsers/blob/master/Chapter%2011%20--%20Panda%20Readers.ipynb#pd.read_csv(URL)-method\"> read_csv() method</a> to construct the 'df_us' DataFrame begining its read on row 3,082."
   ]
  },
  {
   "cell_type": "code",
   "execution_count": 2,
   "metadata": {
    "collapsed": false
   },
   "outputs": [],
   "source": [
    "df_states = pd.read_csv(\"C:\\Data\\\\HPI_master.csv\",                 \n",
    "            skiprows=3082,\n",
    "            usecols=(0, 1, 2, 3, 4, 5, 6, 7, 8),\n",
    "            names=('hpi_type', 'hpi_flavor', 'frequency', 'level', 'place_name', 'place_id', 'yr', 'period', 'index_nsa'),\n",
    "            header=None)"
   ]
  },
  {
   "cell_type": "markdown",
   "metadata": {},
   "source": [
    "   "
   ]
  },
  {
   "cell_type": "markdown",
   "metadata": {},
   "source": [
    "The following SAS Data Step reads the same .csv file using FIRSTOBS= to begin reading from an arbitary row position."
   ]
  },
  {
   "cell_type": "markdown",
   "metadata": {},
   "source": [
    "````\n",
    "    /********************************/\n",
    "    /* c09_read()_csv_df_states.sas */\n",
    "    /********************************/\n",
    "    data df_states;\n",
    "          infile 'C:\\Data\\HPI_master.csv' delimiter=',' missover dsd firstobs=3081; \n",
    "          informat hpi_type $12.\n",
    "                   hpi_flavor $16.\n",
    "                   frequency $9.\n",
    "                   level $28.\n",
    "                   place_name $33.\n",
    "                   place_id $8.\n",
    "                   yr $5.\n",
    "                   period $6.\n",
    "                   index_nsa 8.;\n",
    "             input hpi_type $\n",
    "                   hpi_flavor $\n",
    "                   frequency $\n",
    "                   level $\n",
    "                   place_name $\n",
    "                   place_id $\n",
    "                   yr $\n",
    "                   period $\n",
    "                   index_nsa ;\n",
    "````"
   ]
  },
  {
   "cell_type": "markdown",
   "metadata": {},
   "source": [
    " "
   ]
  },
  {
   "cell_type": "markdown",
   "metadata": {},
   "source": [
    "Verify the read using the .shape attribute."
   ]
  },
  {
   "cell_type": "code",
   "execution_count": 3,
   "metadata": {
    "collapsed": false
   },
   "outputs": [
    {
     "data": {
      "text/plain": [
       "(96244, 9)"
      ]
     },
     "execution_count": 3,
     "metadata": {},
     "output_type": "execute_result"
    }
   ],
   "source": [
    "df_states.shape"
   ]
  },
  {
   "cell_type": "markdown",
   "metadata": {},
   "source": [
    "  "
   ]
  },
  {
   "cell_type": "markdown",
   "metadata": {},
   "source": [
    "Inspect the first 5 rows of the 'df_states' DataFrame."
   ]
  },
  {
   "cell_type": "code",
   "execution_count": 4,
   "metadata": {
    "collapsed": false
   },
   "outputs": [
    {
     "data": {
      "text/html": [
       "<div>\n",
       "<table border=\"1\" class=\"dataframe\">\n",
       "  <thead>\n",
       "    <tr style=\"text-align: right;\">\n",
       "      <th></th>\n",
       "      <th>hpi_type</th>\n",
       "      <th>hpi_flavor</th>\n",
       "      <th>frequency</th>\n",
       "      <th>level</th>\n",
       "      <th>place_name</th>\n",
       "      <th>place_id</th>\n",
       "      <th>yr</th>\n",
       "      <th>period</th>\n",
       "      <th>index_nsa</th>\n",
       "    </tr>\n",
       "  </thead>\n",
       "  <tbody>\n",
       "    <tr>\n",
       "      <th>0</th>\n",
       "      <td>traditional</td>\n",
       "      <td>all-transactions</td>\n",
       "      <td>quarterly</td>\n",
       "      <td>MSA</td>\n",
       "      <td>Abilene, TX</td>\n",
       "      <td>10180</td>\n",
       "      <td>1986</td>\n",
       "      <td>4</td>\n",
       "      <td>94.95</td>\n",
       "    </tr>\n",
       "    <tr>\n",
       "      <th>1</th>\n",
       "      <td>traditional</td>\n",
       "      <td>all-transactions</td>\n",
       "      <td>quarterly</td>\n",
       "      <td>MSA</td>\n",
       "      <td>Abilene, TX</td>\n",
       "      <td>10180</td>\n",
       "      <td>1987</td>\n",
       "      <td>1</td>\n",
       "      <td>100.91</td>\n",
       "    </tr>\n",
       "    <tr>\n",
       "      <th>2</th>\n",
       "      <td>traditional</td>\n",
       "      <td>all-transactions</td>\n",
       "      <td>quarterly</td>\n",
       "      <td>MSA</td>\n",
       "      <td>Abilene, TX</td>\n",
       "      <td>10180</td>\n",
       "      <td>1987</td>\n",
       "      <td>2</td>\n",
       "      <td>100.76</td>\n",
       "    </tr>\n",
       "    <tr>\n",
       "      <th>3</th>\n",
       "      <td>traditional</td>\n",
       "      <td>all-transactions</td>\n",
       "      <td>quarterly</td>\n",
       "      <td>MSA</td>\n",
       "      <td>Abilene, TX</td>\n",
       "      <td>10180</td>\n",
       "      <td>1987</td>\n",
       "      <td>3</td>\n",
       "      <td>94.02</td>\n",
       "    </tr>\n",
       "    <tr>\n",
       "      <th>4</th>\n",
       "      <td>traditional</td>\n",
       "      <td>all-transactions</td>\n",
       "      <td>quarterly</td>\n",
       "      <td>MSA</td>\n",
       "      <td>Abilene, TX</td>\n",
       "      <td>10180</td>\n",
       "      <td>1987</td>\n",
       "      <td>4</td>\n",
       "      <td>91.43</td>\n",
       "    </tr>\n",
       "  </tbody>\n",
       "</table>\n",
       "</div>"
      ],
      "text/plain": [
       "      hpi_type        hpi_flavor  frequency level   place_name place_id    yr  \\\n",
       "0  traditional  all-transactions  quarterly   MSA  Abilene, TX    10180  1986   \n",
       "1  traditional  all-transactions  quarterly   MSA  Abilene, TX    10180  1987   \n",
       "2  traditional  all-transactions  quarterly   MSA  Abilene, TX    10180  1987   \n",
       "3  traditional  all-transactions  quarterly   MSA  Abilene, TX    10180  1987   \n",
       "4  traditional  all-transactions  quarterly   MSA  Abilene, TX    10180  1987   \n",
       "\n",
       "   period  index_nsa  \n",
       "0       4      94.95  \n",
       "1       1     100.91  \n",
       "2       2     100.76  \n",
       "3       3      94.02  \n",
       "4       4      91.43  "
      ]
     },
     "execution_count": 4,
     "metadata": {},
     "output_type": "execute_result"
    }
   ],
   "source": [
    "df_states.head()"
   ]
  },
  {
   "cell_type": "markdown",
   "metadata": {},
   "source": [
    "  "
   ]
  },
  {
   "cell_type": "markdown",
   "metadata": {},
   "source": [
    "Inspect the first 5 rows of the SAS data set df_states."
   ]
  },
  {
   "cell_type": "code",
   "execution_count": 5,
   "metadata": {
    "collapsed": false
   },
   "outputs": [
    {
     "data": {
      "image/jpeg": "[encoded data removed]",
      "text/plain": [
       "<IPython.core.display.Image object>"
      ]
     },
     "execution_count": 5,
     "metadata": {},
     "output_type": "execute_result"
    }
   ],
   "source": [
    "Image(filename='Anaconda3\\\\output\\\\df_states_output.JPG')  "
   ]
  },
  {
   "cell_type": "markdown",
   "metadata": {},
   "source": [
    "  "
   ]
  },
  {
   "cell_type": "markdown",
   "metadata": {},
   "source": [
    "Exam the default sort by supplying the the sort key as the minimum argument to the .sort_values() attribute.  The sort operation creates the new 'default_srt' DataFrame."
   ]
  },
  {
   "cell_type": "code",
   "execution_count": 6,
   "metadata": {
    "collapsed": false
   },
   "outputs": [],
   "source": [
    "default_srt = df_states.sort_values('index_nsa')"
   ]
  },
  {
   "cell_type": "markdown",
   "metadata": {},
   "source": [
    "  "
   ]
  },
  {
   "cell_type": "markdown",
   "metadata": {},
   "source": [
    "Display the first 4 rows of the sorted DataFrame 'default_srt'"
   ]
  },
  {
   "cell_type": "code",
   "execution_count": 7,
   "metadata": {
    "collapsed": false
   },
   "outputs": [
    {
     "data": {
      "text/html": [
       "<div>\n",
       "<table border=\"1\" class=\"dataframe\">\n",
       "  <thead>\n",
       "    <tr style=\"text-align: right;\">\n",
       "      <th></th>\n",
       "      <th>hpi_type</th>\n",
       "      <th>hpi_flavor</th>\n",
       "      <th>frequency</th>\n",
       "      <th>level</th>\n",
       "      <th>place_name</th>\n",
       "      <th>place_id</th>\n",
       "      <th>yr</th>\n",
       "      <th>period</th>\n",
       "      <th>index_nsa</th>\n",
       "    </tr>\n",
       "  </thead>\n",
       "  <tbody>\n",
       "    <tr>\n",
       "      <th>42692</th>\n",
       "      <td>traditional</td>\n",
       "      <td>all-transactions</td>\n",
       "      <td>quarterly</td>\n",
       "      <td>MSA</td>\n",
       "      <td>San Francisco-Redwood City-South San Francisco...</td>\n",
       "      <td>41884</td>\n",
       "      <td>1975</td>\n",
       "      <td>3</td>\n",
       "      <td>18.31</td>\n",
       "    </tr>\n",
       "    <tr>\n",
       "      <th>42856</th>\n",
       "      <td>traditional</td>\n",
       "      <td>all-transactions</td>\n",
       "      <td>quarterly</td>\n",
       "      <td>MSA</td>\n",
       "      <td>San Jose-Sunnyvale-Santa Clara, CA</td>\n",
       "      <td>41940</td>\n",
       "      <td>1975</td>\n",
       "      <td>4</td>\n",
       "      <td>18.82</td>\n",
       "    </tr>\n",
       "    <tr>\n",
       "      <th>48737</th>\n",
       "      <td>traditional</td>\n",
       "      <td>all-transactions</td>\n",
       "      <td>quarterly</td>\n",
       "      <td>MSA</td>\n",
       "      <td>Honolulu ('Urban Honolulu'), HI</td>\n",
       "      <td>46520</td>\n",
       "      <td>1981</td>\n",
       "      <td>4</td>\n",
       "      <td>18.91</td>\n",
       "    </tr>\n",
       "    <tr>\n",
       "      <th>42693</th>\n",
       "      <td>traditional</td>\n",
       "      <td>all-transactions</td>\n",
       "      <td>quarterly</td>\n",
       "      <td>MSA</td>\n",
       "      <td>San Francisco-Redwood City-South San Francisco...</td>\n",
       "      <td>41884</td>\n",
       "      <td>1975</td>\n",
       "      <td>4</td>\n",
       "      <td>19.26</td>\n",
       "    </tr>\n",
       "  </tbody>\n",
       "</table>\n",
       "</div>"
      ],
      "text/plain": [
       "          hpi_type        hpi_flavor  frequency level  \\\n",
       "42692  traditional  all-transactions  quarterly   MSA   \n",
       "42856  traditional  all-transactions  quarterly   MSA   \n",
       "48737  traditional  all-transactions  quarterly   MSA   \n",
       "42693  traditional  all-transactions  quarterly   MSA   \n",
       "\n",
       "                                              place_name place_id    yr  \\\n",
       "42692  San Francisco-Redwood City-South San Francisco...    41884  1975   \n",
       "42856                 San Jose-Sunnyvale-Santa Clara, CA    41940  1975   \n",
       "48737                    Honolulu ('Urban Honolulu'), HI    46520  1981   \n",
       "42693  San Francisco-Redwood City-South San Francisco...    41884  1975   \n",
       "\n",
       "       period  index_nsa  \n",
       "42692       3      18.31  \n",
       "42856       4      18.82  \n",
       "48737       4      18.91  \n",
       "42693       4      19.26  "
      ]
     },
     "execution_count": 7,
     "metadata": {},
     "output_type": "execute_result"
    }
   ],
   "source": [
    "default_srt.iloc[0:4]"
   ]
  },
  {
   "cell_type": "markdown",
   "metadata": {},
   "source": [
    "   "
   ]
  },
  {
   "cell_type": "markdown",
   "metadata": {},
   "source": [
    "By examing the first the first four rows of the sorted DataFrame, 'default_srt' we see the default sort sequence is ascending.  Of course, by reading the doc for <a href=\"http://pandas.pydata.org/pandas-docs/stable/generated/pandas.DataFrame.sort_values.html\"> pandas.DataFrame.sort_values </a> we could 'see' this as well. "
   ]
  },
  {
   "cell_type": "markdown",
   "metadata": {},
   "source": [
    "  "
   ]
  },
  {
   "cell_type": "markdown",
   "metadata": {},
   "source": [
    "The default SAS sort syntax is:"
   ]
  },
  {
   "cell_type": "markdown",
   "metadata": {},
   "source": [
    "````\n",
    "    /******************************************************/\n",
    "    /* c12_print_first4_rows_sorted.sas                   */\n",
    "    /******************************************************/\n",
    "84  proc sort data=df_states;\n",
    "85      by index_nsa;\n",
    "NOTE: 96244 observations were read from \"WORK.df_states\"\n",
    "NOTE: Data set \"WORK.df_states\" has 96244 observation(s) and 9 variable(s)\n",
    "86         \n",
    "87   proc print data=df_states (obs=4);\n",
    "````"
   ]
  },
  {
   "cell_type": "markdown",
   "metadata": {},
   "source": [
    "  "
   ]
  },
  {
   "cell_type": "markdown",
   "metadata": {},
   "source": [
    "Like panda the default SAS sort sequence is ascending.  This is confirmed by the SAS doc located <a href=\"https://support.sas.com/documentation/cdl/en/proc/61895/HTML/default/viewer.htm#sort-overview.htm\"> here </a>."
   ]
  },
  {
   "cell_type": "code",
   "execution_count": 8,
   "metadata": {
    "collapsed": false
   },
   "outputs": [
    {
     "data": {
      "image/jpeg": "[encoded data removed]",
      "text/plain": [
       "<IPython.core.display.Image object>"
      ]
     },
     "execution_count": 8,
     "metadata": {},
     "output_type": "execute_result"
    }
   ],
   "source": [
    "Image(filename='Anaconda3\\\\output\\\\default_first_four.JPG')  "
   ]
  },
  {
   "cell_type": "markdown",
   "metadata": {},
   "source": [
    " "
   ]
  },
  {
   "cell_type": "markdown",
   "metadata": {},
   "source": [
    "In contrast to the panda default sort the default SAS sort sequence places its missing values first in the data set as illustrated above."
   ]
  },
  {
   "cell_type": "markdown",
   "metadata": {},
   "source": [
    " "
   ]
  },
  {
   "cell_type": "markdown",
   "metadata": {},
   "source": [
    "Displaying the last 4 rows in the 'default_srt' DataFrame finds the 2 NaN's sorted last since this is the default location panda places its missing values."
   ]
  },
  {
   "cell_type": "code",
   "execution_count": 9,
   "metadata": {
    "collapsed": false
   },
   "outputs": [
    {
     "data": {
      "text/html": [
       "<div>\n",
       "<table border=\"1\" class=\"dataframe\">\n",
       "  <thead>\n",
       "    <tr style=\"text-align: right;\">\n",
       "      <th></th>\n",
       "      <th>hpi_type</th>\n",
       "      <th>hpi_flavor</th>\n",
       "      <th>frequency</th>\n",
       "      <th>level</th>\n",
       "      <th>place_name</th>\n",
       "      <th>place_id</th>\n",
       "      <th>yr</th>\n",
       "      <th>period</th>\n",
       "      <th>index_nsa</th>\n",
       "    </tr>\n",
       "  </thead>\n",
       "  <tbody>\n",
       "    <tr>\n",
       "      <th>54262</th>\n",
       "      <td>traditional</td>\n",
       "      <td>all-transactions</td>\n",
       "      <td>quarterly</td>\n",
       "      <td>State</td>\n",
       "      <td>District of Columbia</td>\n",
       "      <td>DC</td>\n",
       "      <td>2016</td>\n",
       "      <td>1</td>\n",
       "      <td>780.98</td>\n",
       "    </tr>\n",
       "    <tr>\n",
       "      <th>54263</th>\n",
       "      <td>traditional</td>\n",
       "      <td>all-transactions</td>\n",
       "      <td>quarterly</td>\n",
       "      <td>State</td>\n",
       "      <td>District of Columbia</td>\n",
       "      <td>DC</td>\n",
       "      <td>2016</td>\n",
       "      <td>2</td>\n",
       "      <td>791.71</td>\n",
       "    </tr>\n",
       "    <tr>\n",
       "      <th>60576</th>\n",
       "      <td>traditional</td>\n",
       "      <td>all-transactions</td>\n",
       "      <td>quarterly</td>\n",
       "      <td>State</td>\n",
       "      <td>Vermont</td>\n",
       "      <td>VT</td>\n",
       "      <td>1976</td>\n",
       "      <td>1</td>\n",
       "      <td>NaN</td>\n",
       "    </tr>\n",
       "    <tr>\n",
       "      <th>61098</th>\n",
       "      <td>traditional</td>\n",
       "      <td>all-transactions</td>\n",
       "      <td>quarterly</td>\n",
       "      <td>State</td>\n",
       "      <td>West Virginia</td>\n",
       "      <td>WV</td>\n",
       "      <td>1982</td>\n",
       "      <td>1</td>\n",
       "      <td>NaN</td>\n",
       "    </tr>\n",
       "  </tbody>\n",
       "</table>\n",
       "</div>"
      ],
      "text/plain": [
       "          hpi_type        hpi_flavor  frequency  level            place_name  \\\n",
       "54262  traditional  all-transactions  quarterly  State  District of Columbia   \n",
       "54263  traditional  all-transactions  quarterly  State  District of Columbia   \n",
       "60576  traditional  all-transactions  quarterly  State               Vermont   \n",
       "61098  traditional  all-transactions  quarterly  State         West Virginia   \n",
       "\n",
       "      place_id    yr  period  index_nsa  \n",
       "54262       DC  2016       1     780.98  \n",
       "54263       DC  2016       2     791.71  \n",
       "60576       VT  1976       1        NaN  \n",
       "61098       WV  1982       1        NaN  "
      ]
     },
     "execution_count": 9,
     "metadata": {},
     "output_type": "execute_result"
    }
   ],
   "source": [
    "default_srt.tail(4)  "
   ]
  },
  {
   "cell_type": "markdown",
   "metadata": {},
   "source": [
    "  "
   ]
  },
  {
   "cell_type": "markdown",
   "metadata": {},
   "source": [
    "panda's default sort sequence places NaN's last in the sort sequence by default and can be used as an alternative to <a href=\"http://nbviewer.jupyter.org/github/RandyBetancourt/PythonForSASUsers/blob/master/Chapter%2005%20--%20Understanding%20Indexes.ipynb#Mixing-.loc-Indexer-with-Boolean-Operators\">boolean operators and the .loc() method</a> to detect missing values."
   ]
  },
  {
   "cell_type": "markdown",
   "metadata": {},
   "source": [
    "  "
   ]
  },
  {
   "cell_type": "markdown",
   "metadata": {},
   "source": [
    "The SAS program to access the last four observations in the data set is:"
   ]
  },
  {
   "cell_type": "markdown",
   "metadata": {},
   "source": [
    "````\n",
    "    /******************************************************/\n",
    "    /* c12_print_last4_rows_sorted.sas                    */\n",
    "    /******************************************************/\n",
    "    79         data last4;  \n",
    "    80           set df_states (firstobs=96241);\n",
    "    81           by index_nsa;\n",
    "\n",
    "    NOTE: 4 observations were read from \"WORK.last4\"\n",
    "````    "
   ]
  },
  {
   "cell_type": "code",
   "execution_count": 10,
   "metadata": {
    "collapsed": false
   },
   "outputs": [
    {
     "data": {
      "image/jpeg": "[encoded data removed]",
      "text/plain": [
       "<IPython.core.display.Image object>"
      ]
     },
     "execution_count": 10,
     "metadata": {},
     "output_type": "execute_result"
    }
   ],
   "source": [
    "Image(filename='Anaconda3\\\\output\\\\sort_last_four.JPG')  "
   ]
  },
  {
   "cell_type": "markdown",
   "metadata": {},
   "source": [
    "  "
   ]
  },
  {
   "cell_type": "markdown",
   "metadata": {},
   "source": [
    "Alter the organization of the 'states_desc' DataFrame by supplying arguments and values to the sort_values() attribute.  The example below sorts descending placeing missing values at the beginning of the DataFrame."
   ]
  },
  {
   "cell_type": "code",
   "execution_count": 11,
   "metadata": {
    "collapsed": false
   },
   "outputs": [],
   "source": [
    "states_desc = df_states.sort_values('index_nsa', ascending=False, na_position='first')"
   ]
  },
  {
   "cell_type": "markdown",
   "metadata": {},
   "source": [
    "  "
   ]
  },
  {
   "cell_type": "markdown",
   "metadata": {},
   "source": [
    "Setting the na_position= argument to 'first' places NaN's at the beginning of the sort sequence.  This is the same beavhior for SAS' sort sequence.  Details describing SAS sort order for missing values is descried <a href=\"http://support.sas.com/documentation/cdl/en/lrcon/68089/HTML/default/viewer.htm#p0tmoipp0ci6wkn0z27ev47sv0ov.htm\"> here </a>.\n",
    "\n",
    "The first two rows in the DataFrame 'states_desc' contain the NaN's values for the 'index_nsa' column, while the next 2 rows contain the highest values."
   ]
  },
  {
   "cell_type": "markdown",
   "metadata": {},
   "source": [
    "  "
   ]
  },
  {
   "cell_type": "code",
   "execution_count": 12,
   "metadata": {
    "collapsed": false
   },
   "outputs": [
    {
     "data": {
      "text/html": [
       "<div>\n",
       "<table border=\"1\" class=\"dataframe\">\n",
       "  <thead>\n",
       "    <tr style=\"text-align: right;\">\n",
       "      <th></th>\n",
       "      <th>hpi_type</th>\n",
       "      <th>hpi_flavor</th>\n",
       "      <th>frequency</th>\n",
       "      <th>level</th>\n",
       "      <th>place_name</th>\n",
       "      <th>place_id</th>\n",
       "      <th>yr</th>\n",
       "      <th>period</th>\n",
       "      <th>index_nsa</th>\n",
       "    </tr>\n",
       "  </thead>\n",
       "  <tbody>\n",
       "    <tr>\n",
       "      <th>60576</th>\n",
       "      <td>traditional</td>\n",
       "      <td>all-transactions</td>\n",
       "      <td>quarterly</td>\n",
       "      <td>State</td>\n",
       "      <td>Vermont</td>\n",
       "      <td>VT</td>\n",
       "      <td>1976</td>\n",
       "      <td>1</td>\n",
       "      <td>NaN</td>\n",
       "    </tr>\n",
       "    <tr>\n",
       "      <th>61098</th>\n",
       "      <td>traditional</td>\n",
       "      <td>all-transactions</td>\n",
       "      <td>quarterly</td>\n",
       "      <td>State</td>\n",
       "      <td>West Virginia</td>\n",
       "      <td>WV</td>\n",
       "      <td>1982</td>\n",
       "      <td>1</td>\n",
       "      <td>NaN</td>\n",
       "    </tr>\n",
       "    <tr>\n",
       "      <th>54263</th>\n",
       "      <td>traditional</td>\n",
       "      <td>all-transactions</td>\n",
       "      <td>quarterly</td>\n",
       "      <td>State</td>\n",
       "      <td>District of Columbia</td>\n",
       "      <td>DC</td>\n",
       "      <td>2016</td>\n",
       "      <td>2</td>\n",
       "      <td>791.71</td>\n",
       "    </tr>\n",
       "    <tr>\n",
       "      <th>54262</th>\n",
       "      <td>traditional</td>\n",
       "      <td>all-transactions</td>\n",
       "      <td>quarterly</td>\n",
       "      <td>State</td>\n",
       "      <td>District of Columbia</td>\n",
       "      <td>DC</td>\n",
       "      <td>2016</td>\n",
       "      <td>1</td>\n",
       "      <td>780.98</td>\n",
       "    </tr>\n",
       "  </tbody>\n",
       "</table>\n",
       "</div>"
      ],
      "text/plain": [
       "          hpi_type        hpi_flavor  frequency  level            place_name  \\\n",
       "60576  traditional  all-transactions  quarterly  State               Vermont   \n",
       "61098  traditional  all-transactions  quarterly  State         West Virginia   \n",
       "54263  traditional  all-transactions  quarterly  State  District of Columbia   \n",
       "54262  traditional  all-transactions  quarterly  State  District of Columbia   \n",
       "\n",
       "      place_id    yr  period  index_nsa  \n",
       "60576       VT  1976       1        NaN  \n",
       "61098       WV  1982       1        NaN  \n",
       "54263       DC  2016       2     791.71  \n",
       "54262       DC  2016       1     780.98  "
      ]
     },
     "execution_count": 12,
     "metadata": {},
     "output_type": "execute_result"
    }
   ],
   "source": [
    "states_desc.iloc[0:4,]"
   ]
  },
  {
   "cell_type": "markdown",
   "metadata": {},
   "source": [
    " "
   ]
  },
  {
   "cell_type": "markdown",
   "metadata": {},
   "source": [
    "SAS has missing 28 missing value indicators for numerics described <a href=\"http://support.sas.com/documentation/cdl/en/lrcon/68089/HTML/default/viewer.htm#p175x77t7k6kggn1io94yedqagl3.htm\"> here </a>.  However, if you want missing values to be 'first' in a data set using an ascending sort sequence, then the missing value indicator must be an actual numeric value larger than the largest non-missing value.  In other words, by default, the SAS missing value indicator for numerics is always the smallest numeric value."
   ]
  },
  {
   "cell_type": "markdown",
   "metadata": {},
   "source": [
    "The SAS example below sorts the df_states data set in descending order by the 'index_nsa' variable.  Like the panda example above, the \n",
    "\n",
    "    out=states_srt2\n",
    "    \n",
    "syntax creates the new SAS data set 'states_srt2'. "
   ]
  },
  {
   "cell_type": "markdown",
   "metadata": {},
   "source": [
    "````\n",
    "    /******************************************************/\n",
    "    /* c12_print_last4_rows_sorted_descending.sas        */\n",
    "    /*****************************************************/\n",
    "    44        proc sort data=df_states\n",
    "    45           out=states_srt2;\n",
    "    46           by descending index_nsa;\n",
    "    NOTE: 96244 observations were read from \"WORK.df_states\"\n",
    "    NOTE: Data set \"WORK.states_srt2\" has 96244 observation(s) and 9 variable(s)\n",
    "    47        \n",
    "    48         data first4;\n",
    "    49           set states_srt2 (obs=4);\n",
    "    50           by descending index_nsa;\n",
    "````"
   ]
  },
  {
   "cell_type": "code",
   "execution_count": 13,
   "metadata": {
    "collapsed": false
   },
   "outputs": [
    {
     "data": {
      "image/jpeg": "[encoded data removed]",
      "text/plain": [
       "<IPython.core.display.Image object>"
      ]
     },
     "execution_count": 13,
     "metadata": {},
     "output_type": "execute_result"
    }
   ],
   "source": [
    "Image(filename='Anaconda3\\\\output\\\\sort_last4_descending.JPG')  "
   ]
  },
  {
   "cell_type": "markdown",
   "metadata": {},
   "source": [
    " "
   ]
  },
  {
   "cell_type": "markdown",
   "metadata": {},
   "source": [
    "The section below examines a number of common data management patterns for analysis. "
   ]
  },
  {
   "cell_type": "markdown",
   "metadata": {},
   "source": [
    "####    1. Read the Lending Club Loan Status file."
   ]
  },
  {
   "cell_type": "code",
   "execution_count": 14,
   "metadata": {
    "collapsed": false
   },
   "outputs": [
    {
     "data": {
      "text/plain": [
       "(42633, 51)"
      ]
     },
     "execution_count": 14,
     "metadata": {},
     "output_type": "execute_result"
    }
   ],
   "source": [
    "lc = pd.read_csv(\"C:\\\\Data\\\\LC_Loan_Stats.csv\",\n",
    "                 low_memory=False)     \n",
    "lc.shape"
   ]
  },
  {
   "cell_type": "markdown",
   "metadata": {},
   "source": [
    "Check for <a href=\"http://nbviewer.jupyter.org/github/RandyBetancourt/PythonForSASUsers/blob/master/Chapter%2004%20--%20Pandas%2C%20Part%201.ipynb#Missing-Value-Identification\">missing values</a>.  Clearly, some columns are not useful."
   ]
  },
  {
   "cell_type": "code",
   "execution_count": 15,
   "metadata": {
    "collapsed": false
   },
   "outputs": [
    {
     "data": {
      "text/plain": [
       "ID                                 2\n",
       "Member_ID                          3\n",
       "Loan_Amnt                          3\n",
       "Term                               3\n",
       "Int_Rate                           3\n",
       "Installment                        3\n",
       "Grade                              3\n",
       "Sub_Grade                          3\n",
       "Emp_Length                         3\n",
       "Home_Ownership                     3\n",
       "Annual_Inc                         7\n",
       "Verification_Status                3\n",
       "Loan_Status                        3\n",
       "Purpose                            3\n",
       "Zip_Code                           3\n",
       "Addr_State                         3\n",
       "DTI                                3\n",
       "Delinq_2yrs                       32\n",
       "Earliest_Cr_Line                  32\n",
       "Inq_Last_6mths                    32\n",
       "Mths_Since_Last_Delinq         26998\n",
       "Mths_Since_Last_Record         38978\n",
       "Open_Acc                          32\n",
       "Pub_Rec                           32\n",
       "Revol_Bal                          3\n",
       "Revol_Util                        93\n",
       "Total_Acc                         32\n",
       "Initial_List_Status                3\n",
       "Out_Prncp                          3\n",
       "Out_Prncp_Inv                      3\n",
       "Total_Pymnt                        3\n",
       "Total_Pymnt_Inv                    3\n",
       "Total_Rec_Prncp                    3\n",
       "Total_Rec_Int                      3\n",
       "Total_Rec_Late_Fee                 3\n",
       "Recoveries                         3\n",
       "Collection_Recovery_Fee            3\n",
       "Last_Pymnt_D                      85\n",
       "Last_Pymnt_Amnt                    3\n",
       "Next_Pymnt_D                   39412\n",
       "Last_Credit_Pull_D                 7\n",
       "Collections_12_Mths_Ex_Med       148\n",
       "Mths_Since_Last_Major_Derog    42633\n",
       "Policy_Code                        3\n",
       "Application_Type                   3\n",
       "Annual_Inc_Joint               42633\n",
       "Acc_Now_Delinq                    32\n",
       "Chargeoff_Within_12_Mths         148\n",
       "Delinq_Amnt                       32\n",
       "Pub_Rec_Bankruptcies            1368\n",
       "Tax_Liens                        108\n",
       "dtype: int64"
      ]
     },
     "execution_count": 15,
     "metadata": {},
     "output_type": "execute_result"
    }
   ],
   "source": [
    "lc.isnull().sum()"
   ]
  },
  {
   "cell_type": "markdown",
   "metadata": {},
   "source": [
    "## Drop/Keep Columns"
   ]
  },
  {
   "cell_type": "markdown",
   "metadata": {},
   "source": [
    "Keep some of the columns in the 'lc' DataFrame."
   ]
  },
  {
   "cell_type": "code",
   "execution_count": 16,
   "metadata": {
    "collapsed": false
   },
   "outputs": [],
   "source": [
    "lc = lc[['ID', 'Member_ID', 'Loan_Amnt', 'Term', 'Int_Rate', 'Installment', 'Grade', 'Sub_Grade', 'Emp_Length',\n",
    "                     'Home_Ownership', 'Annual_Inc', 'Verification_Status', 'Loan_Status', 'Purpose', 'Zip_Code',\n",
    "                     'Addr_State', 'DTI', 'Delinq_2yrs', 'Earliest_Cr_Line', 'Inq_Last_6mths', 'Open_Acc', 'Revol_Bal',                          \n",
    "                     'Revol_Util']]"
   ]
  },
  {
   "cell_type": "markdown",
   "metadata": {},
   "source": [
    " "
   ]
  },
  {
   "cell_type": "markdown",
   "metadata": {},
   "source": [
    "## Rename Columns"
   ]
  },
  {
   "cell_type": "code",
   "execution_count": 17,
   "metadata": {
    "collapsed": true
   },
   "outputs": [],
   "source": [
    "lc = lc.rename(columns = {\n",
    "           'Member_ID'              :'mem_id',\n",
    "           'Loan_Amtn'              :'ln_amt',\n",
    "           'Int_Rate'               :'rate',\n",
    "           'Home_Ownership'         :'own_rnt',\n",
    "           'Verification_Status'    :'vrfy_stat',\n",
    "           'Loan_Status'            :'ln_stat',\n",
    "           'Addr_State'             :'state',\n",
    "           'Earliest_Cr_Line'       :'earliest_ln'\n",
    "    })"
   ]
  },
  {
   "cell_type": "markdown",
   "metadata": {},
   "source": [
    " "
   ]
  },
  {
   "cell_type": "markdown",
   "metadata": {},
   "source": [
    "Lower-case all the 'lc' DataFrame column names."
   ]
  },
  {
   "cell_type": "code",
   "execution_count": 18,
   "metadata": {
    "collapsed": false
   },
   "outputs": [],
   "source": [
    "lc.columns = map(str.lower, lc.columns)"
   ]
  },
  {
   "cell_type": "markdown",
   "metadata": {},
   "source": [
    " "
   ]
  },
  {
   "cell_type": "markdown",
   "metadata": {},
   "source": [
    "An investigation of the LC_Loan_Stats.csv file reveals it has 2 parts.  The first part, rows 0 to 39786 contain data for those loans meeting their credit policies.  Rows 39790 to the end contain data for those loans that are outside their normal lending policies.  \n",
    "\n",
    "Create the 'lc1' DataFrame by reading a sub-set of columns and rows. "
   ]
  },
  {
   "cell_type": "code",
   "execution_count": 19,
   "metadata": {
    "collapsed": false
   },
   "outputs": [
    {
     "data": {
      "text/plain": [
       "(39786, 21)"
      ]
     },
     "execution_count": 19,
     "metadata": {},
     "output_type": "execute_result"
    }
   ],
   "source": [
    "lc1 = pd.read_csv(\"C:\\\\Data\\\\LC_Loan_Stats.csv\", \n",
    "          low_memory=False,            \n",
    "          usecols=(0, 1, 2, 3, 4, 5, 6, 7, 8, 9, 10, 12, 13, 15, 16, 17, 18, 19, 22, 24, 25),\n",
    "          names=('id','mem_id', 'ln_amt', 'term','rate', 'm_pay', 'grade', 'sub_grd', 'emp_len',\n",
    "                 'own_rnt', 'income', 'ln_stat', 'purpose', 'state', 'dti', 'delinq_2yrs', 'ln_fst',\n",
    "                'inq_6mnth', 'open_acc', 'revol_bal', 'revol_util' ),\n",
    "          skiprows=1,\n",
    "          nrows=39786,\n",
    "          header=None)\n",
    "lc1.shape"
   ]
  },
  {
   "cell_type": "markdown",
   "metadata": {},
   "source": [
    " "
   ]
  },
  {
   "cell_type": "markdown",
   "metadata": {},
   "source": [
    "The analog SAS program for reading sub-sets of rows and columns from the 'LC_Loan_Stats.csv' file."
   ]
  },
  {
   "cell_type": "markdown",
   "metadata": {},
   "source": [
    "````\n",
    "    /******************************************************/\n",
    "    /* c12_read_1st_half_loan_cvs.sas                     */\n",
    "    /******************************************************/\n",
    "    4         options obs=39787;\n",
    "    5         proc import datafile=\"c:\\data\\LC_Loan_Stats.csv\"\n",
    "    6              dbms=csv\n",
    "    7              out=loans\n",
    "    8              replace;\n",
    "    9\n",
    "    10          data lc1(rename=(Member_ID     = mem_id\n",
    "    12                        Loan_Amnt        = ln_amt\n",
    "    13                        Int_Rate         = rate\n",
    "    14                        Installment      = m_pay\n",
    "    15                        Sub_Grade        = sub_grd\n",
    "    16                        Emp_Length       = emp_len\n",
    "    17                        Home_Ownership   = own_rnt\n",
    "    18                        Annual_Inc       = income\n",
    "    19                        Loan_Status      = ln_stat\n",
    "    20                        Addr_State       = state\n",
    "    21                        Earliest_Cr_Line = ln_fst\n",
    "    22                        Inq_Last_6mths   = inq_6mnth));\n",
    "    23       \n",
    "    24         set loans(keep =  ID\n",
    "    25                           Member_ID\n",
    "    26                           Loan_Amnt\n",
    "    27                           Term\n",
    "    28                           Int_Rate\n",
    "    29                           Installment\n",
    "    30                           Grade\n",
    "    31                           Sub_Grade\n",
    "    32                           Emp_Length\n",
    "    33                           Home_Ownership\n",
    "    34                           Annual_Inc\n",
    "    35                           Loan_Status\n",
    "    36                           Purpose\n",
    "    37                           Addr_State\n",
    "    38                           DTI\n",
    "    39                           Delinq_2yrs\n",
    "    40                           Earliest_Cr_Line\n",
    "    41                           Inq_Last_6mths\n",
    "    42                           Open_Acc\n",
    "    43                           Revol_Bal\n",
    "    44                           Revol_Util);\n",
    "    45\n",
    "    46        ln_plcy = 'True';\n",
    "\n",
    "    NOTE: 39786 observations were read from \"WORK.loans\"\n",
    "    NOTE: Data set \"WORK.lc1\" has 39786 observation(s) and 22 variable(s)\n",
    "````"
   ]
  },
  {
   "cell_type": "markdown",
   "metadata": {},
   "source": [
    "## Find Duplicate Values"
   ]
  },
  {
   "cell_type": "markdown",
   "metadata": {},
   "source": [
    "In the 'lc1' DataFrame we expect to find no duplicate id values.  Setting the .duplicated attribute to False returns all of the duplicate values, in our case for the lc1['id'] column.  The .duplicated() attribute for DataFrames is documented <a href=\"http://pandas.pydata.org/pandas-docs/stable/generated/pandas.DataFrame.duplicated.html\"> here</a>.\n",
    "\n",
    "False marks all duplicate values as True.  Create the new 'lc1_dups' DataFrame containing the duplicates for the lc1['id'] column.  If its length is zero then there are no duplicates.  Locating the duplicate rows is not the same as removing then which is illustrated below."
   ]
  },
  {
   "cell_type": "markdown",
   "metadata": {},
   "source": [
    "Begin by setting the index to the lc1['id'] column.  Next, \n",
    "create a <a href=\"http://nbviewer.jupyter.org/github/RandyBetancourt/PythonForSASUsers/blob/master/Chapter%2005%20--%20Understanding%20Indexes.ipynb#Mixing-.loc-Indexer-with-Boolean-Operators\"> Boolean mask</a> locating the duplicate values for the lc1['id'] column.  The keep='first' argument behaves similiar to SAS FIRST.variable in BY-Group processing.  We want to ignore the first occurance of the **duplicate** 'index' column value and extract the remaining ones."
   ]
  },
  {
   "cell_type": "code",
   "execution_count": 20,
   "metadata": {
    "collapsed": false
   },
   "outputs": [],
   "source": [
    "lc1.set_index('id', inplace=True, drop=False)\n",
    "dup_mask = lc1.duplicated('id', keep='first')"
   ]
  },
  {
   "cell_type": "markdown",
   "metadata": {},
   "source": [
    "## Extract Duplicate Values"
   ]
  },
  {
   "cell_type": "markdown",
   "metadata": {
    "collapsed": false
   },
   "source": [
    "Apply the <a href=\"http://nbviewer.jupyter.org/github/RandyBetancourt/PythonForSASUsers/blob/master/Chapter%2005%20--%20Understanding%20Indexes.ipynb#Mixing-.loc-Indexer-with-Boolean-Operators\"> Boolean mask using the .loc attribute</a> to create the new 'lc1_dups' DataFrame.  The .shape attribute shows there are 35 rows with duplicate 'id' values."
   ]
  },
  {
   "cell_type": "code",
   "execution_count": 21,
   "metadata": {
    "collapsed": false
   },
   "outputs": [
    {
     "data": {
      "text/plain": [
       "(35, 21)"
      ]
     },
     "execution_count": 21,
     "metadata": {},
     "output_type": "execute_result"
    }
   ],
   "source": [
    "lc1_dups = lc1.loc[dup_mask]\n",
    "lc1_dups.shape"
   ]
  },
  {
   "cell_type": "markdown",
   "metadata": {},
   "source": [
    " "
   ]
  },
  {
   "cell_type": "markdown",
   "metadata": {},
   "source": [
    "The SAS SORT option <a href=\"https://support.sas.com/documentation/cdl/en/proc/61895/HTML/default/viewer.htm#a000146878.htm\"> NODUPKEY</a> checks for and eliminates observations with duplicate BY values.  The DUPOUT= option names the target SAS data set to write the duplicates."
   ]
  },
  {
   "cell_type": "markdown",
   "metadata": {},
   "source": [
    "````\n",
    "    /******************************************************/\n",
    "    /* c12_sort_nodupkey.sas                              */\n",
    "    /******************************************************/\n",
    "    50       proc sort data = lc1 dupout=lc1_dups nodupkey;\n",
    "    51          by id;\n",
    "    NOTE: 39786 observations were read from \"WORK.lc1\"\n",
    "    NOTE: 35 observations were found and deleted due to having duplicate sort keys\n",
    "    NOTE: Data set \"WORK.lc1\" has 39751 observation(s) and 21 variable(s)\n",
    "    NOTE: Data set \"WORK.lc1_dups\" has 35 observation(s) and 21 variable(s)\n",
    "````"
   ]
  },
  {
   "cell_type": "markdown",
   "metadata": {},
   "source": [
    "## Drop Duplicate Rows"
   ]
  },
  {
   "cell_type": "code",
   "execution_count": 22,
   "metadata": {
    "collapsed": false
   },
   "outputs": [
    {
     "data": {
      "text/plain": [
       "(39786, 21)"
      ]
     },
     "execution_count": 22,
     "metadata": {},
     "output_type": "execute_result"
    }
   ],
   "source": [
    "lc1.shape"
   ]
  },
  {
   "cell_type": "markdown",
   "metadata": {},
   "source": [
    " "
   ]
  },
  {
   "cell_type": "markdown",
   "metadata": {},
   "source": [
    "Use the <a href=\"http://pandas.pydata.org/pandas-docs/stable/generated/pandas.DataFrame.drop_duplicates.html\">.drop_duplicates attribute</a> to drop duplicate values.  "
   ]
  },
  {
   "cell_type": "code",
   "execution_count": 23,
   "metadata": {
    "collapsed": false
   },
   "outputs": [],
   "source": [
    "lc1.drop_duplicates(['id'], keep='first', inplace=True)"
   ]
  },
  {
   "cell_type": "markdown",
   "metadata": {},
   "source": [
    " "
   ]
  },
  {
   "cell_type": "code",
   "execution_count": 24,
   "metadata": {
    "collapsed": false
   },
   "outputs": [
    {
     "data": {
      "text/plain": [
       "(39751, 21)"
      ]
     },
     "execution_count": 24,
     "metadata": {},
     "output_type": "execute_result"
    }
   ],
   "source": [
    "lc1.shape "
   ]
  },
  {
   "cell_type": "markdown",
   "metadata": {},
   "source": [
    "  "
   ]
  },
  {
   "cell_type": "markdown",
   "metadata": {},
   "source": [
    "## Add a New DataFrame Column"
   ]
  },
  {
   "cell_type": "markdown",
   "metadata": {},
   "source": [
    "Create the new column lc1['ln_plcy'] as a flag to indicate all rows read from row 2 to 39786 are loans granted within standard lending guidelines."
   ]
  },
  {
   "cell_type": "code",
   "execution_count": 25,
   "metadata": {
    "collapsed": false
   },
   "outputs": [
    {
     "data": {
      "text/plain": [
       "(39751, 22)"
      ]
     },
     "execution_count": 25,
     "metadata": {},
     "output_type": "execute_result"
    }
   ],
   "source": [
    "lc1['ln_plcy'] = lc1['id'].map(lambda x: True)\n",
    "lc1.shape"
   ]
  },
  {
   "cell_type": "markdown",
   "metadata": {},
   "source": [
    " "
   ]
  },
  {
   "cell_type": "markdown",
   "metadata": {},
   "source": [
    "## Cast Strings to Floats"
   ]
  },
  {
   "cell_type": "markdown",
   "metadata": {},
   "source": [
    " "
   ]
  },
  {
   "cell_type": "code",
   "execution_count": 26,
   "metadata": {
    "collapsed": false
   },
   "outputs": [
    {
     "data": {
      "text/html": [
       "<div>\n",
       "<table border=\"1\" class=\"dataframe\">\n",
       "  <thead>\n",
       "    <tr style=\"text-align: right;\">\n",
       "      <th></th>\n",
       "      <th>term</th>\n",
       "      <th>rate</th>\n",
       "      <th>grade</th>\n",
       "      <th>sub_grd</th>\n",
       "      <th>emp_len</th>\n",
       "      <th>own_rnt</th>\n",
       "      <th>ln_stat</th>\n",
       "      <th>purpose</th>\n",
       "      <th>state</th>\n",
       "      <th>ln_fst</th>\n",
       "      <th>revol_util</th>\n",
       "    </tr>\n",
       "  </thead>\n",
       "  <tbody>\n",
       "    <tr>\n",
       "      <th>count</th>\n",
       "      <td>39751</td>\n",
       "      <td>39751</td>\n",
       "      <td>39751</td>\n",
       "      <td>39751</td>\n",
       "      <td>39751</td>\n",
       "      <td>39751</td>\n",
       "      <td>39751</td>\n",
       "      <td>39751</td>\n",
       "      <td>39751</td>\n",
       "      <td>39751</td>\n",
       "      <td>39701</td>\n",
       "    </tr>\n",
       "    <tr>\n",
       "      <th>unique</th>\n",
       "      <td>2</td>\n",
       "      <td>371</td>\n",
       "      <td>7</td>\n",
       "      <td>35</td>\n",
       "      <td>12</td>\n",
       "      <td>5</td>\n",
       "      <td>7</td>\n",
       "      <td>14</td>\n",
       "      <td>50</td>\n",
       "      <td>529</td>\n",
       "      <td>1092</td>\n",
       "    </tr>\n",
       "    <tr>\n",
       "      <th>top</th>\n",
       "      <td>36 months</td>\n",
       "      <td>10.99%</td>\n",
       "      <td>B</td>\n",
       "      <td>B3</td>\n",
       "      <td>10+ years</td>\n",
       "      <td>RENT</td>\n",
       "      <td>Fully Paid</td>\n",
       "      <td>debt_consolidation</td>\n",
       "      <td>CA</td>\n",
       "      <td>Nov-98</td>\n",
       "      <td>0%</td>\n",
       "    </tr>\n",
       "    <tr>\n",
       "      <th>freq</th>\n",
       "      <td>29070</td>\n",
       "      <td>958</td>\n",
       "      <td>12021</td>\n",
       "      <td>2918</td>\n",
       "      <td>8891</td>\n",
       "      <td>18893</td>\n",
       "      <td>33639</td>\n",
       "      <td>18661</td>\n",
       "      <td>7095</td>\n",
       "      <td>371</td>\n",
       "      <td>980</td>\n",
       "    </tr>\n",
       "  </tbody>\n",
       "</table>\n",
       "</div>"
      ],
      "text/plain": [
       "              term    rate  grade sub_grd    emp_len own_rnt     ln_stat  \\\n",
       "count        39751   39751  39751   39751      39751   39751       39751   \n",
       "unique           2     371      7      35         12       5           7   \n",
       "top      36 months  10.99%      B      B3  10+ years    RENT  Fully Paid   \n",
       "freq         29070     958  12021    2918       8891   18893       33639   \n",
       "\n",
       "                   purpose  state  ln_fst revol_util  \n",
       "count                39751  39751   39751      39701  \n",
       "unique                  14     50     529       1092  \n",
       "top     debt_consolidation     CA  Nov-98         0%  \n",
       "freq                 18661   7095     371        980  "
      ]
     },
     "execution_count": 26,
     "metadata": {},
     "output_type": "execute_result"
    }
   ],
   "source": [
    "lc1.describe(include=['O'])"
   ]
  },
  {
   "cell_type": "markdown",
   "metadata": {},
   "source": [
    " "
   ]
  },
  {
   "cell_type": "markdown",
   "metadata": {},
   "source": [
    "Both the lc1['rate'] and lc1['revol_util'] column values are formatted with Excel's percent format (%), making them string values.  The <a href=\"http://pandas.pydata.org/pandas-docs/stable/generated/pandas.DataFrame.replace.html\"> .replace() method</a> replaces the '%' with a white-space.  The <a href=\"http://pandas.pydata.org/pandas-docs/stable/generated/pandas.DataFrame.astype.html\"> .astype attribute</a> converts the string into a float.  The resulting float is divided by 100."
   ]
  },
  {
   "cell_type": "code",
   "execution_count": 27,
   "metadata": {
    "collapsed": false
   },
   "outputs": [],
   "source": [
    "lc1['revol_util'] = lc1.revol_util.replace('%','',regex=True).astype('float')/100\n",
    "lc1['rate'] = lc1.rate.replace('%','',regex=True).astype('float')/100"
   ]
  },
  {
   "cell_type": "markdown",
   "metadata": {},
   "source": [
    " "
   ]
  },
  {
   "cell_type": "markdown",
   "metadata": {},
   "source": [
    "With the lc1['revol_util'] column values cast to floats use the <a href=\"http://nbviewer.jupyter.org/github/RandyBetancourt/PythonForSASUsers/blob/master/Chapter%2004%20--%20Pandas%2C%20Part%201.ipynb#Missing-Value-Replacement\"> .fillna() attribute</a> to replace missing values with the calculated mean value from the lc1['revol_util'] column."
   ]
  },
  {
   "cell_type": "code",
   "execution_count": 28,
   "metadata": {
    "collapsed": false
   },
   "outputs": [
    {
     "data": {
      "text/plain": [
       "0"
      ]
     },
     "execution_count": 28,
     "metadata": {},
     "output_type": "execute_result"
    }
   ],
   "source": [
    "lc1[\"revol_util\"] = lc1[[\"revol_util\"]].fillna(lc1.revol_util.mean())\n",
    "lc1.revol_util.isnull().sum()"
   ]
  },
  {
   "cell_type": "markdown",
   "metadata": {},
   "source": [
    " "
   ]
  },
  {
   "cell_type": "markdown",
   "metadata": {},
   "source": [
    "The analog SAS program uses PROC SQL to insert the mean value for 'revol_util' into the SAS Macro variable 'mean_revol'.  A WHERE statement is used to locate the NULL values for the variable 'revol_util' and if found then the UPDATE statement inserts the value from the SAS MACRO variable &mean_revol into the 'revol_util' column.\n",
    "\n",
    "The CREATE TABLE statement starting at line 13 tests if there are missing values found for the column 'revol_util'."
   ]
  },
  {
   "cell_type": "markdown",
   "metadata": {},
   "source": [
    "````\n",
    "    /******************************************************/\n",
    "    /* c12_update_missing_revol_until.sas                 */\n",
    "    /******************************************************/\n",
    "    6       proc sql;\n",
    "    7          select mean(revol_util) format 6.2 into :mean_revol\n",
    "    8          from lc1;\n",
    "    9       update lc1\n",
    "    10            set revol_util = &mean_revol\n",
    "    11            where revol_util is null;\n",
    "    NOTE: 50 record(s) updated in table WORK.lc1\n",
    "    12       \n",
    "    13       create table miss as\n",
    "    14          select revol_util\n",
    "    15          from lc1\n",
    "    16          where revol_util is null;\n",
    "    NOTE: Data set \"WORK.miss\" has 0 observation(s) and 1 variable(s)\n",
    "    17       quit;\n",
    "\n",
    "````"
   ]
  },
  {
   "cell_type": "markdown",
   "metadata": {},
   "source": [
    "  "
   ]
  },
  {
   "cell_type": "markdown",
   "metadata": {},
   "source": [
    " ####    2. Read the second portion of the LC_Loan_Stats.csv file beginning with row 39790."
   ]
  },
  {
   "cell_type": "markdown",
   "metadata": {},
   "source": [
    "Create the 'lc0' DataFrame by reading the loan status file, supplying a <a href=\"http://nbviewer.jupyter.org/github/RandyBetancourt/PythonForSASUsers/blob/master/Chapter%2002%20--%20Data%20Structures.ipynb#tuple\"> tuple</a> of integers for the usecols= argument and a tuple of names for the column labels."
   ]
  },
  {
   "cell_type": "code",
   "execution_count": 29,
   "metadata": {
    "collapsed": false
   },
   "outputs": [
    {
     "data": {
      "text/plain": [
       "(2844, 21)"
      ]
     },
     "execution_count": 29,
     "metadata": {},
     "output_type": "execute_result"
    }
   ],
   "source": [
    "lc0 = pd.read_csv(\"C:\\\\Data\\\\LC_Loan_Stats.csv\", \n",
    "          low_memory=False,            \n",
    "          usecols=(0, 1, 2, 3, 4, 5, 6, 7, 8, 9, 10, 12, 13, 15, 16, 17, 18, 19, 22, 24, 25),\n",
    "          names=('id','mem_id', 'ln_amt', 'term','rate', 'm_pay', 'grade', 'sub_grd', 'emp_len',\n",
    "                 'own_rnt', 'income', 'ln_stat', 'purpose', 'state', 'dti', 'delinq_2yrs', 'ln_fst',\n",
    "                'inq_6mnth', 'open_acc', 'revol_bal', 'revol_util' ),\n",
    "          skiprows=39790,\n",
    "          header=None)\n",
    "lc0.shape"
   ]
  },
  {
   "cell_type": "markdown",
   "metadata": {},
   "source": [
    " "
   ]
  },
  {
   "cell_type": "markdown",
   "metadata": {},
   "source": [
    "Create the column lc0['ln_plcy'] with a value of False to indicate rows 39790 to the end of the file are loans made outside the standard credit lending policy. The assignment below uses the .map() attribute and calls the anonymous lambda function to create the new column lc0[''ln_plcy']."
   ]
  },
  {
   "cell_type": "code",
   "execution_count": 30,
   "metadata": {
    "collapsed": true
   },
   "outputs": [],
   "source": [
    "lc0['ln_plcy'] = lc0['id'].map(lambda x: False)"
   ]
  },
  {
   "cell_type": "markdown",
   "metadata": {},
   "source": [
    " "
   ]
  },
  {
   "cell_type": "markdown",
   "metadata": {},
   "source": [
    "Similiar to above, the lc0['rate'] and lc0['revol_util'] column values are formatted with Excel's percent format (%), making them string values. The .replace() method replaces the '%' with a white-space. The .astype() attribute converts the string into a float. The resulting float is divided by 100."
   ]
  },
  {
   "cell_type": "code",
   "execution_count": 31,
   "metadata": {
    "collapsed": true
   },
   "outputs": [],
   "source": [
    "lc0['revol_util'] = lc0.revol_util.replace('%','',regex=True).astype('float')/100\n",
    "lc0['rate'] = lc0.rate.replace('%','',regex=True).astype('float')/100"
   ]
  },
  {
   "cell_type": "markdown",
   "metadata": {},
   "source": [
    " "
   ]
  },
  {
   "cell_type": "markdown",
   "metadata": {},
   "source": [
    "Calculate the mean value for 'revol_util' and use the .fillna method to replace the missing values."
   ]
  },
  {
   "cell_type": "code",
   "execution_count": 32,
   "metadata": {
    "collapsed": false
   },
   "outputs": [],
   "source": [
    "lc0['revol_util'] = lc0[[\"revol_util\"]].fillna(lc0.revol_util.mean())"
   ]
  },
  {
   "cell_type": "markdown",
   "metadata": {},
   "source": [
    " "
   ]
  },
  {
   "cell_type": "markdown",
   "metadata": {},
   "source": [
    "Return the number of missing values."
   ]
  },
  {
   "cell_type": "markdown",
   "metadata": {},
   "source": [
    "lc0.revol_util.isnull().sum() "
   ]
  },
  {
   "cell_type": "markdown",
   "metadata": {},
   "source": [
    "## Concatenating DataFrames (Join)"
   ]
  },
  {
   "cell_type": "markdown",
   "metadata": {
    "collapsed": false
   },
   "source": [
    "<a href=\"http://nbviewer.jupyter.org/github/RandyBetancourt/PythonForSASUsers/blob/master/Chapter%2007%20--%20Pandas%2C%20Part%202.ipynb\"> Chapter 7 -- Pandas, Part 2</a> covers joining operations by illustrating the pd.merge() method which follows SQL's relational algebraic statements.  An alternative is the concat function described <a href=\"http://pandas.pydata.org/pandas-docs/stable/merging.html#concatenating-objects\"> here</a>."
   ]
  },
  {
   "cell_type": "markdown",
   "metadata": {},
   "source": [
    "  "
   ]
  },
  {
   "cell_type": "code",
   "execution_count": 33,
   "metadata": {
    "collapsed": false
   },
   "outputs": [
    {
     "name": "stdout",
     "output_type": "stream",
     "text": [
      "(2844, 22)\n",
      "(39751, 22)\n"
     ]
    }
   ],
   "source": [
    "print(lc0.shape)\n",
    "print(lc1.shape)"
   ]
  },
  {
   "cell_type": "markdown",
   "metadata": {},
   "source": [
    " "
   ]
  },
  {
   "cell_type": "markdown",
   "metadata": {},
   "source": [
    "Use the pd.concat() method to join the 'lc1' and 'lc0' DataFrames.  "
   ]
  },
  {
   "cell_type": "code",
   "execution_count": 34,
   "metadata": {
    "collapsed": false
   },
   "outputs": [
    {
     "data": {
      "text/plain": [
       "(42595, 22)"
      ]
     },
     "execution_count": 34,
     "metadata": {},
     "output_type": "execute_result"
    }
   ],
   "source": [
    "frames = [lc1, lc0]\n",
    "df = pd.concat(frames)\n",
    "df.shape"
   ]
  },
  {
   "cell_type": "markdown",
   "metadata": {},
   "source": [
    " "
   ]
  },
  {
   "cell_type": "markdown",
   "metadata": {},
   "source": [
    "The analog SAS program uses the SET statement to join the data sets 'lc0' and 'lc1' together.  The variable names are identical in both data sets. "
   ]
  },
  {
   "cell_type": "markdown",
   "metadata": {},
   "source": [
    "````\n",
    "    /******************************************************/\n",
    "    /* c12_concatenate_lc0_lc1.sas                        */\n",
    "    /******************************************************/\n",
    "    7       data df;\n",
    "    8          set lc0\n",
    "    9              lc1;\n",
    "    10       run;\n",
    "\n",
    "    NOTE: 2844 observations were read from \"WORK.lc0\"\n",
    "    NOTE: 39751 observations were read from \"WORK.lc1\"\n",
    "    NOTE: Data set \"WORK.df\" has 42595 observation(s) and 22 variable(s)\n",
    "````"
   ]
  },
  {
   "cell_type": "markdown",
   "metadata": {},
   "source": [
    "  "
   ]
  },
  {
   "cell_type": "markdown",
   "metadata": {},
   "source": [
    "## Crosstabs"
   ]
  },
  {
   "cell_type": "code",
   "execution_count": 35,
   "metadata": {
    "collapsed": false
   },
   "outputs": [
    {
     "data": {
      "text/html": [
       "<div>\n",
       "<table border=\"1\" class=\"dataframe\">\n",
       "  <thead>\n",
       "    <tr style=\"text-align: right;\">\n",
       "      <th>own_rnt</th>\n",
       "      <th>MORTGAGE</th>\n",
       "      <th>NONE</th>\n",
       "      <th>OTHER</th>\n",
       "      <th>OWN</th>\n",
       "      <th>RENT</th>\n",
       "      <th>All</th>\n",
       "    </tr>\n",
       "    <tr>\n",
       "      <th>grade</th>\n",
       "      <th></th>\n",
       "      <th></th>\n",
       "      <th></th>\n",
       "      <th></th>\n",
       "      <th></th>\n",
       "      <th></th>\n",
       "    </tr>\n",
       "  </thead>\n",
       "  <tbody>\n",
       "    <tr>\n",
       "      <th>A</th>\n",
       "      <td>5227</td>\n",
       "      <td>5</td>\n",
       "      <td>25</td>\n",
       "      <td>872</td>\n",
       "      <td>4073</td>\n",
       "      <td>10202</td>\n",
       "    </tr>\n",
       "    <tr>\n",
       "      <th>B</th>\n",
       "      <td>5427</td>\n",
       "      <td>2</td>\n",
       "      <td>36</td>\n",
       "      <td>957</td>\n",
       "      <td>5986</td>\n",
       "      <td>12408</td>\n",
       "    </tr>\n",
       "    <tr>\n",
       "      <th>C</th>\n",
       "      <td>3587</td>\n",
       "      <td>0</td>\n",
       "      <td>24</td>\n",
       "      <td>642</td>\n",
       "      <td>4494</td>\n",
       "      <td>8747</td>\n",
       "    </tr>\n",
       "    <tr>\n",
       "      <th>D</th>\n",
       "      <td>2368</td>\n",
       "      <td>0</td>\n",
       "      <td>26</td>\n",
       "      <td>433</td>\n",
       "      <td>3198</td>\n",
       "      <td>6025</td>\n",
       "    </tr>\n",
       "    <tr>\n",
       "      <th>E</th>\n",
       "      <td>1499</td>\n",
       "      <td>0</td>\n",
       "      <td>14</td>\n",
       "      <td>242</td>\n",
       "      <td>1646</td>\n",
       "      <td>3401</td>\n",
       "    </tr>\n",
       "    <tr>\n",
       "      <th>F</th>\n",
       "      <td>620</td>\n",
       "      <td>1</td>\n",
       "      <td>4</td>\n",
       "      <td>75</td>\n",
       "      <td>600</td>\n",
       "      <td>1300</td>\n",
       "    </tr>\n",
       "    <tr>\n",
       "      <th>G</th>\n",
       "      <td>253</td>\n",
       "      <td>0</td>\n",
       "      <td>7</td>\n",
       "      <td>36</td>\n",
       "      <td>216</td>\n",
       "      <td>512</td>\n",
       "    </tr>\n",
       "    <tr>\n",
       "      <th>All</th>\n",
       "      <td>18981</td>\n",
       "      <td>8</td>\n",
       "      <td>136</td>\n",
       "      <td>3257</td>\n",
       "      <td>20213</td>\n",
       "      <td>42595</td>\n",
       "    </tr>\n",
       "  </tbody>\n",
       "</table>\n",
       "</div>"
      ],
      "text/plain": [
       "own_rnt  MORTGAGE  NONE  OTHER   OWN   RENT    All\n",
       "grade                                             \n",
       "A            5227     5     25   872   4073  10202\n",
       "B            5427     2     36   957   5986  12408\n",
       "C            3587     0     24   642   4494   8747\n",
       "D            2368     0     26   433   3198   6025\n",
       "E            1499     0     14   242   1646   3401\n",
       "F             620     1      4    75    600   1300\n",
       "G             253     0      7    36    216    512\n",
       "All         18981     8    136  3257  20213  42595"
      ]
     },
     "execution_count": 35,
     "metadata": {},
     "output_type": "execute_result"
    }
   ],
   "source": [
    "pd.crosstab(df.grade, df.own_rnt , margins=True)"
   ]
  },
  {
   "cell_type": "markdown",
   "metadata": {},
   "source": [
    " "
   ]
  },
  {
   "cell_type": "code",
   "execution_count": 36,
   "metadata": {
    "collapsed": false
   },
   "outputs": [
    {
     "data": {
      "text/html": [
       "<div>\n",
       "<table border=\"1\" class=\"dataframe\">\n",
       "  <thead>\n",
       "    <tr style=\"text-align: right;\">\n",
       "      <th></th>\n",
       "      <th>purpose</th>\n",
       "      <th>car</th>\n",
       "      <th>credit_card</th>\n",
       "      <th>debt_consolidation</th>\n",
       "      <th>educational</th>\n",
       "      <th>home_improvement</th>\n",
       "      <th>house</th>\n",
       "      <th>major_purchase</th>\n",
       "      <th>medical</th>\n",
       "      <th>moving</th>\n",
       "      <th>other</th>\n",
       "      <th>renewable_energy</th>\n",
       "      <th>small_business</th>\n",
       "      <th>vacation</th>\n",
       "      <th>wedding</th>\n",
       "      <th>All</th>\n",
       "    </tr>\n",
       "    <tr>\n",
       "      <th>grade</th>\n",
       "      <th>own_rnt</th>\n",
       "      <th></th>\n",
       "      <th></th>\n",
       "      <th></th>\n",
       "      <th></th>\n",
       "      <th></th>\n",
       "      <th></th>\n",
       "      <th></th>\n",
       "      <th></th>\n",
       "      <th></th>\n",
       "      <th></th>\n",
       "      <th></th>\n",
       "      <th></th>\n",
       "      <th></th>\n",
       "      <th></th>\n",
       "      <th></th>\n",
       "    </tr>\n",
       "  </thead>\n",
       "  <tbody>\n",
       "    <tr>\n",
       "      <th rowspan=\"5\" valign=\"top\">A</th>\n",
       "      <th>MORTGAGE</th>\n",
       "      <td>359</td>\n",
       "      <td>685</td>\n",
       "      <td>1813</td>\n",
       "      <td>36</td>\n",
       "      <td>806</td>\n",
       "      <td>42</td>\n",
       "      <td>458</td>\n",
       "      <td>100</td>\n",
       "      <td>49</td>\n",
       "      <td>540</td>\n",
       "      <td>20</td>\n",
       "      <td>187</td>\n",
       "      <td>60</td>\n",
       "      <td>72</td>\n",
       "      <td>5227</td>\n",
       "    </tr>\n",
       "    <tr>\n",
       "      <th>NONE</th>\n",
       "      <td>0</td>\n",
       "      <td>0</td>\n",
       "      <td>1</td>\n",
       "      <td>0</td>\n",
       "      <td>0</td>\n",
       "      <td>0</td>\n",
       "      <td>0</td>\n",
       "      <td>0</td>\n",
       "      <td>0</td>\n",
       "      <td>4</td>\n",
       "      <td>0</td>\n",
       "      <td>0</td>\n",
       "      <td>0</td>\n",
       "      <td>0</td>\n",
       "      <td>5</td>\n",
       "    </tr>\n",
       "    <tr>\n",
       "      <th>OTHER</th>\n",
       "      <td>1</td>\n",
       "      <td>4</td>\n",
       "      <td>7</td>\n",
       "      <td>2</td>\n",
       "      <td>2</td>\n",
       "      <td>1</td>\n",
       "      <td>3</td>\n",
       "      <td>1</td>\n",
       "      <td>0</td>\n",
       "      <td>2</td>\n",
       "      <td>0</td>\n",
       "      <td>2</td>\n",
       "      <td>0</td>\n",
       "      <td>0</td>\n",
       "      <td>25</td>\n",
       "    </tr>\n",
       "    <tr>\n",
       "      <th>OWN</th>\n",
       "      <td>62</td>\n",
       "      <td>90</td>\n",
       "      <td>315</td>\n",
       "      <td>3</td>\n",
       "      <td>99</td>\n",
       "      <td>6</td>\n",
       "      <td>90</td>\n",
       "      <td>23</td>\n",
       "      <td>6</td>\n",
       "      <td>116</td>\n",
       "      <td>2</td>\n",
       "      <td>26</td>\n",
       "      <td>14</td>\n",
       "      <td>20</td>\n",
       "      <td>872</td>\n",
       "    </tr>\n",
       "    <tr>\n",
       "      <th>RENT</th>\n",
       "      <td>195</td>\n",
       "      <td>638</td>\n",
       "      <td>1761</td>\n",
       "      <td>47</td>\n",
       "      <td>66</td>\n",
       "      <td>53</td>\n",
       "      <td>287</td>\n",
       "      <td>89</td>\n",
       "      <td>118</td>\n",
       "      <td>460</td>\n",
       "      <td>8</td>\n",
       "      <td>136</td>\n",
       "      <td>61</td>\n",
       "      <td>154</td>\n",
       "      <td>4073</td>\n",
       "    </tr>\n",
       "    <tr>\n",
       "      <th rowspan=\"5\" valign=\"top\">B</th>\n",
       "      <th>MORTGAGE</th>\n",
       "      <td>252</td>\n",
       "      <td>732</td>\n",
       "      <td>2400</td>\n",
       "      <td>28</td>\n",
       "      <td>742</td>\n",
       "      <td>40</td>\n",
       "      <td>237</td>\n",
       "      <td>90</td>\n",
       "      <td>33</td>\n",
       "      <td>450</td>\n",
       "      <td>20</td>\n",
       "      <td>270</td>\n",
       "      <td>43</td>\n",
       "      <td>90</td>\n",
       "      <td>5427</td>\n",
       "    </tr>\n",
       "    <tr>\n",
       "      <th>NONE</th>\n",
       "      <td>0</td>\n",
       "      <td>0</td>\n",
       "      <td>0</td>\n",
       "      <td>0</td>\n",
       "      <td>0</td>\n",
       "      <td>0</td>\n",
       "      <td>0</td>\n",
       "      <td>0</td>\n",
       "      <td>0</td>\n",
       "      <td>2</td>\n",
       "      <td>0</td>\n",
       "      <td>0</td>\n",
       "      <td>0</td>\n",
       "      <td>0</td>\n",
       "      <td>2</td>\n",
       "    </tr>\n",
       "    <tr>\n",
       "      <th>OTHER</th>\n",
       "      <td>1</td>\n",
       "      <td>3</td>\n",
       "      <td>17</td>\n",
       "      <td>1</td>\n",
       "      <td>3</td>\n",
       "      <td>1</td>\n",
       "      <td>4</td>\n",
       "      <td>0</td>\n",
       "      <td>0</td>\n",
       "      <td>2</td>\n",
       "      <td>0</td>\n",
       "      <td>3</td>\n",
       "      <td>0</td>\n",
       "      <td>1</td>\n",
       "      <td>36</td>\n",
       "    </tr>\n",
       "    <tr>\n",
       "      <th>OWN</th>\n",
       "      <td>44</td>\n",
       "      <td>96</td>\n",
       "      <td>409</td>\n",
       "      <td>10</td>\n",
       "      <td>104</td>\n",
       "      <td>8</td>\n",
       "      <td>71</td>\n",
       "      <td>19</td>\n",
       "      <td>11</td>\n",
       "      <td>122</td>\n",
       "      <td>3</td>\n",
       "      <td>33</td>\n",
       "      <td>11</td>\n",
       "      <td>16</td>\n",
       "      <td>957</td>\n",
       "    </tr>\n",
       "    <tr>\n",
       "      <th>RENT</th>\n",
       "      <td>208</td>\n",
       "      <td>871</td>\n",
       "      <td>2948</td>\n",
       "      <td>72</td>\n",
       "      <td>87</td>\n",
       "      <td>67</td>\n",
       "      <td>312</td>\n",
       "      <td>100</td>\n",
       "      <td>147</td>\n",
       "      <td>709</td>\n",
       "      <td>14</td>\n",
       "      <td>193</td>\n",
       "      <td>77</td>\n",
       "      <td>181</td>\n",
       "      <td>5986</td>\n",
       "    </tr>\n",
       "    <tr>\n",
       "      <th rowspan=\"4\" valign=\"top\">C</th>\n",
       "      <th>MORTGAGE</th>\n",
       "      <td>98</td>\n",
       "      <td>487</td>\n",
       "      <td>1671</td>\n",
       "      <td>30</td>\n",
       "      <td>467</td>\n",
       "      <td>31</td>\n",
       "      <td>139</td>\n",
       "      <td>63</td>\n",
       "      <td>18</td>\n",
       "      <td>297</td>\n",
       "      <td>9</td>\n",
       "      <td>194</td>\n",
       "      <td>16</td>\n",
       "      <td>67</td>\n",
       "      <td>3587</td>\n",
       "    </tr>\n",
       "    <tr>\n",
       "      <th>OTHER</th>\n",
       "      <td>1</td>\n",
       "      <td>2</td>\n",
       "      <td>8</td>\n",
       "      <td>0</td>\n",
       "      <td>1</td>\n",
       "      <td>0</td>\n",
       "      <td>1</td>\n",
       "      <td>1</td>\n",
       "      <td>1</td>\n",
       "      <td>7</td>\n",
       "      <td>0</td>\n",
       "      <td>2</td>\n",
       "      <td>0</td>\n",
       "      <td>0</td>\n",
       "      <td>24</td>\n",
       "    </tr>\n",
       "    <tr>\n",
       "      <th>OWN</th>\n",
       "      <td>27</td>\n",
       "      <td>57</td>\n",
       "      <td>278</td>\n",
       "      <td>10</td>\n",
       "      <td>69</td>\n",
       "      <td>10</td>\n",
       "      <td>48</td>\n",
       "      <td>15</td>\n",
       "      <td>7</td>\n",
       "      <td>77</td>\n",
       "      <td>3</td>\n",
       "      <td>28</td>\n",
       "      <td>2</td>\n",
       "      <td>11</td>\n",
       "      <td>642</td>\n",
       "    </tr>\n",
       "    <tr>\n",
       "      <th>RENT</th>\n",
       "      <td>132</td>\n",
       "      <td>605</td>\n",
       "      <td>2238</td>\n",
       "      <td>75</td>\n",
       "      <td>68</td>\n",
       "      <td>44</td>\n",
       "      <td>221</td>\n",
       "      <td>74</td>\n",
       "      <td>102</td>\n",
       "      <td>576</td>\n",
       "      <td>6</td>\n",
       "      <td>162</td>\n",
       "      <td>54</td>\n",
       "      <td>137</td>\n",
       "      <td>4494</td>\n",
       "    </tr>\n",
       "    <tr>\n",
       "      <th rowspan=\"4\" valign=\"top\">D</th>\n",
       "      <th>MORTGAGE</th>\n",
       "      <td>49</td>\n",
       "      <td>277</td>\n",
       "      <td>1172</td>\n",
       "      <td>12</td>\n",
       "      <td>268</td>\n",
       "      <td>21</td>\n",
       "      <td>88</td>\n",
       "      <td>43</td>\n",
       "      <td>8</td>\n",
       "      <td>177</td>\n",
       "      <td>5</td>\n",
       "      <td>180</td>\n",
       "      <td>14</td>\n",
       "      <td>54</td>\n",
       "      <td>2368</td>\n",
       "    </tr>\n",
       "    <tr>\n",
       "      <th>OTHER</th>\n",
       "      <td>0</td>\n",
       "      <td>4</td>\n",
       "      <td>12</td>\n",
       "      <td>0</td>\n",
       "      <td>0</td>\n",
       "      <td>0</td>\n",
       "      <td>0</td>\n",
       "      <td>2</td>\n",
       "      <td>1</td>\n",
       "      <td>3</td>\n",
       "      <td>1</td>\n",
       "      <td>3</td>\n",
       "      <td>0</td>\n",
       "      <td>0</td>\n",
       "      <td>26</td>\n",
       "    </tr>\n",
       "    <tr>\n",
       "      <th>OWN</th>\n",
       "      <td>20</td>\n",
       "      <td>43</td>\n",
       "      <td>205</td>\n",
       "      <td>4</td>\n",
       "      <td>47</td>\n",
       "      <td>3</td>\n",
       "      <td>24</td>\n",
       "      <td>6</td>\n",
       "      <td>1</td>\n",
       "      <td>53</td>\n",
       "      <td>1</td>\n",
       "      <td>14</td>\n",
       "      <td>3</td>\n",
       "      <td>9</td>\n",
       "      <td>433</td>\n",
       "    </tr>\n",
       "    <tr>\n",
       "      <th>RENT</th>\n",
       "      <td>80</td>\n",
       "      <td>361</td>\n",
       "      <td>1743</td>\n",
       "      <td>36</td>\n",
       "      <td>40</td>\n",
       "      <td>35</td>\n",
       "      <td>162</td>\n",
       "      <td>48</td>\n",
       "      <td>65</td>\n",
       "      <td>371</td>\n",
       "      <td>4</td>\n",
       "      <td>145</td>\n",
       "      <td>19</td>\n",
       "      <td>89</td>\n",
       "      <td>3198</td>\n",
       "    </tr>\n",
       "    <tr>\n",
       "      <th rowspan=\"4\" valign=\"top\">E</th>\n",
       "      <th>MORTGAGE</th>\n",
       "      <td>16</td>\n",
       "      <td>170</td>\n",
       "      <td>790</td>\n",
       "      <td>3</td>\n",
       "      <td>172</td>\n",
       "      <td>14</td>\n",
       "      <td>42</td>\n",
       "      <td>26</td>\n",
       "      <td>6</td>\n",
       "      <td>126</td>\n",
       "      <td>2</td>\n",
       "      <td>105</td>\n",
       "      <td>8</td>\n",
       "      <td>19</td>\n",
       "      <td>1499</td>\n",
       "    </tr>\n",
       "    <tr>\n",
       "      <th>OTHER</th>\n",
       "      <td>0</td>\n",
       "      <td>3</td>\n",
       "      <td>5</td>\n",
       "      <td>0</td>\n",
       "      <td>0</td>\n",
       "      <td>0</td>\n",
       "      <td>0</td>\n",
       "      <td>0</td>\n",
       "      <td>1</td>\n",
       "      <td>4</td>\n",
       "      <td>0</td>\n",
       "      <td>1</td>\n",
       "      <td>0</td>\n",
       "      <td>0</td>\n",
       "      <td>14</td>\n",
       "    </tr>\n",
       "    <tr>\n",
       "      <th>OWN</th>\n",
       "      <td>8</td>\n",
       "      <td>23</td>\n",
       "      <td>113</td>\n",
       "      <td>6</td>\n",
       "      <td>25</td>\n",
       "      <td>5</td>\n",
       "      <td>11</td>\n",
       "      <td>8</td>\n",
       "      <td>2</td>\n",
       "      <td>27</td>\n",
       "      <td>1</td>\n",
       "      <td>9</td>\n",
       "      <td>2</td>\n",
       "      <td>2</td>\n",
       "      <td>242</td>\n",
       "    </tr>\n",
       "    <tr>\n",
       "      <th>RENT</th>\n",
       "      <td>42</td>\n",
       "      <td>164</td>\n",
       "      <td>918</td>\n",
       "      <td>28</td>\n",
       "      <td>31</td>\n",
       "      <td>19</td>\n",
       "      <td>71</td>\n",
       "      <td>22</td>\n",
       "      <td>33</td>\n",
       "      <td>147</td>\n",
       "      <td>2</td>\n",
       "      <td>109</td>\n",
       "      <td>12</td>\n",
       "      <td>48</td>\n",
       "      <td>1646</td>\n",
       "    </tr>\n",
       "    <tr>\n",
       "      <th rowspan=\"5\" valign=\"top\">F</th>\n",
       "      <th>MORTGAGE</th>\n",
       "      <td>5</td>\n",
       "      <td>71</td>\n",
       "      <td>345</td>\n",
       "      <td>3</td>\n",
       "      <td>63</td>\n",
       "      <td>5</td>\n",
       "      <td>13</td>\n",
       "      <td>7</td>\n",
       "      <td>2</td>\n",
       "      <td>40</td>\n",
       "      <td>1</td>\n",
       "      <td>56</td>\n",
       "      <td>1</td>\n",
       "      <td>8</td>\n",
       "      <td>620</td>\n",
       "    </tr>\n",
       "    <tr>\n",
       "      <th>NONE</th>\n",
       "      <td>0</td>\n",
       "      <td>0</td>\n",
       "      <td>0</td>\n",
       "      <td>0</td>\n",
       "      <td>0</td>\n",
       "      <td>0</td>\n",
       "      <td>0</td>\n",
       "      <td>0</td>\n",
       "      <td>0</td>\n",
       "      <td>1</td>\n",
       "      <td>0</td>\n",
       "      <td>0</td>\n",
       "      <td>0</td>\n",
       "      <td>0</td>\n",
       "      <td>1</td>\n",
       "    </tr>\n",
       "    <tr>\n",
       "      <th>OTHER</th>\n",
       "      <td>0</td>\n",
       "      <td>0</td>\n",
       "      <td>1</td>\n",
       "      <td>0</td>\n",
       "      <td>1</td>\n",
       "      <td>0</td>\n",
       "      <td>0</td>\n",
       "      <td>1</td>\n",
       "      <td>0</td>\n",
       "      <td>0</td>\n",
       "      <td>0</td>\n",
       "      <td>1</td>\n",
       "      <td>0</td>\n",
       "      <td>0</td>\n",
       "      <td>4</td>\n",
       "    </tr>\n",
       "    <tr>\n",
       "      <th>OWN</th>\n",
       "      <td>2</td>\n",
       "      <td>4</td>\n",
       "      <td>33</td>\n",
       "      <td>0</td>\n",
       "      <td>8</td>\n",
       "      <td>1</td>\n",
       "      <td>5</td>\n",
       "      <td>0</td>\n",
       "      <td>1</td>\n",
       "      <td>10</td>\n",
       "      <td>0</td>\n",
       "      <td>11</td>\n",
       "      <td>0</td>\n",
       "      <td>0</td>\n",
       "      <td>75</td>\n",
       "    </tr>\n",
       "    <tr>\n",
       "      <th>RENT</th>\n",
       "      <td>9</td>\n",
       "      <td>53</td>\n",
       "      <td>344</td>\n",
       "      <td>8</td>\n",
       "      <td>5</td>\n",
       "      <td>13</td>\n",
       "      <td>13</td>\n",
       "      <td>9</td>\n",
       "      <td>11</td>\n",
       "      <td>61</td>\n",
       "      <td>2</td>\n",
       "      <td>55</td>\n",
       "      <td>2</td>\n",
       "      <td>15</td>\n",
       "      <td>600</td>\n",
       "    </tr>\n",
       "    <tr>\n",
       "      <th rowspan=\"4\" valign=\"top\">G</th>\n",
       "      <th>MORTGAGE</th>\n",
       "      <td>1</td>\n",
       "      <td>29</td>\n",
       "      <td>129</td>\n",
       "      <td>1</td>\n",
       "      <td>25</td>\n",
       "      <td>6</td>\n",
       "      <td>1</td>\n",
       "      <td>3</td>\n",
       "      <td>1</td>\n",
       "      <td>16</td>\n",
       "      <td>0</td>\n",
       "      <td>36</td>\n",
       "      <td>0</td>\n",
       "      <td>5</td>\n",
       "      <td>253</td>\n",
       "    </tr>\n",
       "    <tr>\n",
       "      <th>OTHER</th>\n",
       "      <td>0</td>\n",
       "      <td>0</td>\n",
       "      <td>2</td>\n",
       "      <td>2</td>\n",
       "      <td>0</td>\n",
       "      <td>1</td>\n",
       "      <td>0</td>\n",
       "      <td>0</td>\n",
       "      <td>0</td>\n",
       "      <td>1</td>\n",
       "      <td>0</td>\n",
       "      <td>1</td>\n",
       "      <td>0</td>\n",
       "      <td>0</td>\n",
       "      <td>7</td>\n",
       "    </tr>\n",
       "    <tr>\n",
       "      <th>OWN</th>\n",
       "      <td>0</td>\n",
       "      <td>2</td>\n",
       "      <td>16</td>\n",
       "      <td>1</td>\n",
       "      <td>2</td>\n",
       "      <td>1</td>\n",
       "      <td>4</td>\n",
       "      <td>1</td>\n",
       "      <td>0</td>\n",
       "      <td>3</td>\n",
       "      <td>0</td>\n",
       "      <td>6</td>\n",
       "      <td>0</td>\n",
       "      <td>0</td>\n",
       "      <td>36</td>\n",
       "    </tr>\n",
       "    <tr>\n",
       "      <th>RENT</th>\n",
       "      <td>2</td>\n",
       "      <td>21</td>\n",
       "      <td>119</td>\n",
       "      <td>4</td>\n",
       "      <td>2</td>\n",
       "      <td>0</td>\n",
       "      <td>5</td>\n",
       "      <td>2</td>\n",
       "      <td>5</td>\n",
       "      <td>23</td>\n",
       "      <td>2</td>\n",
       "      <td>25</td>\n",
       "      <td>1</td>\n",
       "      <td>5</td>\n",
       "      <td>216</td>\n",
       "    </tr>\n",
       "    <tr>\n",
       "      <th>All</th>\n",
       "      <th></th>\n",
       "      <td>1614</td>\n",
       "      <td>5495</td>\n",
       "      <td>19813</td>\n",
       "      <td>422</td>\n",
       "      <td>3203</td>\n",
       "      <td>427</td>\n",
       "      <td>2310</td>\n",
       "      <td>753</td>\n",
       "      <td>629</td>\n",
       "      <td>4427</td>\n",
       "      <td>106</td>\n",
       "      <td>1993</td>\n",
       "      <td>400</td>\n",
       "      <td>1003</td>\n",
       "      <td>42595</td>\n",
       "    </tr>\n",
       "  </tbody>\n",
       "</table>\n",
       "</div>"
      ],
      "text/plain": [
       "purpose          car  credit_card  debt_consolidation  educational  \\\n",
       "grade own_rnt                                                        \n",
       "A     MORTGAGE   359          685                1813           36   \n",
       "      NONE         0            0                   1            0   \n",
       "      OTHER        1            4                   7            2   \n",
       "      OWN         62           90                 315            3   \n",
       "      RENT       195          638                1761           47   \n",
       "B     MORTGAGE   252          732                2400           28   \n",
       "      NONE         0            0                   0            0   \n",
       "      OTHER        1            3                  17            1   \n",
       "      OWN         44           96                 409           10   \n",
       "      RENT       208          871                2948           72   \n",
       "C     MORTGAGE    98          487                1671           30   \n",
       "      OTHER        1            2                   8            0   \n",
       "      OWN         27           57                 278           10   \n",
       "      RENT       132          605                2238           75   \n",
       "D     MORTGAGE    49          277                1172           12   \n",
       "      OTHER        0            4                  12            0   \n",
       "      OWN         20           43                 205            4   \n",
       "      RENT        80          361                1743           36   \n",
       "E     MORTGAGE    16          170                 790            3   \n",
       "      OTHER        0            3                   5            0   \n",
       "      OWN          8           23                 113            6   \n",
       "      RENT        42          164                 918           28   \n",
       "F     MORTGAGE     5           71                 345            3   \n",
       "      NONE         0            0                   0            0   \n",
       "      OTHER        0            0                   1            0   \n",
       "      OWN          2            4                  33            0   \n",
       "      RENT         9           53                 344            8   \n",
       "G     MORTGAGE     1           29                 129            1   \n",
       "      OTHER        0            0                   2            2   \n",
       "      OWN          0            2                  16            1   \n",
       "      RENT         2           21                 119            4   \n",
       "All             1614         5495               19813          422   \n",
       "\n",
       "purpose         home_improvement  house  major_purchase  medical  moving  \\\n",
       "grade own_rnt                                                              \n",
       "A     MORTGAGE               806     42             458      100      49   \n",
       "      NONE                     0      0               0        0       0   \n",
       "      OTHER                    2      1               3        1       0   \n",
       "      OWN                     99      6              90       23       6   \n",
       "      RENT                    66     53             287       89     118   \n",
       "B     MORTGAGE               742     40             237       90      33   \n",
       "      NONE                     0      0               0        0       0   \n",
       "      OTHER                    3      1               4        0       0   \n",
       "      OWN                    104      8              71       19      11   \n",
       "      RENT                    87     67             312      100     147   \n",
       "C     MORTGAGE               467     31             139       63      18   \n",
       "      OTHER                    1      0               1        1       1   \n",
       "      OWN                     69     10              48       15       7   \n",
       "      RENT                    68     44             221       74     102   \n",
       "D     MORTGAGE               268     21              88       43       8   \n",
       "      OTHER                    0      0               0        2       1   \n",
       "      OWN                     47      3              24        6       1   \n",
       "      RENT                    40     35             162       48      65   \n",
       "E     MORTGAGE               172     14              42       26       6   \n",
       "      OTHER                    0      0               0        0       1   \n",
       "      OWN                     25      5              11        8       2   \n",
       "      RENT                    31     19              71       22      33   \n",
       "F     MORTGAGE                63      5              13        7       2   \n",
       "      NONE                     0      0               0        0       0   \n",
       "      OTHER                    1      0               0        1       0   \n",
       "      OWN                      8      1               5        0       1   \n",
       "      RENT                     5     13              13        9      11   \n",
       "G     MORTGAGE                25      6               1        3       1   \n",
       "      OTHER                    0      1               0        0       0   \n",
       "      OWN                      2      1               4        1       0   \n",
       "      RENT                     2      0               5        2       5   \n",
       "All                         3203    427            2310      753     629   \n",
       "\n",
       "purpose         other  renewable_energy  small_business  vacation  wedding  \\\n",
       "grade own_rnt                                                                \n",
       "A     MORTGAGE    540                20             187        60       72   \n",
       "      NONE          4                 0               0         0        0   \n",
       "      OTHER         2                 0               2         0        0   \n",
       "      OWN         116                 2              26        14       20   \n",
       "      RENT        460                 8             136        61      154   \n",
       "B     MORTGAGE    450                20             270        43       90   \n",
       "      NONE          2                 0               0         0        0   \n",
       "      OTHER         2                 0               3         0        1   \n",
       "      OWN         122                 3              33        11       16   \n",
       "      RENT        709                14             193        77      181   \n",
       "C     MORTGAGE    297                 9             194        16       67   \n",
       "      OTHER         7                 0               2         0        0   \n",
       "      OWN          77                 3              28         2       11   \n",
       "      RENT        576                 6             162        54      137   \n",
       "D     MORTGAGE    177                 5             180        14       54   \n",
       "      OTHER         3                 1               3         0        0   \n",
       "      OWN          53                 1              14         3        9   \n",
       "      RENT        371                 4             145        19       89   \n",
       "E     MORTGAGE    126                 2             105         8       19   \n",
       "      OTHER         4                 0               1         0        0   \n",
       "      OWN          27                 1               9         2        2   \n",
       "      RENT        147                 2             109        12       48   \n",
       "F     MORTGAGE     40                 1              56         1        8   \n",
       "      NONE          1                 0               0         0        0   \n",
       "      OTHER         0                 0               1         0        0   \n",
       "      OWN          10                 0              11         0        0   \n",
       "      RENT         61                 2              55         2       15   \n",
       "G     MORTGAGE     16                 0              36         0        5   \n",
       "      OTHER         1                 0               1         0        0   \n",
       "      OWN           3                 0               6         0        0   \n",
       "      RENT         23                 2              25         1        5   \n",
       "All              4427               106            1993       400     1003   \n",
       "\n",
       "purpose           All  \n",
       "grade own_rnt          \n",
       "A     MORTGAGE   5227  \n",
       "      NONE          5  \n",
       "      OTHER        25  \n",
       "      OWN         872  \n",
       "      RENT       4073  \n",
       "B     MORTGAGE   5427  \n",
       "      NONE          2  \n",
       "      OTHER        36  \n",
       "      OWN         957  \n",
       "      RENT       5986  \n",
       "C     MORTGAGE   3587  \n",
       "      OTHER        24  \n",
       "      OWN         642  \n",
       "      RENT       4494  \n",
       "D     MORTGAGE   2368  \n",
       "      OTHER        26  \n",
       "      OWN         433  \n",
       "      RENT       3198  \n",
       "E     MORTGAGE   1499  \n",
       "      OTHER        14  \n",
       "      OWN         242  \n",
       "      RENT       1646  \n",
       "F     MORTGAGE    620  \n",
       "      NONE          1  \n",
       "      OTHER         4  \n",
       "      OWN          75  \n",
       "      RENT        600  \n",
       "G     MORTGAGE    253  \n",
       "      OTHER         7  \n",
       "      OWN          36  \n",
       "      RENT        216  \n",
       "All             42595  "
      ]
     },
     "execution_count": 36,
     "metadata": {},
     "output_type": "execute_result"
    }
   ],
   "source": [
    "pd.crosstab([df.grade, df.own_rnt], df.purpose, margins=True)"
   ]
  },
  {
   "cell_type": "markdown",
   "metadata": {},
   "source": [
    " "
   ]
  },
  {
   "cell_type": "markdown",
   "metadata": {},
   "source": [
    "## Sampling"
   ]
  },
  {
   "cell_type": "code",
   "execution_count": 37,
   "metadata": {
    "collapsed": true
   },
   "outputs": [],
   "source": [
    "samp = df.sample(n=300)"
   ]
  },
  {
   "cell_type": "code",
   "execution_count": 38,
   "metadata": {
    "collapsed": false
   },
   "outputs": [
    {
     "data": {
      "text/html": [
       "\n",
       "    <div class=\"bk-root\">\n",
       "        <a href=\"http://bokeh.pydata.org\" target=\"_blank\" class=\"bk-logo bk-logo-small bk-logo-notebook\"></a>\n",
       "        <span id=\"65c95fc6-ef99-40da-99da-9f8cc49d47a2\">Loading BokehJS ...</span>\n",
       "    </div>"
      ]
     },
     "metadata": {},
     "output_type": "display_data"
    },
    {
     "data": {
      "application/javascript": [
       "\n",
       "(function(global) {\n",
       "  function now() {\n",
       "    return new Date();\n",
       "  }\n",
       "\n",
       "  var force = \"1\";\n",
       "\n",
       "  if (typeof (window._bokeh_onload_callbacks) === \"undefined\" || force !== \"\") {\n",
       "    window._bokeh_onload_callbacks = [];\n",
       "    window._bokeh_is_loading = undefined;\n",
       "  }\n",
       "\n",
       "\n",
       "  \n",
       "  if (typeof (window._bokeh_timeout) === \"undefined\" || force !== \"\") {\n",
       "    window._bokeh_timeout = Date.now() + 5000;\n",
       "    window._bokeh_failed_load = false;\n",
       "  }\n",
       "\n",
       "  var NB_LOAD_WARNING = {'data': {'text/html':\n",
       "     \"<div style='background-color: #fdd'>\\n\"+\n",
       "     \"<p>\\n\"+\n",
       "     \"BokehJS does not appear to have successfully loaded. If loading BokehJS from CDN, this \\n\"+\n",
       "     \"may be due to a slow or bad network connection. Possible fixes:\\n\"+\n",
       "     \"</p>\\n\"+\n",
       "     \"<ul>\\n\"+\n",
       "     \"<li>re-rerun `output_notebook()` to attempt to load from CDN again, or</li>\\n\"+\n",
       "     \"<li>use INLINE resources instead, as so:</li>\\n\"+\n",
       "     \"</ul>\\n\"+\n",
       "     \"<code>\\n\"+\n",
       "     \"from bokeh.resources import INLINE\\n\"+\n",
       "     \"output_notebook(resources=INLINE)\\n\"+\n",
       "     \"</code>\\n\"+\n",
       "     \"</div>\"}};\n",
       "\n",
       "  function display_loaded() {\n",
       "    if (window.Bokeh !== undefined) {\n",
       "      Bokeh.$(\"#65c95fc6-ef99-40da-99da-9f8cc49d47a2\").text(\"BokehJS successfully loaded.\");\n",
       "    } else if (Date.now() < window._bokeh_timeout) {\n",
       "      setTimeout(display_loaded, 100)\n",
       "    }\n",
       "  }\n",
       "\n",
       "  function run_callbacks() {\n",
       "    window._bokeh_onload_callbacks.forEach(function(callback) { callback() });\n",
       "    delete window._bokeh_onload_callbacks\n",
       "    console.info(\"Bokeh: all callbacks have finished\");\n",
       "  }\n",
       "\n",
       "  function load_libs(js_urls, callback) {\n",
       "    window._bokeh_onload_callbacks.push(callback);\n",
       "    if (window._bokeh_is_loading > 0) {\n",
       "      console.log(\"Bokeh: BokehJS is being loaded, scheduling callback at\", now());\n",
       "      return null;\n",
       "    }\n",
       "    if (js_urls == null || js_urls.length === 0) {\n",
       "      run_callbacks();\n",
       "      return null;\n",
       "    }\n",
       "    console.log(\"Bokeh: BokehJS not loaded, scheduling load and callback at\", now());\n",
       "    window._bokeh_is_loading = js_urls.length;\n",
       "    for (var i = 0; i < js_urls.length; i++) {\n",
       "      var url = js_urls[i];\n",
       "      var s = document.createElement('script');\n",
       "      s.src = url;\n",
       "      s.async = false;\n",
       "      s.onreadystatechange = s.onload = function() {\n",
       "        window._bokeh_is_loading--;\n",
       "        if (window._bokeh_is_loading === 0) {\n",
       "          console.log(\"Bokeh: all BokehJS libraries loaded\");\n",
       "          run_callbacks()\n",
       "        }\n",
       "      };\n",
       "      s.onerror = function() {\n",
       "        console.warn(\"failed to load library \" + url);\n",
       "      };\n",
       "      console.log(\"Bokeh: injecting script tag for BokehJS library: \", url);\n",
       "      document.getElementsByTagName(\"head\")[0].appendChild(s);\n",
       "    }\n",
       "  };var element = document.getElementById(\"65c95fc6-ef99-40da-99da-9f8cc49d47a2\");\n",
       "  if (element == null) {\n",
       "    console.log(\"Bokeh: ERROR: autoload.js configured with elementid '65c95fc6-ef99-40da-99da-9f8cc49d47a2' but no matching script tag was found. \")\n",
       "    return false;\n",
       "  }\n",
       "\n",
       "  var js_urls = ['https://cdn.pydata.org/bokeh/release/bokeh-0.12.2.min.js', 'https://cdn.pydata.org/bokeh/release/bokeh-widgets-0.12.2.min.js', 'https://cdn.pydata.org/bokeh/release/bokeh-compiler-0.12.2.min.js'];\n",
       "\n",
       "  var inline_js = [\n",
       "    function(Bokeh) {\n",
       "      Bokeh.set_log_level(\"info\");\n",
       "    },\n",
       "    \n",
       "    function(Bokeh) {\n",
       "      \n",
       "      Bokeh.$(\"#65c95fc6-ef99-40da-99da-9f8cc49d47a2\").text(\"BokehJS is loading...\");\n",
       "    },\n",
       "    function(Bokeh) {\n",
       "      console.log(\"Bokeh: injecting CSS: https://cdn.pydata.org/bokeh/release/bokeh-0.12.2.min.css\");\n",
       "      Bokeh.embed.inject_css(\"https://cdn.pydata.org/bokeh/release/bokeh-0.12.2.min.css\");\n",
       "      console.log(\"Bokeh: injecting CSS: https://cdn.pydata.org/bokeh/release/bokeh-widgets-0.12.2.min.css\");\n",
       "      Bokeh.embed.inject_css(\"https://cdn.pydata.org/bokeh/release/bokeh-widgets-0.12.2.min.css\");\n",
       "    }\n",
       "  ];\n",
       "\n",
       "  function run_inline_js() {\n",
       "    \n",
       "    if ((window.Bokeh !== undefined) || (force === \"1\")) {\n",
       "      for (var i = 0; i < inline_js.length; i++) {\n",
       "        inline_js[i](window.Bokeh);\n",
       "      }if (force === \"1\") {\n",
       "        display_loaded();\n",
       "      }} else if (Date.now() < window._bokeh_timeout) {\n",
       "      setTimeout(run_inline_js, 100);\n",
       "    } else if (!window._bokeh_failed_load) {\n",
       "      console.log(\"Bokeh: BokehJS failed to load within specified timeout.\");\n",
       "      window._bokeh_failed_load = true;\n",
       "    } else if (!force) {\n",
       "      var cell = $(\"#65c95fc6-ef99-40da-99da-9f8cc49d47a2\").parents('.cell').data().cell;\n",
       "      cell.output_area.append_execute_result(NB_LOAD_WARNING)\n",
       "    }\n",
       "\n",
       "  }\n",
       "\n",
       "  if (window._bokeh_is_loading === 0) {\n",
       "    console.log(\"Bokeh: BokehJS loaded, going straight to plotting\");\n",
       "    run_inline_js();\n",
       "  } else {\n",
       "    load_libs(js_urls, function() {\n",
       "      console.log(\"Bokeh: BokehJS plotting callback run at\", now());\n",
       "      run_inline_js();\n",
       "    });\n",
       "  }\n",
       "}(this));"
      ]
     },
     "metadata": {},
     "output_type": "display_data"
    }
   ],
   "source": [
    "import bokeh.charts\n",
    "import bokeh.charts.utils\n",
    "import bokeh.io\n",
    "import bokeh.models\n",
    "import bokeh.palettes\n",
    "import bokeh.plotting\n",
    "from bokeh.charts import Bar, Scatter, BoxPlot, Histogram\n",
    "bokeh.io.output_notebook()"
   ]
  },
  {
   "cell_type": "code",
   "execution_count": 39,
   "metadata": {
    "collapsed": false
   },
   "outputs": [
    {
     "data": {
      "text/html": [
       "\n",
       "\n",
       "    <div class=\"bk-root\">\n",
       "        <div class=\"plotdiv\" id=\"fe50e06f-061a-403f-8130-e3e9f7bf1b99\"></div>\n",
       "    </div>\n",
       "<script type=\"text/javascript\">\n",
       "  \n",
       "  (function(global) {\n",
       "    function now() {\n",
       "      return new Date();\n",
       "    }\n",
       "  \n",
       "    var force = \"\";\n",
       "  \n",
       "    if (typeof (window._bokeh_onload_callbacks) === \"undefined\" || force !== \"\") {\n",
       "      window._bokeh_onload_callbacks = [];\n",
       "      window._bokeh_is_loading = undefined;\n",
       "    }\n",
       "  \n",
       "  \n",
       "    \n",
       "    if (typeof (window._bokeh_timeout) === \"undefined\" || force !== \"\") {\n",
       "      window._bokeh_timeout = Date.now() + 0;\n",
       "      window._bokeh_failed_load = false;\n",
       "    }\n",
       "  \n",
       "    var NB_LOAD_WARNING = {'data': {'text/html':\n",
       "       \"<div style='background-color: #fdd'>\\n\"+\n",
       "       \"<p>\\n\"+\n",
       "       \"BokehJS does not appear to have successfully loaded. If loading BokehJS from CDN, this \\n\"+\n",
       "       \"may be due to a slow or bad network connection. Possible fixes:\\n\"+\n",
       "       \"</p>\\n\"+\n",
       "       \"<ul>\\n\"+\n",
       "       \"<li>re-rerun `output_notebook()` to attempt to load from CDN again, or</li>\\n\"+\n",
       "       \"<li>use INLINE resources instead, as so:</li>\\n\"+\n",
       "       \"</ul>\\n\"+\n",
       "       \"<code>\\n\"+\n",
       "       \"from bokeh.resources import INLINE\\n\"+\n",
       "       \"output_notebook(resources=INLINE)\\n\"+\n",
       "       \"</code>\\n\"+\n",
       "       \"</div>\"}};\n",
       "  \n",
       "    function display_loaded() {\n",
       "      if (window.Bokeh !== undefined) {\n",
       "        Bokeh.$(\"#fe50e06f-061a-403f-8130-e3e9f7bf1b99\").text(\"BokehJS successfully loaded.\");\n",
       "      } else if (Date.now() < window._bokeh_timeout) {\n",
       "        setTimeout(display_loaded, 100)\n",
       "      }\n",
       "    }\n",
       "  \n",
       "    function run_callbacks() {\n",
       "      window._bokeh_onload_callbacks.forEach(function(callback) { callback() });\n",
       "      delete window._bokeh_onload_callbacks\n",
       "      console.info(\"Bokeh: all callbacks have finished\");\n",
       "    }\n",
       "  \n",
       "    function load_libs(js_urls, callback) {\n",
       "      window._bokeh_onload_callbacks.push(callback);\n",
       "      if (window._bokeh_is_loading > 0) {\n",
       "        console.log(\"Bokeh: BokehJS is being loaded, scheduling callback at\", now());\n",
       "        return null;\n",
       "      }\n",
       "      if (js_urls == null || js_urls.length === 0) {\n",
       "        run_callbacks();\n",
       "        return null;\n",
       "      }\n",
       "      console.log(\"Bokeh: BokehJS not loaded, scheduling load and callback at\", now());\n",
       "      window._bokeh_is_loading = js_urls.length;\n",
       "      for (var i = 0; i < js_urls.length; i++) {\n",
       "        var url = js_urls[i];\n",
       "        var s = document.createElement('script');\n",
       "        s.src = url;\n",
       "        s.async = false;\n",
       "        s.onreadystatechange = s.onload = function() {\n",
       "          window._bokeh_is_loading--;\n",
       "          if (window._bokeh_is_loading === 0) {\n",
       "            console.log(\"Bokeh: all BokehJS libraries loaded\");\n",
       "            run_callbacks()\n",
       "          }\n",
       "        };\n",
       "        s.onerror = function() {\n",
       "          console.warn(\"failed to load library \" + url);\n",
       "        };\n",
       "        console.log(\"Bokeh: injecting script tag for BokehJS library: \", url);\n",
       "        document.getElementsByTagName(\"head\")[0].appendChild(s);\n",
       "      }\n",
       "    };var element = document.getElementById(\"fe50e06f-061a-403f-8130-e3e9f7bf1b99\");\n",
       "    if (element == null) {\n",
       "      console.log(\"Bokeh: ERROR: autoload.js configured with elementid 'fe50e06f-061a-403f-8130-e3e9f7bf1b99' but no matching script tag was found. \")\n",
       "      return false;\n",
       "    }\n",
       "  \n",
       "    var js_urls = [];\n",
       "  \n",
       "    var inline_js = [\n",
       "      function(Bokeh) {\n",
       "        Bokeh.$(function() {\n",
       "            var docs_json = {\"1543969d-bee4-4913-a07f-b055a54c5585\":{\"roots\":{\"references\":[{\"attributes\":{\"data_source\":{\"id\":\"57985050-874f-44fd-913d-b7b1d51f16ae\",\"type\":\"ColumnDataSource\"},\"glyph\":{\"id\":\"902c11f9-bd45-4589-b1dc-99ea6cdb0ca2\",\"type\":\"Segment\"},\"hover_glyph\":null,\"nonselection_glyph\":null,\"selection_glyph\":null},\"id\":\"d91a7fcf-8ff2-49e0-aa82-8cbed117b843\",\"type\":\"GlyphRenderer\"},{\"attributes\":{\"line_width\":{\"value\":2},\"x0\":{\"field\":\"x0s\"},\"x1\":{\"field\":\"x1s\"},\"y0\":{\"field\":\"y0s\"},\"y1\":{\"field\":\"y1s\"}},\"id\":\"04afadee-09c4-4d72-83d0-3b2b440fb794\",\"type\":\"Segment\"},{\"attributes\":{\"line_width\":{\"value\":2},\"x0\":{\"field\":\"x0s\"},\"x1\":{\"field\":\"x1s\"},\"y0\":{\"field\":\"y0s\"},\"y1\":{\"field\":\"y1s\"}},\"id\":\"902c11f9-bd45-4589-b1dc-99ea6cdb0ca2\",\"type\":\"Segment\"},{\"attributes\":{\"callback\":null,\"column_names\":[\"x1s\",\"y1s\",\"y0s\",\"x0s\"],\"data\":{\"chart_index\":[{\"grade\":\"B\"},{\"grade\":\"B\"},{\"grade\":\"B\"},{\"grade\":\"B\"}],\"grade\":[\"B\",\"B\",\"B\",\"B\"],\"x0s\":[\"B:0.5\",\"B:0.65\",\"B:0.5\",\"B:0.65\"],\"x1s\":[\"B:0.5\",\"B:0.35\",\"B:0.5\",\"B:0.35\"],\"y0s\":[14000.0,14000.0,75216.0,128040.0],\"y1s\":[40000.0,14000.0,128040.0,128040.0]}},\"id\":\"35ddc92c-9232-4d08-b799-2c9b8e6f60ba\",\"type\":\"ColumnDataSource\"},{\"attributes\":{\"fill_alpha\":{\"field\":\"fill_alpha\"},\"fill_color\":{\"field\":\"color\"},\"height\":{\"field\":\"height\",\"units\":\"data\"},\"line_color\":{\"field\":\"line_color\"},\"width\":{\"field\":\"width\",\"units\":\"data\"},\"x\":{\"field\":\"x\"},\"y\":{\"field\":\"y\"}},\"id\":\"29b1dfe0-843c-499d-9ae0-d0c24cbab181\",\"type\":\"Rect\"},{\"attributes\":{\"active_drag\":\"auto\",\"active_scroll\":\"auto\",\"active_tap\":\"auto\",\"tools\":[{\"id\":\"cc2c54ee-6039-45b3-92de-9c1bb90bcb4d\",\"type\":\"PanTool\"},{\"id\":\"f680a611-3368-41e9-91e8-488ae0c5aaba\",\"type\":\"WheelZoomTool\"},{\"id\":\"e701398a-a607-487c-983d-a6b5cda05e2d\",\"type\":\"BoxZoomTool\"},{\"id\":\"5758823f-8d36-465d-912f-d503b4e91110\",\"type\":\"SaveTool\"},{\"id\":\"5e0721d7-1a46-4502-8acf-5194265ddc88\",\"type\":\"ResetTool\"},{\"id\":\"2b131d1d-bdfb-443f-a2dc-da474b8a335f\",\"type\":\"HelpTool\"}]},\"id\":\"b7767d29-e432-491f-ba3b-e4befddbd28b\",\"type\":\"Toolbar\"},{\"attributes\":{\"fill_alpha\":{\"field\":\"fill_alpha\"},\"fill_color\":{\"field\":\"color\"},\"height\":{\"field\":\"height\",\"units\":\"data\"},\"line_color\":{\"field\":\"line_color\"},\"width\":{\"field\":\"width\",\"units\":\"data\"},\"x\":{\"field\":\"x\"},\"y\":{\"field\":\"y\"}},\"id\":\"8fe6f0ef-284a-4b3b-a9a9-7e107d3b9948\",\"type\":\"Rect\"},{\"attributes\":{\"fill_alpha\":{\"field\":\"fill_alpha\"},\"fill_color\":{\"field\":\"color\"},\"height\":{\"field\":\"height\",\"units\":\"data\"},\"line_color\":{\"field\":\"line_color\"},\"width\":{\"field\":\"width\",\"units\":\"data\"},\"x\":{\"field\":\"x\"},\"y\":{\"field\":\"y\"}},\"id\":\"f2f9bcbe-3643-4f8f-9f6e-e5ebb430181a\",\"type\":\"Rect\"},{\"attributes\":{\"fill_alpha\":{\"value\":0.7},\"fill_color\":{\"value\":\"red\"},\"line_color\":{\"value\":\"red\"},\"size\":{\"units\":\"screen\",\"value\":5},\"x\":{\"field\":\"x_values\"},\"y\":{\"field\":\"y_values\"}},\"id\":\"3433bb04-44a6-4eec-b421-3b8ce7566ece\",\"type\":\"Circle\"},{\"attributes\":{\"callback\":null,\"column_names\":[\"y_values\",\"x_values\"],\"data\":{\"chart_index\":[{\"grade\":\"D\"}],\"grade\":[\"D\"],\"x_values\":[\"D:0.5\"],\"y_values\":[225000.0]}},\"id\":\"c58dfc42-b727-4e53-afe0-aca365d6460a\",\"type\":\"ColumnDataSource\"},{\"attributes\":{\"callback\":null,\"column_names\":[\"color\",\"line_color\",\"x\",\"line_alpha\",\"y\",\"fill_alpha\",\"label\",\"width\",\"height\"],\"data\":{\"chart_index\":[{\"grade\":\"E\"}],\"color\":[\"firebrick\"],\"fill_alpha\":[0.8],\"grade\":[\"E\"],\"height\":[18300.0],\"label\":[{\"grade\":\"E\"}],\"line_alpha\":[1.0],\"line_color\":[\"black\"],\"width\":[0.8],\"x\":[\"E\"],\"y\":[50850.0]}},\"id\":\"81c4a68e-fda5-40c5-8151-d6c0245159e8\",\"type\":\"ColumnDataSource\"},{\"attributes\":{\"legends\":[[\"A\",[{\"id\":\"ba131156-cd26-4fb5-9cec-c929cd887fe8\",\"type\":\"GlyphRenderer\"},{\"id\":\"d699e49c-4e36-460c-a0d3-134825bd01c8\",\"type\":\"GlyphRenderer\"},{\"id\":\"06d9c61f-f4ef-4c59-876b-714862bf78c8\",\"type\":\"GlyphRenderer\"},{\"id\":\"236551e7-28ec-4cd1-81f0-d13748b08daa\",\"type\":\"GlyphRenderer\"}]],[\"D\",[{\"id\":\"1c630d29-1700-4b92-bcbf-66ec64c768db\",\"type\":\"GlyphRenderer\"},{\"id\":\"2f7b9e3f-5405-42cb-b056-9bfe6825d0df\",\"type\":\"GlyphRenderer\"},{\"id\":\"5fe13d84-2973-47a7-98bb-c429f7b66df5\",\"type\":\"GlyphRenderer\"},{\"id\":\"b18bd26d-c65c-4b62-b2fa-c7edd55b7c1b\",\"type\":\"GlyphRenderer\"}]],[\"C\",[{\"id\":\"a4d3acb5-7142-408f-96f4-5ef3601adade\",\"type\":\"GlyphRenderer\"},{\"id\":\"9c942055-3644-4dbb-ae24-fa09af4e2aed\",\"type\":\"GlyphRenderer\"},{\"id\":\"544d461b-076f-477f-b260-c55dcf805f3a\",\"type\":\"GlyphRenderer\"},{\"id\":\"08afee6b-29e4-49b0-9ab8-836ec2618983\",\"type\":\"GlyphRenderer\"}]],[\"F\",[{\"id\":\"1bb5303b-62de-4c86-a9ce-1f2413729ea7\",\"type\":\"GlyphRenderer\"},{\"id\":\"9cb14bc6-19b6-46d0-9913-4691d56e83c1\",\"type\":\"GlyphRenderer\"},{\"id\":\"f1876871-375c-48a0-9858-9b1f280e9c92\",\"type\":\"GlyphRenderer\"}]],[\"B\",[{\"id\":\"430fd864-7440-4be8-ac6d-f3b4d3d6155f\",\"type\":\"GlyphRenderer\"},{\"id\":\"a02d6277-c29a-434d-8867-b24038ba9587\",\"type\":\"GlyphRenderer\"},{\"id\":\"1a991b87-da78-40e5-9f21-06da3f562c70\",\"type\":\"GlyphRenderer\"},{\"id\":\"09fba8a9-0a54-45d0-a27f-20246fba6cb8\",\"type\":\"GlyphRenderer\"}]],[\"E\",[{\"id\":\"2ec61d10-6e8e-4fea-a951-9a6756b5c454\",\"type\":\"GlyphRenderer\"},{\"id\":\"8c80fc0d-feca-4767-b450-d8471b84dc63\",\"type\":\"GlyphRenderer\"},{\"id\":\"d91a7fcf-8ff2-49e0-aa82-8cbed117b843\",\"type\":\"GlyphRenderer\"}]],[\"G\",[{\"id\":\"e2f66d5a-9f59-4661-a9fb-e3a6a9659bcf\",\"type\":\"GlyphRenderer\"},{\"id\":\"a1b11039-2084-43a0-8c1f-dae6f9c9af3f\",\"type\":\"GlyphRenderer\"},{\"id\":\"9e7dd357-2c9a-4eff-b133-5ea7d7721093\",\"type\":\"GlyphRenderer\"}]]],\"location\":\"top_left\",\"plot\":{\"id\":\"7605ec0d-eeaf-4d75-a480-8a9c849feaa9\",\"subtype\":\"Chart\",\"type\":\"Plot\"}},\"id\":\"ce38e612-8acc-446c-b088-b71287c5b8d9\",\"type\":\"Legend\"},{\"attributes\":{},\"id\":\"846c04fa-5ef8-4598-827c-5b8f09618f0b\",\"type\":\"BasicTicker\"},{\"attributes\":{\"axis_label\":\"Grade\",\"formatter\":{\"id\":\"b2991a6b-19d7-4b85-a861-b5294bccd937\",\"type\":\"CategoricalTickFormatter\"},\"major_label_orientation\":0.7853981633974483,\"plot\":{\"id\":\"7605ec0d-eeaf-4d75-a480-8a9c849feaa9\",\"subtype\":\"Chart\",\"type\":\"Plot\"},\"ticker\":{\"id\":\"fdbde943-89e2-410b-bcbb-1c8e475a63c6\",\"type\":\"CategoricalTicker\"}},\"id\":\"23df5092-7447-472a-a5b2-a598d9ba6f3d\",\"type\":\"CategoricalAxis\"},{\"attributes\":{\"data_source\":{\"id\":\"5db0e139-365a-4d9f-a0c3-71b7a4dfec2f\",\"type\":\"ColumnDataSource\"},\"glyph\":{\"id\":\"997032da-1523-486d-abed-174870de89de\",\"type\":\"Segment\"},\"hover_glyph\":null,\"nonselection_glyph\":null,\"selection_glyph\":null},\"id\":\"9e7dd357-2c9a-4eff-b133-5ea7d7721093\",\"type\":\"GlyphRenderer\"},{\"attributes\":{\"fill_alpha\":{\"field\":\"fill_alpha\"},\"fill_color\":{\"field\":\"color\"},\"height\":{\"field\":\"height\",\"units\":\"data\"},\"line_color\":{\"field\":\"line_color\"},\"width\":{\"field\":\"width\",\"units\":\"data\"},\"x\":{\"field\":\"x\"},\"y\":{\"field\":\"y\"}},\"id\":\"20c0913d-ce1d-432e-b943-bba4add9dfe4\",\"type\":\"Rect\"},{\"attributes\":{\"fill_alpha\":{\"value\":0.7},\"fill_color\":{\"value\":\"red\"},\"line_color\":{\"value\":\"red\"},\"size\":{\"units\":\"screen\",\"value\":5},\"x\":{\"field\":\"x_values\"},\"y\":{\"field\":\"y_values\"}},\"id\":\"4f1a56e4-9403-43ba-a880-fd5c9852d6c5\",\"type\":\"Circle\"},{\"attributes\":{\"callback\":null,\"column_names\":[\"x1s\",\"y1s\",\"y0s\",\"x0s\"],\"data\":{\"chart_index\":[{\"grade\":\"D\"},{\"grade\":\"D\"},{\"grade\":\"D\"},{\"grade\":\"D\"}],\"grade\":[\"D\",\"D\",\"D\",\"D\"],\"x0s\":[\"D:0.5\",\"D:0.65\",\"D:0.5\",\"D:0.65\"],\"x1s\":[\"D:0.5\",\"D:0.35\",\"D:0.5\",\"D:0.35\"],\"y0s\":[24000.0,24000.0,75000.0,123000.0],\"y1s\":[43000.0,24000.0,123000.0,123000.0]}},\"id\":\"909b88ee-0ef2-4389-80ac-fba26294842a\",\"type\":\"ColumnDataSource\"},{\"attributes\":{\"callback\":null,\"column_names\":[\"color\",\"line_color\",\"x\",\"line_alpha\",\"y\",\"fill_alpha\",\"label\",\"width\",\"height\"],\"data\":{\"chart_index\":[{\"grade\":\"A\"}],\"color\":[\"firebrick\"],\"fill_alpha\":[0.8],\"grade\":[\"A\"],\"height\":[28498.0],\"label\":[{\"grade\":\"A\"}],\"line_alpha\":[1.0],\"line_color\":[\"black\"],\"width\":[0.8],\"x\":[\"A\"],\"y\":[75751.0]}},\"id\":\"c43f63d1-1722-4a4c-93ca-90ae40c086fc\",\"type\":\"ColumnDataSource\"},{\"attributes\":{\"data_source\":{\"id\":\"c58dfc42-b727-4e53-afe0-aca365d6460a\",\"type\":\"ColumnDataSource\"},\"glyph\":{\"id\":\"11df8e8b-30aa-4a30-8608-e8914f87de6e\",\"type\":\"Circle\"},\"hover_glyph\":null,\"nonselection_glyph\":null,\"selection_glyph\":null},\"id\":\"5fe13d84-2973-47a7-98bb-c429f7b66df5\",\"type\":\"GlyphRenderer\"},{\"attributes\":{\"data_source\":{\"id\":\"228313fb-2f0b-42b8-aa4a-fa6a8018ca39\",\"type\":\"ColumnDataSource\"},\"glyph\":{\"id\":\"d1bcb9d3-553b-48a4-a120-f4ecb8b58727\",\"type\":\"Rect\"},\"hover_glyph\":null,\"nonselection_glyph\":null,\"selection_glyph\":null},\"id\":\"8c80fc0d-feca-4767-b450-d8471b84dc63\",\"type\":\"GlyphRenderer\"},{\"attributes\":{},\"id\":\"fdbde943-89e2-410b-bcbb-1c8e475a63c6\",\"type\":\"CategoricalTicker\"},{\"attributes\":{\"fill_alpha\":{\"field\":\"fill_alpha\"},\"fill_color\":{\"field\":\"color\"},\"height\":{\"field\":\"height\",\"units\":\"data\"},\"line_color\":{\"field\":\"line_color\"},\"width\":{\"field\":\"width\",\"units\":\"data\"},\"x\":{\"field\":\"x\"},\"y\":{\"field\":\"y\"}},\"id\":\"2ff2151d-5dca-4463-8024-dc6fa4bb5555\",\"type\":\"Rect\"},{\"attributes\":{\"callback\":null,\"column_names\":[\"color\",\"line_color\",\"x\",\"line_alpha\",\"y\",\"fill_alpha\",\"label\",\"width\",\"height\"],\"data\":{\"chart_index\":[{\"grade\":\"C\"}],\"color\":[\"firebrick\"],\"fill_alpha\":[0.8],\"grade\":[\"C\"],\"height\":[11590.0],\"label\":[{\"grade\":\"C\"}],\"line_alpha\":[1.0],\"line_color\":[\"black\"],\"width\":[0.8],\"x\":[\"C\"],\"y\":[46205.0]}},\"id\":\"e2ad8284-119d-4ebe-a7a0-aa3cd7ce9679\",\"type\":\"ColumnDataSource\"},{\"attributes\":{\"callback\":null,\"column_names\":[\"y_values\",\"x_values\"],\"data\":{\"chart_index\":[{\"grade\":\"C\"},{\"grade\":\"C\"},{\"grade\":\"C\"},{\"grade\":\"C\"}],\"grade\":[\"C\",\"C\",\"C\",\"C\"],\"x_values\":[\"C:0.5\",\"C:0.5\",\"C:0.5\",\"C:0.5\"],\"y_values\":[158000.0,200000.0,185000.0,322008.0]}},\"id\":\"5539d6ba-b456-45c6-833d-2e3230ac50f7\",\"type\":\"ColumnDataSource\"},{\"attributes\":{\"data_source\":{\"id\":\"ead71a67-3bad-4be1-8bdf-a25c3620c91b\",\"type\":\"ColumnDataSource\"},\"glyph\":{\"id\":\"e5fb0c86-08ef-4aa4-aa20-4821e2f37d82\",\"type\":\"Rect\"},\"hover_glyph\":null,\"nonselection_glyph\":null,\"selection_glyph\":null},\"id\":\"2f7b9e3f-5405-42cb-b056-9bfe6825d0df\",\"type\":\"GlyphRenderer\"},{\"attributes\":{\"dimension\":1,\"plot\":{\"id\":\"7605ec0d-eeaf-4d75-a480-8a9c849feaa9\",\"subtype\":\"Chart\",\"type\":\"Plot\"},\"ticker\":{\"id\":\"846c04fa-5ef8-4598-827c-5b8f09618f0b\",\"type\":\"BasicTicker\"}},\"id\":\"173053b9-dd24-431e-a128-f6711542c72e\",\"type\":\"Grid\"},{\"attributes\":{\"plot\":{\"id\":\"7605ec0d-eeaf-4d75-a480-8a9c849feaa9\",\"subtype\":\"Chart\",\"type\":\"Plot\"}},\"id\":\"5758823f-8d36-465d-912f-d503b4e91110\",\"type\":\"SaveTool\"},{\"attributes\":{\"callback\":null,\"column_names\":[\"y_values\",\"x_values\"],\"data\":{\"chart_index\":[{\"grade\":\"A\"},{\"grade\":\"A\"},{\"grade\":\"A\"},{\"grade\":\"A\"},{\"grade\":\"A\"}],\"grade\":[\"A\",\"A\",\"A\",\"A\",\"A\"],\"x_values\":[\"A:0.5\",\"A:0.5\",\"A:0.5\",\"A:0.5\",\"A:0.5\"],\"y_values\":[762000.0,200000.0,200000.0,210000.0,180000.0]}},\"id\":\"2e960322-00e2-4495-8c0d-76d937b85e9a\",\"type\":\"ColumnDataSource\"},{\"attributes\":{\"data_source\":{\"id\":\"2e960322-00e2-4495-8c0d-76d937b85e9a\",\"type\":\"ColumnDataSource\"},\"glyph\":{\"id\":\"3433bb04-44a6-4eec-b421-3b8ce7566ece\",\"type\":\"Circle\"},\"hover_glyph\":null,\"nonselection_glyph\":null,\"selection_glyph\":null},\"id\":\"06d9c61f-f4ef-4c59-876b-714862bf78c8\",\"type\":\"GlyphRenderer\"},{\"attributes\":{\"callback\":null,\"column_names\":[\"x1s\",\"y1s\",\"y0s\",\"x0s\"],\"data\":{\"chart_index\":[{\"grade\":\"G\"},{\"grade\":\"G\"},{\"grade\":\"G\"},{\"grade\":\"G\"}],\"grade\":[\"G\",\"G\",\"G\",\"G\"],\"x0s\":[\"G:0.5\",\"G:0.65\",\"G:0.5\",\"G:0.65\"],\"x1s\":[\"G:0.5\",\"G:0.35\",\"G:0.5\",\"G:0.35\"],\"y0s\":[30000.0,30000.0,101253.0,125004.0],\"y1s\":[53751.0,30000.0,125004.0,125004.0]}},\"id\":\"5db0e139-365a-4d9f-a0c3-71b7a4dfec2f\",\"type\":\"ColumnDataSource\"},{\"attributes\":{\"callback\":null,\"column_names\":[\"x1s\",\"y1s\",\"y0s\",\"x0s\"],\"data\":{\"chart_index\":[{\"grade\":\"A\"},{\"grade\":\"A\"},{\"grade\":\"A\"},{\"grade\":\"A\"}],\"grade\":[\"A\",\"A\",\"A\",\"A\"],\"x0s\":[\"A:0.5\",\"A:0.65\",\"A:0.5\",\"A:0.65\"],\"x1s\":[\"A:0.5\",\"A:0.35\",\"A:0.5\",\"A:0.35\"],\"y0s\":[12000.0,12000.0,90000.0,155254.5],\"y1s\":[46497.0,12000.0,155254.5,155254.5]}},\"id\":\"efced9c8-1d5d-42de-a406-81ccac4dd74e\",\"type\":\"ColumnDataSource\"},{\"attributes\":{\"data_source\":{\"id\":\"28fdee26-96b6-47b3-890f-21b6dbe36360\",\"type\":\"ColumnDataSource\"},\"glyph\":{\"id\":\"29b1dfe0-843c-499d-9ae0-d0c24cbab181\",\"type\":\"Rect\"},\"hover_glyph\":null,\"nonselection_glyph\":null,\"selection_glyph\":null},\"id\":\"a02d6277-c29a-434d-8867-b24038ba9587\",\"type\":\"GlyphRenderer\"},{\"attributes\":{\"fill_alpha\":{\"field\":\"fill_alpha\"},\"fill_color\":{\"field\":\"color\"},\"height\":{\"field\":\"height\",\"units\":\"data\"},\"line_color\":{\"field\":\"line_color\"},\"width\":{\"field\":\"width\",\"units\":\"data\"},\"x\":{\"field\":\"x\"},\"y\":{\"field\":\"y\"}},\"id\":\"b9b6d772-b6a7-4bd2-86b4-ad18067d52ca\",\"type\":\"Rect\"},{\"attributes\":{\"callback\":null,\"factors\":[\"A\",\"B\",\"C\",\"D\",\"E\",\"F\",\"G\"]},\"id\":\"d1af09b2-dafe-4420-847b-6a303c2c9722\",\"type\":\"FactorRange\"},{\"attributes\":{},\"id\":\"1391cc58-b7db-43a5-8008-072822add76a\",\"type\":\"ToolEvents\"},{\"attributes\":{\"axis_label\":\"Income\",\"formatter\":{\"id\":\"6efef01b-0def-402c-8f6d-5a837fb3ed9a\",\"type\":\"BasicTickFormatter\"},\"plot\":{\"id\":\"7605ec0d-eeaf-4d75-a480-8a9c849feaa9\",\"subtype\":\"Chart\",\"type\":\"Plot\"},\"ticker\":{\"id\":\"846c04fa-5ef8-4598-827c-5b8f09618f0b\",\"type\":\"BasicTicker\"}},\"id\":\"2558b4d9-a733-4cec-b965-892f9d87adec\",\"type\":\"LinearAxis\"},{\"attributes\":{\"callback\":null,\"column_names\":[\"color\",\"line_color\",\"x\",\"line_alpha\",\"y\",\"fill_alpha\",\"label\",\"width\",\"height\"],\"data\":{\"chart_index\":[{\"grade\":\"F\"}],\"color\":[\"firebrick\"],\"fill_alpha\":[0.8],\"grade\":[\"F\"],\"height\":[60000.0],\"label\":[{\"grade\":\"F\"}],\"line_alpha\":[1.0],\"line_color\":[\"black\"],\"width\":[0.8],\"x\":[\"F\"],\"y\":[110000.0]}},\"id\":\"1afaf129-6431-41f3-8015-a7b287c74f61\",\"type\":\"ColumnDataSource\"},{\"attributes\":{\"overlay\":{\"id\":\"89cd7d2c-bbc3-4dc6-8780-4ab114c2b1ce\",\"type\":\"BoxAnnotation\"},\"plot\":{\"id\":\"7605ec0d-eeaf-4d75-a480-8a9c849feaa9\",\"subtype\":\"Chart\",\"type\":\"Plot\"}},\"id\":\"e701398a-a607-487c-983d-a6b5cda05e2d\",\"type\":\"BoxZoomTool\"},{\"attributes\":{\"plot\":{\"id\":\"7605ec0d-eeaf-4d75-a480-8a9c849feaa9\",\"subtype\":\"Chart\",\"type\":\"Plot\"}},\"id\":\"2b131d1d-bdfb-443f-a2dc-da474b8a335f\",\"type\":\"HelpTool\"},{\"attributes\":{\"fill_alpha\":{\"field\":\"fill_alpha\"},\"fill_color\":{\"field\":\"color\"},\"height\":{\"field\":\"height\",\"units\":\"data\"},\"line_color\":{\"field\":\"line_color\"},\"width\":{\"field\":\"width\",\"units\":\"data\"},\"x\":{\"field\":\"x\"},\"y\":{\"field\":\"y\"}},\"id\":\"0eb832e7-0ae8-4bee-83e3-36fc48e7ebc1\",\"type\":\"Rect\"},{\"attributes\":{\"data_source\":{\"id\":\"ac6a3a09-49c6-4e73-8240-5cd40b54d539\",\"type\":\"ColumnDataSource\"},\"glyph\":{\"id\":\"6b931b57-0e02-432e-85bb-364994663885\",\"type\":\"Segment\"},\"hover_glyph\":null,\"nonselection_glyph\":null,\"selection_glyph\":null},\"id\":\"f1876871-375c-48a0-9858-9b1f280e9c92\",\"type\":\"GlyphRenderer\"},{\"attributes\":{\"callback\":null,\"column_names\":[\"color\",\"line_color\",\"x\",\"line_alpha\",\"y\",\"fill_alpha\",\"label\",\"width\",\"height\"],\"data\":{\"chart_index\":[{\"grade\":\"A\"}],\"color\":[\"firebrick\"],\"fill_alpha\":[0.8],\"grade\":[\"A\"],\"height\":[15005.0],\"label\":[{\"grade\":\"A\"}],\"line_alpha\":[1.0],\"line_color\":[\"black\"],\"width\":[0.8],\"x\":[\"A\"],\"y\":[53999.5]}},\"id\":\"b0b9d3e6-f455-4d08-829a-93ade95aeebe\",\"type\":\"ColumnDataSource\"},{\"attributes\":{\"below\":[{\"id\":\"23df5092-7447-472a-a5b2-a598d9ba6f3d\",\"type\":\"CategoricalAxis\"}],\"left\":[{\"id\":\"2558b4d9-a733-4cec-b965-892f9d87adec\",\"type\":\"LinearAxis\"}],\"renderers\":[{\"id\":\"89cd7d2c-bbc3-4dc6-8780-4ab114c2b1ce\",\"type\":\"BoxAnnotation\"},{\"id\":\"ba131156-cd26-4fb5-9cec-c929cd887fe8\",\"type\":\"GlyphRenderer\"},{\"id\":\"d699e49c-4e36-460c-a0d3-134825bd01c8\",\"type\":\"GlyphRenderer\"},{\"id\":\"06d9c61f-f4ef-4c59-876b-714862bf78c8\",\"type\":\"GlyphRenderer\"},{\"id\":\"236551e7-28ec-4cd1-81f0-d13748b08daa\",\"type\":\"GlyphRenderer\"},{\"id\":\"1c630d29-1700-4b92-bcbf-66ec64c768db\",\"type\":\"GlyphRenderer\"},{\"id\":\"2f7b9e3f-5405-42cb-b056-9bfe6825d0df\",\"type\":\"GlyphRenderer\"},{\"id\":\"5fe13d84-2973-47a7-98bb-c429f7b66df5\",\"type\":\"GlyphRenderer\"},{\"id\":\"b18bd26d-c65c-4b62-b2fa-c7edd55b7c1b\",\"type\":\"GlyphRenderer\"},{\"id\":\"a4d3acb5-7142-408f-96f4-5ef3601adade\",\"type\":\"GlyphRenderer\"},{\"id\":\"9c942055-3644-4dbb-ae24-fa09af4e2aed\",\"type\":\"GlyphRenderer\"},{\"id\":\"544d461b-076f-477f-b260-c55dcf805f3a\",\"type\":\"GlyphRenderer\"},{\"id\":\"08afee6b-29e4-49b0-9ab8-836ec2618983\",\"type\":\"GlyphRenderer\"},{\"id\":\"1bb5303b-62de-4c86-a9ce-1f2413729ea7\",\"type\":\"GlyphRenderer\"},{\"id\":\"9cb14bc6-19b6-46d0-9913-4691d56e83c1\",\"type\":\"GlyphRenderer\"},{\"id\":\"f1876871-375c-48a0-9858-9b1f280e9c92\",\"type\":\"GlyphRenderer\"},{\"id\":\"430fd864-7440-4be8-ac6d-f3b4d3d6155f\",\"type\":\"GlyphRenderer\"},{\"id\":\"a02d6277-c29a-434d-8867-b24038ba9587\",\"type\":\"GlyphRenderer\"},{\"id\":\"1a991b87-da78-40e5-9f21-06da3f562c70\",\"type\":\"GlyphRenderer\"},{\"id\":\"09fba8a9-0a54-45d0-a27f-20246fba6cb8\",\"type\":\"GlyphRenderer\"},{\"id\":\"2ec61d10-6e8e-4fea-a951-9a6756b5c454\",\"type\":\"GlyphRenderer\"},{\"id\":\"8c80fc0d-feca-4767-b450-d8471b84dc63\",\"type\":\"GlyphRenderer\"},{\"id\":\"d91a7fcf-8ff2-49e0-aa82-8cbed117b843\",\"type\":\"GlyphRenderer\"},{\"id\":\"e2f66d5a-9f59-4661-a9fb-e3a6a9659bcf\",\"type\":\"GlyphRenderer\"},{\"id\":\"a1b11039-2084-43a0-8c1f-dae6f9c9af3f\",\"type\":\"GlyphRenderer\"},{\"id\":\"9e7dd357-2c9a-4eff-b133-5ea7d7721093\",\"type\":\"GlyphRenderer\"},{\"id\":\"ce38e612-8acc-446c-b088-b71287c5b8d9\",\"type\":\"Legend\"},{\"id\":\"23df5092-7447-472a-a5b2-a598d9ba6f3d\",\"type\":\"CategoricalAxis\"},{\"id\":\"2558b4d9-a733-4cec-b965-892f9d87adec\",\"type\":\"LinearAxis\"},{\"id\":\"173053b9-dd24-431e-a128-f6711542c72e\",\"type\":\"Grid\"}],\"title\":{\"id\":\"f70e25f7-4c5b-447a-b56b-f61fc68a49b8\",\"type\":\"Title\"},\"tool_events\":{\"id\":\"1391cc58-b7db-43a5-8008-072822add76a\",\"type\":\"ToolEvents\"},\"toolbar\":{\"id\":\"b7767d29-e432-491f-ba3b-e4befddbd28b\",\"type\":\"Toolbar\"},\"x_mapper_type\":\"auto\",\"x_range\":{\"id\":\"d1af09b2-dafe-4420-847b-6a303c2c9722\",\"type\":\"FactorRange\"},\"y_mapper_type\":\"auto\",\"y_range\":{\"id\":\"7f3948d9-a2f7-4ede-983c-3fe5e1d01c5b\",\"type\":\"Range1d\"}},\"id\":\"7605ec0d-eeaf-4d75-a480-8a9c849feaa9\",\"subtype\":\"Chart\",\"type\":\"Plot\"},{\"attributes\":{\"data_source\":{\"id\":\"d334c17a-bd77-4c34-8441-723c88f2f719\",\"type\":\"ColumnDataSource\"},\"glyph\":{\"id\":\"b9b6d772-b6a7-4bd2-86b4-ad18067d52ca\",\"type\":\"Rect\"},\"hover_glyph\":null,\"nonselection_glyph\":null,\"selection_glyph\":null},\"id\":\"1bb5303b-62de-4c86-a9ce-1f2413729ea7\",\"type\":\"GlyphRenderer\"},{\"attributes\":{\"callback\":null,\"column_names\":[\"color\",\"line_color\",\"x\",\"line_alpha\",\"y\",\"fill_alpha\",\"label\",\"width\",\"height\"],\"data\":{\"chart_index\":[{\"grade\":\"G\"}],\"color\":[\"firebrick\"],\"fill_alpha\":[0.8],\"grade\":[\"G\"],\"height\":[23751.0],\"label\":[{\"grade\":\"G\"}],\"line_alpha\":[1.0],\"line_color\":[\"black\"],\"width\":[0.8],\"x\":[\"G\"],\"y\":[65626.5]}},\"id\":\"55fb875d-ae39-4f5d-8d89-55c4bb9dfaff\",\"type\":\"ColumnDataSource\"},{\"attributes\":{\"callback\":null,\"column_names\":[\"color\",\"line_color\",\"x\",\"line_alpha\",\"y\",\"fill_alpha\",\"label\",\"width\",\"height\"],\"data\":{\"chart_index\":[{\"grade\":\"B\"}],\"color\":[\"firebrick\"],\"fill_alpha\":[0.8],\"grade\":[\"B\"],\"height\":[18391.0],\"label\":[{\"grade\":\"B\"}],\"line_alpha\":[1.0],\"line_color\":[\"black\"],\"width\":[0.8],\"x\":[\"B\"],\"y\":[66020.5]}},\"id\":\"28fdee26-96b6-47b3-890f-21b6dbe36360\",\"type\":\"ColumnDataSource\"},{\"attributes\":{\"callback\":null,\"column_names\":[\"color\",\"line_color\",\"x\",\"line_alpha\",\"y\",\"fill_alpha\",\"label\",\"width\",\"height\"],\"data\":{\"chart_index\":[{\"grade\":\"B\"}],\"color\":[\"firebrick\"],\"fill_alpha\":[0.8],\"grade\":[\"B\"],\"height\":[16825.0],\"label\":[{\"grade\":\"B\"}],\"line_alpha\":[1.0],\"line_color\":[\"black\"],\"width\":[0.8],\"x\":[\"B\"],\"y\":[48412.5]}},\"id\":\"5f5675bb-c808-494b-be37-28f1e0771dcf\",\"type\":\"ColumnDataSource\"},{\"attributes\":{\"data_source\":{\"id\":\"e2ad8284-119d-4ebe-a7a0-aa3cd7ce9679\",\"type\":\"ColumnDataSource\"},\"glyph\":{\"id\":\"016bbd9c-aee7-4df8-bf8b-76bd2f68ba5c\",\"type\":\"Rect\"},\"hover_glyph\":null,\"nonselection_glyph\":null,\"selection_glyph\":null},\"id\":\"a4d3acb5-7142-408f-96f4-5ef3601adade\",\"type\":\"GlyphRenderer\"},{\"attributes\":{\"data_source\":{\"id\":\"093ca1d4-7187-4965-a81a-757331adfa3b\",\"type\":\"ColumnDataSource\"},\"glyph\":{\"id\":\"9826427a-7559-4e07-93ed-5476674b0972\",\"type\":\"Rect\"},\"hover_glyph\":null,\"nonselection_glyph\":null,\"selection_glyph\":null},\"id\":\"9c942055-3644-4dbb-ae24-fa09af4e2aed\",\"type\":\"GlyphRenderer\"},{\"attributes\":{\"callback\":null,\"column_names\":[\"color\",\"line_color\",\"x\",\"line_alpha\",\"y\",\"fill_alpha\",\"label\",\"width\",\"height\"],\"data\":{\"chart_index\":[{\"grade\":\"C\"}],\"color\":[\"firebrick\"],\"fill_alpha\":[0.8],\"grade\":[\"C\"],\"height\":[33000.0],\"label\":[{\"grade\":\"C\"}],\"line_alpha\":[1.0],\"line_color\":[\"black\"],\"width\":[0.8],\"x\":[\"C\"],\"y\":[68500.0]}},\"id\":\"093ca1d4-7187-4965-a81a-757331adfa3b\",\"type\":\"ColumnDataSource\"},{\"attributes\":{\"callback\":null,\"column_names\":[\"color\",\"line_color\",\"x\",\"line_alpha\",\"y\",\"fill_alpha\",\"label\",\"width\",\"height\"],\"data\":{\"chart_index\":[{\"grade\":\"E\"}],\"color\":[\"firebrick\"],\"fill_alpha\":[0.8],\"grade\":[\"E\"],\"height\":[83500.0],\"label\":[{\"grade\":\"E\"}],\"line_alpha\":[1.0],\"line_color\":[\"black\"],\"width\":[0.8],\"x\":[\"E\"],\"y\":[101750.0]}},\"id\":\"228313fb-2f0b-42b8-aa4a-fa6a8018ca39\",\"type\":\"ColumnDataSource\"},{\"attributes\":{\"data_source\":{\"id\":\"c43f63d1-1722-4a4c-93ca-90ae40c086fc\",\"type\":\"ColumnDataSource\"},\"glyph\":{\"id\":\"8fe6f0ef-284a-4b3b-a9a9-7e107d3b9948\",\"type\":\"Rect\"},\"hover_glyph\":null,\"nonselection_glyph\":null,\"selection_glyph\":null},\"id\":\"d699e49c-4e36-460c-a0d3-134825bd01c8\",\"type\":\"GlyphRenderer\"},{\"attributes\":{\"data_source\":{\"id\":\"7149e4cc-2fcf-4560-890c-ba880a0b382f\",\"type\":\"ColumnDataSource\"},\"glyph\":{\"id\":\"f909ecb6-99b1-4e9a-9311-6f3722b1ddb1\",\"type\":\"Segment\"},\"hover_glyph\":null,\"nonselection_glyph\":null,\"selection_glyph\":null},\"id\":\"08afee6b-29e4-49b0-9ab8-836ec2618983\",\"type\":\"GlyphRenderer\"},{\"attributes\":{\"data_source\":{\"id\":\"1afaf129-6431-41f3-8015-a7b287c74f61\",\"type\":\"ColumnDataSource\"},\"glyph\":{\"id\":\"cfe037ce-978c-49f5-b8ea-ded7dc2ee4a7\",\"type\":\"Rect\"},\"hover_glyph\":null,\"nonselection_glyph\":null,\"selection_glyph\":null},\"id\":\"9cb14bc6-19b6-46d0-9913-4691d56e83c1\",\"type\":\"GlyphRenderer\"},{\"attributes\":{\"callback\":null,\"column_names\":[\"x1s\",\"y1s\",\"y0s\",\"x0s\"],\"data\":{\"chart_index\":[{\"grade\":\"E\"},{\"grade\":\"E\"},{\"grade\":\"E\"},{\"grade\":\"E\"}],\"grade\":[\"E\",\"E\",\"E\",\"E\"],\"x0s\":[\"E:0.5\",\"E:0.65\",\"E:0.5\",\"E:0.65\"],\"x1s\":[\"E:0.5\",\"E:0.35\",\"E:0.5\",\"E:0.35\"],\"y0s\":[27000.0,27000.0,143500.0,205000.0],\"y1s\":[41700.0,27000.0,205000.0,205000.0]}},\"id\":\"57985050-874f-44fd-913d-b7b1d51f16ae\",\"type\":\"ColumnDataSource\"},{\"attributes\":{\"fill_alpha\":{\"field\":\"fill_alpha\"},\"fill_color\":{\"field\":\"color\"},\"height\":{\"field\":\"height\",\"units\":\"data\"},\"line_color\":{\"field\":\"line_color\"},\"width\":{\"field\":\"width\",\"units\":\"data\"},\"x\":{\"field\":\"x\"},\"y\":{\"field\":\"y\"}},\"id\":\"9826427a-7559-4e07-93ed-5476674b0972\",\"type\":\"Rect\"},{\"attributes\":{\"callback\":null,\"end\":945600.0},\"id\":\"7f3948d9-a2f7-4ede-983c-3fe5e1d01c5b\",\"type\":\"Range1d\"},{\"attributes\":{\"plot\":{\"id\":\"7605ec0d-eeaf-4d75-a480-8a9c849feaa9\",\"subtype\":\"Chart\",\"type\":\"Plot\"}},\"id\":\"f680a611-3368-41e9-91e8-488ae0c5aaba\",\"type\":\"WheelZoomTool\"},{\"attributes\":{\"callback\":null,\"column_names\":[\"x1s\",\"y1s\",\"y0s\",\"x0s\"],\"data\":{\"chart_index\":[{\"grade\":\"F\"},{\"grade\":\"F\"},{\"grade\":\"F\"},{\"grade\":\"F\"}],\"grade\":[\"F\",\"F\",\"F\",\"F\"],\"x0s\":[\"F:0.5\",\"F:0.65\",\"F:0.5\",\"F:0.65\"],\"x1s\":[\"F:0.5\",\"F:0.35\",\"F:0.5\",\"F:0.35\"],\"y0s\":[12000.0,12000.0,140000.0,174792.0],\"y1s\":[48000.0,12000.0,174792.0,174792.0]}},\"id\":\"ac6a3a09-49c6-4e73-8240-5cd40b54d539\",\"type\":\"ColumnDataSource\"},{\"attributes\":{\"data_source\":{\"id\":\"81c4a68e-fda5-40c5-8151-d6c0245159e8\",\"type\":\"ColumnDataSource\"},\"glyph\":{\"id\":\"0eb832e7-0ae8-4bee-83e3-36fc48e7ebc1\",\"type\":\"Rect\"},\"hover_glyph\":null,\"nonselection_glyph\":null,\"selection_glyph\":null},\"id\":\"2ec61d10-6e8e-4fea-a951-9a6756b5c454\",\"type\":\"GlyphRenderer\"},{\"attributes\":{\"data_source\":{\"id\":\"19fdc60e-c18d-4995-b0c7-27039396b41a\",\"type\":\"ColumnDataSource\"},\"glyph\":{\"id\":\"a96008a3-d5aa-460f-98f7-bec2c55d0539\",\"type\":\"Rect\"},\"hover_glyph\":null,\"nonselection_glyph\":null,\"selection_glyph\":null},\"id\":\"1c630d29-1700-4b92-bcbf-66ec64c768db\",\"type\":\"GlyphRenderer\"},{\"attributes\":{\"data_source\":{\"id\":\"efced9c8-1d5d-42de-a406-81ccac4dd74e\",\"type\":\"ColumnDataSource\"},\"glyph\":{\"id\":\"04afadee-09c4-4d72-83d0-3b2b440fb794\",\"type\":\"Segment\"},\"hover_glyph\":null,\"nonselection_glyph\":null,\"selection_glyph\":null},\"id\":\"236551e7-28ec-4cd1-81f0-d13748b08daa\",\"type\":\"GlyphRenderer\"},{\"attributes\":{\"fill_alpha\":{\"field\":\"fill_alpha\"},\"fill_color\":{\"field\":\"color\"},\"height\":{\"field\":\"height\",\"units\":\"data\"},\"line_color\":{\"field\":\"line_color\"},\"width\":{\"field\":\"width\",\"units\":\"data\"},\"x\":{\"field\":\"x\"},\"y\":{\"field\":\"y\"}},\"id\":\"cfe037ce-978c-49f5-b8ea-ded7dc2ee4a7\",\"type\":\"Rect\"},{\"attributes\":{\"data_source\":{\"id\":\"5539d6ba-b456-45c6-833d-2e3230ac50f7\",\"type\":\"ColumnDataSource\"},\"glyph\":{\"id\":\"4f1a56e4-9403-43ba-a880-fd5c9852d6c5\",\"type\":\"Circle\"},\"hover_glyph\":null,\"nonselection_glyph\":null,\"selection_glyph\":null},\"id\":\"544d461b-076f-477f-b260-c55dcf805f3a\",\"type\":\"GlyphRenderer\"},{\"attributes\":{\"line_width\":{\"value\":2},\"x0\":{\"field\":\"x0s\"},\"x1\":{\"field\":\"x1s\"},\"y0\":{\"field\":\"y0s\"},\"y1\":{\"field\":\"y1s\"}},\"id\":\"f909ecb6-99b1-4e9a-9311-6f3722b1ddb1\",\"type\":\"Segment\"},{\"attributes\":{\"callback\":null,\"column_names\":[\"color\",\"line_color\",\"x\",\"line_alpha\",\"y\",\"fill_alpha\",\"label\",\"width\",\"height\"],\"data\":{\"chart_index\":[{\"grade\":\"D\"}],\"color\":[\"firebrick\"],\"fill_alpha\":[0.8],\"grade\":[\"D\"],\"height\":[15000.0],\"label\":[{\"grade\":\"D\"}],\"line_alpha\":[1.0],\"line_color\":[\"black\"],\"width\":[0.8],\"x\":[\"D\"],\"y\":[67500.0]}},\"id\":\"ead71a67-3bad-4be1-8bdf-a25c3620c91b\",\"type\":\"ColumnDataSource\"},{\"attributes\":{\"callback\":null,\"column_names\":[\"color\",\"line_color\",\"x\",\"line_alpha\",\"y\",\"fill_alpha\",\"label\",\"width\",\"height\"],\"data\":{\"chart_index\":[{\"grade\":\"F\"}],\"color\":[\"firebrick\"],\"fill_alpha\":[0.8],\"grade\":[\"F\"],\"height\":[32000.0],\"label\":[{\"grade\":\"F\"}],\"line_alpha\":[1.0],\"line_color\":[\"black\"],\"width\":[0.8],\"x\":[\"F\"],\"y\":[64000.0]}},\"id\":\"d334c17a-bd77-4c34-8441-723c88f2f719\",\"type\":\"ColumnDataSource\"},{\"attributes\":{\"fill_alpha\":{\"value\":0.7},\"fill_color\":{\"value\":\"red\"},\"line_color\":{\"value\":\"red\"},\"size\":{\"units\":\"screen\",\"value\":5},\"x\":{\"field\":\"x_values\"},\"y\":{\"field\":\"y_values\"}},\"id\":\"5cce5046-6c25-461f-b4e0-1554f6365424\",\"type\":\"Circle\"},{\"attributes\":{\"data_source\":{\"id\":\"86cf4676-5c0e-46a8-a393-1b5eacfcf0b6\",\"type\":\"ColumnDataSource\"},\"glyph\":{\"id\":\"20c0913d-ce1d-432e-b943-bba4add9dfe4\",\"type\":\"Rect\"},\"hover_glyph\":null,\"nonselection_glyph\":null,\"selection_glyph\":null},\"id\":\"a1b11039-2084-43a0-8c1f-dae6f9c9af3f\",\"type\":\"GlyphRenderer\"},{\"attributes\":{\"fill_alpha\":{\"field\":\"fill_alpha\"},\"fill_color\":{\"field\":\"color\"},\"height\":{\"field\":\"height\",\"units\":\"data\"},\"line_color\":{\"field\":\"line_color\"},\"width\":{\"field\":\"width\",\"units\":\"data\"},\"x\":{\"field\":\"x\"},\"y\":{\"field\":\"y\"}},\"id\":\"e5fb0c86-08ef-4aa4-aa20-4821e2f37d82\",\"type\":\"Rect\"},{\"attributes\":{\"data_source\":{\"id\":\"5e588eae-947c-4835-972e-6155f19818a0\",\"type\":\"ColumnDataSource\"},\"glyph\":{\"id\":\"5cce5046-6c25-461f-b4e0-1554f6365424\",\"type\":\"Circle\"},\"hover_glyph\":null,\"nonselection_glyph\":null,\"selection_glyph\":null},\"id\":\"1a991b87-da78-40e5-9f21-06da3f562c70\",\"type\":\"GlyphRenderer\"},{\"attributes\":{\"line_width\":{\"value\":2},\"x0\":{\"field\":\"x0s\"},\"x1\":{\"field\":\"x1s\"},\"y0\":{\"field\":\"y0s\"},\"y1\":{\"field\":\"y1s\"}},\"id\":\"6b931b57-0e02-432e-85bb-364994663885\",\"type\":\"Segment\"},{\"attributes\":{\"bottom_units\":\"screen\",\"fill_alpha\":{\"value\":0.5},\"fill_color\":{\"value\":\"lightgrey\"},\"left_units\":\"screen\",\"level\":\"overlay\",\"line_alpha\":{\"value\":1.0},\"line_color\":{\"value\":\"black\"},\"line_dash\":[4,4],\"line_width\":{\"value\":2},\"plot\":null,\"render_mode\":\"css\",\"right_units\":\"screen\",\"top_units\":\"screen\"},\"id\":\"89cd7d2c-bbc3-4dc6-8780-4ab114c2b1ce\",\"type\":\"BoxAnnotation\"},{\"attributes\":{\"line_width\":{\"value\":2},\"x0\":{\"field\":\"x0s\"},\"x1\":{\"field\":\"x1s\"},\"y0\":{\"field\":\"y0s\"},\"y1\":{\"field\":\"y1s\"}},\"id\":\"2c944092-81d1-4ea6-ba98-74178ab70623\",\"type\":\"Segment\"},{\"attributes\":{\"data_source\":{\"id\":\"909b88ee-0ef2-4389-80ac-fba26294842a\",\"type\":\"ColumnDataSource\"},\"glyph\":{\"id\":\"2c944092-81d1-4ea6-ba98-74178ab70623\",\"type\":\"Segment\"},\"hover_glyph\":null,\"nonselection_glyph\":null,\"selection_glyph\":null},\"id\":\"b18bd26d-c65c-4b62-b2fa-c7edd55b7c1b\",\"type\":\"GlyphRenderer\"},{\"attributes\":{\"fill_alpha\":{\"field\":\"fill_alpha\"},\"fill_color\":{\"field\":\"color\"},\"height\":{\"field\":\"height\",\"units\":\"data\"},\"line_color\":{\"field\":\"line_color\"},\"width\":{\"field\":\"width\",\"units\":\"data\"},\"x\":{\"field\":\"x\"},\"y\":{\"field\":\"y\"}},\"id\":\"0de2d832-6623-41e9-bdc8-9ec8ebe733d1\",\"type\":\"Rect\"},{\"attributes\":{\"plot\":{\"id\":\"7605ec0d-eeaf-4d75-a480-8a9c849feaa9\",\"subtype\":\"Chart\",\"type\":\"Plot\"}},\"id\":\"5e0721d7-1a46-4502-8acf-5194265ddc88\",\"type\":\"ResetTool\"},{\"attributes\":{\"line_width\":{\"value\":2},\"x0\":{\"field\":\"x0s\"},\"x1\":{\"field\":\"x1s\"},\"y0\":{\"field\":\"y0s\"},\"y1\":{\"field\":\"y1s\"}},\"id\":\"e20d26d4-b655-4774-b637-7ec6b65bdb66\",\"type\":\"Segment\"},{\"attributes\":{\"plot\":{\"id\":\"7605ec0d-eeaf-4d75-a480-8a9c849feaa9\",\"subtype\":\"Chart\",\"type\":\"Plot\"}},\"id\":\"cc2c54ee-6039-45b3-92de-9c1bb90bcb4d\",\"type\":\"PanTool\"},{\"attributes\":{\"fill_alpha\":{\"field\":\"fill_alpha\"},\"fill_color\":{\"field\":\"color\"},\"height\":{\"field\":\"height\",\"units\":\"data\"},\"line_color\":{\"field\":\"line_color\"},\"width\":{\"field\":\"width\",\"units\":\"data\"},\"x\":{\"field\":\"x\"},\"y\":{\"field\":\"y\"}},\"id\":\"a96008a3-d5aa-460f-98f7-bec2c55d0539\",\"type\":\"Rect\"},{\"attributes\":{},\"id\":\"6efef01b-0def-402c-8f6d-5a837fb3ed9a\",\"type\":\"BasicTickFormatter\"},{\"attributes\":{\"fill_alpha\":{\"field\":\"fill_alpha\"},\"fill_color\":{\"field\":\"color\"},\"height\":{\"field\":\"height\",\"units\":\"data\"},\"line_color\":{\"field\":\"line_color\"},\"width\":{\"field\":\"width\",\"units\":\"data\"},\"x\":{\"field\":\"x\"},\"y\":{\"field\":\"y\"}},\"id\":\"d1bcb9d3-553b-48a4-a120-f4ecb8b58727\",\"type\":\"Rect\"},{\"attributes\":{\"callback\":null,\"column_names\":[\"color\",\"line_color\",\"x\",\"line_alpha\",\"y\",\"fill_alpha\",\"label\",\"width\",\"height\"],\"data\":{\"chart_index\":[{\"grade\":\"G\"}],\"color\":[\"firebrick\"],\"fill_alpha\":[0.8],\"grade\":[\"G\"],\"height\":[23751.0],\"label\":[{\"grade\":\"G\"}],\"line_alpha\":[1.0],\"line_color\":[\"black\"],\"width\":[0.8],\"x\":[\"G\"],\"y\":[89377.5]}},\"id\":\"86cf4676-5c0e-46a8-a393-1b5eacfcf0b6\",\"type\":\"ColumnDataSource\"},{\"attributes\":{\"data_source\":{\"id\":\"5f5675bb-c808-494b-be37-28f1e0771dcf\",\"type\":\"ColumnDataSource\"},\"glyph\":{\"id\":\"f2f9bcbe-3643-4f8f-9f6e-e5ebb430181a\",\"type\":\"Rect\"},\"hover_glyph\":null,\"nonselection_glyph\":null,\"selection_glyph\":null},\"id\":\"430fd864-7440-4be8-ac6d-f3b4d3d6155f\",\"type\":\"GlyphRenderer\"},{\"attributes\":{\"data_source\":{\"id\":\"b0b9d3e6-f455-4d08-829a-93ade95aeebe\",\"type\":\"ColumnDataSource\"},\"glyph\":{\"id\":\"2ff2151d-5dca-4463-8024-dc6fa4bb5555\",\"type\":\"Rect\"},\"hover_glyph\":null,\"nonselection_glyph\":null,\"selection_glyph\":null},\"id\":\"ba131156-cd26-4fb5-9cec-c929cd887fe8\",\"type\":\"GlyphRenderer\"},{\"attributes\":{\"callback\":null,\"column_names\":[\"x1s\",\"y1s\",\"y0s\",\"x0s\"],\"data\":{\"chart_index\":[{\"grade\":\"C\"},{\"grade\":\"C\"},{\"grade\":\"C\"},{\"grade\":\"C\"}],\"grade\":[\"C\",\"C\",\"C\",\"C\"],\"x0s\":[\"C:0.5\",\"C:0.65\",\"C:0.5\",\"C:0.65\"],\"x1s\":[\"C:0.5\",\"C:0.35\",\"C:0.5\",\"C:0.35\"],\"y0s\":[21500.0,21500.0,85000.0,151885.0],\"y1s\":[40410.0,21500.0,151885.0,151885.0]}},\"id\":\"7149e4cc-2fcf-4560-890c-ba880a0b382f\",\"type\":\"ColumnDataSource\"},{\"attributes\":{\"fill_alpha\":{\"value\":0.7},\"fill_color\":{\"value\":\"red\"},\"line_color\":{\"value\":\"red\"},\"size\":{\"units\":\"screen\",\"value\":5},\"x\":{\"field\":\"x_values\"},\"y\":{\"field\":\"y_values\"}},\"id\":\"11df8e8b-30aa-4a30-8608-e8914f87de6e\",\"type\":\"Circle\"},{\"attributes\":{\"callback\":null,\"column_names\":[\"color\",\"line_color\",\"x\",\"line_alpha\",\"y\",\"fill_alpha\",\"label\",\"width\",\"height\"],\"data\":{\"chart_index\":[{\"grade\":\"D\"}],\"color\":[\"firebrick\"],\"fill_alpha\":[0.8],\"grade\":[\"D\"],\"height\":[17000.0],\"label\":[{\"grade\":\"D\"}],\"line_alpha\":[1.0],\"line_color\":[\"black\"],\"width\":[0.8],\"x\":[\"D\"],\"y\":[51500.0]}},\"id\":\"19fdc60e-c18d-4995-b0c7-27039396b41a\",\"type\":\"ColumnDataSource\"},{\"attributes\":{\"fill_alpha\":{\"field\":\"fill_alpha\"},\"fill_color\":{\"field\":\"color\"},\"height\":{\"field\":\"height\",\"units\":\"data\"},\"line_color\":{\"field\":\"line_color\"},\"width\":{\"field\":\"width\",\"units\":\"data\"},\"x\":{\"field\":\"x\"},\"y\":{\"field\":\"y\"}},\"id\":\"016bbd9c-aee7-4df8-bf8b-76bd2f68ba5c\",\"type\":\"Rect\"},{\"attributes\":{\"callback\":null,\"column_names\":[\"y_values\",\"x_values\"],\"data\":{\"chart_index\":[{\"grade\":\"B\"},{\"grade\":\"B\"},{\"grade\":\"B\"}],\"grade\":[\"B\",\"B\",\"B\"],\"x_values\":[\"B:0.5\",\"B:0.5\",\"B:0.5\"],\"y_values\":[390000.0,900000.0,130000.0]}},\"id\":\"5e588eae-947c-4835-972e-6155f19818a0\",\"type\":\"ColumnDataSource\"},{\"attributes\":{\"plot\":null,\"text\":\"Average Interest Rate by Credit Grade\"},\"id\":\"f70e25f7-4c5b-447a-b56b-f61fc68a49b8\",\"type\":\"Title\"},{\"attributes\":{\"line_width\":{\"value\":2},\"x0\":{\"field\":\"x0s\"},\"x1\":{\"field\":\"x1s\"},\"y0\":{\"field\":\"y0s\"},\"y1\":{\"field\":\"y1s\"}},\"id\":\"997032da-1523-486d-abed-174870de89de\",\"type\":\"Segment\"},{\"attributes\":{},\"id\":\"b2991a6b-19d7-4b85-a861-b5294bccd937\",\"type\":\"CategoricalTickFormatter\"},{\"attributes\":{\"data_source\":{\"id\":\"35ddc92c-9232-4d08-b799-2c9b8e6f60ba\",\"type\":\"ColumnDataSource\"},\"glyph\":{\"id\":\"e20d26d4-b655-4774-b637-7ec6b65bdb66\",\"type\":\"Segment\"},\"hover_glyph\":null,\"nonselection_glyph\":null,\"selection_glyph\":null},\"id\":\"09fba8a9-0a54-45d0-a27f-20246fba6cb8\",\"type\":\"GlyphRenderer\"},{\"attributes\":{\"data_source\":{\"id\":\"55fb875d-ae39-4f5d-8d89-55c4bb9dfaff\",\"type\":\"ColumnDataSource\"},\"glyph\":{\"id\":\"0de2d832-6623-41e9-bdc8-9ec8ebe733d1\",\"type\":\"Rect\"},\"hover_glyph\":null,\"nonselection_glyph\":null,\"selection_glyph\":null},\"id\":\"e2f66d5a-9f59-4661-a9fb-e3a6a9659bcf\",\"type\":\"GlyphRenderer\"}],\"root_ids\":[\"7605ec0d-eeaf-4d75-a480-8a9c849feaa9\"]},\"title\":\"Bokeh Application\",\"version\":\"0.12.2\"}};\n",
       "            var render_items = [{\"docid\":\"1543969d-bee4-4913-a07f-b055a54c5585\",\"elementid\":\"fe50e06f-061a-403f-8130-e3e9f7bf1b99\",\"modelid\":\"7605ec0d-eeaf-4d75-a480-8a9c849feaa9\"}];\n",
       "            \n",
       "            Bokeh.embed.embed_items(docs_json, render_items);\n",
       "        });\n",
       "      },\n",
       "      function(Bokeh) {\n",
       "      }\n",
       "    ];\n",
       "  \n",
       "    function run_inline_js() {\n",
       "      \n",
       "      if ((window.Bokeh !== undefined) || (force === \"1\")) {\n",
       "        for (var i = 0; i < inline_js.length; i++) {\n",
       "          inline_js[i](window.Bokeh);\n",
       "        }if (force === \"1\") {\n",
       "          display_loaded();\n",
       "        }} else if (Date.now() < window._bokeh_timeout) {\n",
       "        setTimeout(run_inline_js, 100);\n",
       "      } else if (!window._bokeh_failed_load) {\n",
       "        console.log(\"Bokeh: BokehJS failed to load within specified timeout.\");\n",
       "        window._bokeh_failed_load = true;\n",
       "      } else if (!force) {\n",
       "        var cell = $(\"#fe50e06f-061a-403f-8130-e3e9f7bf1b99\").parents('.cell').data().cell;\n",
       "        cell.output_area.append_execute_result(NB_LOAD_WARNING)\n",
       "      }\n",
       "  \n",
       "    }\n",
       "  \n",
       "    if (window._bokeh_is_loading === 0) {\n",
       "      console.log(\"Bokeh: BokehJS loaded, going straight to plotting\");\n",
       "      run_inline_js();\n",
       "    } else {\n",
       "      load_libs(js_urls, function() {\n",
       "        console.log(\"Bokeh: BokehJS plotting callback run at\", now());\n",
       "        run_inline_js();\n",
       "      });\n",
       "    }\n",
       "  }(this));\n",
       "</script>"
      ]
     },
     "metadata": {},
     "output_type": "display_data"
    }
   ],
   "source": [
    "p = BoxPlot(samp, values='income', label='grade', color='firebrick',\n",
    "                      title=\"Average Interest Rate by Credit Grade\")\n",
    "\n",
    "bokeh.io.show(p)"
   ]
  },
  {
   "cell_type": "markdown",
   "metadata": {},
   "source": [
    "## Binning Continuous Values"
   ]
  },
  {
   "cell_type": "markdown",
   "metadata": {},
   "source": [
    "Locate the minimum and maximum values.  Scalars are returned.  Returning a row using a minimum value is illustrated <a href=\"http://nbviewer.jupyter.org/github/RandyBetancourt/PythonForSASUsers/blob/master/Chapter%2009%20--%20Panda%20Time%20Series%20and%20Date%20Handling.ipynb#Return-a-Row-using-a-Minimum-Value\"> here</a>  and for maximum value <a href=\"http://nbviewer.jupyter.org/github/RandyBetancourt/PythonForSASUsers/blob/master/Chapter%2009%20--%20Panda%20Time%20Series%20and%20Date%20Handling.ipynb#Return-a-Row-using-a-Maximum-Value\"> here</a>."
   ]
  },
  {
   "cell_type": "code",
   "execution_count": 40,
   "metadata": {
    "collapsed": false
   },
   "outputs": [
    {
     "name": "stdout",
     "output_type": "stream",
     "text": [
      "0.0\n",
      "29.99\n"
     ]
    }
   ],
   "source": [
    "print(df.dti.min())\n",
    "print(df.dti.max())"
   ]
  },
  {
   "cell_type": "markdown",
   "metadata": {},
   "source": [
    " "
   ]
  },
  {
   "cell_type": "markdown",
   "metadata": {},
   "source": [
    "Create the <a href=\"http://nbviewer.jupyter.org/github/RandyBetancourt/PythonForSASUsers/blob/master/Chapter%2002%20--%20Data%20Structures.ipynb#list\"> list</a> 'bins' containing integer values used to define bin levels.  Construct the list 'names' to define the labels for the bins. "
   ]
  },
  {
   "cell_type": "code",
   "execution_count": 41,
   "metadata": {
    "collapsed": false
   },
   "outputs": [],
   "source": [
    "bins = [0, 5, 10, 15, 20, 25, 30]\n",
    "names=['0-5%', '5-10%', '10-15%', '15-20%', '20-25%', '25-30%']\n",
    "df['dti_cat'] = pd.cut(df['dti'], bins, labels=names, include_lowest=True)"
   ]
  },
  {
   "cell_type": "markdown",
   "metadata": {},
   "source": [
    " "
   ]
  },
  {
   "cell_type": "markdown",
   "metadata": {},
   "source": [
    "Call pd.value_counts() method to return a count of values for each bin level. "
   ]
  },
  {
   "cell_type": "code",
   "execution_count": 42,
   "metadata": {
    "collapsed": false
   },
   "outputs": [
    {
     "data": {
      "text/plain": [
       "10-15%    10502\n",
       "15-20%     9775\n",
       "5-10%      8563\n",
       "20-25%     7376\n",
       "0-5%       5552\n",
       "25-30%      827\n",
       "Name: dti_cat, dtype: int64"
      ]
     },
     "execution_count": 42,
     "metadata": {},
     "output_type": "execute_result"
    }
   ],
   "source": [
    "pd.value_counts(df['dti_cat'])"
   ]
  },
  {
   "cell_type": "markdown",
   "metadata": {},
   "source": [
    " "
   ]
  },
  {
   "cell_type": "markdown",
   "metadata": {},
   "source": [
    "Return the count of missing values for the df['income'] column."
   ]
  },
  {
   "cell_type": "code",
   "execution_count": 43,
   "metadata": {
    "collapsed": false
   },
   "outputs": [
    {
     "data": {
      "text/plain": [
       "4"
      ]
     },
     "execution_count": 43,
     "metadata": {},
     "output_type": "execute_result"
    }
   ],
   "source": [
    "df['income'].isnull().sum()"
   ]
  },
  {
   "cell_type": "markdown",
   "metadata": {},
   "source": [
    " "
   ]
  },
  {
   "cell_type": "markdown",
   "metadata": {},
   "source": [
    "Call the .fillna() method to replace missing values for the df['income'] column with the calcuated column mean.  Additional examples for detecting and replacing missing values are described <a href=\"http://nbviewer.jupyter.org/github/RandyBetancourt/PythonForSASUsers/blob/master/Chapter%2004%20--%20Pandas%2C%20Part%201.ipynb#Handling-Missing-Data\"> here</a>."
   ]
  },
  {
   "cell_type": "code",
   "execution_count": 44,
   "metadata": {
    "collapsed": true
   },
   "outputs": [],
   "source": [
    "df['income'] = df[[\"income\"]].fillna(df.income.mean())"
   ]
  },
  {
   "cell_type": "markdown",
   "metadata": {},
   "source": [
    " "
   ]
  },
  {
   "cell_type": "code",
   "execution_count": 45,
   "metadata": {
    "collapsed": false
   },
   "outputs": [
    {
     "name": "stdout",
     "output_type": "stream",
     "text": [
      "6000000.0\n",
      "1896.0\n"
     ]
    }
   ],
   "source": [
    "print(df.income.max())\n",
    "print(df.income.min())"
   ]
  },
  {
   "cell_type": "markdown",
   "metadata": {},
   "source": [
    " "
   ]
  },
  {
   "cell_type": "markdown",
   "metadata": {},
   "source": [
    "Call the pd.qcut() method for creating deciles for the df['income'] column and copy them into the new df['inc_cat'] column.  A more detailed example of creating deciles is described in the section <a href=\"http://nbviewer.jupyter.org/github/RandyBetancourt/PythonForSASUsers/blob/master/Chapter%2010%20--%20Groupby.ipynb#Understanding-Binning\"> Understanding Binning</a> in Chapter 10--GroupBy."
   ]
  },
  {
   "cell_type": "code",
   "execution_count": 46,
   "metadata": {
    "collapsed": false
   },
   "outputs": [],
   "source": [
    "df['inc_cat'] = pd.qcut(df['income'].values, 10).codes"
   ]
  },
  {
   "cell_type": "markdown",
   "metadata": {},
   "source": [
    " "
   ]
  },
  {
   "cell_type": "markdown",
   "metadata": {},
   "source": [
    "Return the count of values from the income decile values in the df['inc_cat'] column."
   ]
  },
  {
   "cell_type": "code",
   "execution_count": 47,
   "metadata": {
    "collapsed": false
   },
   "outputs": [
    {
     "data": {
      "text/plain": [
       "0    5088\n",
       "7    4436\n",
       "4    4309\n",
       "3    4306\n",
       "2    4265\n",
       "9    4260\n",
       "6    4253\n",
       "5    4163\n",
       "8    4082\n",
       "1    3433\n",
       "Name: inc_cat, dtype: int64"
      ]
     },
     "execution_count": 47,
     "metadata": {},
     "output_type": "execute_result"
    }
   ],
   "source": [
    "pd.value_counts(df['inc_cat'])"
   ]
  },
  {
   "cell_type": "markdown",
   "metadata": {},
   "source": [
    " "
   ]
  },
  {
   "cell_type": "markdown",
   "metadata": {},
   "source": [
    "The df['inc_cat'] column containing income deciles used as the rows and values for df['grade'] nested inside values from the df['ln_plcy'] column as the header in a Crosstab."
   ]
  },
  {
   "cell_type": "code",
   "execution_count": 48,
   "metadata": {
    "collapsed": false,
    "scrolled": true
   },
   "outputs": [
    {
     "data": {
      "text/html": [
       "<div>\n",
       "<table border=\"1\" class=\"dataframe\">\n",
       "  <thead>\n",
       "    <tr>\n",
       "      <th>ln_plcy</th>\n",
       "      <th colspan=\"7\" halign=\"left\">False</th>\n",
       "      <th colspan=\"7\" halign=\"left\">True</th>\n",
       "      <th>All</th>\n",
       "    </tr>\n",
       "    <tr>\n",
       "      <th>grade</th>\n",
       "      <th>A</th>\n",
       "      <th>B</th>\n",
       "      <th>C</th>\n",
       "      <th>D</th>\n",
       "      <th>E</th>\n",
       "      <th>F</th>\n",
       "      <th>G</th>\n",
       "      <th>A</th>\n",
       "      <th>B</th>\n",
       "      <th>C</th>\n",
       "      <th>D</th>\n",
       "      <th>E</th>\n",
       "      <th>F</th>\n",
       "      <th>G</th>\n",
       "      <th></th>\n",
       "    </tr>\n",
       "    <tr>\n",
       "      <th>inc_cat</th>\n",
       "      <th></th>\n",
       "      <th></th>\n",
       "      <th></th>\n",
       "      <th></th>\n",
       "      <th></th>\n",
       "      <th></th>\n",
       "      <th></th>\n",
       "      <th></th>\n",
       "      <th></th>\n",
       "      <th></th>\n",
       "      <th></th>\n",
       "      <th></th>\n",
       "      <th></th>\n",
       "      <th></th>\n",
       "      <th></th>\n",
       "    </tr>\n",
       "  </thead>\n",
       "  <tbody>\n",
       "    <tr>\n",
       "      <th>0</th>\n",
       "      <td>23</td>\n",
       "      <td>73</td>\n",
       "      <td>105</td>\n",
       "      <td>130</td>\n",
       "      <td>92</td>\n",
       "      <td>31</td>\n",
       "      <td>18</td>\n",
       "      <td>1219</td>\n",
       "      <td>1468</td>\n",
       "      <td>1025</td>\n",
       "      <td>625</td>\n",
       "      <td>213</td>\n",
       "      <td>51</td>\n",
       "      <td>15</td>\n",
       "      <td>5088</td>\n",
       "    </tr>\n",
       "    <tr>\n",
       "      <th>1</th>\n",
       "      <td>6</td>\n",
       "      <td>29</td>\n",
       "      <td>46</td>\n",
       "      <td>54</td>\n",
       "      <td>57</td>\n",
       "      <td>19</td>\n",
       "      <td>9</td>\n",
       "      <td>824</td>\n",
       "      <td>999</td>\n",
       "      <td>711</td>\n",
       "      <td>427</td>\n",
       "      <td>183</td>\n",
       "      <td>57</td>\n",
       "      <td>12</td>\n",
       "      <td>3433</td>\n",
       "    </tr>\n",
       "    <tr>\n",
       "      <th>2</th>\n",
       "      <td>10</td>\n",
       "      <td>25</td>\n",
       "      <td>71</td>\n",
       "      <td>85</td>\n",
       "      <td>53</td>\n",
       "      <td>20</td>\n",
       "      <td>17</td>\n",
       "      <td>1025</td>\n",
       "      <td>1264</td>\n",
       "      <td>849</td>\n",
       "      <td>522</td>\n",
       "      <td>242</td>\n",
       "      <td>62</td>\n",
       "      <td>20</td>\n",
       "      <td>4265</td>\n",
       "    </tr>\n",
       "    <tr>\n",
       "      <th>3</th>\n",
       "      <td>15</td>\n",
       "      <td>39</td>\n",
       "      <td>57</td>\n",
       "      <td>62</td>\n",
       "      <td>58</td>\n",
       "      <td>23</td>\n",
       "      <td>16</td>\n",
       "      <td>1034</td>\n",
       "      <td>1196</td>\n",
       "      <td>887</td>\n",
       "      <td>565</td>\n",
       "      <td>263</td>\n",
       "      <td>75</td>\n",
       "      <td>16</td>\n",
       "      <td>4306</td>\n",
       "    </tr>\n",
       "    <tr>\n",
       "      <th>4</th>\n",
       "      <td>8</td>\n",
       "      <td>26</td>\n",
       "      <td>65</td>\n",
       "      <td>66</td>\n",
       "      <td>55</td>\n",
       "      <td>25</td>\n",
       "      <td>16</td>\n",
       "      <td>1070</td>\n",
       "      <td>1221</td>\n",
       "      <td>805</td>\n",
       "      <td>531</td>\n",
       "      <td>309</td>\n",
       "      <td>91</td>\n",
       "      <td>21</td>\n",
       "      <td>4309</td>\n",
       "    </tr>\n",
       "    <tr>\n",
       "      <th>5</th>\n",
       "      <td>10</td>\n",
       "      <td>29</td>\n",
       "      <td>54</td>\n",
       "      <td>54</td>\n",
       "      <td>40</td>\n",
       "      <td>20</td>\n",
       "      <td>23</td>\n",
       "      <td>1023</td>\n",
       "      <td>1177</td>\n",
       "      <td>789</td>\n",
       "      <td>524</td>\n",
       "      <td>281</td>\n",
       "      <td>110</td>\n",
       "      <td>29</td>\n",
       "      <td>4163</td>\n",
       "    </tr>\n",
       "    <tr>\n",
       "      <th>6</th>\n",
       "      <td>12</td>\n",
       "      <td>37</td>\n",
       "      <td>50</td>\n",
       "      <td>62</td>\n",
       "      <td>45</td>\n",
       "      <td>25</td>\n",
       "      <td>13</td>\n",
       "      <td>1037</td>\n",
       "      <td>1224</td>\n",
       "      <td>753</td>\n",
       "      <td>537</td>\n",
       "      <td>303</td>\n",
       "      <td>122</td>\n",
       "      <td>33</td>\n",
       "      <td>4253</td>\n",
       "    </tr>\n",
       "    <tr>\n",
       "      <th>7</th>\n",
       "      <td>16</td>\n",
       "      <td>41</td>\n",
       "      <td>67</td>\n",
       "      <td>55</td>\n",
       "      <td>57</td>\n",
       "      <td>33</td>\n",
       "      <td>23</td>\n",
       "      <td>1033</td>\n",
       "      <td>1263</td>\n",
       "      <td>791</td>\n",
       "      <td>559</td>\n",
       "      <td>318</td>\n",
       "      <td>140</td>\n",
       "      <td>40</td>\n",
       "      <td>4436</td>\n",
       "    </tr>\n",
       "    <tr>\n",
       "      <th>8</th>\n",
       "      <td>9</td>\n",
       "      <td>43</td>\n",
       "      <td>66</td>\n",
       "      <td>57</td>\n",
       "      <td>38</td>\n",
       "      <td>23</td>\n",
       "      <td>18</td>\n",
       "      <td>940</td>\n",
       "      <td>1094</td>\n",
       "      <td>763</td>\n",
       "      <td>499</td>\n",
       "      <td>316</td>\n",
       "      <td>160</td>\n",
       "      <td>56</td>\n",
       "      <td>4082</td>\n",
       "    </tr>\n",
       "    <tr>\n",
       "      <th>9</th>\n",
       "      <td>14</td>\n",
       "      <td>45</td>\n",
       "      <td>66</td>\n",
       "      <td>77</td>\n",
       "      <td>49</td>\n",
       "      <td>28</td>\n",
       "      <td>41</td>\n",
       "      <td>874</td>\n",
       "      <td>1115</td>\n",
       "      <td>727</td>\n",
       "      <td>534</td>\n",
       "      <td>429</td>\n",
       "      <td>185</td>\n",
       "      <td>76</td>\n",
       "      <td>4260</td>\n",
       "    </tr>\n",
       "    <tr>\n",
       "      <th>All</th>\n",
       "      <td>123</td>\n",
       "      <td>387</td>\n",
       "      <td>647</td>\n",
       "      <td>702</td>\n",
       "      <td>544</td>\n",
       "      <td>247</td>\n",
       "      <td>194</td>\n",
       "      <td>10079</td>\n",
       "      <td>12021</td>\n",
       "      <td>8100</td>\n",
       "      <td>5323</td>\n",
       "      <td>2857</td>\n",
       "      <td>1053</td>\n",
       "      <td>318</td>\n",
       "      <td>42595</td>\n",
       "    </tr>\n",
       "  </tbody>\n",
       "</table>\n",
       "</div>"
      ],
      "text/plain": [
       "ln_plcy False                                 True                           \\\n",
       "grade       A    B    C    D    E    F    G      A      B     C     D     E   \n",
       "inc_cat                                                                       \n",
       "0          23   73  105  130   92   31   18   1219   1468  1025   625   213   \n",
       "1           6   29   46   54   57   19    9    824    999   711   427   183   \n",
       "2          10   25   71   85   53   20   17   1025   1264   849   522   242   \n",
       "3          15   39   57   62   58   23   16   1034   1196   887   565   263   \n",
       "4           8   26   65   66   55   25   16   1070   1221   805   531   309   \n",
       "5          10   29   54   54   40   20   23   1023   1177   789   524   281   \n",
       "6          12   37   50   62   45   25   13   1037   1224   753   537   303   \n",
       "7          16   41   67   55   57   33   23   1033   1263   791   559   318   \n",
       "8           9   43   66   57   38   23   18    940   1094   763   499   316   \n",
       "9          14   45   66   77   49   28   41    874   1115   727   534   429   \n",
       "All       123  387  647  702  544  247  194  10079  12021  8100  5323  2857   \n",
       "\n",
       "ln_plcy               All  \n",
       "grade       F    G         \n",
       "inc_cat                    \n",
       "0          51   15   5088  \n",
       "1          57   12   3433  \n",
       "2          62   20   4265  \n",
       "3          75   16   4306  \n",
       "4          91   21   4309  \n",
       "5         110   29   4163  \n",
       "6         122   33   4253  \n",
       "7         140   40   4436  \n",
       "8         160   56   4082  \n",
       "9         185   76   4260  \n",
       "All      1053  318  42595  "
      ]
     },
     "execution_count": 48,
     "metadata": {},
     "output_type": "execute_result"
    }
   ],
   "source": [
    "pd.crosstab(df.inc_cat, [df.ln_plcy, df.grade] , margins=True)"
   ]
  },
  {
   "cell_type": "markdown",
   "metadata": {
    "collapsed": true
   },
   "source": [
    " "
   ]
  },
  {
   "cell_type": "markdown",
   "metadata": {},
   "source": [
    "## Save to Disk"
   ]
  },
  {
   "cell_type": "markdown",
   "metadata": {},
   "source": [
    "The .to_pickle() method serializes the 'df' DataFrame in order to write to disk.  The .to_pickle() method is documented <a href=\"http://pandas.pydata.org/pandas-docs/stable/generated/pandas.DataFrame.to_pickle.html\"> here</a>.  The DataFrame is read in <a href=\"http://nbviewer.jupyter.org/github/RandyBetancourt/PythonForSASUsers/blob/master/Chapter%2010%20--%20Groupby.ipynb\"> Chapter 10-- GroupBy</a>."
   ]
  },
  {
   "cell_type": "code",
   "execution_count": 49,
   "metadata": {
    "collapsed": true
   },
   "outputs": [],
   "source": [
    "df.to_pickle('lending_club.pkl')"
   ]
  },
  {
   "cell_type": "markdown",
   "metadata": {},
   "source": [
    " "
   ]
  },
  {
   "cell_type": "markdown",
   "metadata": {},
   "source": [
    "We can also write the 'lc0' and 'lc1' DataFrames out as a .csv files."
   ]
  },
  {
   "cell_type": "code",
   "execution_count": 50,
   "metadata": {
    "collapsed": false
   },
   "outputs": [],
   "source": [
    "lc0.to_csv(\"C:\\Data\\\\Loans_lc0.csv\")\n",
    "lc1.to_csv(\"C:\\Data\\\\Loans_lc1.csv\")"
   ]
  },
  {
   "cell_type": "markdown",
   "metadata": {},
   "source": [
    "## Resources\n",
    "\n",
    "Delete Duplicates in Pandas, by Chris Albon located <a href=\"http://chrisalbon.com/python/pandas_delete_duplicates.html\"> here</a>.\n",
    "\n",
    "pandas.cut API doc located <a href=\"http://pandas.pydata.org/pandas-docs/stable/generated/pandas.cut.html\"> here</a>."
   ]
  },
  {
   "cell_type": "markdown",
   "metadata": {
    "collapsed": true
   },
   "source": [
    "## Navigation\n",
    "\n",
    "<a href=\"http://nbviewer.jupyter.org/github/RandyBetancourt/PythonForSASUsers/tree/master/\"> Return to Chapter List </a>    "
   ]
  }
 ],
 "metadata": {
  "anaconda-cloud": {},
  "kernelspec": {
   "display_name": "Python [Root]",
   "language": "python",
   "name": "Python [Root]"
  },
  "language_info": {
   "codemirror_mode": {
    "name": "ipython",
    "version": 3
   },
   "file_extension": ".py",
   "mimetype": "text/x-python",
   "name": "python",
   "nbconvert_exporter": "python",
   "pygments_lexer": "ipython3",
   "version": "3.5.2"
  }
 },
 "nbformat": 4,
 "nbformat_minor": 0
}
