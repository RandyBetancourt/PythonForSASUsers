{
 "cells": [
  {
   "cell_type": "markdown",
   "metadata": {},
   "source": [
    "# Chapter 08 -- Date, Time, and Timedelta Objects"
   ]
  },
  {
   "cell_type": "markdown",
   "metadata": {},
   "source": [
    "## Topics Covered:\n",
    "\n",
    "<a href=\"http://nbviewer.jupyter.org/github/RandyBetancourt/PythonForSASUsers/blob/master/Chapter%2008%20--%20Date%2C%20Time%2C%20and%20%20Timedelta%20Objects.ipynb#String-Literal-Mapped-to-datetime-timestamp\"> String Literal Mapped to datetime timestamp </a>\n",
    "\n",
    "<a href=\"http://nbviewer.jupyter.org/github/RandyBetancourt/PythonForSASUsers/blob/master/Chapter%2008%20--%20Date%2C%20Time%2C%20and%20%20Timedelta%20Objects.ipynb#date-objects\"> date objects </a>\n",
    "\n",
    "<a href=\"http://nbviewer.jupyter.org/github/RandyBetancourt/PythonForSASUsers/blob/master/Chapter%2008%20--%20Date%2C%20Time%2C%20and%20%20Timedelta%20Objects.ipynb#strftime()-and-strptime()-methods\"> strftime() and strptime() methods </a>\n",
    "\n",
    "<a href=\"http://nbviewer.jupyter.org/github/RandyBetancourt/PythonForSASUsers/blob/master/Chapter%2008%20--%20Date%2C%20Time%2C%20and%20%20Timedelta%20Objects.ipynb#dateutil.parser\"> dateutil.parser </a>\n",
    "\n",
    "<a href=\"http://nbviewer.jupyter.org/github/RandyBetancourt/PythonForSASUsers/blob/master/Chapter%2008%20--%20Date%2C%20Time%2C%20and%20%20Timedelta%20Objects.ipynb#time-objects\"> time objects </a>\n",
    "\n",
    "<a href=\"http://nbviewer.jupyter.org/github/RandyBetancourt/PythonForSASUsers/blob/master/Chapter%2008%20--%20Date%2C%20Time%2C%20and%20%20Timedelta%20Objects.ipynb#timedelta-objects\"> timedelta objects </a>\n",
    "\n",
    "<a href=\"http://nbviewer.jupyter.org/github/RandyBetancourt/PythonForSASUsers/blob/master/Chapter%2008%20--%20Date%2C%20Time%2C%20and%20%20Timedelta%20Objects.ipynb#Resources\"> Resources </a>"
   ]
  },
  {
   "cell_type": "markdown",
   "metadata": {},
   "source": [
    "  "
   ]
  },
  {
   "cell_type": "markdown",
   "metadata": {},
   "source": [
    "<a href=\"http://nbviewer.jupyter.org/github/RandyBetancourt/PythonForSASUsers/blob/master/Chapter%2003%20%20--%20Data%20Types%20and%20Formatting.ipynb\">\n",
    "Chapter 3, Data Types and Formatting</a> briefly introduces Python date and datetimes.  \n",
    "\n",
    "This chapter covers Python Date, Time, and Datetime objects and details for handling these objects as well as mapping strings to datetime values and the reverse operation.  By understanding the lower-level behaviors of Date and Time objects, you will be able to grasp <a href=\"http://nbviewer.jupyter.org/github/RandyBetancourt/PythonForSASUsers/blob/master/Chapter%2009%20--%20Panda%20Time%20Series%20and%20Date%20Handling.ipynb\"> Chapter 9, Pandas Time Series Capabilities and Datetime Handling</a>.\n",
    "\n",
    "Many time series have fixed interval or frequency, for example, home sales on a monthly basis or web log record processed every 15 seconds.  Time series may also have irregular frequencies, in which case you may need to standardize, reshape, or change frequencies."
   ]
  },
  {
   "cell_type": "markdown",
   "metadata": {
    "collapsed": true
   },
   "source": [
    "## Definitions\n",
    "\n",
    "    - Timestamps are instances in time\n",
    "\n",
    "    - Periods such as the current month of current year\n",
    "    \n",
    "    - Intervals indicated by start and end timestamps\n",
    "\n",
    "Recall, you can always return an object's type with the type method:\n",
    "\n",
    "    type()\n",
    "    "
   ]
  },
  {
   "cell_type": "markdown",
   "metadata": {},
   "source": [
    "In Python the datetime class be broken down into 5 categories:\n",
    "\n",
    "The first 4 will be examined briefly.\n",
    "\n",
    "<table border=\"1\">\n",
    "  <tr>\n",
    "    <td> <b>Object Type </b></td>\n",
    "    <td> <b>Description</b></td>\n",
    "    <td> <b>SAS Analogs</b></td>\n",
    "  </tr>\n",
    "    <td> date </td>\n",
    "    <td> Stores calendar date(year, month, & day) </td>\n",
    "    <td> SAS date value = ' 24Oct16 ' d  </td>\n",
    "  </tr>\n",
    "  <tr>\n",
    "    <td> time </td>\n",
    "    <td> Stores time (hours, minutes, seconds, & microseconds) </td>\n",
    "    <td> SAS time value = ' 12:34:56 ' t </td>\n",
    "  </tr>\n",
    "\n",
    "   <tr>\n",
    "    <td> datetime </td>\n",
    "    <td> Stores date & time together </td>\n",
    "    <td> SAS datetime value = ' 14Oct16:12:34:56 ' dt </td>\n",
    "  </tr>\n",
    "  <tr>\n",
    "    <td> timedelta </td>\n",
    "    <td> The difference between two datetime values </td>\n",
    "    <td> SAS datetime interval functions </td>\n",
    "  </tr>\n",
    "  <tr>\n",
    " \n",
    "    <td> tzinfo </td>\n",
    "    <td> Hanldes timezone related issues </td>\n",
    "    <td> Not generally dealt with </td>\n",
    "  </tr>\n",
    "  <tr>\n",
    "</table>"
   ]
  },
  {
   "cell_type": "markdown",
   "metadata": {},
   "source": [
    " "
   ]
  },
  {
   "cell_type": "markdown",
   "metadata": {},
   "source": [
    "   "
   ]
  },
  {
   "cell_type": "code",
   "execution_count": 1,
   "metadata": {
    "collapsed": true
   },
   "outputs": [],
   "source": [
    "from datetime import date, time, datetime, timedelta\n",
    "import numpy as np\n",
    "import pandas as pd\n",
    "from pandas import Series, DataFrame, Index"
   ]
  },
  {
   "cell_type": "markdown",
   "metadata": {
    "collapsed": true
   },
   "source": [
    "## String Literal Mapped to datetime timestamp"
   ]
  },
  {
   "cell_type": "markdown",
   "metadata": {},
   "source": [
    "A timestamp is time value that represents a count of the number of seconds from the start of an epoch.  This is similiar to SAS datetime values that represent an off-set from an epoch beginning at midnight.   "
   ]
  },
  {
   "cell_type": "code",
   "execution_count": 2,
   "metadata": {
    "collapsed": false
   },
   "outputs": [],
   "source": [
    "pdt = pd.Timestamp('2016-10-24')"
   ]
  },
  {
   "cell_type": "code",
   "execution_count": 3,
   "metadata": {
    "collapsed": false
   },
   "outputs": [
    {
     "data": {
      "text/plain": [
       "pandas.tslib.Timestamp"
      ]
     },
     "execution_count": 3,
     "metadata": {},
     "output_type": "execute_result"
    }
   ],
   "source": [
    "type(pdt)"
   ]
  },
  {
   "cell_type": "markdown",
   "metadata": {},
   "source": [
    "## date objects"
   ]
  },
  {
   "cell_type": "markdown",
   "metadata": {},
   "source": [
    "The syntax for constructing a date object is:\n",
    "\n",
    "    date(year = yyyy, month = mm, day = dd)\n",
    "    \n",
    "    Where: yyyy is an integer ranging from 1 to 9999 by default\n",
    "           mm is an integer ranging from 1 to 12 inclusive\n",
    "           dd is an integer ranging from 1 to the number of days in the month of the year\n",
    "\n",
    "The details for the date object are found <a href=\"https://docs.python.org/3.6/library/datetime.html#datetime.date\"> here </a>   "
   ]
  },
  {
   "cell_type": "markdown",
   "metadata": {},
   "source": [
    "  "
   ]
  },
  {
   "cell_type": "markdown",
   "metadata": {},
   "source": [
    "Construct an arbitrary date"
   ]
  },
  {
   "cell_type": "code",
   "execution_count": 4,
   "metadata": {
    "collapsed": false
   },
   "outputs": [
    {
     "name": "stdout",
     "output_type": "stream",
     "text": [
      "1776-07-04\n",
      "<class 'datetime.date'>\n"
     ]
    }
   ],
   "source": [
    "ind_day = date(1776, 7, 4)\n",
    "print(ind_day)\n",
    "print(type(ind_day))"
   ]
  },
  {
   "cell_type": "markdown",
   "metadata": {},
   "source": [
    "  "
   ]
  },
  {
   "cell_type": "markdown",
   "metadata": {},
   "source": [
    "Return today's date.  The SAS analog is the today() function."
   ]
  },
  {
   "cell_type": "code",
   "execution_count": 5,
   "metadata": {
    "collapsed": false
   },
   "outputs": [
    {
     "data": {
      "text/plain": [
       "datetime.date(2016, 11, 13)"
      ]
     },
     "execution_count": 5,
     "metadata": {},
     "output_type": "execute_result"
    }
   ],
   "source": [
    "date.today()"
   ]
  },
  {
   "cell_type": "markdown",
   "metadata": {},
   "source": [
    "  "
   ]
  },
  {
   "cell_type": "markdown",
   "metadata": {},
   "source": [
    "The .year, .month, and .day attribute for datetime objects returns year, month, and day respectively.  These attributes return integers.  \n",
    "\n",
    "SAS has the analog functions, year(), month(), day(), used to return the respective portions of a SAS datetime value. These functions return numeric values. "
   ]
  },
  {
   "cell_type": "code",
   "execution_count": 6,
   "metadata": {
    "collapsed": false
   },
   "outputs": [
    {
     "name": "stdout",
     "output_type": "stream",
     "text": [
      "Year: 2016\n",
      "Month: 11\n",
      "Day: 13\n"
     ]
    }
   ],
   "source": [
    "print('Year:', date.today().year)\n",
    "print('Month:', date.today().month) \n",
    "print('Day:', date.today().day)"
   ]
  },
  {
   "cell_type": "markdown",
   "metadata": {},
   "source": [
    "The analog SAS program for the examples in cells #3 to #6 is below."
   ]
  },
  {
   "cell_type": "markdown",
   "metadata": {},
   "source": [
    "````\n",
    "    /******************************************************/\n",
    "    /* c08_datetime_functions1.sas                        */\n",
    "    /******************************************************/\n",
    "    37       data _null_;\n",
    "    38       \n",
    "    39       today = today();\n",
    "    40       ind_day = '04Jul1776'd;\n",
    "    41       \n",
    "    42       today_f = put(today,mmddyy10.);\n",
    "    43       put 'unformatted, today is: ' today /\n",
    "    44           'formatted with mmddyy10. , today is: ' today_f;\n",
    "    45       \n",
    "    46       m = month(today);\n",
    "    47       d = day(today);\n",
    "    48       y = year(today);\n",
    "    49       \n",
    "    50       put 'Month returns: ' m\n",
    "    51           ' Day returns: ' d\n",
    "    52           ' Year returns ' y;\n",
    "\n",
    "    unformatted, today is: 20748\n",
    "    formatted with mmddyy10. , today is: 10/21/2016\n",
    "    Month returns: 10  Day returns: 21  Year returns 2016\n",
    "\n",
    "````"
   ]
  },
  {
   "cell_type": "markdown",
   "metadata": {},
   "source": [
    " "
   ]
  },
  {
   "cell_type": "markdown",
   "metadata": {},
   "source": [
    "The .year, .month, and .day attributes also work with arbitrary dates as well."
   ]
  },
  {
   "cell_type": "code",
   "execution_count": 7,
   "metadata": {
    "collapsed": false
   },
   "outputs": [
    {
     "name": "stdout",
     "output_type": "stream",
     "text": [
      "Year: 1776 Month: 7 and day: 4\n"
     ]
    }
   ],
   "source": [
    "print('Year:', ind_day.year, 'Month:', ind_day.month, 'and day:', ind_day.day)  "
   ]
  },
  {
   "cell_type": "markdown",
   "metadata": {},
   "source": [
    "  "
   ]
  },
  {
   "cell_type": "markdown",
   "metadata": {},
   "source": [
    "The weekday() method returns an integer representing day of the week where Monday is 0 and Sunday is 6.  The SAS analog is the WEEKDAY() function that returns numeric where 1 is Sunday and Saturday is 7."
   ]
  },
  {
   "cell_type": "code",
   "execution_count": 8,
   "metadata": {
    "collapsed": false
   },
   "outputs": [
    {
     "name": "stdout",
     "output_type": "stream",
     "text": [
      "3\n"
     ]
    }
   ],
   "source": [
    "print(date.weekday(ind_day))"
   ]
  },
  {
   "cell_type": "markdown",
   "metadata": {},
   "source": [
    "## strftime() and strptime() methods"
   ]
  },
  {
   "cell_type": "markdown",
   "metadata": {},
   "source": [
    "Like SAS, when working with datetime objects, formatting is needed to render dates into familiar date and time designations.  In cell # 9 below, we render the constituent parts of the ind_day object created in cell #2 above.  We also need formatting when creating datetime objects from string representations of datetime illustrated below.\n",
    "\n",
    "The strftime() method (string formatter for time) is used to create string repersentations of Python datetime objects. \n",
    "\n",
    "The strptime() method (string parser for time) is used to create datetime objects from string representations of datetime.\n",
    "\n",
    "The directives for formatting both are found <a href=\"https://docs.python.org/3.4/library/datetime.html#strftime-and-strptime-behavior\"> here.</a> \n",
    "\n",
    "<a href=\"http://support.sas.com/documentation/cdl/en/lrdict/64316/HTML/default/viewer.htm#a001263753.htm\">SAS formats</a> are analogs to the strftime() method.  <a href=\"http://support.sas.com/documentation/cdl/en/lrdict/64316/HTML/default/viewer.htm#a001239776.htm\">SAS informats</a> are analogs to the strptime() method."
   ]
  },
  {
   "cell_type": "markdown",
   "metadata": {},
   "source": [
    " "
   ]
  },
  {
   "cell_type": "markdown",
   "metadata": {},
   "source": [
    "### strftime examples"
   ]
  },
  {
   "cell_type": "code",
   "execution_count": 9,
   "metadata": {
    "collapsed": false
   },
   "outputs": [
    {
     "name": "stdout",
     "output_type": "stream",
     "text": [
      "Day: Thursday\n",
      "The convential method to display the date is: Thu Jul  4 00:00:00 1776\n",
      "Another way to display the date is: Thursday July 04, 1776\n"
     ]
    }
   ],
   "source": [
    "print('Day:', ind_day.strftime('%A'))\n",
    "print('The convential method to display the date is:', ind_day.strftime('%c'))\n",
    "print('Another way to display the date is:', ind_day.strftime('%A %B %d, %Y'))"
   ]
  },
  {
   "cell_type": "markdown",
   "metadata": {},
   "source": [
    "The SAS example below illustrate these commonly used SAS formats:\n",
    "    \n",
    "<a href=\"http://support.sas.com/documentation/cdl/en/lrdict/64316/HTML/default/viewer.htm#a000195834.htm\">date11. </a>\n",
    "\n",
    "<a href=\"http://support.sas.com/documentation/cdl/en/lrdict/64316/HTML/default/viewer.htm#a000197953.htm\">ddmmyy10. </a>\n",
    "   \n",
    "<a href=\"http://support.sas.com/documentation/cdl/en/lrdict/64316/HTML/default/viewer.htm#a000201433.htm\">weekdate17. </a>\n",
    "    \n",
    "<a href=\"http://support.sas.com/documentation/cdl/en/lrdict/64316/HTML/default/viewer.htm#a000197961.htm\">yymmdd10. </a>"
   ]
  },
  {
   "cell_type": "markdown",
   "metadata": {},
   "source": [
    " "
   ]
  },
  {
   "cell_type": "markdown",
   "metadata": {},
   "source": [
    "The strftime() method apply format directives to datetime objects.  As illustrated above, these directives can be combined to form the desired output.  This includes any arbitrary characters such as comma, slash, or white-space needed to form the output.  "
   ]
  },
  {
   "cell_type": "code",
   "execution_count": 10,
   "metadata": {
    "collapsed": false
   },
   "outputs": [
    {
     "name": "stdout",
     "output_type": "stream",
     "text": [
      "Last day is: 31-Dec-2016\n",
      "Last day is: 31/12/2016\n",
      "Last day is: Sat, Dec 31, 2016\n",
      "Last day is: 2016-12-31\n"
     ]
    }
   ],
   "source": [
    "last_day = date(2016, 12, 31)\n",
    "print('Last day is:', last_day.strftime(\"%d-%b-%Y\"))        # date11. format\n",
    "print('Last day is:', last_day.strftime(\"%d/%m/%Y\"))        # ddmmyy10. format\n",
    "print('Last day is:', last_day.strftime(\"%a, %b %d, %Y\"))   # weekdate17. format\n",
    "print('Last day is:', last_day.strftime(\"%Y-%m-%d\"))        # yymmdd10. format"
   ]
  },
  {
   "cell_type": "markdown",
   "metadata": {},
   "source": [
    "  "
   ]
  },
  {
   "cell_type": "markdown",
   "metadata": {},
   "source": [
    "The SAS program below illustrates formats to map datetime values into string representation similiar to the strftime() method."
   ]
  },
  {
   "cell_type": "markdown",
   "metadata": {},
   "source": [
    "````\n",
    "    /******************************************************/\n",
    "    /* c08_lastday_formats.sas                            */\n",
    "    /******************************************************/\n",
    "    4         data _null_;\n",
    "    5         last_day = '31Dec16'd;\n",
    "    6         \n",
    "    7         ld_f1 = put(last_day, date11.);\n",
    "    8         ld_f2 = put(last_day, ddmmyy10.);\n",
    "    9         ld_f3 = put(last_day, weekdate17.);\n",
    "    10        ld_f4 = put(last_day, yymmdd10.);\n",
    "    11        \n",
    "    12        put 'Last day is: ' ld_f1;\n",
    "    13        put 'Last day is: ' ld_f2;\n",
    "    14        put 'Last day is: ' ld_f3;\n",
    "    15        put 'Last day is: ' ld_f4;\n",
    "\n",
    "    Last day is: 31-DEC-2016\n",
    "    Last day is: 31/12/2016\n",
    "    Last day is: Sat, Dec 31, 2016\n",
    "    Last day is: 2016-12-31\n",
    "````"
   ]
  },
  {
   "cell_type": "markdown",
   "metadata": {},
   "source": [
    "  "
   ]
  },
  {
   "cell_type": "markdown",
   "metadata": {},
   "source": [
    "The strptime() method is used to create or parse a datetime object from a string representation of datetime corresponding to the format string supplied.  See the example below in cell #9.   "
   ]
  },
  {
   "cell_type": "code",
   "execution_count": 11,
   "metadata": {
    "collapsed": false
   },
   "outputs": [
    {
     "name": "stdout",
     "output_type": "stream",
     "text": [
      "2016-01-01 00:00:00\n",
      "type for str_date is: <class 'str'>\n",
      "type for first_date is: <class 'datetime.datetime'>\n"
     ]
    }
   ],
   "source": [
    "str_date = \"01/01/2016\"\n",
    "first_date = datetime.strptime(str_date, \"%d/%m/%Y\" )\n",
    "print(first_date)\n",
    "print('type for str_date is:', type(str_date))\n",
    "print('type for first_date is:', type(first_date))"
   ]
  },
  {
   "cell_type": "markdown",
   "metadata": {},
   "source": [
    " "
   ]
  },
  {
   "cell_type": "markdown",
   "metadata": {},
   "source": [
    "The SAS program below illustrates informats to map string representations of datetime into a SAS datetime value similiar to the strptime() method."
   ]
  },
  {
   "cell_type": "markdown",
   "metadata": {},
   "source": [
    "````\n",
    "    /******************************************************/\n",
    "    /* c08_informat_string_to_datetime.sas                */\n",
    "    /******************************************************/\n",
    "    45        data _null_;\n",
    "    46        \n",
    "    47        str_date = \"01/01/2016\";\n",
    "    48        \n",
    "    49        first_date = input(str_date, ddmmyy10.);\n",
    "    50        \n",
    "    51        put first_date ddmmyy10.;\n",
    "\n",
    "    01/01/2016\n",
    "````"
   ]
  },
  {
   "cell_type": "markdown",
   "metadata": {},
   "source": [
    "## dateutil.parser"
   ]
  },
  {
   "cell_type": "markdown",
   "metadata": {},
   "source": [
    "It can be tedious to constantly write the directives used to control the strptime() method.  A useful alternative is to use the third-party dateutil.parser.  It can parse nearly any datetime string literals into datetime objects."
   ]
  },
  {
   "cell_type": "code",
   "execution_count": 12,
   "metadata": {
    "collapsed": true
   },
   "outputs": [],
   "source": [
    "from dateutil.parser import parse"
   ]
  },
  {
   "cell_type": "markdown",
   "metadata": {},
   "source": [
    " "
   ]
  },
  {
   "cell_type": "markdown",
   "metadata": {},
   "source": [
    " "
   ]
  },
  {
   "cell_type": "code",
   "execution_count": 13,
   "metadata": {
    "collapsed": false
   },
   "outputs": [
    {
     "data": {
      "text/plain": [
       "datetime.datetime(2016, 1, 1, 0, 0)"
      ]
     },
     "execution_count": 13,
     "metadata": {},
     "output_type": "execute_result"
    }
   ],
   "source": [
    "strt_yr = parse('2016/01/01')\n",
    "strt_yr"
   ]
  },
  {
   "cell_type": "markdown",
   "metadata": {},
   "source": [
    " "
   ]
  },
  {
   "cell_type": "markdown",
   "metadata": {},
   "source": [
    "### Basic date aritmetic illustrating the replace() method."
   ]
  },
  {
   "cell_type": "markdown",
   "metadata": {},
   "source": [
    "  "
   ]
  },
  {
   "cell_type": "code",
   "execution_count": 14,
   "metadata": {
    "collapsed": false
   },
   "outputs": [
    {
     "name": "stdout",
     "output_type": "stream",
     "text": [
      "2015-12-31\n",
      "True\n"
     ]
    }
   ],
   "source": [
    "d = date(2015, 12, 31)\n",
    "if d == date(2015, 12, 31):\n",
    "    d2 = d.replace(day=25) == date(2015, 12, 25)\n",
    "print(d)\n",
    "print(d2)"
   ]
  },
  {
   "cell_type": "markdown",
   "metadata": {},
   "source": [
    "  "
   ]
  },
  {
   "cell_type": "code",
   "execution_count": 15,
   "metadata": {
    "collapsed": false
   },
   "outputs": [
    {
     "name": "stdout",
     "output_type": "stream",
     "text": [
      "Next birthday is: 2017-01-24\n",
      "72 days, 0:00:00\n",
      "<class 'datetime.timedelta'>\n"
     ]
    }
   ],
   "source": [
    "today = date.today()\n",
    "\n",
    "birth_day = date(today.year, 1, 24)\n",
    "\n",
    "if birth_day < today:\n",
    "    birth_day = birth_day.replace(year=today.year + 1)\n",
    "print('Next birthday is:', birth_day)\n",
    "\n",
    "days_until = abs(birth_day - today)\n",
    "print(days_until)\n",
    "print(type(days_until))"
   ]
  },
  {
   "cell_type": "markdown",
   "metadata": {},
   "source": [
    "  "
   ]
  },
  {
   "cell_type": "markdown",
   "metadata": {},
   "source": [
    "The example above in cell #11 is another illustration of date arithmetic.  The if condition determine whether the birthday has occured this year (in this case, True) and if True, uses the date.replace() method to increment to the next year.  The syntax:\n",
    "\n",
    "    days_until = abs(birth_day - today)\n",
    "    \n",
    "returns a timedelta.  As the name suggests, it is a duration period.  Additional examples of working with timedelta objects is below."
   ]
  },
  {
   "cell_type": "markdown",
   "metadata": {},
   "source": [
    "The analog SAS program for counting the number of days until the next birthday is below.  \n",
    "\n",
    "In both the Python and SAS examples had we added 365 days in the conditional branch of the program the results would have been 94 days since 2016 is a leap year.  This is a  reminder that short-cuts like adding 365.25 to increment to the next year or adding 24 hours to increment to the following day is fraught with unintended consequences.  That is why these functions and operators are available."
   ]
  },
  {
   "cell_type": "markdown",
   "metadata": {},
   "source": [
    "````\n",
    "    /******************************************************/\n",
    "    /* c08_birthdate_calculation.sas                      */\n",
    "    /******************************************************/\n",
    "    35       data _null_;\n",
    "    36       \n",
    "    37       today = today();\n",
    "    38       \n",
    "    39       birth_day = '24Jan16'd;\n",
    "    40       \n",
    "    41       if birth_day < today then do;\n",
    "    42          next_birth_day = intnx('year', birth_day, 1, 'sameday');\n",
    "    43          f_b_day = put(next_birth_day, mmddyy10.);\n",
    "    44          put 'Next birthday is: ' f_b_day;\n",
    "    45       end;\n",
    "    46       \n",
    "    47       days_until = abs(next_birth_day - today);\n",
    "    48       put days_until ' days';\n",
    "\n",
    "    Next birthday is: 01/24/2017\n",
    "    95  days\n",
    "````"
   ]
  },
  {
   "cell_type": "markdown",
   "metadata": {},
   "source": [
    "## time objects"
   ]
  },
  {
   "cell_type": "markdown",
   "metadata": {},
   "source": [
    "The time object behaves similiar to the date object with respect to displaying and mapping string representations of time into time objects.  The SAS analogs are similar as well.  \n",
    "\n",
    "The syntax for constructing a time object is:\n",
    "\n",
    "    time(hour=hh, minute=mm, second=0ss, microsecond=ms)\n",
    "    \n",
    "    Where hh is 0 <= hour < 24\n",
    "          mm is 0 <= minute < 60\n",
    "          ss is 0 <= second < 60\n",
    "          ms is 0 <= microsecond < 1000000\n",
    "          \n",
    "The time object has two other parameters, tzinfo and fold outside the scope of these examples.  The details for the time object are found <a href=\"https://docs.python.org/3.6/library/datetime.html#time-objects\"> here </a>."
   ]
  },
  {
   "cell_type": "markdown",
   "metadata": {},
   "source": [
    "  "
   ]
  },
  {
   "cell_type": "code",
   "execution_count": 16,
   "metadata": {
    "collapsed": false
   },
   "outputs": [
    {
     "name": "stdout",
     "output_type": "stream",
     "text": [
      "12:34:56\n"
     ]
    },
    {
     "data": {
      "text/plain": [
       "datetime.time"
      ]
     },
     "execution_count": 16,
     "metadata": {},
     "output_type": "execute_result"
    }
   ],
   "source": [
    "go_time = time(12, 34, 56)\n",
    "print(go_time)\n",
    "type(go_time)"
   ]
  },
  {
   "cell_type": "markdown",
   "metadata": {},
   "source": [
    " "
   ]
  },
  {
   "cell_type": "markdown",
   "metadata": {},
   "source": [
    "Get the current time of day.  The SAS analog is the time() function."
   ]
  },
  {
   "cell_type": "code",
   "execution_count": 17,
   "metadata": {
    "collapsed": false
   },
   "outputs": [
    {
     "data": {
      "text/plain": [
       "datetime.datetime(2016, 11, 13, 16, 9, 29, 148013)"
      ]
     },
     "execution_count": 17,
     "metadata": {},
     "output_type": "execute_result"
    }
   ],
   "source": [
    "datetime.now()"
   ]
  },
  {
   "cell_type": "markdown",
   "metadata": {},
   "source": [
    "  "
   ]
  },
  {
   "cell_type": "markdown",
   "metadata": {},
   "source": [
    "  "
   ]
  },
  {
   "cell_type": "code",
   "execution_count": 18,
   "metadata": {
    "collapsed": false
   },
   "outputs": [
    {
     "name": "stdout",
     "output_type": "stream",
     "text": [
      "16\n",
      "9\n",
      "29\n"
     ]
    }
   ],
   "source": [
    "print(datetime.now().hour)\n",
    "print(datetime.now().minute) \n",
    "print(datetime.now().second)"
   ]
  },
  {
   "cell_type": "markdown",
   "metadata": {},
   "source": [
    " "
   ]
  },
  {
   "cell_type": "markdown",
   "metadata": {},
   "source": [
    "The .hour, .minute, and .second attribute for datetime objects returns hour, minutes, and seconds respectively.  These attributes return integers.  \n",
    "\n",
    "SAS has the analog functions, hour(), minute(), second(), used to return the respective portions of a SAS datetime value. These functions return numeric values."
   ]
  },
  {
   "cell_type": "markdown",
   "metadata": {},
   "source": [
    "````\n",
    "    /******************************************************/\n",
    "    /* c08_datetime_functions2.sas                        */\n",
    "    /******************************************************/\n",
    "    21       data _null_;\n",
    "    22       \n",
    "    23       now = time();\n",
    "    24       \n",
    "    25       go_time = \"12:34:45\"t;\n",
    "    26       \n",
    "    27       now_f = put(now, time8.);\n",
    "    28       put 'unformatted, now is ' now /\n",
    "    29           'formatted with time8., now is: ' now_f;\n",
    "    30       \n",
    "    31       h = hour(now);\n",
    "    32       m  = minute(now);\n",
    "    33       s = second(now);\n",
    "    34       \n",
    "    35       put 'hour returns: ' h\n",
    "    36           ' minute returns: ' m\n",
    "    37           ' second returns: ' s;\n",
    "\n",
    "    unformatted, now is 57327.064\n",
    "    formatted with time8., now is: 15:55:27\n",
    "    hour returns: 15  minute returns: 55  second returns: 27.063999891\n",
    "````"
   ]
  },
  {
   "cell_type": "markdown",
   "metadata": {},
   "source": [
    " "
   ]
  },
  {
   "cell_type": "markdown",
   "metadata": {},
   "source": [
    "The .hour, .minute, and .second attribute also work with arbitrary times."
   ]
  },
  {
   "cell_type": "code",
   "execution_count": 19,
   "metadata": {
    "collapsed": false
   },
   "outputs": [
    {
     "name": "stdout",
     "output_type": "stream",
     "text": [
      "Hour: 12 Minutes: 34 and seconds: 56\n"
     ]
    }
   ],
   "source": [
    "print('Hour:', go_time.hour, 'Minutes:', go_time.minute, 'and seconds:', go_time.second)"
   ]
  },
  {
   "cell_type": "markdown",
   "metadata": {},
   "source": [
    "  "
   ]
  },
  {
   "cell_type": "markdown",
   "metadata": {},
   "source": [
    "## timedelta objects"
   ]
  },
  {
   "cell_type": "markdown",
   "metadata": {},
   "source": [
    "As the name suggests, a timedelta object represents the difference two date or times.  In other words, a duration.\n",
    "\n",
    "The details for the timedelta object are found <a href=\"https://docs.python.org/3.6/library/datetime.html#datetime.timedelta\"> here </a>  \n",
    "\n",
    "The SAS analog are the various date interval functions such as:\n",
    "\n",
    "<a href=\"http://support.sas.com/documentation/cdl/en/lrdict/64316/HTML/default/viewer.htm#a000212700.htm\">INTNX </a>\n",
    "\n",
    "<a href=\"http://support.sas.com/documentation/cdl/en/lrdict/64316/HTML/default/viewer.htm#a003079048.htm\">INTGET </a>\n",
    "\n",
    "<a href=\"http://support.sas.com/documentation/cdl/en/lrdict/64316/HTML/default/viewer.htm#a003116031.htm\"> INTFIT </a>\n",
    "\n",
    "and others that are similiar."
   ]
  },
  {
   "cell_type": "markdown",
   "metadata": {},
   "source": [
    "  "
   ]
  },
  {
   "cell_type": "markdown",
   "metadata": {},
   "source": [
    "The results of an operation with a timedelta object returns a datetime object.  The datetime method now() returns today's date similiar to the SAS function TODAY()."
   ]
  },
  {
   "cell_type": "code",
   "execution_count": 20,
   "metadata": {
    "collapsed": true
   },
   "outputs": [],
   "source": [
    "today = date.today()\n",
    "moment = datetime.now().time()\n",
    "now = datetime.combine(today, moment)"
   ]
  },
  {
   "cell_type": "markdown",
   "metadata": {},
   "source": [
    "  "
   ]
  },
  {
   "cell_type": "code",
   "execution_count": 21,
   "metadata": {
    "collapsed": false
   },
   "outputs": [
    {
     "name": "stdout",
     "output_type": "stream",
     "text": [
      "2016-11-13 16:09:29.487036 2016-11-13 16:09:29.487036\n"
     ]
    }
   ],
   "source": [
    "print(today, moment, now)"
   ]
  },
  {
   "cell_type": "markdown",
   "metadata": {},
   "source": [
    "  "
   ]
  },
  {
   "cell_type": "markdown",
   "metadata": {},
   "source": [
    "What is 1000 days from now"
   ]
  },
  {
   "cell_type": "code",
   "execution_count": 22,
   "metadata": {
    "collapsed": false
   },
   "outputs": [
    {
     "data": {
      "text/plain": [
       "datetime.date(2019, 8, 10)"
      ]
     },
     "execution_count": 22,
     "metadata": {},
     "output_type": "execute_result"
    }
   ],
   "source": [
    "today+timedelta(days=1000)"
   ]
  },
  {
   "cell_type": "markdown",
   "metadata": {},
   "source": [
    "  "
   ]
  },
  {
   "cell_type": "markdown",
   "metadata": {},
   "source": [
    " "
   ]
  },
  {
   "cell_type": "code",
   "execution_count": 23,
   "metadata": {
    "collapsed": false
   },
   "outputs": [
    {
     "data": {
      "text/plain": [
       "datetime.timedelta(1144)"
      ]
     },
     "execution_count": 23,
     "metadata": {},
     "output_type": "execute_result"
    }
   ],
   "source": [
    "future = date(2020, 1, 1)\n",
    "days_until = future - today\n",
    "days_until"
   ]
  },
  {
   "cell_type": "markdown",
   "metadata": {},
   "source": [
    "The SAS equivalent for timedelta object examples is below."
   ]
  },
  {
   "cell_type": "markdown",
   "metadata": {},
   "source": [
    "````\n",
    "    /******************************************************/\n",
    "    /* c08_timedelta_analog_example.sas                   */\n",
    "    /******************************************************/\n",
    "    44       data _null_;\n",
    "    45       \n",
    "    46       today = today();\n",
    "    47       t_f = put(today,mmddyy10.);\n",
    "    48       put 'Today is: ' t_f;\n",
    "    49       \n",
    "    50       yesterday = intnx('day', today, -1);\n",
    "    51       y_f = put(yesterday,mmddyy10.);\n",
    "    52       put 'Yesterday was: ' y_f;\n",
    "    53       \n",
    "    54       thousand_days = intnx('day', today, 1000, 'e');\n",
    "    55       td_f = put(thousand_days, mmddyy10.);\n",
    "    56       put '1,000 days from now is: ' td_f;\n",
    "    57       \n",
    "    58       future = '01Jan2020'd;\n",
    "    59       days_until = future - today;\n",
    "    60       \n",
    "    61       put days_until=;\n",
    "\n",
    "    Today is: 10/24/2016\n",
    "    Yesterday was: 10/23/2016\n",
    "   1,000 days from now is: 07/21/2019\n",
    "   days_until=1164\n",
    "````"
   ]
  },
  {
   "cell_type": "markdown",
   "metadata": {},
   "source": [
    "## Resources\n",
    "\n",
    "Chapter 10, Time Series, \"Python for Data Analysis, by Wes McKinney, located <a href=\"http://shop.oreilly.com/product/0636920023784.do\">here </a> \n",
    "\n",
    "<a href=\"https://docs.python.org/3.4/library/datetime.html#strftime-and-strptime-behavior\"> strftime and strptime </a> behavior\n",
    "\n",
    "<a href=\"http://support.sas.com/documentation/cdl/en/lrcon/62955/HTML/default/viewer.htm#a000990883.htm#a002591302\"> About Date and Time Intervals </a> SAS 9.2 Language Reference: Concepts, Second Edition\n",
    "\n",
    "Land Surface Hydrology Group Computing Seminar, by Joe Hamman, University of Washington, located <a href=\"http://www.hydro.washington.edu/~nijssen/computing_workshops/workshop_datetime_pandas_20131112.html\"> here </a>."
   ]
  },
  {
   "cell_type": "markdown",
   "metadata": {},
   "source": [
    "  "
   ]
  },
  {
   "cell_type": "markdown",
   "metadata": {},
   "source": [
    "## Navigation\n",
    "\n",
    "<a href=\"http://nbviewer.jupyter.org/github/RandyBetancourt/PythonForSASUsers/tree/master/\"> Return to Chapter List </a>    "
   ]
  }
 ],
 "metadata": {
  "anaconda-cloud": {},
  "kernelspec": {
   "display_name": "Python [Root]",
   "language": "python",
   "name": "Python [Root]"
  },
  "language_info": {
   "codemirror_mode": {
    "name": "ipython",
    "version": 3
   },
   "file_extension": ".py",
   "mimetype": "text/x-python",
   "name": "python",
   "nbconvert_exporter": "python",
   "pygments_lexer": "ipython3",
   "version": "3.5.2"
  }
 },
 "nbformat": 4,
 "nbformat_minor": 0
}
